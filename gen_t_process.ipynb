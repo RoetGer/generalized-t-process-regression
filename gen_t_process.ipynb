{
  "nbformat": 4,
  "nbformat_minor": 0,
  "metadata": {
    "colab": {
      "name": "gen-t-process.ipynb",
      "provenance": [],
      "collapsed_sections": [],
      "authorship_tag": "ABX9TyNBoKGJjopVmca17MQhnDeT",
      "include_colab_link": true
    },
    "kernelspec": {
      "name": "python3",
      "display_name": "Python 3"
    },
    "language_info": {
      "name": "python"
    }
  },
  "cells": [
    {
      "cell_type": "markdown",
      "metadata": {
        "id": "view-in-github",
        "colab_type": "text"
      },
      "source": [
        "<a href=\"https://colab.research.google.com/github/RoetGer/generalized-t-process-regression/blob/main/gen_t_process.ipynb\" target=\"_parent\"><img src=\"https://colab.research.google.com/assets/colab-badge.svg\" alt=\"Open In Colab\"/></a>"
      ]
    },
    {
      "cell_type": "code",
      "metadata": {
        "colab": {
          "base_uri": "https://localhost:8080/",
          "height": 35
        },
        "id": "w7njeSkCrgll",
        "outputId": "34f6a658-9214-4afe-cbcc-cf35bbab106a"
      },
      "source": [
        "import tensorflow as tf\n",
        "import tensorflow_probability as tfp\n",
        "tfd = tfp.distributions\n",
        "\n",
        "tf.__version__"
      ],
      "execution_count": 6,
      "outputs": [
        {
          "output_type": "execute_result",
          "data": {
            "application/vnd.google.colaboratory.intrinsic+json": {
              "type": "string"
            },
            "text/plain": [
              "'2.4.1'"
            ]
          },
          "metadata": {
            "tags": []
          },
          "execution_count": 6
        }
      ]
    },
    {
      "cell_type": "code",
      "metadata": {
        "id": "8eKgiizBttqZ"
      },
      "source": [
        "df = 3.\n",
        "loc = tf.Variable([1., 2., 3.])\n",
        "scale = [[ 0.6,  0. ,  0. ],\n",
        "         [ 0.2,  0.5,  0. ],\n",
        "         [ 0.1, -0.3,  0.4]]\n",
        "scale = tf.linalg.LinearOperatorLowerTriangular(scale)\n",
        "\n",
        "mvt = tfd.MultivariateStudentTLinearOperator(\n",
        "    df=df,\n",
        "    loc=loc,\n",
        "    scale=scale)"
      ],
      "execution_count": 14,
      "outputs": []
    },
    {
      "cell_type": "code",
      "metadata": {
        "colab": {
          "base_uri": "https://localhost:8080/"
        },
        "id": "aG-3heWevSh8",
        "outputId": "f39053a1-e2a0-407c-beb8-c1b887fb05ef"
      },
      "source": [
        "with tf.GradientTape() as outer_tape:\n",
        "  with tf.GradientTape() as inner_tape:\n",
        "    density = mvt.prob([0., 0., 0.])\n",
        "  gradient = inner_tape.gradient(density, mvt.trainable_variables[0])\n",
        "\n",
        "outer_tape.jacobian(gradient, mvt.trainable_variables[0])"
      ],
      "execution_count": 22,
      "outputs": [
        {
          "output_type": "execute_result",
          "data": {
            "text/plain": [
              "<tf.Tensor: shape=(3, 3), dtype=float32, numpy=\n",
              "array([[ 6.9320464e-07, -7.5581365e-06, -9.2025548e-06],\n",
              "       [-7.5581352e-06,  1.9834491e-05,  2.5120040e-05],\n",
              "       [-9.2025539e-06,  2.5120042e-05,  2.7110138e-05]], dtype=float32)>"
            ]
          },
          "metadata": {
            "tags": []
          },
          "execution_count": 22
        }
      ]
    },
    {
      "cell_type": "code",
      "metadata": {
        "colab": {
          "base_uri": "https://localhost:8080/"
        },
        "id": "r7UXiTooyANa",
        "outputId": "6dfbdf14-ea4b-43ee-ab21-1f1a806f07cc"
      },
      "source": [
        "mvt.trainable_variables"
      ],
      "execution_count": 20,
      "outputs": [
        {
          "output_type": "execute_result",
          "data": {
            "text/plain": [
              "(<tf.Variable 'Variable:0' shape=(3,) dtype=float32, numpy=array([1., 2., 3.], dtype=float32)>,)"
            ]
          },
          "metadata": {
            "tags": []
          },
          "execution_count": 20
        }
      ]
    },
    {
      "cell_type": "code",
      "metadata": {
        "colab": {
          "base_uri": "https://localhost:8080/"
        },
        "id": "bG5FVFXQxUKH",
        "outputId": "0bdc324e-1052-4b1a-880b-397d0022d8aa"
      },
      "source": [
        "loc.shape"
      ],
      "execution_count": 19,
      "outputs": [
        {
          "output_type": "execute_result",
          "data": {
            "text/plain": [
              "TensorShape([3])"
            ]
          },
          "metadata": {
            "tags": []
          },
          "execution_count": 19
        }
      ]
    }
  ]
}