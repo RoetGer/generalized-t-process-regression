{
  "nbformat": 4,
  "nbformat_minor": 0,
  "metadata": {
    "colab": {
      "name": "gen-t-process.ipynb",
      "provenance": [],
      "collapsed_sections": [],
      "authorship_tag": "ABX9TyMFp+XIxoVIlWZPXkmM5XF4",
      "include_colab_link": true
    },
    "kernelspec": {
      "name": "python3",
      "display_name": "Python 3"
    },
    "language_info": {
      "name": "python"
    }
  },
  "cells": [
    {
      "cell_type": "markdown",
      "metadata": {
        "id": "view-in-github",
        "colab_type": "text"
      },
      "source": [
        "<a href=\"https://colab.research.google.com/github/RoetGer/generalized-t-process-regression/blob/main/gen_t_process.ipynb\" target=\"_parent\"><img src=\"https://colab.research.google.com/assets/colab-badge.svg\" alt=\"Open In Colab\"/></a>"
      ]
    },
    {
      "cell_type": "code",
      "metadata": {
        "colab": {
          "base_uri": "https://localhost:8080/"
        },
        "id": "RzbOgyPaNdMO",
        "outputId": "3fc96de2-439e-4111-c818-58bb0eef67eb"
      },
      "source": [
        "! pip install gpflow"
      ],
      "execution_count": null,
      "outputs": [
        {
          "output_type": "stream",
          "text": [
            "Collecting gpflow\n",
            "\u001b[?25l  Downloading https://files.pythonhosted.org/packages/55/25/f3d0b5a7bea6c371ddbce6f2fb17b668d2782379be9c70cc40d2f063b67c/gpflow-2.2.1-py3-none-any.whl (271kB)\n",
            "\r\u001b[K     |█▏                              | 10kB 11.8MB/s eta 0:00:01\r\u001b[K     |██▍                             | 20kB 17.0MB/s eta 0:00:01\r\u001b[K     |███▋                            | 30kB 16.2MB/s eta 0:00:01\r\u001b[K     |████▉                           | 40kB 12.2MB/s eta 0:00:01\r\u001b[K     |██████                          | 51kB 8.0MB/s eta 0:00:01\r\u001b[K     |███████▎                        | 61kB 8.5MB/s eta 0:00:01\r\u001b[K     |████████▌                       | 71kB 7.6MB/s eta 0:00:01\r\u001b[K     |█████████▋                      | 81kB 8.4MB/s eta 0:00:01\r\u001b[K     |██████████▉                     | 92kB 8.4MB/s eta 0:00:01\r\u001b[K     |████████████                    | 102kB 7.5MB/s eta 0:00:01\r\u001b[K     |█████████████▎                  | 112kB 7.5MB/s eta 0:00:01\r\u001b[K     |██████████████▌                 | 122kB 7.5MB/s eta 0:00:01\r\u001b[K     |███████████████▊                | 133kB 7.5MB/s eta 0:00:01\r\u001b[K     |█████████████████               | 143kB 7.5MB/s eta 0:00:01\r\u001b[K     |██████████████████              | 153kB 7.5MB/s eta 0:00:01\r\u001b[K     |███████████████████▎            | 163kB 7.5MB/s eta 0:00:01\r\u001b[K     |████████████████████▌           | 174kB 7.5MB/s eta 0:00:01\r\u001b[K     |█████████████████████▊          | 184kB 7.5MB/s eta 0:00:01\r\u001b[K     |███████████████████████         | 194kB 7.5MB/s eta 0:00:01\r\u001b[K     |████████████████████████▏       | 204kB 7.5MB/s eta 0:00:01\r\u001b[K     |█████████████████████████▍      | 215kB 7.5MB/s eta 0:00:01\r\u001b[K     |██████████████████████████▌     | 225kB 7.5MB/s eta 0:00:01\r\u001b[K     |███████████████████████████▊    | 235kB 7.5MB/s eta 0:00:01\r\u001b[K     |█████████████████████████████   | 245kB 7.5MB/s eta 0:00:01\r\u001b[K     |██████████████████████████████▏ | 256kB 7.5MB/s eta 0:00:01\r\u001b[K     |███████████████████████████████▍| 266kB 7.5MB/s eta 0:00:01\r\u001b[K     |████████████████████████████████| 276kB 7.5MB/s \n",
            "\u001b[?25hRequirement already satisfied: typing-extensions in /usr/local/lib/python3.7/dist-packages (from gpflow) (3.7.4.3)\n",
            "Collecting multipledispatch>=0.6\n",
            "  Downloading https://files.pythonhosted.org/packages/89/79/429ecef45fd5e4504f7474d4c3c3c4668c267be3370e4c2fd33e61506833/multipledispatch-0.6.0-py3-none-any.whl\n",
            "Requirement already satisfied: scipy in /usr/local/lib/python3.7/dist-packages (from gpflow) (1.4.1)\n",
            "Requirement already satisfied: tabulate in /usr/local/lib/python3.7/dist-packages (from gpflow) (0.8.9)\n",
            "Collecting deprecated\n",
            "  Downloading https://files.pythonhosted.org/packages/fb/73/994edfcba74443146c84b91921fcc269374354118d4f452fb0c54c1cbb12/Deprecated-1.2.12-py2.py3-none-any.whl\n",
            "Requirement already satisfied: setuptools>=41.0.0 in /usr/local/lib/python3.7/dist-packages (from gpflow) (57.2.0)\n",
            "Collecting dataclasses\n",
            "  Downloading https://files.pythonhosted.org/packages/26/2f/1095cdc2868052dd1e64520f7c0d5c8c550ad297e944e641dbf1ffbb9a5d/dataclasses-0.6-py3-none-any.whl\n",
            "Requirement already satisfied: numpy in /usr/local/lib/python3.7/dist-packages (from gpflow) (1.19.5)\n",
            "Requirement already satisfied: tensorflow>=2.2.0 in /usr/local/lib/python3.7/dist-packages (from gpflow) (2.5.0)\n",
            "Requirement already satisfied: packaging in /usr/local/lib/python3.7/dist-packages (from gpflow) (21.0)\n",
            "Requirement already satisfied: tensorflow-probability>0.10.0 in /usr/local/lib/python3.7/dist-packages (from gpflow) (0.13.0)\n",
            "Requirement already satisfied: six in /usr/local/lib/python3.7/dist-packages (from multipledispatch>=0.6->gpflow) (1.15.0)\n",
            "Requirement already satisfied: wrapt<2,>=1.10 in /usr/local/lib/python3.7/dist-packages (from deprecated->gpflow) (1.12.1)\n",
            "Requirement already satisfied: keras-preprocessing~=1.1.2 in /usr/local/lib/python3.7/dist-packages (from tensorflow>=2.2.0->gpflow) (1.1.2)\n",
            "Requirement already satisfied: tensorboard~=2.5 in /usr/local/lib/python3.7/dist-packages (from tensorflow>=2.2.0->gpflow) (2.5.0)\n",
            "Requirement already satisfied: tensorflow-estimator<2.6.0,>=2.5.0rc0 in /usr/local/lib/python3.7/dist-packages (from tensorflow>=2.2.0->gpflow) (2.5.0)\n",
            "Requirement already satisfied: astunparse~=1.6.3 in /usr/local/lib/python3.7/dist-packages (from tensorflow>=2.2.0->gpflow) (1.6.3)\n",
            "Requirement already satisfied: h5py~=3.1.0 in /usr/local/lib/python3.7/dist-packages (from tensorflow>=2.2.0->gpflow) (3.1.0)\n",
            "Requirement already satisfied: protobuf>=3.9.2 in /usr/local/lib/python3.7/dist-packages (from tensorflow>=2.2.0->gpflow) (3.17.3)\n",
            "Requirement already satisfied: gast==0.4.0 in /usr/local/lib/python3.7/dist-packages (from tensorflow>=2.2.0->gpflow) (0.4.0)\n",
            "Requirement already satisfied: grpcio~=1.34.0 in /usr/local/lib/python3.7/dist-packages (from tensorflow>=2.2.0->gpflow) (1.34.1)\n",
            "Requirement already satisfied: flatbuffers~=1.12.0 in /usr/local/lib/python3.7/dist-packages (from tensorflow>=2.2.0->gpflow) (1.12)\n",
            "Requirement already satisfied: wheel~=0.35 in /usr/local/lib/python3.7/dist-packages (from tensorflow>=2.2.0->gpflow) (0.36.2)\n",
            "Requirement already satisfied: opt-einsum~=3.3.0 in /usr/local/lib/python3.7/dist-packages (from tensorflow>=2.2.0->gpflow) (3.3.0)\n",
            "Requirement already satisfied: absl-py~=0.10 in /usr/local/lib/python3.7/dist-packages (from tensorflow>=2.2.0->gpflow) (0.12.0)\n",
            "Requirement already satisfied: google-pasta~=0.2 in /usr/local/lib/python3.7/dist-packages (from tensorflow>=2.2.0->gpflow) (0.2.0)\n",
            "Requirement already satisfied: termcolor~=1.1.0 in /usr/local/lib/python3.7/dist-packages (from tensorflow>=2.2.0->gpflow) (1.1.0)\n",
            "Requirement already satisfied: keras-nightly~=2.5.0.dev in /usr/local/lib/python3.7/dist-packages (from tensorflow>=2.2.0->gpflow) (2.5.0.dev2021032900)\n",
            "Requirement already satisfied: pyparsing>=2.0.2 in /usr/local/lib/python3.7/dist-packages (from packaging->gpflow) (2.4.7)\n",
            "Requirement already satisfied: cloudpickle>=1.3 in /usr/local/lib/python3.7/dist-packages (from tensorflow-probability>0.10.0->gpflow) (1.3.0)\n",
            "Requirement already satisfied: dm-tree in /usr/local/lib/python3.7/dist-packages (from tensorflow-probability>0.10.0->gpflow) (0.1.6)\n",
            "Requirement already satisfied: decorator in /usr/local/lib/python3.7/dist-packages (from tensorflow-probability>0.10.0->gpflow) (4.4.2)\n",
            "Requirement already satisfied: tensorboard-data-server<0.7.0,>=0.6.0 in /usr/local/lib/python3.7/dist-packages (from tensorboard~=2.5->tensorflow>=2.2.0->gpflow) (0.6.1)\n",
            "Requirement already satisfied: google-auth<2,>=1.6.3 in /usr/local/lib/python3.7/dist-packages (from tensorboard~=2.5->tensorflow>=2.2.0->gpflow) (1.32.1)\n",
            "Requirement already satisfied: google-auth-oauthlib<0.5,>=0.4.1 in /usr/local/lib/python3.7/dist-packages (from tensorboard~=2.5->tensorflow>=2.2.0->gpflow) (0.4.4)\n",
            "Requirement already satisfied: tensorboard-plugin-wit>=1.6.0 in /usr/local/lib/python3.7/dist-packages (from tensorboard~=2.5->tensorflow>=2.2.0->gpflow) (1.8.0)\n",
            "Requirement already satisfied: markdown>=2.6.8 in /usr/local/lib/python3.7/dist-packages (from tensorboard~=2.5->tensorflow>=2.2.0->gpflow) (3.3.4)\n",
            "Requirement already satisfied: werkzeug>=0.11.15 in /usr/local/lib/python3.7/dist-packages (from tensorboard~=2.5->tensorflow>=2.2.0->gpflow) (1.0.1)\n",
            "Requirement already satisfied: requests<3,>=2.21.0 in /usr/local/lib/python3.7/dist-packages (from tensorboard~=2.5->tensorflow>=2.2.0->gpflow) (2.23.0)\n",
            "Requirement already satisfied: cached-property; python_version < \"3.8\" in /usr/local/lib/python3.7/dist-packages (from h5py~=3.1.0->tensorflow>=2.2.0->gpflow) (1.5.2)\n",
            "Requirement already satisfied: cachetools<5.0,>=2.0.0 in /usr/local/lib/python3.7/dist-packages (from google-auth<2,>=1.6.3->tensorboard~=2.5->tensorflow>=2.2.0->gpflow) (4.2.2)\n",
            "Requirement already satisfied: pyasn1-modules>=0.2.1 in /usr/local/lib/python3.7/dist-packages (from google-auth<2,>=1.6.3->tensorboard~=2.5->tensorflow>=2.2.0->gpflow) (0.2.8)\n",
            "Requirement already satisfied: rsa<5,>=3.1.4; python_version >= \"3.6\" in /usr/local/lib/python3.7/dist-packages (from google-auth<2,>=1.6.3->tensorboard~=2.5->tensorflow>=2.2.0->gpflow) (4.7.2)\n",
            "Requirement already satisfied: requests-oauthlib>=0.7.0 in /usr/local/lib/python3.7/dist-packages (from google-auth-oauthlib<0.5,>=0.4.1->tensorboard~=2.5->tensorflow>=2.2.0->gpflow) (1.3.0)\n",
            "Requirement already satisfied: importlib-metadata; python_version < \"3.8\" in /usr/local/lib/python3.7/dist-packages (from markdown>=2.6.8->tensorboard~=2.5->tensorflow>=2.2.0->gpflow) (4.6.1)\n",
            "Requirement already satisfied: idna<3,>=2.5 in /usr/local/lib/python3.7/dist-packages (from requests<3,>=2.21.0->tensorboard~=2.5->tensorflow>=2.2.0->gpflow) (2.10)\n",
            "Requirement already satisfied: urllib3!=1.25.0,!=1.25.1,<1.26,>=1.21.1 in /usr/local/lib/python3.7/dist-packages (from requests<3,>=2.21.0->tensorboard~=2.5->tensorflow>=2.2.0->gpflow) (1.24.3)\n",
            "Requirement already satisfied: chardet<4,>=3.0.2 in /usr/local/lib/python3.7/dist-packages (from requests<3,>=2.21.0->tensorboard~=2.5->tensorflow>=2.2.0->gpflow) (3.0.4)\n",
            "Requirement already satisfied: certifi>=2017.4.17 in /usr/local/lib/python3.7/dist-packages (from requests<3,>=2.21.0->tensorboard~=2.5->tensorflow>=2.2.0->gpflow) (2021.5.30)\n",
            "Requirement already satisfied: pyasn1<0.5.0,>=0.4.6 in /usr/local/lib/python3.7/dist-packages (from pyasn1-modules>=0.2.1->google-auth<2,>=1.6.3->tensorboard~=2.5->tensorflow>=2.2.0->gpflow) (0.4.8)\n",
            "Requirement already satisfied: oauthlib>=3.0.0 in /usr/local/lib/python3.7/dist-packages (from requests-oauthlib>=0.7.0->google-auth-oauthlib<0.5,>=0.4.1->tensorboard~=2.5->tensorflow>=2.2.0->gpflow) (3.1.1)\n",
            "Requirement already satisfied: zipp>=0.5 in /usr/local/lib/python3.7/dist-packages (from importlib-metadata; python_version < \"3.8\"->markdown>=2.6.8->tensorboard~=2.5->tensorflow>=2.2.0->gpflow) (3.5.0)\n",
            "Installing collected packages: multipledispatch, deprecated, dataclasses, gpflow\n",
            "Successfully installed dataclasses-0.6 deprecated-1.2.12 gpflow-2.2.1 multipledispatch-0.6.0\n"
          ],
          "name": "stdout"
        }
      ]
    },
    {
      "cell_type": "code",
      "metadata": {
        "colab": {
          "base_uri": "https://localhost:8080/",
          "height": 35
        },
        "id": "w7njeSkCrgll",
        "outputId": "b0cd5cda-829d-4cd5-b057-9336a579ee2e"
      },
      "source": [
        "import gpflow\n",
        "import matplotlib.pyplot as plt\n",
        "import numpy as np\n",
        "import tensorflow as tf\n",
        "import tensorflow_probability as tfp\n",
        "tfd = tfp.distributions\n",
        "\n",
        "plt.rcParams[\"figure.figsize\"] = (12, 8)\n",
        "\n",
        "tf.__version__"
      ],
      "execution_count": null,
      "outputs": [
        {
          "output_type": "execute_result",
          "data": {
            "application/vnd.google.colaboratory.intrinsic+json": {
              "type": "string"
            },
            "text/plain": [
              "'2.5.0'"
            ]
          },
          "metadata": {
            "tags": []
          },
          "execution_count": 2
        }
      ]
    },
    {
      "cell_type": "code",
      "metadata": {
        "id": "8eKgiizBttqZ"
      },
      "source": [
        "df = 3.\n",
        "loc = tf.Variable([1., 2., 3.])\n",
        "scale = [[ 0.6,  0. ,  0. ],\n",
        "         [ 0.2,  0.5,  0. ],\n",
        "         [ 0.1, -0.3,  0.4]]\n",
        "scale = tf.linalg.LinearOperatorLowerTriangular(scale)\n",
        "\n",
        "mvt = tfd.MultivariateStudentTLinearOperator(\n",
        "    df=df,\n",
        "    loc=loc,\n",
        "    scale=scale)"
      ],
      "execution_count": null,
      "outputs": []
    },
    {
      "cell_type": "code",
      "metadata": {
        "colab": {
          "base_uri": "https://localhost:8080/"
        },
        "id": "aG-3heWevSh8",
        "outputId": "64fe45eb-f9f1-4131-c51d-b1f3b48fe048"
      },
      "source": [
        "with tf.GradientTape() as outer_tape:\n",
        "  with tf.GradientTape() as inner_tape:\n",
        "    density = mvt.prob([0., 0., 0.])\n",
        "  gradient = inner_tape.gradient(density, mvt.trainable_variables[0])\n",
        "\n",
        "outer_tape.jacobian(gradient, mvt.trainable_variables[0])"
      ],
      "execution_count": null,
      "outputs": [
        {
          "output_type": "execute_result",
          "data": {
            "text/plain": [
              "<tf.Tensor: shape=(3, 3), dtype=float32, numpy=\n",
              "array([[ 6.9320464e-07, -7.5581365e-06, -9.2025548e-06],\n",
              "       [-7.5581352e-06,  1.9834491e-05,  2.5120040e-05],\n",
              "       [-9.2025539e-06,  2.5120042e-05,  2.7110138e-05]], dtype=float32)>"
            ]
          },
          "metadata": {
            "tags": []
          },
          "execution_count": 4
        }
      ]
    },
    {
      "cell_type": "code",
      "metadata": {
        "colab": {
          "base_uri": "https://localhost:8080/"
        },
        "id": "r7UXiTooyANa",
        "outputId": "e4f8299b-81d2-4411-a658-42d0701b8dbc"
      },
      "source": [
        "mvt.trainable_variables"
      ],
      "execution_count": null,
      "outputs": [
        {
          "output_type": "execute_result",
          "data": {
            "text/plain": [
              "(<tf.Variable 'Variable:0' shape=(3,) dtype=float32, numpy=array([1., 2., 3.], dtype=float32)>,)"
            ]
          },
          "metadata": {
            "tags": []
          },
          "execution_count": 5
        }
      ]
    },
    {
      "cell_type": "code",
      "metadata": {
        "colab": {
          "base_uri": "https://localhost:8080/"
        },
        "id": "bG5FVFXQxUKH",
        "outputId": "5a05ea3f-f3f8-4b46-98ce-86f29d67a165"
      },
      "source": [
        "loc.shape"
      ],
      "execution_count": null,
      "outputs": [
        {
          "output_type": "execute_result",
          "data": {
            "text/plain": [
              "TensorShape([3])"
            ]
          },
          "metadata": {
            "tags": []
          },
          "execution_count": 6
        }
      ]
    },
    {
      "cell_type": "markdown",
      "metadata": {
        "id": "q-4lbKoTNpKO"
      },
      "source": [
        "### GPflow - Binary Classification\n",
        "\n",
        "Foundation taken from [GPflow binary classification model](https://gpflow.readthedocs.io/en/master/notebooks/basics/classification.html)"
      ]
    },
    {
      "cell_type": "code",
      "metadata": {
        "colab": {
          "base_uri": "https://localhost:8080/",
          "height": 483
        },
        "id": "WNejbwNuNsHP",
        "outputId": "532a4571-56e4-4ec7-f509-648c892fc2a3"
      },
      "source": [
        "# build the kernel and covariance matrix\n",
        "k = gpflow.kernels.Matern52(variance=20.0)\n",
        "x_grid = np.linspace(0, 6, 200).reshape(-1, 1)\n",
        "K = k(x_grid)\n",
        "\n",
        "# sample from a multivariate normal\n",
        "rng = np.random.RandomState(6)\n",
        "\n",
        "L = np.linalg.cholesky(K)\n",
        "f_grid = np.dot(L, rng.randn(200, 5))\n",
        "plt.plot(x_grid, f_grid, \"C0\", linewidth=1)\n",
        "_ = plt.plot(x_grid, f_grid[:, 1], \"C0\", linewidth=2)"
      ],
      "execution_count": null,
      "outputs": [
        {
          "output_type": "display_data",
          "data": {
            "image/png": "[encoded data removed]",
            "text/plain": [
              "<Figure size 864x576 with 1 Axes>"
            ]
          },
          "metadata": {
            "tags": [],
            "needs_background": "light"
          }
        }
      ]
    },
    {
      "cell_type": "code",
      "metadata": {
        "colab": {
          "base_uri": "https://localhost:8080/",
          "height": 483
        },
        "id": "tRTcuEPPOgvi",
        "outputId": "f5a8be50-5b22-4c48-b193-1958dc27f28d"
      },
      "source": [
        "def invlink(f):\n",
        "    # By default, standard normal CDF is used as link function, but \n",
        "    # any other function can be used as well, just set invlink argument\n",
        "    # of Bernoulli()\n",
        "    return gpflow.likelihoods.Bernoulli().invlink(f).numpy()\n",
        "\n",
        "\n",
        "p_grid = invlink(f_grid)\n",
        "plt.plot(x_grid, p_grid, \"C1\", linewidth=1)\n",
        "_ = plt.plot(x_grid, p_grid[:, 1], \"C1\", linewidth=2)"
      ],
      "execution_count": null,
      "outputs": [
        {
          "output_type": "display_data",
          "data": {
            "image/png": "[encoded data removed]",
            "text/plain": [
              "<Figure size 864x576 with 1 Axes>"
            ]
          },
          "metadata": {
            "tags": [],
            "needs_background": "light"
          }
        }
      ]
    },
    {
      "cell_type": "code",
      "metadata": {
        "colab": {
          "base_uri": "https://localhost:8080/",
          "height": 483
        },
        "id": "ySLYs6N3Ovep",
        "outputId": "4c3edde7-5b0c-4771-ab22-4a3c4981e8be"
      },
      "source": [
        "# Select some input locations\n",
        "ind = rng.randint(0, 200, (30,))\n",
        "X_gen = x_grid[ind]\n",
        "\n",
        "# evaluate probability and get Bernoulli draws\n",
        "p = p_grid[ind, 1:2]\n",
        "Y_gen = rng.binomial(1, p)\n",
        "\n",
        "# plot\n",
        "plt.plot(x_grid, p_grid[:, 1], \"C1\", linewidth=2)\n",
        "plt.plot(X_gen, p, \"C1o\", ms=6)\n",
        "_ = plt.plot(X_gen, Y_gen, \"C3x\", ms=8, mew=2)"
      ],
      "execution_count": null,
      "outputs": [
        {
          "output_type": "display_data",
          "data": {
            "image/png": "[encoded data removed]",
            "text/plain": [
              "<Figure size 864x576 with 1 Axes>"
            ]
          },
          "metadata": {
            "tags": [],
            "needs_background": "light"
          }
        }
      ]
    },
    {
      "cell_type": "code",
      "metadata": {
        "colab": {
          "base_uri": "https://localhost:8080/"
        },
        "id": "lN3CmSBWPRM9",
        "outputId": "5864db92-fe47-42b3-ccc0-33afc82ad1c9"
      },
      "source": [
        "m = gpflow.models.VGP(\n",
        "    (X_gen, Y_gen), likelihood=gpflow.likelihoods.Bernoulli(), kernel=gpflow.kernels.Matern52()\n",
        ")\n",
        "\n",
        "opt = gpflow.optimizers.Scipy()\n",
        "opt.minimize(m.training_loss, variables=m.trainable_variables)"
      ],
      "execution_count": null,
      "outputs": [
        {
          "output_type": "execute_result",
          "data": {
            "text/plain": [
              "      fun: 5.921130177394291\n",
              " hess_inv: <497x497 LbfgsInvHessProduct with dtype=float64>\n",
              "      jac: array([ 6.78253795e-04, -1.61809166e-06,  7.97288934e-05, -2.56457370e-05,\n",
              "       -3.19435981e-04, -9.77303768e-05,  3.65503836e-06, -3.55404475e-05,\n",
              "        1.51691560e-06,  2.60414254e-06, -5.66910904e-07,  6.83518424e-07,\n",
              "       -4.84583134e-06, -8.26329395e-07, -7.74970114e-06,  6.64908570e-06,\n",
              "       -2.58952853e-07, -1.15593266e-05, -4.40631564e-07,  4.90943344e-07,\n",
              "       -5.01536929e-09, -2.33588387e-09, -2.40253319e-06,  1.37008530e-07,\n",
              "       -3.01552016e-07, -3.93965023e-07, -2.99033797e-08, -3.87416728e-08,\n",
              "       -3.92586551e-08,  2.05379648e-08,  2.92843059e-06, -8.10135283e-08,\n",
              "       -8.38028936e-08,  6.45942925e-16,  4.92766267e-11,  3.41825071e-15,\n",
              "        5.14826996e-14, -3.38859041e-13,  1.52259895e-13,  9.40644512e-09,\n",
              "       -2.80741643e-09,  6.83393397e-09,  5.31380897e-16, -2.47080565e-11,\n",
              "        5.19857243e-13,  4.81490492e-09, -2.39469898e-08, -7.80634456e-10,\n",
              "        1.98637090e-12, -1.60230856e-11, -4.58055751e-09, -2.60455821e-08,\n",
              "        8.68577724e-09, -3.85189300e-09, -3.07971978e-09, -2.07310848e-08,\n",
              "       -9.21717894e-09,  3.49482166e-10, -1.14630584e-09,  1.84418695e-07,\n",
              "       -8.57930854e-09,  4.20047099e-07,  1.68063787e-04, -1.15419579e-08,\n",
              "        1.60534225e-12, -2.82798847e-09, -3.72457719e-09, -4.04416898e-09,\n",
              "       -2.58254343e-08,  1.87122352e-12,  1.19626725e-13,  5.44715938e-13,\n",
              "        1.45166213e-10,  2.84270997e-09,  5.77243482e-07, -1.84337585e-10,\n",
              "        3.96241940e-11, -7.12571242e-09,  3.01241548e-07,  1.23788328e-06,\n",
              "       -1.09988700e-08,  5.05005088e-09,  3.34638011e-08,  1.87668997e-07,\n",
              "       -5.12084593e-07,  6.12842281e-08, -1.07939378e-06,  2.79508529e-06,\n",
              "        1.49642199e-06,  4.39434235e-07, -1.05523008e-06, -6.60442894e-07,\n",
              "       -6.22207028e-05, -2.53258939e-05, -9.04474881e-09,  9.81266808e-14,\n",
              "       -5.88163370e-14, -8.27493185e-13,  2.55168629e-13,  1.17444762e-10,\n",
              "       -3.60868477e-11,  8.42252521e-11,  1.45175358e-15,  1.09083361e-11,\n",
              "        3.60013154e-12,  8.69114513e-11, -3.04764907e-10, -6.27612528e-11,\n",
              "        2.37965288e-12,  6.97917002e-12,  8.62937867e-10, -1.10968963e-09,\n",
              "        2.39224752e-09, -1.39720370e-09, -1.19991372e-09,  3.06980945e-08,\n",
              "        2.01449534e-08,  6.54333223e-09,  2.45966386e-09,  7.10279454e-09,\n",
              "       -1.98989757e-08, -2.44572622e-08,  3.84619196e-04, -1.85807791e-04,\n",
              "        4.36910661e-04, -1.18908983e-09,  8.09486552e-11,  1.41037140e-10,\n",
              "        2.24256248e-10,  3.68935470e-14, -5.57170032e-15,  6.90726466e-15,\n",
              "       -1.87547010e-12,  3.11726385e-11, -6.82720692e-09,  3.30137338e-12,\n",
              "       -7.17619146e-13,  1.19635476e-10, -3.59839645e-09, -1.46797917e-08,\n",
              "        1.15953666e-10, -5.24248230e-11, -3.50066351e-10, -1.88711398e-09,\n",
              "        8.01552509e-09, -1.85301464e-09,  2.59274749e-08, -3.83940887e-08,\n",
              "       -2.04015037e-08, -8.12846031e-09,  2.35637719e-08,  1.11669648e-08,\n",
              "       -2.11883047e-04, -4.35663612e-04, -1.16529979e-04,  7.75741714e-05,\n",
              "       -2.00933811e-08,  7.79194517e-10, -1.81982675e-10,  4.26665225e-13,\n",
              "       -9.13646002e-14,  2.14284780e-13, -2.18778344e-12,  3.80793536e-10,\n",
              "       -9.10731517e-09,  1.04980007e-11, -2.94991561e-12,  3.56891277e-10,\n",
              "       -4.73167354e-09, -1.89235107e-08,  4.70166996e-11, -1.23025532e-11,\n",
              "       -1.20530253e-10,  3.89459627e-11,  2.04532610e-08, -8.45713860e-09,\n",
              "        1.22199803e-07, -5.72850996e-08, -7.15995707e-09, -2.92177679e-08,\n",
              "        1.29587727e-07,  3.87661348e-08,  5.08101178e-05, -2.43054949e-05,\n",
              "        8.96962766e-05, -9.75650534e-05, -2.00216699e-04, -2.14000335e-07,\n",
              "       -1.59731141e-09,  4.08166270e-13,  6.84625267e-14, -1.75006635e-13,\n",
              "       -2.28985935e-12,  1.56814741e-09, -1.02511220e-08,  3.12805038e-11,\n",
              "       -5.74068967e-12,  1.05609712e-09, -5.25090898e-09, -1.97822638e-08,\n",
              "       -2.93164009e-10,  1.81503718e-10,  9.27572065e-10,  8.91443087e-09,\n",
              "        5.51911916e-08, -3.03706618e-08,  4.59696100e-07, -1.04651464e-07,\n",
              "        4.24433265e-08, -1.03841707e-07,  4.80789430e-07,  1.31875530e-07,\n",
              "       -3.01774651e-05,  6.03394557e-05, -2.50461449e-05,  2.71074629e-05,\n",
              "       -1.43290244e-05,  5.40953223e-04, -3.68923013e-07, -2.29448767e-12,\n",
              "        2.25274165e-13, -5.57277320e-13, -1.70087262e-11, -4.18336004e-09,\n",
              "       -5.69874062e-08, -3.89060469e-11,  7.48687143e-12, -1.41149025e-09,\n",
              "       -3.11487498e-08, -1.44023954e-07,  2.27856744e-09, -1.07141122e-09,\n",
              "       -7.09503233e-09, -4.29058789e-08,  1.19900050e-07, -9.34184639e-09,\n",
              "        1.30994107e-08, -2.94140336e-07, -1.73593492e-07, -1.41418044e-08,\n",
              "        2.40818153e-07,  6.97618922e-08, -3.15227920e-05, -1.89156314e-05,\n",
              "        1.79380041e-05,  8.88265480e-07,  8.52101241e-06,  1.36553103e-05,\n",
              "       -2.53901996e-04, -1.03277256e-06, -1.16287779e-08,  2.84322427e-08,\n",
              "        5.01763049e-15, -1.27687385e-10,  6.60080008e-12,  2.50403544e-08,\n",
              "       -9.48810610e-08, -3.48949490e-09,  1.11043568e-11, -6.05399840e-11,\n",
              "       -2.04999266e-08, -1.19445878e-07,  4.03248287e-08, -1.78133655e-08,\n",
              "       -1.41754037e-08, -9.76698604e-08, -4.15057434e-08,  4.33320842e-10,\n",
              "       -5.13840095e-09,  6.79232560e-07, -2.01023133e-08,  1.80561987e-06,\n",
              "       -4.79570427e-06,  4.87743447e-07, -7.02439478e-06,  1.94282006e-06,\n",
              "       -1.39680148e-05,  1.46532945e-05, -3.25019600e-06, -4.95167545e-05,\n",
              "       -5.02467338e-08, -7.65711625e-09, -6.46913339e-16,  3.29310529e-11,\n",
              "       -3.23661491e-13, -6.36950694e-09,  2.64758206e-08,  9.64014934e-10,\n",
              "       -2.34575652e-12,  2.08446314e-11,  5.64070749e-09,  3.27775464e-08,\n",
              "       -1.14598896e-08,  5.21925462e-09,  4.26032426e-09,  2.83232070e-08,\n",
              "        1.46978902e-08, -7.04714495e-10,  1.57786656e-09, -2.13840576e-07,\n",
              "        1.52082384e-08, -6.26436450e-07,  2.14789265e-06,  1.16379150e-06,\n",
              "        5.95253499e-06, -9.87553737e-07,  4.53794836e-06, -1.02081072e-05,\n",
              "       -2.62576182e-06, -8.83160831e-07, -2.01409104e-05, -5.23925761e-07,\n",
              "       -7.87242672e-16, -1.21022371e-10,  3.60610347e-12,  2.45515730e-08,\n",
              "        3.06939827e-07,  4.04354897e-09, -1.01787263e-11,  8.56181309e-11,\n",
              "        2.39755179e-08,  1.23922800e-07, -3.88887535e-08,  1.80431198e-08,\n",
              "        1.53734386e-08,  9.76012863e-08,  6.11884240e-08, -1.26636093e-08,\n",
              "        6.51555808e-09,  3.87333897e-06, -3.96709151e-07,  4.86924540e-06,\n",
              "       -3.68263860e-07,  2.59387201e-06, -4.65604922e-06,  7.48804469e-07,\n",
              "        6.82293480e-07,  6.64407992e-06,  3.16525060e-06, -1.36093759e-06,\n",
              "       -9.40842960e-07, -3.21589704e-05, -3.66119825e-10,  2.11563409e-12,\n",
              "        3.44345026e-10, -9.73144311e-14, -6.53197642e-15, -3.89575299e-12,\n",
              "        3.88935252e-09,  1.74682115e-09, -1.10133527e-11,  3.81341091e-12,\n",
              "        3.06785441e-11,  1.82757833e-10, -4.33773476e-10, -2.24850138e-10,\n",
              "       -1.27871339e-09, -2.40103947e-09,  1.16305246e-08, -1.74343713e-08,\n",
              "       -1.05789092e-08, -1.33082416e-08,  6.40839846e-06, -1.55032608e-06,\n",
              "        9.34857570e-06,  4.43519650e-08,  1.20580583e-07,  3.51244367e-07,\n",
              "        1.10552966e-06,  1.02008088e-07,  2.19032007e-07, -4.86210045e-07,\n",
              "       -1.68024713e-05, -2.77488813e-07,  5.69273445e-09,  3.46868967e-11,\n",
              "       -3.03136473e-11,  3.44229922e-09,  3.27238588e-09,  1.73087680e-08,\n",
              "       -1.91073703e-09,  1.25746337e-09,  7.36577626e-09, -8.76137905e-09,\n",
              "       -2.52700979e-08,  2.94280306e-08,  6.13572152e-07, -4.58511701e-08,\n",
              "        9.40930312e-08, -1.62849809e-07,  4.43454820e-07,  1.55474782e-07,\n",
              "        1.10207995e-06, -8.00616121e-07,  1.77827990e-06, -3.68649179e-09,\n",
              "       -1.53458928e-07,  5.10283289e-08,  3.25650752e-07,  1.61046533e-07,\n",
              "        1.27965700e-08, -6.90349308e-08,  1.23063993e-07, -8.20161681e-07,\n",
              "       -1.21384069e-07, -8.03033865e-10,  1.72999154e-10, -3.10796751e-08,\n",
              "        1.04880949e-06,  6.39954791e-06, -6.01018978e-08,  2.75979262e-08,\n",
              "        1.83041020e-07,  1.02810605e-06, -2.84402348e-06,  3.58985267e-07,\n",
              "       -6.05339209e-06,  1.08440273e-05,  3.02878610e-06,  3.63783804e-06,\n",
              "        2.89057647e-06,  5.97115223e-07,  8.76205177e-06,  1.32923895e-05,\n",
              "        1.28648780e-05,  3.71104720e-06,  2.69821312e-05, -2.28476934e-05,\n",
              "        7.69409183e-07, -1.02303015e-05,  3.71201519e-06,  6.60549456e-07,\n",
              "        9.87983421e-08, -2.18454907e-07,  9.46664521e-07, -2.54339012e-07,\n",
              "        3.43836560e-10, -9.95303985e-10, -3.62025768e-10, -2.26641133e-09,\n",
              "       -6.09214726e-09, -1.53136459e-08,  1.82186612e-09, -1.33353216e-09,\n",
              "        8.91662652e-11,  1.26873570e-08,  1.19001248e-08, -1.70572840e-10,\n",
              "        2.79435664e-10,  8.15752571e-07, -9.06220070e-08,  1.36768072e-06,\n",
              "       -4.64049237e-06, -6.00243809e-06, -4.24991571e-06,  1.30404239e-05,\n",
              "        2.72144992e-06, -3.10927222e-06,  1.47118809e-07, -1.44525068e-06,\n",
              "        5.29523205e-07,  9.38883408e-08,  1.40452824e-08, -3.10297696e-08,\n",
              "        3.46628775e-06, -1.31909094e-05, -8.33315648e-06,  3.82562825e-08,\n",
              "       -1.96750512e-11,  1.26622877e-09,  2.26437939e-07,  1.23062074e-06,\n",
              "       -3.92240940e-07,  1.77788630e-07,  1.46362629e-07,  9.44218250e-07,\n",
              "        5.36140680e-07, -7.38595941e-08,  6.30421180e-08,  1.80667616e-05,\n",
              "       -2.04836774e-06,  1.84622867e-05,  5.22603723e-07,  3.81173200e-07,\n",
              "       -2.18936748e-08,  6.59089326e-08, -2.30324808e-07,  1.00011097e-06,\n",
              "        2.03680587e-07, -3.67324545e-08, -8.25458688e-08,  5.40086477e-08,\n",
              "        2.65690105e-08, -1.33922669e-09, -8.64629485e-08, -1.41128424e-08,\n",
              "       -4.99167363e-07])\n",
              "  message: b'CONVERGENCE: REL_REDUCTION_OF_F_<=_FACTR*EPSMCH'\n",
              "     nfev: 286\n",
              "      nit: 260\n",
              "   status: 0\n",
              "  success: True\n",
              "        x: array([ 3.65395728e+00,  4.93264202e+02,  1.17047131e+00, -3.56969821e-01,\n",
              "       -2.41740195e-01, -1.13489342e+00, -4.52701807e-02,  1.85032367e-02,\n",
              "        3.00899979e-02, -3.12450048e-02,  9.17190665e-03,  3.05349295e-03,\n",
              "        2.54488128e-03, -2.72411751e-04,  3.94076994e-02, -1.61018494e-02,\n",
              "        2.67957268e-04,  3.40086908e-03,  4.86665342e-04, -8.05447512e-03,\n",
              "       -2.54777705e-05, -3.73732626e-05,  1.15552907e-03, -1.70930822e-04,\n",
              "        6.18422492e-04,  1.46401429e-03,  3.50489677e-04,  2.33524185e-04,\n",
              "        1.44002924e-04,  1.64020341e-05, -1.29938415e-02,  1.30246376e-04,\n",
              "        9.99999263e-01,  7.05315887e-15, -1.68994231e-08,  3.14337345e-12,\n",
              "       -2.89391408e-11,  1.22559372e-10, -5.13196394e-11, -3.35007511e-06,\n",
              "        1.10979665e-06, -2.44216038e-06, -1.94209769e-14,  8.26525779e-09,\n",
              "       -1.72353739e-10, -1.67651615e-06,  8.80924170e-06,  2.89520452e-07,\n",
              "       -8.58743606e-10,  6.23719617e-09,  1.70269259e-06,  1.00641243e-05,\n",
              "       -3.66291396e-06,  1.76183715e-06,  1.55402843e-06,  1.07080174e-05,\n",
              "        6.74375018e-06, -1.59418051e-06,  6.15453624e-07, -1.13299382e-04,\n",
              "        2.72199858e-05, -3.97919222e-04,  3.77644748e-01,  9.99853905e-01,\n",
              "       -8.02217373e-10,  3.12617147e-06,  4.53481644e-06,  4.98542447e-06,\n",
              "        3.17896533e-05, -1.80402577e-09,  2.73230615e-10, -5.95113250e-10,\n",
              "       -3.59564855e-07, -3.27119392e-06, -7.08150036e-04,  2.30308853e-07,\n",
              "       -5.49210715e-08,  8.86764959e-06, -4.08182165e-04, -1.64574145e-03,\n",
              "        1.70808056e-05, -8.43577118e-06, -5.55843956e-05, -3.07446346e-04,\n",
              "        9.09262140e-04, -3.17187274e-04,  1.02323400e-03, -7.93274671e-03,\n",
              "       -7.75961722e-03, -7.00383034e-04, -1.34944294e-03,  3.74348836e-04,\n",
              "       -2.23768080e-01,  1.34674021e-01,  9.99999969e-01,  1.99509080e-11,\n",
              "       -9.16411964e-11,  4.54082958e-10, -9.69868514e-11, -3.94435483e-08,\n",
              "        1.33199504e-08, -2.93188292e-08, -9.76295083e-13, -4.92635867e-09,\n",
              "       -1.84357341e-09, -3.23651614e-08,  1.10279403e-07,  2.82681126e-08,\n",
              "       -1.20586717e-09, -3.91145503e-09, -3.93322367e-07,  4.06935123e-07,\n",
              "       -8.47550420e-07,  4.73205238e-07,  4.35555990e-07, -1.24905491e-05,\n",
              "       -1.50791876e-05,  4.06386766e-06, -1.39606410e-06,  1.69320203e-05,\n",
              "       -1.43969812e-05, -4.05718773e-05, -9.55422852e-02, -1.12081985e-01,\n",
              "        8.64749226e-01,  9.99999979e-01, -7.96439295e-08, -1.31353820e-07,\n",
              "       -2.78917598e-07,  7.74347850e-12, -2.53476970e-12,  5.57905050e-12,\n",
              "        3.84646134e-09,  2.94081950e-11,  7.59648426e-06, -2.96197026e-09,\n",
              "        6.87292177e-10, -1.14339542e-07,  4.37495526e-06,  1.75974164e-05,\n",
              "       -1.74195941e-07,  8.59895959e-08,  5.67267361e-07,  3.05887096e-06,\n",
              "       -1.06925675e-05,  4.00897697e-06, -1.69156910e-05,  8.78567069e-05,\n",
              "        8.26175701e-05,  1.00410998e-05,  1.67530264e-06, -8.77353638e-06,\n",
              "        1.59631480e-01, -4.52384815e-01, -2.48550469e-01,  2.91823199e-01,\n",
              "        9.99999866e-01, -5.81695536e-07, -1.17995204e-07, -1.60391162e-10,\n",
              "        3.68556966e-11, -8.08016116e-11,  5.56045328e-09, -1.74581964e-07,\n",
              "        1.10793083e-05, -6.86880910e-09,  1.81332593e-09, -2.62453706e-07,\n",
              "        6.36356155e-06,  2.54007004e-05, -2.10602642e-07,  1.04401118e-07,\n",
              "        6.80678102e-07,  3.22541726e-06, -2.00793290e-05,  8.75992907e-06,\n",
              "       -5.52742139e-05,  1.42236941e-04,  1.17344280e-04,  2.77898075e-05,\n",
              "       -6.19867247e-05, -3.73195394e-05,  6.05635588e-02, -3.21443422e-01,\n",
              "       -1.03105121e-01, -4.89762125e-01,  7.18681497e-01,  9.99998894e-01,\n",
              "        7.70989130e-07, -1.42555613e-10, -3.17196965e-11,  7.12657536e-11,\n",
              "        6.05270982e-09, -7.99466227e-07,  1.23692231e-05, -1.59631702e-08,\n",
              "        3.06234703e-09, -6.25758616e-07,  7.05052313e-06,  2.75260299e-05,\n",
              "       -7.79627985e-08,  3.68863566e-08,  2.69598708e-07, -1.08835167e-06,\n",
              "       -3.75834888e-05,  2.01798278e-05, -1.81040243e-04,  2.13079015e-04,\n",
              "        1.19117508e-04,  8.26855302e-05, -3.11145637e-04, -1.36262193e-04,\n",
              "       -9.59932422e-02, -4.34497508e-02,  6.07626364e-02,  6.11641891e-02,\n",
              "        1.14545272e-01,  9.53932176e-01,  9.99994485e-01,  9.04914375e-10,\n",
              "       -1.14676610e-10,  2.48995893e-10,  3.98076259e-08,  1.87580076e-06,\n",
              "        7.52020416e-05, -2.92401214e-09,  1.00777175e-09, -1.07512105e-07,\n",
              "        4.39063051e-05,  1.83365528e-04, -2.28349467e-06,  1.12845934e-06,\n",
              "        7.42501356e-06,  4.30527787e-05, -1.22420619e-04,  4.15154534e-05,\n",
              "       -8.47541605e-05,  8.70434112e-04,  8.50082532e-04,  6.12286826e-05,\n",
              "       -2.54578115e-05, -4.80379439e-05, -4.30416643e-02, -3.48505102e-02,\n",
              "        1.45177029e-02, -2.17390891e-02, -2.06762656e-02, -1.23738238e-02,\n",
              "        9.92209105e-01,  9.99990946e-01,  4.72312488e-06, -1.03702775e-05,\n",
              "       -2.39548849e-12,  4.37629166e-08, -5.08816410e-09, -8.97488164e-06,\n",
              "        3.54964315e-05,  1.30921720e-06, -6.34702929e-09,  1.75904782e-08,\n",
              "        7.71784399e-06,  4.68670987e-05, -1.72154778e-05,  8.28035372e-06,\n",
              "        7.31150273e-06,  5.12404326e-05,  3.26368854e-05, -7.78292453e-06,\n",
              "        2.93011774e-06, -4.42729433e-04,  1.10031591e-04, -1.91332005e-03,\n",
              "        1.13562531e-03,  5.07950643e-02,  7.34013614e-03,  5.63610320e-02,\n",
              "        7.16238164e-02, -1.57042797e-02,  6.08666278e-03,  9.92850771e-01,\n",
              "        9.99999295e-01,  2.97704759e-06,  3.75627741e-13, -1.20655134e-08,\n",
              "        8.84044858e-10,  2.46723264e-06, -1.03300016e-05, -3.71739057e-07,\n",
              "        1.47565056e-09, -6.40035886e-09, -2.18918331e-06, -1.32291173e-05,\n",
              "        4.85164968e-06, -2.33387197e-06, -2.05978691e-06, -1.43594601e-05,\n",
              "       -9.11146463e-06,  2.16527014e-06, -8.24372161e-07,  1.26009201e-04,\n",
              "       -3.12062248e-05,  5.30157290e-04,  1.99754029e-03, -1.59961527e-02,\n",
              "       -5.03946929e-03, -1.84956653e-02, -2.39888108e-02,  7.32467637e-03,\n",
              "       -4.78428977e-04,  3.98522130e-03,  9.99104340e-01,  9.99989288e-01,\n",
              "       -8.45374426e-13,  3.70256029e-08, -2.14965842e-09, -7.52790601e-06,\n",
              "       -5.82329208e-05, -7.24714134e-07,  1.33712571e-09, -1.91169333e-08,\n",
              "       -4.24831719e-06, -2.04461256e-05,  6.82578410e-06, -3.26491264e-06,\n",
              "       -2.87308537e-06, -1.80143598e-05, -1.05877942e-05,  2.44117169e-06,\n",
              "       -9.81841510e-07, -1.38124232e-03,  2.79043276e-04, -2.71449276e-03,\n",
              "       -2.35067065e-03, -6.56540777e-03,  2.61086883e-03, -3.64051789e-03,\n",
              "       -3.31608521e-03, -1.99223330e-03, -1.40017515e-03,  1.12573733e-03,\n",
              "        8.91380557e-05,  9.99738536e-01,  9.99999989e-01, -4.15666164e-09,\n",
              "       -8.72109085e-07,  2.81769141e-10, -6.71440688e-11,  1.08510711e-08,\n",
              "       -4.28036770e-06, -3.79747751e-06,  3.74846711e-08, -1.85132881e-08,\n",
              "       -1.21981964e-07, -6.74406655e-07,  1.97036500e-06, -6.83680220e-07,\n",
              "        2.17491056e-06, -7.12799313e-07, -5.75934510e-05,  1.64762567e-06,\n",
              "        2.61401384e-05,  1.90054250e-06, -3.82485720e-03, -2.78218395e-04,\n",
              "       -2.32061315e-03, -5.46581353e-04, -5.45190618e-04, -2.35655208e-04,\n",
              "       -5.74754273e-04,  4.34203625e-05, -1.26004192e-04,  1.78710609e-04,\n",
              "        9.99760877e-01,  9.99998610e-01, -7.50223312e-06, -1.76366684e-08,\n",
              "       -2.08799554e-08, -1.70918687e-06, -4.44423995e-06, -1.94149439e-05,\n",
              "        9.50879895e-07, -5.53644173e-07, -3.54765275e-06,  1.00314903e-06,\n",
              "        1.61595979e-05, -1.41801106e-05, -1.84665299e-04, -1.35958441e-05,\n",
              "       -1.04404902e-04,  9.44864625e-05, -2.84862448e-04, -1.52340449e-04,\n",
              "       -3.58550040e-04,  1.13153395e-03, -2.89920679e-04,  1.03374954e-03,\n",
              "        1.29340695e-03, -3.20677244e-04, -7.08671842e-05, -2.59448619e-04,\n",
              "        6.09910648e-05,  3.86191345e-05, -4.43105534e-05,  9.99989758e-01,\n",
              "        9.98598813e-01,  9.87617592e-07, -2.34990786e-07,  3.80490632e-05,\n",
              "       -1.42625268e-03, -8.43517679e-03,  9.19114468e-05, -4.53909720e-05,\n",
              "       -2.99087882e-04, -1.65548854e-03,  4.95263436e-03, -1.73639236e-03,\n",
              "        5.68140791e-03, -3.28698865e-02, -2.75315659e-02, -3.48071871e-03,\n",
              "       -1.60742915e-02,  5.65224973e-04, -1.06578663e-03, -8.33276004e-02,\n",
              "       -1.32462318e-02, -9.41061580e-02, -1.13565418e-01,  2.39730565e-02,\n",
              "       -7.29244104e-03,  2.07052074e-02, -6.85338069e-03, -1.23852799e-03,\n",
              "       -1.88092517e-04,  3.80431370e-04,  9.83385687e-01,  9.99997138e-01,\n",
              "        6.65903777e-06,  4.55538548e-07,  4.93335075e-07,  3.03280143e-06,\n",
              "        2.81432792e-06,  1.16935031e-05, -3.58742431e-06,  2.43852187e-06,\n",
              "       -1.29855875e-07,  5.12927375e-06, -5.12185760e-06,  1.29885474e-05,\n",
              "        9.26211149e-06, -3.58237945e-04,  7.53267823e-05, -1.36974122e-03,\n",
              "        8.82437506e-04,  2.51215305e-03, -8.36147884e-04, -3.09113003e-02,\n",
              "       -1.34980791e-02,  3.03934457e-03, -9.34963142e-04,  2.67452103e-03,\n",
              "       -8.99535899e-04, -1.62468364e-04, -2.46397181e-05,  4.99475109e-05,\n",
              "       -4.70724661e-03,  9.98969048e-01,  9.99722591e-01, -1.16979406e-05,\n",
              "       -8.33013546e-08, -9.73112458e-07, -6.87898115e-05, -3.83402197e-04,\n",
              "        1.36466758e-04, -6.57133362e-05, -5.73954985e-05, -3.89143210e-04,\n",
              "       -2.39725262e-04,  5.36485889e-05, -2.41957169e-05, -5.65933310e-03,\n",
              "        1.03023233e-03, -5.34118913e-03, -3.21048230e-04, -1.05038906e-04,\n",
              "        1.37177426e-04,  3.40085223e-04,  5.48798051e-04, -3.79585214e-04,\n",
              "       -5.03051851e-05, -4.52850696e-05,  4.52523627e-05, -1.57691733e-05,\n",
              "       -9.29128443e-06, -2.77000009e-07,  1.16255421e-04,  1.90663606e-05,\n",
              "        9.99997279e-01])"
            ]
          },
          "metadata": {
            "tags": []
          },
          "execution_count": 9
        }
      ]
    },
    {
      "cell_type": "code",
      "metadata": {
        "colab": {
          "base_uri": "https://localhost:8080/"
        },
        "id": "DhMzTcdaIoWp",
        "outputId": "1aadaea8-0f79-4849-c602-96b49f9eea98"
      },
      "source": [
        "m.training_loss()"
      ],
      "execution_count": null,
      "outputs": [
        {
          "output_type": "execute_result",
          "data": {
            "text/plain": [
              "<tf.Tensor: shape=(), dtype=float64, numpy=5.921130177394292>"
            ]
          },
          "metadata": {
            "tags": []
          },
          "execution_count": 10
        }
      ]
    },
    {
      "cell_type": "code",
      "metadata": {
        "id": "zxtIEnKJTLfI"
      },
      "source": [
        "with tf.GradientTape() as tape:\n",
        "  mll = m.maximum_log_likelihood_objective()\n",
        "\n",
        "tape.jacobian(mll, m.trainable_variables)"
      ],
      "execution_count": null,
      "outputs": []
    },
    {
      "cell_type": "code",
      "metadata": {
        "id": "t-cibIXthAEr"
      },
      "source": [
        "obs_dist = gpflow.likelihoods.Bernoulli(invlink=tf.math.sigmoid)\n",
        "\n",
        "??obs_dist.predict_log_density"
      ],
      "execution_count": null,
      "outputs": []
    },
    {
      "cell_type": "code",
      "metadata": {
        "colab": {
          "base_uri": "https://localhost:8080/"
        },
        "id": "Xn-ht1PBhbcf",
        "outputId": "4ac0b173-c090-4af5-f58b-03e5ed15a55b"
      },
      "source": [
        "obs_dist.log_prob(f_grid[:30,:1], Y_gen)"
      ],
      "execution_count": null,
      "outputs": [
        {
          "output_type": "execute_result",
          "data": {
            "text/plain": [
              "<tf.Tensor: shape=(30,), dtype=float64, numpy=\n",
              "array([-1.61587877e+00, -1.48984477e+00, -1.33196346e+00, -3.79287935e-01,\n",
              "       -4.79049744e-01, -7.88255854e-01, -6.32315490e-01, -5.01419843e-01,\n",
              "       -3.91492380e-01, -3.03863486e-01, -2.35978500e-01, -1.81045085e-01,\n",
              "       -1.36544524e-01, -2.32998985e+00, -7.63898726e-02, -5.71398647e-02,\n",
              "       -4.30555024e-02, -3.25834221e-02, -2.46946565e-02, -3.98901426e+00,\n",
              "       -1.42630033e-02, -1.10535643e-02, -8.75049693e-03, -7.11412427e-03,\n",
              "       -5.93139030e-03, -5.07594011e-03, -4.47273717e-03, -4.04727220e-03,\n",
              "       -5.59281770e+00, -3.47115426e-03])>"
            ]
          },
          "metadata": {
            "tags": []
          },
          "execution_count": 13
        }
      ]
    },
    {
      "cell_type": "markdown",
      "metadata": {
        "id": "wQoXHdptMbZn"
      },
      "source": [
        "### GPC Laplace Approach"
      ]
    },
    {
      "cell_type": "code",
      "metadata": {
        "colab": {
          "base_uri": "https://localhost:8080/"
        },
        "id": "4VHENLdexvGH",
        "outputId": "75796551-b91f-4c68-c98e-bc157e579f89"
      },
      "source": [
        "!pip install gpflow"
      ],
      "execution_count": 1,
      "outputs": [
        {
          "output_type": "stream",
          "text": [
            "Collecting gpflow\n",
            "  Downloading gpflow-2.2.1-py3-none-any.whl (271 kB)\n",
            "\u001b[?25l\r\u001b[K     |█▏                              | 10 kB 21.2 MB/s eta 0:00:01\r\u001b[K     |██▍                             | 20 kB 26.8 MB/s eta 0:00:01\r\u001b[K     |███▋                            | 30 kB 20.7 MB/s eta 0:00:01\r\u001b[K     |████▉                           | 40 kB 16.3 MB/s eta 0:00:01\r\u001b[K     |██████                          | 51 kB 6.8 MB/s eta 0:00:01\r\u001b[K     |███████▎                        | 61 kB 6.5 MB/s eta 0:00:01\r\u001b[K     |████████▌                       | 71 kB 7.3 MB/s eta 0:00:01\r\u001b[K     |█████████▋                      | 81 kB 8.2 MB/s eta 0:00:01\r\u001b[K     |██████████▉                     | 92 kB 8.9 MB/s eta 0:00:01\r\u001b[K     |████████████                    | 102 kB 6.5 MB/s eta 0:00:01\r\u001b[K     |█████████████▎                  | 112 kB 6.5 MB/s eta 0:00:01\r\u001b[K     |██████████████▌                 | 122 kB 6.5 MB/s eta 0:00:01\r\u001b[K     |███████████████▊                | 133 kB 6.5 MB/s eta 0:00:01\r\u001b[K     |█████████████████               | 143 kB 6.5 MB/s eta 0:00:01\r\u001b[K     |██████████████████              | 153 kB 6.5 MB/s eta 0:00:01\r\u001b[K     |███████████████████▎            | 163 kB 6.5 MB/s eta 0:00:01\r\u001b[K     |████████████████████▌           | 174 kB 6.5 MB/s eta 0:00:01\r\u001b[K     |█████████████████████▊          | 184 kB 6.5 MB/s eta 0:00:01\r\u001b[K     |███████████████████████         | 194 kB 6.5 MB/s eta 0:00:01\r\u001b[K     |████████████████████████▏       | 204 kB 6.5 MB/s eta 0:00:01\r\u001b[K     |█████████████████████████▍      | 215 kB 6.5 MB/s eta 0:00:01\r\u001b[K     |██████████████████████████▌     | 225 kB 6.5 MB/s eta 0:00:01\r\u001b[K     |███████████████████████████▊    | 235 kB 6.5 MB/s eta 0:00:01\r\u001b[K     |█████████████████████████████   | 245 kB 6.5 MB/s eta 0:00:01\r\u001b[K     |██████████████████████████████▏ | 256 kB 6.5 MB/s eta 0:00:01\r\u001b[K     |███████████████████████████████▍| 266 kB 6.5 MB/s eta 0:00:01\r\u001b[K     |████████████████████████████████| 271 kB 6.5 MB/s \n",
            "\u001b[?25hRequirement already satisfied: setuptools>=41.0.0 in /usr/local/lib/python3.7/dist-packages (from gpflow) (57.2.0)\n",
            "Collecting dataclasses\n",
            "  Downloading dataclasses-0.6-py3-none-any.whl (14 kB)\n",
            "Requirement already satisfied: typing-extensions in /usr/local/lib/python3.7/dist-packages (from gpflow) (3.7.4.3)\n",
            "Requirement already satisfied: tensorflow-probability>0.10.0 in /usr/local/lib/python3.7/dist-packages (from gpflow) (0.13.0)\n",
            "Collecting deprecated\n",
            "  Downloading Deprecated-1.2.12-py2.py3-none-any.whl (9.5 kB)\n",
            "Collecting multipledispatch>=0.6\n",
            "  Downloading multipledispatch-0.6.0-py3-none-any.whl (11 kB)\n",
            "Requirement already satisfied: tensorflow>=2.2.0 in /usr/local/lib/python3.7/dist-packages (from gpflow) (2.5.0)\n",
            "Requirement already satisfied: scipy in /usr/local/lib/python3.7/dist-packages (from gpflow) (1.4.1)\n",
            "Requirement already satisfied: numpy in /usr/local/lib/python3.7/dist-packages (from gpflow) (1.19.5)\n",
            "Requirement already satisfied: packaging in /usr/local/lib/python3.7/dist-packages (from gpflow) (21.0)\n",
            "Requirement already satisfied: tabulate in /usr/local/lib/python3.7/dist-packages (from gpflow) (0.8.9)\n",
            "Requirement already satisfied: six in /usr/local/lib/python3.7/dist-packages (from multipledispatch>=0.6->gpflow) (1.15.0)\n",
            "Requirement already satisfied: keras-preprocessing~=1.1.2 in /usr/local/lib/python3.7/dist-packages (from tensorflow>=2.2.0->gpflow) (1.1.2)\n",
            "Requirement already satisfied: keras-nightly~=2.5.0.dev in /usr/local/lib/python3.7/dist-packages (from tensorflow>=2.2.0->gpflow) (2.5.0.dev2021032900)\n",
            "Requirement already satisfied: gast==0.4.0 in /usr/local/lib/python3.7/dist-packages (from tensorflow>=2.2.0->gpflow) (0.4.0)\n",
            "Requirement already satisfied: astunparse~=1.6.3 in /usr/local/lib/python3.7/dist-packages (from tensorflow>=2.2.0->gpflow) (1.6.3)\n",
            "Requirement already satisfied: absl-py~=0.10 in /usr/local/lib/python3.7/dist-packages (from tensorflow>=2.2.0->gpflow) (0.12.0)\n",
            "Requirement already satisfied: google-pasta~=0.2 in /usr/local/lib/python3.7/dist-packages (from tensorflow>=2.2.0->gpflow) (0.2.0)\n",
            "Requirement already satisfied: tensorflow-estimator<2.6.0,>=2.5.0rc0 in /usr/local/lib/python3.7/dist-packages (from tensorflow>=2.2.0->gpflow) (2.5.0)\n",
            "Requirement already satisfied: flatbuffers~=1.12.0 in /usr/local/lib/python3.7/dist-packages (from tensorflow>=2.2.0->gpflow) (1.12)\n",
            "Requirement already satisfied: h5py~=3.1.0 in /usr/local/lib/python3.7/dist-packages (from tensorflow>=2.2.0->gpflow) (3.1.0)\n",
            "Requirement already satisfied: tensorboard~=2.5 in /usr/local/lib/python3.7/dist-packages (from tensorflow>=2.2.0->gpflow) (2.5.0)\n",
            "Requirement already satisfied: grpcio~=1.34.0 in /usr/local/lib/python3.7/dist-packages (from tensorflow>=2.2.0->gpflow) (1.34.1)\n",
            "Requirement already satisfied: opt-einsum~=3.3.0 in /usr/local/lib/python3.7/dist-packages (from tensorflow>=2.2.0->gpflow) (3.3.0)\n",
            "Requirement already satisfied: protobuf>=3.9.2 in /usr/local/lib/python3.7/dist-packages (from tensorflow>=2.2.0->gpflow) (3.17.3)\n",
            "Requirement already satisfied: wheel~=0.35 in /usr/local/lib/python3.7/dist-packages (from tensorflow>=2.2.0->gpflow) (0.36.2)\n",
            "Requirement already satisfied: wrapt~=1.12.1 in /usr/local/lib/python3.7/dist-packages (from tensorflow>=2.2.0->gpflow) (1.12.1)\n",
            "Requirement already satisfied: termcolor~=1.1.0 in /usr/local/lib/python3.7/dist-packages (from tensorflow>=2.2.0->gpflow) (1.1.0)\n",
            "Requirement already satisfied: cached-property in /usr/local/lib/python3.7/dist-packages (from h5py~=3.1.0->tensorflow>=2.2.0->gpflow) (1.5.2)\n",
            "Requirement already satisfied: tensorboard-data-server<0.7.0,>=0.6.0 in /usr/local/lib/python3.7/dist-packages (from tensorboard~=2.5->tensorflow>=2.2.0->gpflow) (0.6.1)\n",
            "Requirement already satisfied: tensorboard-plugin-wit>=1.6.0 in /usr/local/lib/python3.7/dist-packages (from tensorboard~=2.5->tensorflow>=2.2.0->gpflow) (1.8.0)\n",
            "Requirement already satisfied: markdown>=2.6.8 in /usr/local/lib/python3.7/dist-packages (from tensorboard~=2.5->tensorflow>=2.2.0->gpflow) (3.3.4)\n",
            "Requirement already satisfied: requests<3,>=2.21.0 in /usr/local/lib/python3.7/dist-packages (from tensorboard~=2.5->tensorflow>=2.2.0->gpflow) (2.23.0)\n",
            "Requirement already satisfied: google-auth<2,>=1.6.3 in /usr/local/lib/python3.7/dist-packages (from tensorboard~=2.5->tensorflow>=2.2.0->gpflow) (1.32.1)\n",
            "Requirement already satisfied: werkzeug>=0.11.15 in /usr/local/lib/python3.7/dist-packages (from tensorboard~=2.5->tensorflow>=2.2.0->gpflow) (1.0.1)\n",
            "Requirement already satisfied: google-auth-oauthlib<0.5,>=0.4.1 in /usr/local/lib/python3.7/dist-packages (from tensorboard~=2.5->tensorflow>=2.2.0->gpflow) (0.4.4)\n",
            "Requirement already satisfied: cachetools<5.0,>=2.0.0 in /usr/local/lib/python3.7/dist-packages (from google-auth<2,>=1.6.3->tensorboard~=2.5->tensorflow>=2.2.0->gpflow) (4.2.2)\n",
            "Requirement already satisfied: pyasn1-modules>=0.2.1 in /usr/local/lib/python3.7/dist-packages (from google-auth<2,>=1.6.3->tensorboard~=2.5->tensorflow>=2.2.0->gpflow) (0.2.8)\n",
            "Requirement already satisfied: rsa<5,>=3.1.4 in /usr/local/lib/python3.7/dist-packages (from google-auth<2,>=1.6.3->tensorboard~=2.5->tensorflow>=2.2.0->gpflow) (4.7.2)\n",
            "Requirement already satisfied: requests-oauthlib>=0.7.0 in /usr/local/lib/python3.7/dist-packages (from google-auth-oauthlib<0.5,>=0.4.1->tensorboard~=2.5->tensorflow>=2.2.0->gpflow) (1.3.0)\n",
            "Requirement already satisfied: importlib-metadata in /usr/local/lib/python3.7/dist-packages (from markdown>=2.6.8->tensorboard~=2.5->tensorflow>=2.2.0->gpflow) (4.6.1)\n",
            "Requirement already satisfied: pyasn1<0.5.0,>=0.4.6 in /usr/local/lib/python3.7/dist-packages (from pyasn1-modules>=0.2.1->google-auth<2,>=1.6.3->tensorboard~=2.5->tensorflow>=2.2.0->gpflow) (0.4.8)\n",
            "Requirement already satisfied: certifi>=2017.4.17 in /usr/local/lib/python3.7/dist-packages (from requests<3,>=2.21.0->tensorboard~=2.5->tensorflow>=2.2.0->gpflow) (2021.5.30)\n",
            "Requirement already satisfied: idna<3,>=2.5 in /usr/local/lib/python3.7/dist-packages (from requests<3,>=2.21.0->tensorboard~=2.5->tensorflow>=2.2.0->gpflow) (2.10)\n",
            "Requirement already satisfied: chardet<4,>=3.0.2 in /usr/local/lib/python3.7/dist-packages (from requests<3,>=2.21.0->tensorboard~=2.5->tensorflow>=2.2.0->gpflow) (3.0.4)\n",
            "Requirement already satisfied: urllib3!=1.25.0,!=1.25.1,<1.26,>=1.21.1 in /usr/local/lib/python3.7/dist-packages (from requests<3,>=2.21.0->tensorboard~=2.5->tensorflow>=2.2.0->gpflow) (1.24.3)\n",
            "Requirement already satisfied: oauthlib>=3.0.0 in /usr/local/lib/python3.7/dist-packages (from requests-oauthlib>=0.7.0->google-auth-oauthlib<0.5,>=0.4.1->tensorboard~=2.5->tensorflow>=2.2.0->gpflow) (3.1.1)\n",
            "Requirement already satisfied: cloudpickle>=1.3 in /usr/local/lib/python3.7/dist-packages (from tensorflow-probability>0.10.0->gpflow) (1.3.0)\n",
            "Requirement already satisfied: dm-tree in /usr/local/lib/python3.7/dist-packages (from tensorflow-probability>0.10.0->gpflow) (0.1.6)\n",
            "Requirement already satisfied: decorator in /usr/local/lib/python3.7/dist-packages (from tensorflow-probability>0.10.0->gpflow) (4.4.2)\n",
            "Requirement already satisfied: zipp>=0.5 in /usr/local/lib/python3.7/dist-packages (from importlib-metadata->markdown>=2.6.8->tensorboard~=2.5->tensorflow>=2.2.0->gpflow) (3.5.0)\n",
            "Requirement already satisfied: pyparsing>=2.0.2 in /usr/local/lib/python3.7/dist-packages (from packaging->gpflow) (2.4.7)\n",
            "Installing collected packages: multipledispatch, deprecated, dataclasses, gpflow\n",
            "Successfully installed dataclasses-0.6 deprecated-1.2.12 gpflow-2.2.1 multipledispatch-0.6.0\n"
          ],
          "name": "stdout"
        }
      ]
    },
    {
      "cell_type": "code",
      "metadata": {
        "id": "zeZ7225RisFC"
      },
      "source": [
        "import gpflow\n",
        "import matplotlib.pyplot as plt\n",
        "import numpy as np\n",
        "import tensorflow as tf\n",
        "import tensorflow_probability as tfp\n",
        "from sklearn.preprocessing import StandardScaler\n",
        "tfd = tfp.distributions\n",
        "\n",
        "plt.rcParams[\"figure.figsize\"] = (12, 8)\n",
        "\n",
        "tf.__version__\n",
        "\n",
        "nobs = 50\n",
        "PI = tf.constant(np.pi, dtype=tf.float64)\n",
        "obs_dist = gpflow.likelihoods.Bernoulli(invlink=tf.math.sigmoid)\n",
        "\n",
        "def gpc_posterior(f, y, K):\n",
        "  pad_K = K + 10e-9*tf.eye(K.shape[0], dtype=tf.float64)\n",
        "  chol_K = tf.linalg.cholesky(pad_K)\n",
        "  fK = tf.linalg.cholesky_solve(chol_K, f)\n",
        "  nobs = f.shape[0]\n",
        "\n",
        "  ll = (\n",
        "    tf.reduce_sum(obs_dist.log_prob(f, y))\n",
        "    - 0.5*tf.matmul(f, fK, transpose_a=True)\n",
        "    - tf.reduce_sum(tf.math.log(tf.linalg.diag_part(chol_K)))\n",
        "    - 0.5*nobs*tf.math.log(2*PI)\n",
        "  )\n",
        "\n",
        "  return ll\n",
        "\n",
        "def compute_posterior_covariance(K, hess_diag):\n",
        "  sqrt_w = tf.sqrt(-hess_diag)\n",
        "  sqrt_w_t = tf.reshape(sqrt_w, shape=(-1, 1))\n",
        "\n",
        "  K_sqrt_w = tf.multiply(K, sqrt_w)\n",
        "  B = tf.eye(K.shape[0], dtype=tf.float64) + tf.multiply(sqrt_w_t, K_sqrt_w)\n",
        "  \n",
        "  chol_B = tf.linalg.cholesky(B)\n",
        "  K_sqrt_w_t = tf.transpose(K_sqrt_w)\n",
        "  inv_sqrt_B_sqrt_w_K = tf.linalg.cholesky_solve(chol_B, K_sqrt_w_t)\n",
        "#TODO:first inv_sqrt_B should probably just be K_sqrt_w_t, or so\n",
        "  cov_mat = K - tf.matmul(\n",
        "      inv_sqrt_B_sqrt_w_K, inv_sqrt_B_sqrt_w_K, transpose_a=True)\n",
        "  \n",
        "  return cov_mat\n",
        "\n",
        "def compute_hess_vec_obs_ll(f, y):\n",
        "  prod_vector = tf.repeat(tf.cast(1., dtype=tf.float64), repeats=f.shape[0])\n",
        "  prod_vector = tf.reshape(prod_vector, shape=(-1,1))\n",
        "\n",
        "  with tf.autodiff.ForwardAccumulator(\n",
        "      f, prod_vector) as acc:\n",
        "    with tf.GradientTape() as tape:\n",
        "      obs_ll = tf.reduce_sum(obs_dist.log_prob(f, y))\n",
        "    grad_obs_ll = tape.gradient(obs_ll, f)\n",
        "\n",
        "  hess_vec = acc.jvp(grad_obs_ll)\n",
        "  return tf.squeeze(hess_vec)\n",
        "\n",
        "def compute_marginal_ll(f, y, K, hess_diag):\n",
        "  sqrt_w = tf.sqrt(-hess_diag)\n",
        "  sqrt_w_t = tf.reshape(sqrt_w, shape=(-1, 1))\n",
        "\n",
        "  K_sqrt_w = tf.multiply(K, sqrt_w)\n",
        "  B = tf.eye(K.shape[0], dtype=tf.float64) + tf.multiply(sqrt_w_t, K_sqrt_w)\n",
        "  chol_B = tf.linalg.cholesky(B)\n",
        "\n",
        "  chol_K = tf.linalg.cholesky(K  + 10e-6*tf.eye(K.shape[0], dtype=tf.float64))\n",
        "  inv_chol_K_f = tf.linalg.cholesky_solve(chol_K, f)\n",
        "\n",
        "  mll = (\n",
        "      - 0.5*tf.tensordot(inv_chol_K_f, inv_chol_K_f, axes=(0, 0))\n",
        "      + tf.reduce_sum(obs_dist.log_prob(f, y))\n",
        "      - tf.reduce_sum(tf.math.log(tf.linalg.diag_part(chol_B)))\n",
        "  )\n",
        "  \n",
        "  return mll\n",
        "\n",
        "k = gpflow.kernels.SquaredExponential(lengthscales=1., variance=2.)\n",
        "ssc = StandardScaler()\n",
        "x_grid = ssc.fit_transform(np.linspace(0, 6, nobs).reshape(-1, 1))\n",
        "x_grid = tf.constant(x_grid, dtype=tf.float64)\n",
        "K = k(x_grid)\n",
        "\n",
        "# sample from a multivariate normal\n",
        "rng = np.random.RandomState(6)\n",
        "\n",
        "L = np.linalg.cholesky(K + 10e-6*tf.eye(K.shape[0], dtype=tf.float64))\n",
        "f_real = np.dot(L, rng.randn(nobs, 1))\n",
        "f_real = tf.cast(f_real, tf.float64)\n",
        "\n",
        "pvals = obs_dist.invlink(f_real)\n",
        "y = tf.cast(rng.binomial(1, pvals), tf.int32)"
      ],
      "execution_count": 29,
      "outputs": []
    },
    {
      "cell_type": "code",
      "metadata": {
        "colab": {
          "base_uri": "https://localhost:8080/"
        },
        "id": "H06UT8XgT-TB",
        "outputId": "025c8ce2-3d8b-44c4-e3c0-70f1e4f717c4"
      },
      "source": [
        "x_grid.dtype"
      ],
      "execution_count": 30,
      "outputs": [
        {
          "output_type": "execute_result",
          "data": {
            "text/plain": [
              "tf.float64"
            ]
          },
          "metadata": {
            "tags": []
          },
          "execution_count": 30
        }
      ]
    },
    {
      "cell_type": "code",
      "metadata": {
        "id": "zie_pW13TeGX"
      },
      "source": [
        "chol_K = tf.linalg.cholesky(K + 10e-12*tf.eye(K.shape[0], dtype=tf.float64))\n",
        "inv_chol_K = tf.linalg.triangular_solve(chol_K, tf.eye(K.shape[0], dtype=tf.float64))\n"
      ],
      "execution_count": 39,
      "outputs": []
    },
    {
      "cell_type": "code",
      "metadata": {
        "colab": {
          "base_uri": "https://localhost:8080/"
        },
        "id": "Cn0nhXiSX_Q_",
        "outputId": "ecc7bfe8-0ab9-4360-df6a-6916ad279021"
      },
      "source": [
        "tf.linalg.diag_part(inv_chol_K @ tf.transpose(inv_chol_K) @ K)"
      ],
      "execution_count": 45,
      "outputs": [
        {
          "output_type": "execute_result",
          "data": {
            "text/plain": [
              "<tf.Tensor: shape=(50,), dtype=float64, numpy=\n",
              "array([-2.55298001e+03,  2.31539292e+05, -9.72103769e+06,  2.72478430e+08,\n",
              "       -5.63242788e+09,  4.11804333e+10, -3.73871842e+10,  1.49553252e+10,\n",
              "        2.31507568e+10, -1.73653321e+10, -1.21522923e+10,  1.74390097e+10,\n",
              "        1.34443334e+10, -1.02200503e+10, -1.23343981e+10,  5.48735573e+09,\n",
              "        1.21687291e+10,  1.01054159e+09, -9.30332750e+09, -4.51412063e+09,\n",
              "        5.81422053e+09,  6.94575840e+09, -1.22821245e+09, -7.22179742e+09,\n",
              "       -3.66096865e+09,  3.91675737e+09,  6.43119689e+09,  2.38500425e+09,\n",
              "       -2.31903065e+09, -2.38519198e+09,  6.26029395e+08,  1.45550971e+09,\n",
              "       -1.82162800e+09, -5.78609364e+09, -5.68648469e+09, -7.40076663e+08,\n",
              "        5.32268794e+09,  8.53881528e+09,  7.98929712e+09,  5.29431994e+09,\n",
              "        1.92608099e+09, -2.41434362e+09, -8.52116821e+09, -1.52513896e+10,\n",
              "       -1.87836547e+10, -1.46020332e+10, -4.79206899e+08,  2.25615518e+10,\n",
              "        5.19254183e+10,  8.49316952e+10])>"
            ]
          },
          "metadata": {
            "tags": []
          },
          "execution_count": 45
        }
      ]
    },
    {
      "cell_type": "code",
      "metadata": {
        "id": "fuYj-TXhZA2K"
      },
      "source": [
        "from sklearn.gaussian_process import GaussianProcessClassifier\n",
        "from sklearn.gaussian_process.kernels import RBF\n",
        "#X, y = load_iris(return_X_y=True)\n",
        "kernel = 1.0 * RBF(1.0)\n",
        "gpc = GaussianProcessClassifier(kernel=kernel,\n",
        "         random_state=0).fit(x_grid, y.numpy().ravel())"
      ],
      "execution_count": 48,
      "outputs": []
    },
    {
      "cell_type": "code",
      "metadata": {
        "colab": {
          "base_uri": "https://localhost:8080/"
        },
        "id": "sOR8nJLnZTrt",
        "outputId": "b95eb31f-1acc-4e49-dac2-070c85663528"
      },
      "source": [
        "gpc.score(x_grid, y)"
      ],
      "execution_count": 50,
      "outputs": [
        {
          "output_type": "execute_result",
          "data": {
            "text/plain": [
              "0.8"
            ]
          },
          "metadata": {
            "tags": []
          },
          "execution_count": 50
        }
      ]
    },
    {
      "cell_type": "code",
      "metadata": {
        "id": "cZTxIkflXrJs"
      },
      "source": [
        "??tf.linalg.triangular_solve"
      ],
      "execution_count": 38,
      "outputs": []
    },
    {
      "cell_type": "code",
      "metadata": {
        "colab": {
          "base_uri": "https://localhost:8080/",
          "height": 500
        },
        "id": "umnYJcugUDvA",
        "outputId": "4674b83f-af7c-46fe-adad-fd541a7c45e9"
      },
      "source": [
        "import matplotlib.pyplot as plt\n",
        "\n",
        "plt.plot(f_real.numpy())\n",
        "plt.plot(pvals.numpy())"
      ],
      "execution_count": 4,
      "outputs": [
        {
          "output_type": "execute_result",
          "data": {
            "text/plain": [
              "[<matplotlib.lines.Line2D at 0x7f791e9b5790>]"
            ]
          },
          "metadata": {
            "tags": []
          },
          "execution_count": 4
        },
        {
          "output_type": "display_data",
          "data": {
            "image/png": "[encoded data removed]",
            "text/plain": [
              "<Figure size 864x576 with 1 Axes>"
            ]
          },
          "metadata": {
            "tags": [],
            "needs_background": "light"
          }
        }
      ]
    },
    {
      "cell_type": "code",
      "metadata": {
        "colab": {
          "base_uri": "https://localhost:8080/"
        },
        "id": "_FyeezpEO1y6",
        "outputId": "7e37125b-8320-4d9a-c7d0-60d66e15a163"
      },
      "source": [
        "np.linalg.eigvals(K + 10e-12*tf.eye(nobs, dtype=tf.float64))"
      ],
      "execution_count": 8,
      "outputs": [
        {
          "output_type": "execute_result",
          "data": {
            "text/plain": [
              "array([5.75496544e+02+0.00000000e+00j, 2.93902237e+02+0.00000000e+00j,\n",
              "       1.00640988e+02+0.00000000e+00j, 2.45999793e+01+0.00000000e+00j,\n",
              "       4.57985378e+00+0.00000000e+00j, 6.84835573e-01+0.00000000e+00j,\n",
              "       8.54751913e-02+0.00000000e+00j, 9.15199162e-03+0.00000000e+00j,\n",
              "       8.57813649e-04+0.00000000e+00j, 7.14841479e-05+0.00000000e+00j,\n",
              "       5.36169977e-06+0.00000000e+00j, 3.65603873e-07+0.00000000e+00j,\n",
              "       2.28599007e-08+0.00000000e+00j, 1.32817098e-09+0.00000000e+00j,\n",
              "       8.06023645e-11+0.00000000e+00j, 1.35266659e-11+0.00000000e+00j,\n",
              "       1.01652232e-11+0.00000000e+00j, 9.97382208e-12+0.00000000e+00j,\n",
              "       1.00160725e-11+1.35193933e-14j, 1.00160725e-11-1.35193933e-14j,\n",
              "       9.99651000e-12+1.88818074e-14j, 9.99651000e-12-1.88818074e-14j,\n",
              "       9.99010852e-12+1.08823108e-14j, 9.99010852e-12-1.08823108e-14j,\n",
              "       9.98515804e-12+0.00000000e+00j, 9.98692077e-12+0.00000000e+00j,\n",
              "       1.00128558e-11+1.40660253e-15j, 1.00128558e-11-1.40660253e-15j,\n",
              "       1.00085635e-11+7.55807686e-15j, 1.00085635e-11-7.55807686e-15j,\n",
              "       1.00119535e-11+0.00000000e+00j, 9.98811608e-12+0.00000000e+00j,\n",
              "       9.99131972e-12+5.46025931e-15j, 9.99131972e-12-5.46025931e-15j,\n",
              "       9.98966171e-12+0.00000000e+00j, 1.00102882e-11+3.08573820e-16j,\n",
              "       1.00102882e-11-3.08573820e-16j, 1.00089558e-11+0.00000000e+00j,\n",
              "       9.99283043e-12+4.60906769e-15j, 9.99283043e-12-4.60906769e-15j,\n",
              "       9.99818240e-12+7.32788122e-15j, 9.99818240e-12-7.32788122e-15j,\n",
              "       9.99210954e-12+1.06694813e-15j, 9.99210954e-12-1.06694813e-15j,\n",
              "       1.00077454e-11+1.26478056e-15j, 1.00077454e-11-1.26478056e-15j,\n",
              "       1.00069158e-11+3.39474549e-15j, 1.00069158e-11-3.39474549e-15j,\n",
              "       1.00000765e-11+7.27111388e-15j, 1.00000765e-11-7.27111388e-15j,\n",
              "       1.00037131e-11+6.14176601e-15j, 1.00037131e-11-6.14176601e-15j,\n",
              "       9.99367668e-12+3.32068210e-15j, 9.99367668e-12-3.32068210e-15j,\n",
              "       9.99273000e-12+0.00000000e+00j, 9.99311662e-12+5.09365774e-16j,\n",
              "       9.99311662e-12-5.09365774e-16j, 1.00056013e-11+3.69744951e-15j,\n",
              "       1.00056013e-11-3.69744951e-15j, 1.00064054e-11+2.18750363e-15j,\n",
              "       1.00064054e-11-2.18750363e-15j, 1.00007247e-11+6.25960764e-15j,\n",
              "       1.00007247e-11-6.25960764e-15j, 9.99817950e-12+5.96529462e-15j,\n",
              "       9.99817950e-12-5.96529462e-15j, 1.00065975e-11+2.91372309e-16j,\n",
              "       1.00065975e-11-2.91372309e-16j, 1.00046278e-11+4.30525162e-15j,\n",
              "       1.00046278e-11-4.30525162e-15j, 9.99607072e-12+4.83207777e-15j,\n",
              "       9.99607072e-12-4.83207777e-15j, 9.99721149e-12+5.40401412e-15j,\n",
              "       9.99721149e-12-5.40401412e-15j, 9.99337782e-12+5.28524093e-16j,\n",
              "       9.99337782e-12-5.28524093e-16j, 9.99390969e-12+1.82243803e-15j,\n",
              "       9.99390969e-12-1.82243803e-15j, 9.99494608e-12+3.41224833e-15j,\n",
              "       9.99494608e-12-3.41224833e-15j, 9.99459629e-12+2.69864083e-15j,\n",
              "       9.99459629e-12-2.69864083e-15j, 9.99402848e-12+2.35386480e-16j,\n",
              "       9.99402848e-12-2.35386480e-16j, 9.99415409e-12+9.36122877e-16j,\n",
              "       9.99415409e-12-9.36122877e-16j, 9.99892159e-12+5.30177114e-15j,\n",
              "       9.99892159e-12-5.30177114e-15j, 1.00030301e-11+5.15335709e-15j,\n",
              "       1.00030301e-11-5.15335709e-15j, 1.00015241e-11+5.26670944e-15j,\n",
              "       1.00015241e-11-5.26670944e-15j, 1.00028264e-11+4.69925828e-15j,\n",
              "       1.00028264e-11-4.69925828e-15j, 1.00062320e-11+9.68887036e-16j,\n",
              "       1.00062320e-11-9.68887036e-16j, 1.00057605e-11+2.10045981e-15j,\n",
              "       1.00057605e-11-2.10045981e-15j, 1.00060869e-11+1.74371606e-16j,\n",
              "       1.00060869e-11-1.74371606e-16j, 1.00052473e-11+2.64949749e-15j,\n",
              "       1.00052473e-11-2.64949749e-15j, 1.00055338e-11+2.14090952e-15j,\n",
              "       1.00055338e-11-2.14090952e-15j, 1.00033966e-11+4.23208095e-15j,\n",
              "       1.00033966e-11-4.23208095e-15j, 1.00045779e-11+3.25276701e-15j,\n",
              "       1.00045779e-11-3.25276701e-15j, 1.00058673e-11+0.00000000e+00j,\n",
              "       1.00054707e-11+1.78734731e-15j, 1.00054707e-11-1.78734731e-15j,\n",
              "       1.00055172e-11+1.06378165e-15j, 1.00055172e-11-1.06378165e-15j,\n",
              "       1.00055575e-11+5.30513377e-16j, 1.00055575e-11-5.30513377e-16j,\n",
              "       1.00040595e-11+3.55556040e-15j, 1.00040595e-11-3.55556040e-15j,\n",
              "       1.00036893e-11+3.75304108e-15j, 1.00036893e-11-3.75304108e-15j,\n",
              "       1.00019610e-11+4.78530983e-15j, 1.00019610e-11-4.78530983e-15j,\n",
              "       1.00002507e-11+5.12722930e-15j, 1.00002507e-11-5.12722930e-15j,\n",
              "       9.99835052e-12+4.90568941e-15j, 9.99835052e-12-4.90568941e-15j,\n",
              "       9.99619063e-12+4.01557339e-15j, 9.99619063e-12-4.01557339e-15j,\n",
              "       9.99730389e-12+4.55533686e-15j, 9.99730389e-12-4.55533686e-15j,\n",
              "       9.99571018e-12+3.46940268e-15j, 9.99571018e-12-3.46940268e-15j,\n",
              "       9.99514765e-12+2.80694545e-15j, 9.99514765e-12-2.80694545e-15j,\n",
              "       9.99477232e-12+2.07852552e-15j, 9.99477232e-12-2.07852552e-15j,\n",
              "       9.99467463e-12+1.81121826e-15j, 9.99467463e-12-1.81121826e-15j,\n",
              "       9.99429466e-12+0.00000000e+00j, 1.00052125e-11+1.50324168e-15j,\n",
              "       1.00052125e-11-1.50324168e-15j, 1.00053749e-11+0.00000000e+00j,\n",
              "       1.00013660e-11+4.80542480e-15j, 1.00013660e-11-4.80542480e-15j,\n",
              "       9.99509465e-12+2.49145993e-15j, 9.99509465e-12-2.49145993e-15j,\n",
              "       9.99564330e-12+2.98853057e-15j, 9.99564330e-12-2.98853057e-15j,\n",
              "       9.99453480e-12+7.55632798e-16j, 9.99453480e-12-7.55632798e-16j,\n",
              "       9.99607659e-12+3.16917478e-15j, 9.99607659e-12-3.16917478e-15j,\n",
              "       9.99933523e-12+4.65623860e-15j, 9.99933523e-12-4.65623860e-15j,\n",
              "       1.00001336e-11+4.66029750e-15j, 1.00001336e-11-4.66029750e-15j,\n",
              "       1.00027692e-11+3.95833857e-15j, 1.00027692e-11-3.95833857e-15j,\n",
              "       1.00032360e-11+3.67946087e-15j, 1.00032360e-11-3.67946087e-15j,\n",
              "       1.00046395e-11+2.33220204e-15j, 1.00046395e-11-2.33220204e-15j,\n",
              "       1.00051143e-11+1.22303385e-15j, 1.00051143e-11-1.22303385e-15j,\n",
              "       1.00052746e-11+0.00000000e+00j, 1.00049517e-11+1.51656643e-15j,\n",
              "       1.00049517e-11-1.51656643e-15j, 1.00050422e-11+4.34018422e-16j,\n",
              "       1.00050422e-11-4.34018422e-16j, 1.00037088e-11+3.02094919e-15j,\n",
              "       1.00037088e-11-3.02094919e-15j, 1.00006629e-11+4.60667692e-15j,\n",
              "       1.00006629e-11-4.60667692e-15j, 9.99804005e-12+4.32223377e-15j,\n",
              "       9.99804005e-12-4.32223377e-15j, 9.99667315e-12+3.51290905e-15j,\n",
              "       9.99667315e-12-3.51290905e-15j, 9.99483998e-12+7.71793423e-16j,\n",
              "       9.99483998e-12-7.71793423e-16j, 9.99507660e-12+1.63204721e-15j,\n",
              "       9.99507660e-12-1.63204721e-15j, 9.99519044e-12+1.74441052e-15j,\n",
              "       9.99519044e-12-1.74441052e-15j, 9.99722051e-12+3.83929254e-15j,\n",
              "       9.99722051e-12-3.83929254e-15j, 1.00001655e-11+4.53743073e-15j,\n",
              "       1.00001655e-11-4.53743073e-15j, 1.00018029e-11+4.14682873e-15j,\n",
              "       1.00018029e-11-4.14682873e-15j, 9.99771294e-12+4.04193194e-15j,\n",
              "       9.99771294e-12-4.04193194e-15j, 1.00045400e-11+1.77574093e-15j,\n",
              "       1.00045400e-11-1.77574093e-15j, 1.00033284e-11+3.22782028e-15j,\n",
              "       1.00033284e-11-3.22782028e-15j, 1.00040640e-11+2.29938263e-15j,\n",
              "       1.00040640e-11-2.29938263e-15j, 1.00023908e-11+3.71541383e-15j,\n",
              "       1.00023908e-11-3.71541383e-15j, 1.00014732e-11+4.13144468e-15j,\n",
              "       1.00014732e-11-4.13144468e-15j, 9.99561975e-12+2.30708514e-15j,\n",
              "       9.99561975e-12-2.30708514e-15j, 9.99587477e-12+2.48236714e-15j,\n",
              "       9.99587477e-12-2.48236714e-15j, 9.99810851e-12+3.93992252e-15j,\n",
              "       9.99810851e-12-3.93992252e-15j, 9.99505989e-12+1.03581649e-15j,\n",
              "       9.99505989e-12-1.03581649e-15j, 9.99500897e-12+2.76812576e-16j,\n",
              "       9.99500897e-12-2.76812576e-16j, 9.99509391e-12+7.30103298e-16j,\n",
              "       9.99509391e-12-7.30103298e-16j, 9.99854365e-12+4.02915846e-15j,\n",
              "       9.99854365e-12-4.02915846e-15j, 1.00002334e-11+4.24023770e-15j,\n",
              "       1.00002334e-11-4.24023770e-15j, 1.00018762e-11+3.83693085e-15j,\n",
              "       1.00018762e-11-3.83693085e-15j, 1.00042414e-11+1.83021846e-15j,\n",
              "       1.00042414e-11-1.83021846e-15j, 9.99694977e-12+3.13321221e-15j,\n",
              "       9.99694977e-12-3.13321221e-15j, 9.99893520e-12+4.01269899e-15j,\n",
              "       9.99893520e-12-4.01269899e-15j, 1.00036877e-11+2.53623255e-15j,\n",
              "       1.00036877e-11-2.53623255e-15j, 1.00046211e-11+5.05355121e-16j,\n",
              "       1.00046211e-11-5.05355121e-16j, 9.99609747e-12+2.26817310e-15j,\n",
              "       9.99609747e-12-2.26817310e-15j, 9.99733743e-12+3.33042168e-15j,\n",
              "       9.99733743e-12-3.33042168e-15j, 9.99996644e-12+4.10331394e-15j,\n",
              "       9.99996644e-12-4.10331394e-15j, 1.00026654e-11+3.26865084e-15j,\n",
              "       1.00026654e-11-3.26865084e-15j, 1.00022114e-11+3.55125861e-15j,\n",
              "       1.00022114e-11-3.55125861e-15j, 1.00045239e-11+0.00000000e+00j,\n",
              "       1.00037110e-11+2.17922782e-15j, 1.00037110e-11-2.17922782e-15j,\n",
              "       1.00032419e-11+2.66068502e-15j, 1.00032419e-11-2.66068502e-15j,\n",
              "       1.00006218e-11+3.91286291e-15j, 1.00006218e-11-3.91286291e-15j,\n",
              "       9.99666980e-12+2.68039125e-15j, 9.99666980e-12-2.68039125e-15j,\n",
              "       9.99607624e-12+2.02612176e-15j, 9.99607624e-12-2.02612176e-15j,\n",
              "       9.99537938e-12+0.00000000e+00j, 9.99555426e-12+7.40757774e-16j,\n",
              "       9.99555426e-12-7.40757774e-16j, 1.00026799e-11+2.98707317e-15j,\n",
              "       1.00026799e-11-2.98707317e-15j, 1.00040026e-11+1.68337966e-15j,\n",
              "       1.00040026e-11-1.68337966e-15j, 1.00035323e-11+2.20078028e-15j,\n",
              "       1.00035323e-11-2.20078028e-15j, 1.00041493e-11+8.66442362e-16j,\n",
              "       1.00041493e-11-8.66442362e-16j, 1.00040560e-11+1.15548404e-15j,\n",
              "       1.00040560e-11-1.15548404e-15j, 9.99957967e-12+3.89084490e-15j,\n",
              "       9.99957967e-12-3.89084490e-15j, 9.99880546e-12+3.68585461e-15j,\n",
              "       9.99880546e-12-3.68585461e-15j, 9.99860419e-12+3.57233269e-15j,\n",
              "       9.99860419e-12-3.57233269e-15j, 9.99593847e-12+1.42329002e-15j,\n",
              "       9.99593847e-12-1.42329002e-15j, 9.99566314e-12+0.00000000e+00j,\n",
              "       9.99753757e-12+2.95973830e-15j, 9.99753757e-12-2.95973830e-15j,\n",
              "       9.99703157e-12+2.61344142e-15j, 9.99703157e-12-2.61344142e-15j,\n",
              "       9.99589740e-12+8.79490981e-16j, 9.99589740e-12-8.79490981e-16j,\n",
              "       9.99597728e-12+1.11961378e-15j, 9.99597728e-12-1.11961378e-15j,\n",
              "       9.99645856e-12+1.93059942e-15j, 9.99645856e-12-1.93059942e-15j,\n",
              "       9.99903694e-12+3.60274479e-15j, 9.99903694e-12-3.60274479e-15j,\n",
              "       1.00008522e-11+3.61885637e-15j, 1.00008522e-11-3.61885637e-15j,\n",
              "       1.00016588e-11+3.40297678e-15j, 1.00016588e-11-3.40297678e-15j,\n",
              "       1.00040726e-11+6.18864472e-16j, 1.00040726e-11-6.18864472e-16j,\n",
              "       1.00039976e-11+0.00000000e+00j, 9.99814441e-12+3.15888027e-15j,\n",
              "       9.99814441e-12-3.15888027e-15j, 1.00000330e-11+3.65939168e-15j,\n",
              "       1.00000330e-11-3.65939168e-15j, 1.00012757e-11+3.41371314e-15j,\n",
              "       1.00012757e-11-3.41371314e-15j, 1.00039589e-11+3.74665446e-16j,\n",
              "       1.00039589e-11-3.74665446e-16j, 1.00037815e-11+6.95257946e-16j,\n",
              "       1.00037815e-11-6.95257946e-16j, 1.00033120e-11+1.75650015e-15j,\n",
              "       1.00033120e-11-1.75650015e-15j, 1.00030123e-11+2.00958930e-15j,\n",
              "       1.00030123e-11-2.00958930e-15j, 1.00003694e-11+3.51694754e-15j,\n",
              "       1.00003694e-11-3.51694754e-15j, 9.99846477e-12+3.24050405e-15j,\n",
              "       9.99846477e-12-3.24050405e-15j, 9.99600999e-12+0.00000000e+00j,\n",
              "       9.99622312e-12+1.05974326e-15j, 9.99622312e-12-1.05974326e-15j,\n",
              "       9.99710541e-12+2.17844885e-15j, 9.99710541e-12-2.17844885e-15j,\n",
              "       9.99749321e-12+2.50842245e-15j, 9.99749321e-12-2.50842245e-15j,\n",
              "       9.99727806e-12+2.29038053e-15j, 9.99727806e-12-2.29038053e-15j,\n",
              "       9.99625855e-12+6.06352396e-16j, 9.99625855e-12-6.06352396e-16j,\n",
              "       9.99656844e-12+1.16085381e-15j, 9.99656844e-12-1.16085381e-15j,\n",
              "       9.99678724e-12+1.40008542e-15j, 9.99678724e-12-1.40008542e-15j,\n",
              "       1.00024881e-11+2.47493128e-15j, 1.00024881e-11-2.47493128e-15j,\n",
              "       1.00000455e-11+3.27234055e-15j, 1.00000455e-11-3.27234055e-15j,\n",
              "       1.00034367e-11+1.08271201e-15j, 1.00034367e-11-1.08271201e-15j,\n",
              "       1.00036077e-11+0.00000000e+00j, 9.99944027e-12+3.16322221e-15j,\n",
              "       9.99944027e-12-3.16322221e-15j, 9.99794920e-12+2.54640133e-15j,\n",
              "       9.99794920e-12-2.54640133e-15j, 9.99644300e-12+0.00000000e+00j,\n",
              "       1.00014899e-11+2.94265329e-15j, 1.00014899e-11-2.94265329e-15j,\n",
              "       1.00031121e-11+1.57136377e-15j, 1.00031121e-11-1.57136377e-15j,\n",
              "       9.99829815e-12+2.60798184e-15j, 9.99829815e-12-2.60798184e-15j,\n",
              "       1.00024161e-11+2.15617586e-15j, 1.00024161e-11-2.15617586e-15j,\n",
              "       1.00033797e-11+5.15480317e-16j, 1.00033797e-11-5.15480317e-16j,\n",
              "       9.99878558e-12+2.76303608e-15j, 9.99878558e-12-2.76303608e-15j,\n",
              "       9.99759272e-12+2.09846693e-15j, 9.99759272e-12-2.09846693e-15j,\n",
              "       9.99673481e-12+8.01698695e-16j, 9.99673481e-12-8.01698695e-16j,\n",
              "       9.99661478e-12+0.00000000e+00j, 9.99666117e-12+2.26621984e-16j,\n",
              "       9.99666117e-12-2.26621984e-16j, 9.99983867e-12+2.93339789e-15j,\n",
              "       9.99983867e-12-2.93339789e-15j, 1.00008094e-11+2.85744952e-15j,\n",
              "       1.00008094e-11-2.85744952e-15j, 1.00014595e-11+2.63129878e-15j,\n",
              "       1.00014595e-11-2.63129878e-15j, 9.99837394e-12+2.43143005e-15j,\n",
              "       9.99837394e-12-2.43143005e-15j, 1.00027517e-11+1.56234730e-15j,\n",
              "       1.00027517e-11-1.56234730e-15j, 1.00022285e-11+2.02698895e-15j,\n",
              "       1.00022285e-11-2.02698895e-15j, 9.99703283e-12+8.37863260e-16j,\n",
              "       9.99703283e-12-8.37863260e-16j, 9.99748920e-12+1.44155849e-15j,\n",
              "       9.99748920e-12-1.44155849e-15j, 9.99710712e-12+8.47671791e-17j,\n",
              "       9.99710712e-12-8.47671791e-17j, 9.99933910e-12+2.72866236e-15j,\n",
              "       9.99933910e-12-2.72866236e-15j, 1.00031967e-11+2.62953773e-16j,\n",
              "       1.00031967e-11-2.62953773e-16j, 1.00029819e-11+1.01474954e-15j,\n",
              "       1.00029819e-11-1.01474954e-15j, 1.00002483e-11+2.73056783e-15j,\n",
              "       1.00002483e-11-2.73056783e-15j, 1.00018954e-11+2.23767699e-15j,\n",
              "       1.00018954e-11-2.23767699e-15j, 9.99911244e-12+2.34156343e-15j,\n",
              "       9.99911244e-12-2.34156343e-15j, 1.00008166e-11+2.53074057e-15j,\n",
              "       1.00008166e-11-2.53074057e-15j, 1.00017896e-11+2.15013596e-15j,\n",
              "       1.00017896e-11-2.15013596e-15j, 1.00027733e-11+7.11498653e-16j,\n",
              "       1.00027733e-11-7.11498653e-16j, 1.00014968e-11+2.08750372e-15j,\n",
              "       1.00014968e-11-2.08750372e-15j, 1.00024269e-11+1.22197189e-15j,\n",
              "       1.00024269e-11-1.22197189e-15j, 9.99770282e-12+1.34210362e-15j,\n",
              "       9.99770282e-12-1.34210362e-15j, 9.99871165e-12+2.19729063e-15j,\n",
              "       9.99871165e-12-2.19729063e-15j, 1.00027155e-11+0.00000000e+00j,\n",
              "       9.99792964e-12+1.60052603e-15j, 9.99792964e-12-1.60052603e-15j,\n",
              "       9.99756984e-12+1.03536576e-15j, 9.99756984e-12-1.03536576e-15j,\n",
              "       9.99976297e-12+2.39276450e-15j, 9.99976297e-12-2.39276450e-15j,\n",
              "       1.00001481e-11+2.38400195e-15j, 1.00001481e-11-2.38400195e-15j,\n",
              "       1.00025780e-11+3.09537951e-16j, 1.00025780e-11-3.09537951e-16j,\n",
              "       9.99861716e-12+1.91052717e-15j, 9.99861716e-12-1.91052717e-15j,\n",
              "       1.00005255e-11+2.23432567e-15j, 1.00005255e-11-2.23432567e-15j,\n",
              "       1.00020747e-11+1.19815536e-15j, 1.00020747e-11-1.19815536e-15j,\n",
              "       1.00014401e-11+1.77722475e-15j, 1.00014401e-11-1.77722475e-15j,\n",
              "       9.99758549e-12+6.22761615e-16j, 9.99758549e-12-6.22761615e-16j,\n",
              "       9.99742288e-12+2.00432717e-17j, 9.99742288e-12-2.00432717e-17j,\n",
              "       1.00007780e-11+1.99808167e-15j, 1.00007780e-11-1.99808167e-15j,\n",
              "       1.00018377e-11+1.31899824e-15j, 1.00018377e-11-1.31899824e-15j,\n",
              "       1.00017012e-11+1.35361742e-15j, 1.00017012e-11-1.35361742e-15j,\n",
              "       1.00022873e-11+2.69034024e-16j, 1.00022873e-11-2.69034024e-16j,\n",
              "       1.00020567e-11+6.40273481e-16j, 1.00020567e-11-6.40273481e-16j,\n",
              "       1.00021893e-11+0.00000000e+00j, 9.99932375e-12+1.95072946e-15j,\n",
              "       9.99932375e-12-1.95072946e-15j, 9.99846311e-12+1.51170959e-15j,\n",
              "       9.99846311e-12-1.51170959e-15j, 9.99841613e-12+1.36583554e-15j,\n",
              "       9.99841613e-12-1.36583554e-15j, 9.99791703e-12+7.59017686e-16j,\n",
              "       9.99791703e-12-7.59017686e-16j, 1.00012473e-11+1.37459343e-15j,\n",
              "       1.00012473e-11-1.37459343e-15j, 1.00004601e-11+1.75758189e-15j,\n",
              "       1.00004601e-11-1.75758189e-15j, 9.99955321e-12+1.80665224e-15j,\n",
              "       9.99955321e-12-1.80665224e-15j, 9.99897349e-12+1.58917212e-15j,\n",
              "       9.99897349e-12-1.58917212e-15j, 9.99830670e-12+8.86190757e-16j,\n",
              "       9.99830670e-12-8.86190757e-16j, 9.99799329e-12+0.00000000e+00j,\n",
              "       1.00016634e-11+3.60876576e-16j, 1.00016634e-11-3.60876576e-16j,\n",
              "       1.00013834e-11+9.64036830e-16j, 1.00013834e-11-9.64036830e-16j,\n",
              "       1.00010420e-11+1.27135209e-15j, 1.00010420e-11-1.27135209e-15j,\n",
              "       1.00004883e-11+1.56215850e-15j, 1.00004883e-11-1.56215850e-15j,\n",
              "       9.99931340e-12+1.45263455e-15j, 9.99931340e-12-1.45263455e-15j,\n",
              "       9.99820763e-12+0.00000000e+00j, 9.99830507e-12+3.96156088e-16j,\n",
              "       9.99830507e-12-3.96156088e-16j, 1.00001292e-11+1.43809778e-15j,\n",
              "       1.00001292e-11-1.43809778e-15j, 9.99860749e-12+6.28102485e-16j,\n",
              "       9.99860749e-12-6.28102485e-16j, 1.00016731e-11+0.00000000e+00j,\n",
              "       1.00011178e-11+9.32375367e-16j, 1.00011178e-11-9.32375367e-16j,\n",
              "       9.99921825e-12+1.13149352e-15j, 9.99921825e-12-1.13149352e-15j,\n",
              "       1.00010258e-11+8.77194096e-16j, 1.00010258e-11-8.77194096e-16j,\n",
              "       9.99950036e-12+1.16154741e-15j, 9.99950036e-12-1.16154741e-15j,\n",
              "       9.99883992e-12+2.64232999e-16j, 9.99883992e-12-2.64232999e-16j,\n",
              "       9.99907790e-12+7.08028915e-16j, 9.99907790e-12-7.08028915e-16j,\n",
              "       1.00010580e-11+5.53028630e-16j, 1.00010580e-11-5.53028630e-16j,\n",
              "       1.00012651e-11+0.00000000e+00j, 1.00003456e-11+9.30853783e-16j,\n",
              "       1.00003456e-11-9.30853783e-16j, 1.00009676e-11+0.00000000e+00j,\n",
              "       1.00006969e-11+4.69022773e-16j, 1.00006969e-11-4.69022773e-16j,\n",
              "       9.99992190e-12+8.92282073e-16j, 9.99992190e-12-8.92282073e-16j,\n",
              "       9.99934907e-12+4.79863123e-16j, 9.99934907e-12-4.79863123e-16j,\n",
              "       9.99913525e-12+0.00000000e+00j, 9.99958070e-12+5.93136540e-16j,\n",
              "       9.99958070e-12-5.93136540e-16j, 1.00003999e-11+0.00000000e+00j,\n",
              "       1.00000000e-11+3.16891596e-16j, 1.00000000e-11-3.16891596e-16j,\n",
              "       9.99990465e-12+2.98257475e-16j, 9.99990465e-12-2.98257475e-16j])"
            ]
          },
          "metadata": {
            "tags": []
          },
          "execution_count": 8
        }
      ]
    },
    {
      "cell_type": "code",
      "metadata": {
        "colab": {
          "base_uri": "https://localhost:8080/"
        },
        "id": "y0hhGq09PZZo",
        "outputId": "08659b8f-8fd3-4584-fd00-66655a006add"
      },
      "source": [
        "K"
      ],
      "execution_count": null,
      "outputs": [
        {
          "output_type": "execute_result",
          "data": {
            "text/plain": [
              "<tf.Tensor: shape=(500, 500), dtype=float64, numpy=\n",
              "array([[2.00000000e+00, 1.99985543e+00, 1.99942177e+00, ...,\n",
              "        3.51777028e-08, 3.27363152e-08, 3.04599595e-08],\n",
              "       [1.99985543e+00, 2.00000000e+00, 1.99985543e+00, ...,\n",
              "        3.77956979e-08, 3.51777028e-08, 3.27363152e-08],\n",
              "       [1.99942177e+00, 1.99985543e+00, 2.00000000e+00, ...,\n",
              "        4.06026587e-08, 3.77956979e-08, 3.51777028e-08],\n",
              "       ...,\n",
              "       [3.51777028e-08, 3.77956979e-08, 4.06026587e-08, ...,\n",
              "        2.00000000e+00, 1.99985543e+00, 1.99942177e+00],\n",
              "       [3.27363152e-08, 3.51777028e-08, 3.77956979e-08, ...,\n",
              "        1.99985543e+00, 2.00000000e+00, 1.99985543e+00],\n",
              "       [3.04599595e-08, 3.27363152e-08, 3.51777028e-08, ...,\n",
              "        1.99942177e+00, 1.99985543e+00, 2.00000000e+00]])>"
            ]
          },
          "metadata": {
            "tags": []
          },
          "execution_count": 66
        }
      ]
    },
    {
      "cell_type": "code",
      "metadata": {
        "colab": {
          "base_uri": "https://localhost:8080/"
        },
        "id": "muvr_i1dOwQZ",
        "outputId": "4dbb83d3-f26e-49a4-c965-b3f6895a6625"
      },
      "source": [
        "np.abs(np.divide(np.cov(np.dot(L, rng.randn(nobs, 10000))) - K, K))"
      ],
      "execution_count": null,
      "outputs": [
        {
          "output_type": "execute_result",
          "data": {
            "text/plain": [
              "array([[1.33706225e-03, 1.39394844e-03, 1.51256138e-03, ...,\n",
              "        2.80186653e+05, 2.93162477e+05, 3.08926971e+05],\n",
              "       [1.39394844e-03, 1.44149600e-03, 1.56570592e-03, ...,\n",
              "        2.67062646e+05, 2.79471692e+05, 2.94499077e+05],\n",
              "       [1.51256138e-03, 1.56570592e-03, 1.68104042e-03, ...,\n",
              "        2.51908272e+05, 2.63637490e+05, 2.77845349e+05],\n",
              "       ...,\n",
              "       [2.80186653e+05, 2.67062646e+05, 2.51908272e+05, ...,\n",
              "        5.68705005e-03, 5.64189609e-03, 5.59863747e-03],\n",
              "       [2.93162477e+05, 2.79471692e+05, 2.63637490e+05, ...,\n",
              "        5.64189609e-03, 5.60653802e-03, 5.55861865e-03],\n",
              "       [3.08926971e+05, 2.94499077e+05, 2.77845349e+05, ...,\n",
              "        5.59863747e-03, 5.55861865e-03, 5.52112648e-03]])"
            ]
          },
          "metadata": {
            "tags": []
          },
          "execution_count": 71
        }
      ]
    },
    {
      "cell_type": "code",
      "metadata": {
        "colab": {
          "base_uri": "https://localhost:8080/"
        },
        "id": "eHg6tA64FSUO",
        "outputId": "def4f5eb-06f6-47eb-8f9f-9361cf3cf787"
      },
      "source": [
        "def gpc_posterior_exp(f, y, K):\n",
        "  pad_K = K + 10e-12*tf.eye(K.shape[0], dtype=tf.float64)\n",
        "  chol_K = tf.linalg.cholesky(pad_K)\n",
        "  fK = tf.linalg.cholesky_solve(chol_K, f)\n",
        "  nobs = f.shape[0]\n",
        "\n",
        "  ll = (\n",
        "    tf.reduce_sum(obs_dist.log_prob(f, y))\n",
        "    - 0.5*tf.matmul(f, fK, transpose_a=True)\n",
        "    - tf.reduce_sum(tf.math.log(tf.linalg.diag_part(chol_K)))\n",
        "    - 0.5*nobs*tf.math.log(2*PI)\n",
        "  )\n",
        "\n",
        "  return ll, tf.reduce_sum(obs_dist.log_prob(f, y)), - 0.5*tf.matmul(f, fK, transpose_a=True), - tf.reduce_sum(tf.math.log(tf.linalg.diag_part(chol_K))), - 0.5*nobs*tf.math.log(2*PI)\n",
        "\n",
        "gpc_posterior_exp(f, y, K)"
      ],
      "execution_count": null,
      "outputs": [
        {
          "output_type": "execute_result",
          "data": {
            "text/plain": [
              "(<tf.Tensor: shape=(1, 1), dtype=float64, numpy=array([[-628519.94724128]])>,\n",
              " <tf.Tensor: shape=(), dtype=float64, numpy=-392.3980448729618>,\n",
              " <tf.Tensor: shape=(1, 1), dtype=float64, numpy=array([[-633855.56499224]])>,\n",
              " <tf.Tensor: shape=(), dtype=float64, numpy=6187.48506243456>,\n",
              " <tf.Tensor: shape=(), dtype=float64, numpy=-459.46926660233635>)"
            ]
          },
          "metadata": {
            "tags": []
          },
          "execution_count": 93
        }
      ]
    },
    {
      "cell_type": "code",
      "metadata": {
        "colab": {
          "base_uri": "https://localhost:8080/"
        },
        "id": "KuJiGDRdFlzm",
        "outputId": "e71194db-01df-4b96-9e80-9d752679a4cc"
      },
      "source": [
        "gpc_posterior_exp(f_real, y, K)"
      ],
      "execution_count": null,
      "outputs": [
        {
          "output_type": "execute_result",
          "data": {
            "text/plain": [
              "(<tf.Tensor: shape=(1, 1), dtype=float64, numpy=array([[-2.33401332e+08]])>,\n",
              " <tf.Tensor: shape=(), dtype=float64, numpy=-288.8513147609565>,\n",
              " <tf.Tensor: shape=(1, 1), dtype=float64, numpy=array([[-2.33406772e+08]])>,\n",
              " <tf.Tensor: shape=(), dtype=float64, numpy=6187.48506243456>,\n",
              " <tf.Tensor: shape=(), dtype=float64, numpy=-459.46926660233635>)"
            ]
          },
          "metadata": {
            "tags": []
          },
          "execution_count": 94
        }
      ]
    },
    {
      "cell_type": "code",
      "metadata": {
        "colab": {
          "base_uri": "https://localhost:8080/"
        },
        "id": "xAeibil8QyF-",
        "outputId": "e64cf2f7-020e-4a52-98cc-0be1dfdc5896"
      },
      "source": [
        "k(x_grid)"
      ],
      "execution_count": null,
      "outputs": [
        {
          "output_type": "execute_result",
          "data": {
            "text/plain": [
              "<tf.Tensor: shape=(500, 500), dtype=float64, numpy=\n",
              "array([[2.00000000e+00, 1.99985543e+00, 1.99942177e+00, ...,\n",
              "        3.51777028e-08, 3.27363152e-08, 3.04599595e-08],\n",
              "       [1.99985543e+00, 2.00000000e+00, 1.99985543e+00, ...,\n",
              "        3.77956979e-08, 3.51777028e-08, 3.27363152e-08],\n",
              "       [1.99942177e+00, 1.99985543e+00, 2.00000000e+00, ...,\n",
              "        4.06026587e-08, 3.77956979e-08, 3.51777028e-08],\n",
              "       ...,\n",
              "       [3.51777028e-08, 3.77956979e-08, 4.06026587e-08, ...,\n",
              "        2.00000000e+00, 1.99985543e+00, 1.99942177e+00],\n",
              "       [3.27363152e-08, 3.51777028e-08, 3.77956979e-08, ...,\n",
              "        1.99985543e+00, 2.00000000e+00, 1.99985543e+00],\n",
              "       [3.04599595e-08, 3.27363152e-08, 3.51777028e-08, ...,\n",
              "        1.99942177e+00, 1.99985543e+00, 2.00000000e+00]])>"
            ]
          },
          "metadata": {
            "tags": []
          },
          "execution_count": 79
        }
      ]
    },
    {
      "cell_type": "code",
      "metadata": {
        "colab": {
          "base_uri": "https://localhost:8080/"
        },
        "id": "z4iYL0rMQUQ0",
        "outputId": "e6d5083f-8ffa-4ef1-c108-a60af85d71d9"
      },
      "source": [
        "d = 5\n",
        "tf.matmul(tf.linalg.inv(k(x_grid)[:d,:d]), k(x_grid)[:d,:d])"
      ],
      "execution_count": null,
      "outputs": [
        {
          "output_type": "execute_result",
          "data": {
            "text/plain": [
              "<tf.Tensor: shape=(5, 5), dtype=float64, numpy=\n",
              "array([[ 1.58136418,  0.58734198,  0.62113554,  0.59430423,  0.640625  ],\n",
              "       [-1.20293688, -0.19006898, -1.17553614, -1.32254766, -1.        ],\n",
              "       [ 0.31963372,  0.15772604,  1.15558008,  0.31170995, -0.125     ],\n",
              "       [-0.02768941, -0.01811611,  0.15393515,  1.14778405,  0.25      ],\n",
              "       [-0.01086814,  0.04096515, -0.00172166,  0.06490741,  1.015625  ]])>"
            ]
          },
          "metadata": {
            "tags": []
          },
          "execution_count": 85
        }
      ]
    },
    {
      "cell_type": "code",
      "metadata": {
        "colab": {
          "base_uri": "https://localhost:8080/"
        },
        "id": "PgJsg603QGXz",
        "outputId": "4c7caf53-63d8-4468-9ad3-0905bf708e18"
      },
      "source": [
        "tf.matmul(f, f, transpose_a=True)"
      ],
      "execution_count": null,
      "outputs": [
        {
          "output_type": "execute_result",
          "data": {
            "text/plain": [
              "<tf.Tensor: shape=(1, 1), dtype=float64, numpy=array([[2181.27856702]])>"
            ]
          },
          "metadata": {
            "tags": []
          },
          "execution_count": 72
        }
      ]
    },
    {
      "cell_type": "code",
      "metadata": {
        "colab": {
          "base_uri": "https://localhost:8080/"
        },
        "id": "-4WtVT_xQMcn",
        "outputId": "0d414829-62f3-4d59-ff1b-c64d3761987c"
      },
      "source": [
        "tf.matmul(f_real, f_real, transpose_a=True)"
      ],
      "execution_count": null,
      "outputs": [
        {
          "output_type": "execute_result",
          "data": {
            "text/plain": [
              "<tf.Tensor: shape=(1, 1), dtype=float64, numpy=array([[865.62631415]])>"
            ]
          },
          "metadata": {
            "tags": []
          },
          "execution_count": 73
        }
      ]
    },
    {
      "cell_type": "code",
      "metadata": {
        "colab": {
          "base_uri": "https://localhost:8080/"
        },
        "id": "G66Of5w8LP1y",
        "outputId": "8705df22-61ae-4a1a-9845-79bd6c828a71"
      },
      "source": [
        "10e-6*tf.eye(nobs, dtype=tf.float64)"
      ],
      "execution_count": null,
      "outputs": [
        {
          "output_type": "execute_result",
          "data": {
            "text/plain": [
              "<tf.Tensor: shape=(500, 500), dtype=float64, numpy=\n",
              "array([[1.e-05, 0.e+00, 0.e+00, ..., 0.e+00, 0.e+00, 0.e+00],\n",
              "       [0.e+00, 1.e-05, 0.e+00, ..., 0.e+00, 0.e+00, 0.e+00],\n",
              "       [0.e+00, 0.e+00, 1.e-05, ..., 0.e+00, 0.e+00, 0.e+00],\n",
              "       ...,\n",
              "       [0.e+00, 0.e+00, 0.e+00, ..., 1.e-05, 0.e+00, 0.e+00],\n",
              "       [0.e+00, 0.e+00, 0.e+00, ..., 0.e+00, 1.e-05, 0.e+00],\n",
              "       [0.e+00, 0.e+00, 0.e+00, ..., 0.e+00, 0.e+00, 1.e-05]])>"
            ]
          },
          "metadata": {
            "tags": []
          },
          "execution_count": 49
        }
      ]
    },
    {
      "cell_type": "code",
      "metadata": {
        "colab": {
          "base_uri": "https://localhost:8080/"
        },
        "id": "eFmAxeMyMFWD",
        "outputId": "640b2418-2039-4350-e2a6-e4d42505100c"
      },
      "source": [
        "np.linalg.eigvals(k(x_grid)[:10,:10] + 10e-6*tf.eye(nobs, dtype=tf.float64)[:10,:10])"
      ],
      "execution_count": null,
      "outputs": [
        {
          "output_type": "execute_result",
          "data": {
            "text/plain": [
              "array([1.99761941e+01+0.00000000e+00j, 2.38148794e-02+0.00000000e+00j,\n",
              "       2.10171049e-05+0.00000000e+00j, 1.00031065e-05+0.00000000e+00j,\n",
              "       1.00000006e-05+0.00000000e+00j, 1.00000000e-05+0.00000000e+00j,\n",
              "       1.00000000e-05+0.00000000e+00j, 1.00000000e-05+9.68756423e-17j,\n",
              "       1.00000000e-05-9.68756423e-17j, 1.00000000e-05+0.00000000e+00j])"
            ]
          },
          "metadata": {
            "tags": []
          },
          "execution_count": 59
        }
      ]
    },
    {
      "cell_type": "code",
      "metadata": {
        "colab": {
          "base_uri": "https://localhost:8080/"
        },
        "id": "z2q64FAPKhl-",
        "outputId": "7116249e-5e2f-4168-d9e2-47b2681fa55a"
      },
      "source": [
        "tf.linalg.eigvals(k(x_grid) + 10e-12*tf.eye(nobs, dtype=tf.float64))"
      ],
      "execution_count": null,
      "outputs": [
        {
          "output_type": "execute_result",
          "data": {
            "text/plain": [
              "<tf.Tensor: shape=(500,), dtype=complex128, numpy=\n",
              "array([9.77096676e-12-2.34382448e-28j, 9.88456135e-12-5.14621610e-30j,\n",
              "       9.90115906e-12+1.07775005e-27j, 9.93733295e-12+5.43616453e-28j,\n",
              "       9.95071586e-12-9.72159046e-28j, 9.95166523e-12-1.06865905e-27j,\n",
              "       9.95337108e-12-3.64958859e-27j, 9.95543848e-12-1.93221425e-28j,\n",
              "       9.95695751e-12+7.07652704e-28j, 9.95890183e-12-8.10267290e-29j,\n",
              "       9.95982552e-12-2.54971571e-27j, 9.96082322e-12-6.20370463e-27j,\n",
              "       9.96190182e-12-2.60348157e-16j, 9.96190182e-12+2.60348157e-16j,\n",
              "       9.96298602e-12-5.94705565e-28j, 9.96318094e-12-5.39134981e-27j,\n",
              "       9.96385073e-12+5.35322977e-28j, 9.96408930e-12-9.47840992e-28j,\n",
              "       9.96572110e-12-5.92935167e-27j, 9.96613762e-12+8.81128011e-28j,\n",
              "       9.96645587e-12+2.40400097e-27j, 9.96700096e-12-1.86203469e-27j,\n",
              "       9.96784057e-12-3.05811044e-27j, 9.96796872e-12+7.09472740e-28j,\n",
              "       9.96851825e-12+7.72475373e-27j, 9.96946401e-12+7.44108262e-27j,\n",
              "       9.97094489e-12-2.70561792e-27j, 9.97125120e-12+3.34444792e-27j,\n",
              "       9.97189479e-12-5.22115167e-27j, 9.97222247e-12+9.86137352e-27j,\n",
              "       9.97256464e-12+1.02847689e-27j, 9.97348457e-12+1.68810655e-16j,\n",
              "       9.97348457e-12-1.68810655e-16j, 9.97433589e-12-1.87626021e-27j,\n",
              "       9.97447116e-12-3.26997242e-27j, 9.97465154e-12+2.24632926e-27j,\n",
              "       9.97576802e-12-3.29099961e-27j, 9.97626173e-12+2.06660336e-27j,\n",
              "       9.97652465e-12-9.43293544e-28j, 9.97664089e-12-1.51049346e-27j,\n",
              "       9.97693289e-12+2.57074177e-27j, 9.97746136e-12+5.11063760e-28j,\n",
              "       9.97797948e-12-1.29593515e-26j, 9.97823958e-12+2.75916511e-16j,\n",
              "       9.97823958e-12-2.75916511e-16j, 9.97924202e-12+3.83085647e-27j,\n",
              "       9.97933795e-12+4.11115513e-16j, 9.97933795e-12-4.11115513e-16j,\n",
              "       9.98003466e-12+3.28502883e-16j, 9.98003466e-12-3.28502883e-16j,\n",
              "       9.98043637e-12+9.56191227e-28j, 9.98112338e-12-2.21214229e-16j,\n",
              "       9.98112338e-12+2.21214229e-16j, 9.98184159e-12-5.58390775e-27j,\n",
              "       9.98196068e-12+4.42570979e-16j, 9.98196068e-12-4.42570979e-16j,\n",
              "       9.98251724e-12+1.09351751e-26j, 9.98274604e-12-9.09789151e-27j,\n",
              "       9.98278403e-12-2.76982190e-16j, 9.98278403e-12+2.76982190e-16j,\n",
              "       9.98363448e-12+4.03408487e-16j, 9.98363448e-12-4.03408487e-16j,\n",
              "       9.98379560e-12-7.82045454e-28j, 9.98453573e-12+2.52541890e-16j,\n",
              "       9.98453573e-12-2.52541890e-16j, 9.98483985e-12+9.48583332e-28j,\n",
              "       9.98505095e-12+7.46957277e-28j, 9.98529381e-12+2.54902295e-16j,\n",
              "       9.98529381e-12-2.54902295e-16j, 9.98565456e-12-4.88075713e-27j,\n",
              "       9.98607384e-12-8.94855730e-28j, 9.98656811e-12+1.43246536e-27j,\n",
              "       9.98657853e-12+4.11693148e-27j, 9.98694437e-12+2.82698678e-27j,\n",
              "       9.98781528e-12+4.87237248e-16j, 9.98781528e-12-4.87237248e-16j,\n",
              "       9.98782553e-12+6.02570816e-27j, 9.98815018e-12+1.05168184e-16j,\n",
              "       9.98815018e-12-1.05168184e-16j, 9.98818168e-12-2.21529903e-15j,\n",
              "       9.98818168e-12+2.21529903e-15j, 9.98893968e-12+3.16743922e-27j,\n",
              "       9.98909781e-12+5.00395893e-28j, 9.98956560e-12-7.31428002e-27j,\n",
              "       9.98964458e-12-3.73270784e-16j, 9.98964458e-12+3.73270784e-16j,\n",
              "       9.98993368e-12-3.61586374e-27j, 9.99027593e-12+3.68661561e-16j,\n",
              "       9.99027593e-12-3.68661561e-16j, 9.99039823e-12-3.16077229e-28j,\n",
              "       9.99094784e-12+1.12879843e-15j, 9.99094784e-12-1.12879843e-15j,\n",
              "       9.99098369e-12-2.97619512e-16j, 9.99098369e-12+2.97619512e-16j,\n",
              "       9.99113934e-12-2.07333726e-15j, 9.99113934e-12+2.07333726e-15j,\n",
              "       9.99116120e-12-1.87894743e-16j, 9.99116120e-12+1.87894743e-16j,\n",
              "       9.99172992e-12-3.06213330e-27j, 9.99178010e-12-5.24586391e-16j,\n",
              "       9.99178010e-12+5.24586391e-16j, 9.99220461e-12-2.49649775e-16j,\n",
              "       9.99220461e-12+2.49649775e-16j, 9.99225959e-12+3.05627552e-27j,\n",
              "       9.99266232e-12+5.52270806e-16j, 9.99266232e-12-5.52270806e-16j,\n",
              "       9.99288714e-12+2.78026198e-17j, 9.99288714e-12-2.78026198e-17j,\n",
              "       9.99327350e-12-5.12409877e-16j, 9.99327350e-12+5.12409877e-16j,\n",
              "       9.99337809e-12-2.67609035e-16j, 9.99337809e-12+2.67609035e-16j,\n",
              "       9.99371203e-12-8.49377207e-27j, 9.99386584e-12-1.08977808e-16j,\n",
              "       9.99386584e-12+1.08977808e-16j, 9.99401126e-12+1.72541013e-27j,\n",
              "       9.99417735e-12+5.43263796e-16j, 9.99417735e-12-5.43263796e-16j,\n",
              "       9.99434957e-12+5.29116081e-17j, 9.99434957e-12-5.29116081e-17j,\n",
              "       9.99462216e-12-6.81065473e-17j, 9.99462216e-12+6.81065473e-17j,\n",
              "       9.99492522e-12+3.07105407e-17j, 9.99492522e-12-3.07105407e-17j,\n",
              "       9.99518067e-12+1.40446657e-16j, 9.99518067e-12-1.40446657e-16j,\n",
              "       9.99532846e-12-8.10178287e-27j, 9.99556212e-12-1.94435645e-16j,\n",
              "       9.99556212e-12+1.94435645e-16j, 9.99566532e-12+3.34075839e-16j,\n",
              "       9.99566532e-12-3.34075839e-16j, 9.99568790e-12+2.70145120e-27j,\n",
              "       9.99594339e-12+1.29828365e-15j, 9.99594339e-12-1.29828365e-15j,\n",
              "       9.99595627e-12-2.48463406e-16j, 9.99595627e-12+2.48463406e-16j,\n",
              "       9.99609735e-12-5.48530824e-27j, 9.99628198e-12+1.66957875e-27j,\n",
              "       9.99645786e-12-1.87857424e-16j, 9.99645786e-12+1.87857424e-16j,\n",
              "       9.99670825e-12+1.08325213e-16j, 9.99670825e-12-1.08325213e-16j,\n",
              "       9.99674191e-12-3.78899077e-16j, 9.99674191e-12+3.78899077e-16j,\n",
              "       9.99691100e-12+6.28601480e-17j, 9.99691100e-12-6.28601480e-17j,\n",
              "       9.99703593e-12-1.03626421e-15j, 9.99703593e-12+1.03626421e-15j,\n",
              "       9.99710569e-12-4.08325721e-16j, 9.99710569e-12+4.08325721e-16j,\n",
              "       9.99716684e-12-3.70406951e-15j, 9.99716684e-12+3.70406951e-15j,\n",
              "       9.99719816e-12+1.05127510e-27j, 9.99725559e-12-4.19330773e-27j,\n",
              "       9.99736359e-12+4.29661647e-27j, 9.99749890e-12+2.49892254e-16j,\n",
              "       9.99749890e-12-2.49892254e-16j, 9.99751676e-12+1.11625831e-26j,\n",
              "       9.99759580e-12+1.13030487e-27j, 9.99780975e-12+2.35807805e-16j,\n",
              "       9.99780975e-12-2.35807805e-16j, 9.99785424e-12-3.80970810e-16j,\n",
              "       9.99785424e-12+3.80970810e-16j, 9.99785798e-12-4.69100799e-27j,\n",
              "       9.99802642e-12-1.89706051e-16j, 9.99802642e-12+1.89706051e-16j,\n",
              "       9.99803653e-12+8.64747680e-16j, 9.99803653e-12-8.64747680e-16j,\n",
              "       9.99811384e-12+4.57310015e-28j, 9.99814203e-12+1.91381118e-16j,\n",
              "       9.99814203e-12-1.91381118e-16j, 9.99833670e-12+8.63318642e-27j,\n",
              "       9.99837887e-12+4.33589037e-16j, 9.99837887e-12-4.33589037e-16j,\n",
              "       9.99838901e-12-1.65090890e-16j, 9.99838901e-12+1.65090890e-16j,\n",
              "       9.99842339e-12+1.03433970e-14j, 9.99842339e-12-1.03433970e-14j,\n",
              "       9.99846727e-12-5.83746799e-27j, 9.99853765e-12-8.15406995e-16j,\n",
              "       9.99853765e-12+8.15406995e-16j, 9.99854713e-12-1.95858491e-16j,\n",
              "       9.99854713e-12+1.95858491e-16j, 9.99860030e-12+8.29364982e-27j,\n",
              "       9.99864238e-12+1.91464653e-27j, 9.99866029e-12+1.01088289e-15j,\n",
              "       9.99866029e-12-1.01088289e-15j, 9.99871920e-12-5.18567105e-16j,\n",
              "       9.99871920e-12+5.18567105e-16j, 9.99880163e-12-3.18677082e-16j,\n",
              "       9.99880163e-12+3.18677082e-16j, 9.99881191e-12-1.53855393e-27j,\n",
              "       9.99893538e-12+4.38237072e-16j, 9.99893538e-12-4.38237072e-16j,\n",
              "       9.99897648e-12+9.42626992e-16j, 9.99897648e-12-9.42626992e-16j,\n",
              "       9.99898150e-12-2.19899027e-16j, 9.99898150e-12+2.19899027e-16j,\n",
              "       9.99898667e-12+3.39033355e-16j, 9.99898667e-12-3.39033355e-16j,\n",
              "       9.99909041e-12+7.43311625e-17j, 9.99909041e-12-7.43311625e-17j,\n",
              "       9.99910845e-12+4.25175329e-16j, 9.99910845e-12-4.25175329e-16j,\n",
              "       9.99920799e-12-2.40207836e-16j, 9.99920799e-12+2.40207836e-16j,\n",
              "       9.99922891e-12+8.11924050e-16j, 9.99922891e-12-8.11924050e-16j,\n",
              "       9.99930486e-12-3.72219469e-16j, 9.99930486e-12+3.72219469e-16j,\n",
              "       9.99934437e-12+1.34019437e-16j, 9.99934437e-12-1.34019437e-16j,\n",
              "       9.99942867e-12+6.59392887e-16j, 9.99942867e-12-6.59392887e-16j,\n",
              "       9.99946181e-12+4.46772952e-17j, 9.99946181e-12-4.46772952e-17j,\n",
              "       9.99946467e-12-1.55059022e-16j, 9.99946467e-12+1.55059022e-16j,\n",
              "       9.99956364e-12-8.87447392e-16j, 9.99956364e-12+8.87447392e-16j,\n",
              "       9.99956456e-12-1.89697996e-16j, 9.99956456e-12+1.89697996e-16j,\n",
              "       9.99956467e-12+4.05450766e-16j, 9.99956467e-12-4.05450766e-16j,\n",
              "       9.99968213e-12+4.67729315e-16j, 9.99968213e-12-4.67729315e-16j,\n",
              "       9.99971477e-12-3.77858283e-16j, 9.99971477e-12+3.77858283e-16j,\n",
              "       9.99974713e-12-9.83518262e-17j, 9.99974713e-12+9.83518262e-17j,\n",
              "       9.99982325e-12-3.57834468e-28j, 9.99982787e-12+6.22400309e-16j,\n",
              "       9.99982787e-12-6.22400309e-16j, 9.99995050e-12+8.73130959e-16j,\n",
              "       9.99995050e-12-8.73130959e-16j, 9.99995088e-12-8.38791012e-17j,\n",
              "       9.99995088e-12+8.38791012e-17j, 9.99995343e-12-2.77538169e-16j,\n",
              "       9.99995343e-12+2.77538169e-16j, 1.00000147e-11-4.91922339e-16j,\n",
              "       1.00000147e-11+4.91922339e-16j, 1.00000705e-11-4.66783738e-17j,\n",
              "       1.00000705e-11+4.66783738e-17j, 1.00000904e-11+6.25072353e-16j,\n",
              "       1.00000904e-11-6.25072353e-16j, 1.00001083e-11-4.10217903e-16j,\n",
              "       1.00001083e-11+4.10217903e-16j, 1.00001923e-11+5.84976219e-28j,\n",
              "       1.00001959e-11+3.89313426e-16j, 1.00001959e-11-3.89313426e-16j,\n",
              "       1.00002279e-11+7.24806175e-16j, 1.00002279e-11-7.24806175e-16j,\n",
              "       1.00003191e-11-1.15247670e-15j, 1.00003191e-11+1.15247670e-15j,\n",
              "       1.00003237e-11+3.64223542e-16j, 1.00003237e-11-3.64223542e-16j,\n",
              "       1.00003288e-11+7.04594847e-17j, 1.00003288e-11-7.04594847e-17j,\n",
              "       1.00003459e-11+5.38711168e-16j, 1.00003459e-11-5.38711168e-16j,\n",
              "       1.00003542e-11+2.54177529e-16j, 1.00003542e-11-2.54177529e-16j,\n",
              "       1.00005106e-11-3.48762172e-16j, 1.00005106e-11+3.48762172e-16j,\n",
              "       1.00006158e-11-2.24631414e-16j, 1.00006158e-11+2.24631414e-16j,\n",
              "       1.00007022e-11+1.06668644e-16j, 1.00007022e-11-1.06668644e-16j,\n",
              "       1.00007483e-11-9.01339288e-16j, 1.00007483e-11+9.01339288e-16j,\n",
              "       1.00007641e-11-5.87971465e-16j, 1.00007641e-11+5.87971465e-16j,\n",
              "       1.00007955e-11+2.15333057e-16j, 1.00007955e-11-2.15333057e-16j,\n",
              "       1.00008008e-11+2.85107656e-15j, 1.00008008e-11-2.85107656e-15j,\n",
              "       1.00008522e-11-1.33549376e-17j, 1.00008522e-11+1.33549376e-17j,\n",
              "       1.00008766e-11-3.74278333e-16j, 1.00008766e-11+3.74278333e-16j,\n",
              "       1.00009527e-11+2.86660969e-16j, 1.00009527e-11-2.86660969e-16j,\n",
              "       1.00009750e-11-6.15727971e-16j, 1.00009750e-11+6.15727971e-16j,\n",
              "       1.00010312e-11+6.41461854e-27j, 1.00010964e-11+7.36061530e-28j,\n",
              "       1.00011335e-11+2.38198607e-16j, 1.00011335e-11-2.38198607e-16j,\n",
              "       1.00012540e-11-5.46554528e-16j, 1.00012540e-11+5.46554528e-16j,\n",
              "       1.00012716e-11+1.20814489e-15j, 1.00012716e-11-1.20814489e-15j,\n",
              "       1.00013309e-11-9.47741729e-17j, 1.00013309e-11+9.47741729e-17j,\n",
              "       1.00013651e-11-7.17343666e-16j, 1.00013651e-11+7.17343666e-16j,\n",
              "       1.00014576e-11+2.99864619e-16j, 1.00014576e-11-2.99864619e-16j,\n",
              "       1.00014637e-11-9.94247970e-17j, 1.00014637e-11+9.94247970e-17j,\n",
              "       1.00014872e-11+4.72858975e-16j, 1.00014872e-11-4.72858975e-16j,\n",
              "       1.00016314e-11-1.60194518e-16j, 1.00016314e-11+1.60194518e-16j,\n",
              "       1.00016823e-11-3.45836590e-16j, 1.00016823e-11+3.45836590e-16j,\n",
              "       1.00018018e-11-2.91138131e-27j, 1.00018567e-11+3.14118957e-16j,\n",
              "       1.00018567e-11-3.14118957e-16j, 1.00020516e-11-2.08146118e-16j,\n",
              "       1.00020516e-11+2.08146118e-16j, 1.00020697e-11+7.36972242e-16j,\n",
              "       1.00020697e-11-7.36972242e-16j, 1.00020707e-11+3.20004228e-26j,\n",
              "       1.00021637e-11+2.75291608e-16j, 1.00021637e-11-2.75291608e-16j,\n",
              "       1.00022546e-11-4.49059403e-16j, 1.00022546e-11+4.49059403e-16j,\n",
              "       1.00023156e-11+1.03691612e-26j, 1.00024122e-11+2.68002001e-16j,\n",
              "       1.00024122e-11-2.68002001e-16j, 1.00025307e-11+4.53359165e-17j,\n",
              "       1.00025307e-11-4.53359165e-17j, 1.00025776e-11-5.44202618e-16j,\n",
              "       1.00025776e-11+5.44202618e-16j, 1.00027448e-11+4.71473867e-27j,\n",
              "       1.00027832e-11-1.05258151e-15j, 1.00027832e-11+1.05258151e-15j,\n",
              "       1.00028962e-11-6.19348236e-17j, 1.00028962e-11+6.19348236e-17j,\n",
              "       1.00033012e-11-1.09836282e-15j, 1.00033012e-11+1.09836282e-15j,\n",
              "       1.00033210e-11-2.96221740e-27j, 1.00034104e-11+1.84907528e-16j,\n",
              "       1.00034104e-11-1.84907528e-16j, 1.00035109e-11-1.17911213e-26j,\n",
              "       1.00036110e-11+2.86047160e-28j, 1.00037397e-11-1.77641622e-16j,\n",
              "       1.00037397e-11+1.77641622e-16j, 1.00039205e-11+2.68745328e-16j,\n",
              "       1.00039205e-11-2.68745328e-16j, 1.00041265e-11+6.31259680e-17j,\n",
              "       1.00041265e-11-6.31259680e-17j, 1.00042842e-11+9.74753374e-17j,\n",
              "       1.00042842e-11-9.74753374e-17j, 1.00044754e-11-5.39332384e-27j,\n",
              "       1.00045759e-11+1.14570961e-27j, 1.00046130e-11-4.16533569e-16j,\n",
              "       1.00046130e-11+4.16533569e-16j, 1.00047818e-11-9.24974809e-16j,\n",
              "       1.00047818e-11+9.24974809e-16j, 1.00050149e-11-7.80511973e-28j,\n",
              "       1.00052694e-11+2.81302927e-16j, 1.00052694e-11-2.81302927e-16j,\n",
              "       1.00053196e-11-1.62510489e-16j, 1.00053196e-11+1.62510489e-16j,\n",
              "       1.00055704e-11+1.03357088e-15j, 1.00055704e-11-1.03357088e-15j,\n",
              "       1.00056845e-11-2.11317565e-27j, 1.00058305e-11-2.28454677e-16j,\n",
              "       1.00058305e-11+2.28454677e-16j, 1.00062297e-11-5.39774494e-16j,\n",
              "       1.00062297e-11+5.39774494e-16j, 1.00062794e-11+8.48789796e-28j,\n",
              "       1.00065457e-11-2.19223657e-27j, 1.00068435e-11-2.81689410e-16j,\n",
              "       1.00068435e-11+2.81689410e-16j, 1.00070205e-11+2.83958172e-17j,\n",
              "       1.00070205e-11-2.83958172e-17j, 1.00070223e-11-5.93602185e-16j,\n",
              "       1.00070223e-11+5.93602185e-16j, 1.00075985e-11+1.77699935e-27j,\n",
              "       1.00076723e-11+5.38568746e-16j, 1.00076723e-11-5.38568746e-16j,\n",
              "       1.00077941e-11+3.83855142e-27j, 1.00078552e-11-2.02518027e-16j,\n",
              "       1.00078552e-11+2.02518027e-16j, 1.00083871e-11+5.99723270e-28j,\n",
              "       1.00086428e-11+3.86932644e-15j, 1.00086428e-11-3.86932644e-15j,\n",
              "       1.00086480e-11+5.32955265e-16j, 1.00086480e-11-5.32955265e-16j,\n",
              "       1.00087384e-11-1.68401889e-27j, 1.00088238e-11+8.51279679e-27j,\n",
              "       1.00092687e-11-4.58502742e-16j, 1.00092687e-11+4.58502742e-16j,\n",
              "       1.00096137e-11+1.82728538e-27j, 1.00098943e-11+3.55646032e-27j,\n",
              "       1.00100872e-11-5.75729446e-16j, 1.00100872e-11+5.75729446e-16j,\n",
              "       1.00104866e-11-1.50466345e-16j, 1.00104866e-11+1.50466345e-16j,\n",
              "       1.00108059e-11+3.58227500e-16j, 1.00108059e-11-3.58227500e-16j,\n",
              "       1.00114584e-11-1.60808971e-16j, 1.00114584e-11+1.60808971e-16j,\n",
              "       1.00115299e-11+1.12306582e-15j, 1.00115299e-11-1.12306582e-15j,\n",
              "       1.00120736e-11-6.47568309e-27j, 1.00122511e-11+3.99486381e-27j,\n",
              "       1.00123986e-11+3.59481291e-16j, 1.00123986e-11-3.59481291e-16j,\n",
              "       1.00125539e-11+2.96103174e-27j, 1.00130509e-11-7.67010524e-27j,\n",
              "       1.00132796e-11+1.72308334e-27j, 1.00135139e-11-2.18995971e-16j,\n",
              "       1.00135139e-11+2.18995971e-16j, 1.00139503e-11-1.18679193e-27j,\n",
              "       1.00147734e-11+4.92479317e-27j, 1.00148370e-11+2.93287093e-16j,\n",
              "       1.00148370e-11-2.93287093e-16j, 1.00149767e-11+2.14868033e-27j,\n",
              "       1.00153099e-11+4.36468066e-28j, 1.00158657e-11-2.60175771e-16j,\n",
              "       1.00158657e-11+2.60175771e-16j, 1.00159450e-11-1.00196918e-26j,\n",
              "       1.00164624e-11-3.29901309e-27j, 1.00167656e-11-2.41437858e-27j,\n",
              "       1.00170882e-11-3.45611453e-28j, 1.00173379e-11+5.61255598e-16j,\n",
              "       1.00173379e-11-5.61255598e-16j, 1.00175649e-11+7.03419525e-28j,\n",
              "       1.00182496e-11-7.00979334e-27j, 1.00184930e-11-1.66017670e-16j,\n",
              "       1.00184930e-11+1.66017670e-16j, 1.00189506e-11-1.88789913e-16j,\n",
              "       1.00189506e-11+1.88789913e-16j, 1.00196467e-11-3.48178470e-28j,\n",
              "       1.00200686e-11-4.61837203e-27j, 1.00201706e-11+1.47988486e-26j,\n",
              "       1.00203576e-11-9.60308294e-27j, 1.00213611e-11-1.86980767e-28j,\n",
              "       1.00216143e-11-1.00026926e-27j, 1.00218835e-11+1.48645743e-27j,\n",
              "       1.00220189e-11+5.31848289e-27j, 1.00222802e-11-5.07490648e-27j,\n",
              "       1.00228348e-11+1.57584255e-27j, 1.00236466e-11+3.60260779e-27j,\n",
              "       1.00238299e-11-5.88641323e-27j, 1.00244947e-11+1.22554379e-27j,\n",
              "       1.00250032e-11+3.15550597e-27j, 1.00259092e-11-8.19539759e-17j,\n",
              "       1.00259092e-11+8.19539759e-17j, 1.00266681e-11+3.81305704e-27j,\n",
              "       1.00277979e-11+6.39021799e-27j, 1.00280372e-11-6.37491991e-27j,\n",
              "       1.00284219e-11+1.23612904e-27j, 1.00288563e-11+5.10714625e-27j,\n",
              "       1.00297301e-11+2.52513892e-17j, 1.00297301e-11-2.52513892e-17j,\n",
              "       1.00306908e-11-3.00753327e-27j, 1.00313147e-11+1.72212672e-27j,\n",
              "       1.00322092e-11-1.67396977e-27j, 1.00325033e-11-1.41523321e-27j,\n",
              "       1.00334125e-11-9.42854162e-29j, 1.00338107e-11+1.03158344e-26j,\n",
              "       1.00345440e-11-8.60709465e-27j, 1.00352322e-11-8.99584801e-28j,\n",
              "       1.00359307e-11+7.10915324e-27j, 1.00368325e-11-2.78681922e-27j,\n",
              "       1.00371817e-11-7.17267753e-27j, 1.00379721e-11-4.45941486e-27j,\n",
              "       1.00387065e-11+6.14713648e-27j, 1.00392305e-11+3.85920443e-27j,\n",
              "       1.00400874e-11+1.32322547e-27j, 1.00405687e-11+4.49214985e-28j,\n",
              "       1.00414720e-11+4.04248813e-27j, 1.00416608e-11+9.58976334e-28j,\n",
              "       1.00435918e-11-6.42184864e-28j, 1.00443504e-11+1.05752855e-27j,\n",
              "       1.00472064e-11-2.69019414e-27j, 1.00474587e-11-1.10857497e-27j,\n",
              "       1.00652605e-11-1.77212947e-28j, 1.00970766e-11+1.29893910e-27j,\n",
              "       1.01037588e-11+4.58263928e-28j, 1.01049535e-11+9.53942541e-28j,\n",
              "       1.02298873e-11-2.03210162e-28j, 1.09860300e-11-4.15524801e-30j,\n",
              "       1.96680250e-11+2.22479436e-31j, 1.00570906e-10+1.75739638e-31j,\n",
              "       8.18897427e-10-1.08600652e-31j, 6.88025692e-09+2.95844805e-32j,\n",
              "       5.53608369e-08-1.67626742e-31j, 4.21837726e-07-2.93448089e-32j,\n",
              "       3.03156854e-06+3.18261932e-31j, 2.04752368e-05+5.94186212e-31j,\n",
              "       1.29468208e-04+1.82305521e-31j, 7.63145087e-04-3.03096287e-31j,\n",
              "       4.17311877e-03-8.28696179e-32j, 2.10542777e-02-3.31406820e-33j,\n",
              "       9.73911394e-02+5.18851172e-31j, 4.10062965e-01-1.15404089e-30j,\n",
              "       1.55834238e+00+5.50462077e-32j, 5.29229808e+00-8.49717244e-32j,\n",
              "       1.58765333e+01+7.02515377e-31j, 4.15229815e+01+6.59455990e-31j,\n",
              "       9.33657641e+01+6.07973873e-32j, 1.78085278e+02-8.33916492e-33j,\n",
              "       2.84863704e+02+5.72551931e-31j, 3.78901500e+02-1.49267992e-30j])>"
            ]
          },
          "metadata": {
            "tags": []
          },
          "execution_count": 52
        }
      ]
    },
    {
      "cell_type": "code",
      "metadata": {
        "colab": {
          "base_uri": "https://localhost:8080/"
        },
        "id": "QLsSUDStLAUp",
        "outputId": "5715ba2a-35ba-400b-98f6-482494893cb1"
      },
      "source": [
        "K"
      ],
      "execution_count": null,
      "outputs": [
        {
          "output_type": "execute_result",
          "data": {
            "text/plain": [
              "<tf.Tensor: shape=(500, 500), dtype=float64, numpy=\n",
              "array([[2.00000000e+00, 1.99985543e+00, 1.99942177e+00, ...,\n",
              "        3.51777028e-08, 3.27363152e-08, 3.04599595e-08],\n",
              "       [1.99985543e+00, 2.00000000e+00, 1.99985543e+00, ...,\n",
              "        3.77956979e-08, 3.51777028e-08, 3.27363152e-08],\n",
              "       [1.99942177e+00, 1.99985543e+00, 2.00000000e+00, ...,\n",
              "        4.06026587e-08, 3.77956979e-08, 3.51777028e-08],\n",
              "       ...,\n",
              "       [3.51777028e-08, 3.77956979e-08, 4.06026587e-08, ...,\n",
              "        2.00000000e+00, 1.99985543e+00, 1.99942177e+00],\n",
              "       [3.27363152e-08, 3.51777028e-08, 3.77956979e-08, ...,\n",
              "        1.99985543e+00, 2.00000000e+00, 1.99985543e+00],\n",
              "       [3.04599595e-08, 3.27363152e-08, 3.51777028e-08, ...,\n",
              "        1.99942177e+00, 1.99985543e+00, 2.00000000e+00]])>"
            ]
          },
          "metadata": {
            "tags": []
          },
          "execution_count": 45
        }
      ]
    },
    {
      "cell_type": "code",
      "metadata": {
        "id": "gowhVAYHHqj0"
      },
      "source": [
        "# Errors found:\n",
        "# - gpc_posterior: tf.math.log(tf.reduce_sum()) should be tf.reduce_sum(tf.math.log())\n",
        "# - gpc_posterior: tf.matmul(fK, fK, transpose_a=True) should be tf.matmul(f, fK, transpose_a)"
      ],
      "execution_count": null,
      "outputs": []
    },
    {
      "cell_type": "code",
      "metadata": {
        "id": "snVx9zkJF2PL"
      },
      "source": [
        "??tf.linalg.cholesky_solve"
      ],
      "execution_count": null,
      "outputs": []
    },
    {
      "cell_type": "code",
      "metadata": {
        "id": "0A4CNmMgGwSk"
      },
      "source": [
        "pad_K = K + 10e-6*tf.eye(K.shape[0], dtype=tf.float64)\n",
        "chol_K = tf.linalg.cholesky(pad_K)\n",
        "fK = tf.linalg.cholesky_solve(chol_K, f)"
      ],
      "execution_count": null,
      "outputs": []
    },
    {
      "cell_type": "code",
      "metadata": {
        "colab": {
          "base_uri": "https://localhost:8080/"
        },
        "id": "gjP22sv1GzpU",
        "outputId": "7edbccf2-1558-41f3-b9d3-9ca1fa9ba3e4"
      },
      "source": [
        "fK.shape"
      ],
      "execution_count": null,
      "outputs": [
        {
          "output_type": "execute_result",
          "data": {
            "text/plain": [
              "TensorShape([500, 1])"
            ]
          },
          "metadata": {
            "tags": []
          },
          "execution_count": 30
        }
      ]
    },
    {
      "cell_type": "code",
      "metadata": {
        "colab": {
          "base_uri": "https://localhost:8080/"
        },
        "id": "2nL1qnfQHKEU",
        "outputId": "a5843976-27e3-4154-91ef-bca2a1328b88"
      },
      "source": [
        "f.shape"
      ],
      "execution_count": null,
      "outputs": [
        {
          "output_type": "execute_result",
          "data": {
            "text/plain": [
              "TensorShape([500, 1])"
            ]
          },
          "metadata": {
            "tags": []
          },
          "execution_count": 31
        }
      ]
    },
    {
      "cell_type": "code",
      "metadata": {
        "colab": {
          "base_uri": "https://localhost:8080/"
        },
        "id": "rPeKXmalCAos",
        "outputId": "14fa0166-bf33-4995-c6f3-fc8f2df185ac"
      },
      "source": [
        "tf.reduce_sum(obs_dist.log_prob(f, y))"
      ],
      "execution_count": null,
      "outputs": [
        {
          "output_type": "execute_result",
          "data": {
            "text/plain": [
              "<tf.Tensor: shape=(), dtype=float64, numpy=-401.628644919555>"
            ]
          },
          "metadata": {
            "tags": []
          },
          "execution_count": 22
        }
      ]
    },
    {
      "cell_type": "code",
      "metadata": {
        "colab": {
          "base_uri": "https://localhost:8080/"
        },
        "id": "zk85x60iFEXS",
        "outputId": "7042cf1a-c3fa-4a10-c607-af90b6971976"
      },
      "source": [
        "gpc_posterior(f, y, K)"
      ],
      "execution_count": null,
      "outputs": [
        {
          "output_type": "execute_result",
          "data": {
            "text/plain": [
              "<tf.Tensor: shape=(1, 1), dtype=float64, numpy=array([[1926.79524781]])>"
            ]
          },
          "metadata": {
            "tags": []
          },
          "execution_count": 24
        }
      ]
    },
    {
      "cell_type": "code",
      "metadata": {
        "colab": {
          "base_uri": "https://localhost:8080/"
        },
        "id": "I4vO6IziFH7F",
        "outputId": "47b0b16d-9f14-4193-b353-d53edfa9a4d5"
      },
      "source": [
        "gpc_posterior(f_real, y, K)"
      ],
      "execution_count": null,
      "outputs": [
        {
          "output_type": "execute_result",
          "data": {
            "text/plain": [
              "<tf.Tensor: shape=(1, 1), dtype=float64, numpy=array([[-23321439.56933985]])>"
            ]
          },
          "metadata": {
            "tags": []
          },
          "execution_count": 25
        }
      ]
    },
    {
      "cell_type": "code",
      "metadata": {
        "colab": {
          "base_uri": "https://localhost:8080/"
        },
        "id": "18sImNowyO5S",
        "outputId": "e8808f21-9d1b-4df0-b687-a2262fc4775f"
      },
      "source": [
        "k.trainable_variables"
      ],
      "execution_count": null,
      "outputs": [
        {
          "output_type": "execute_result",
          "data": {
            "text/plain": [
              "(<tf.Variable 'Variable:0' shape=() dtype=float64, numpy=0.5413248546129181>,\n",
              " <tf.Variable 'Variable:0' shape=() dtype=float64, numpy=1.854586542131141>)"
            ]
          },
          "metadata": {
            "tags": []
          },
          "execution_count": 23
        }
      ]
    },
    {
      "cell_type": "code",
      "metadata": {
        "id": "KRKCHdCkyXc0"
      },
      "source": [
        "# 0.5413248546129181 1.854586542131141"
      ],
      "execution_count": null,
      "outputs": []
    },
    {
      "cell_type": "code",
      "metadata": {
        "colab": {
          "base_uri": "https://localhost:8080/"
        },
        "id": "FAdpW35iy--s",
        "outputId": "edec55e1-fe5b-4dfc-a149-82fe17d0aa34"
      },
      "source": [
        "from gpflow.optimizers import Scipy\n",
        "opt = Scipy()\n",
        "\n",
        "f_store = [tf.random.normal(mean=2., shape=f_real.shape, dtype=tf.float64)]\n",
        "f = tf.Variable(f_store[0])\n",
        "\n",
        "x_grid_tf = tf.constant(x_grid, dtype=tf.float64)\n",
        "\n",
        "neg_post = [-gpc_posterior(f, y, K)]\n",
        "hess_diag = compute_hess_vec_obs_ll(f, y)\n",
        "marg_ll = [-compute_marginal_ll(f, y, k(x_grid), hess_diag)]\n",
        "\n",
        "for i in range(50):\n",
        "  #K = tf.cast(k(x_grid_tf), dtype=tf.float32)\n",
        "  print(i, tf.reduce_mean(tf.abs(f - f_real)))\n",
        "  K = k(x_grid)\n",
        "  opt_res = Scipy().minimize(lambda: -gpc_posterior(f, y, K), [f])\n",
        "  neg_post.append(opt_res.fun)"
      ],
      "execution_count": null,
      "outputs": [
        {
          "output_type": "stream",
          "text": [
            "0 tf.Tensor(1.4312328319057093, shape=(), dtype=float64)\n",
            "1 tf.Tensor(1.1624615541156076, shape=(), dtype=float64)\n",
            "2 tf.Tensor(1.1624615541538168, shape=(), dtype=float64)\n",
            "3 tf.Tensor(1.1624615542535297, shape=(), dtype=float64)\n",
            "4 tf.Tensor(1.1624615542549361, shape=(), dtype=float64)\n",
            "5 tf.Tensor(1.1624615542663597, shape=(), dtype=float64)\n",
            "6 tf.Tensor(1.1624615542885506, shape=(), dtype=float64)\n",
            "7 tf.Tensor(1.162461554315397, shape=(), dtype=float64)\n",
            "8 tf.Tensor(1.1624615543253627, shape=(), dtype=float64)\n",
            "9 tf.Tensor(1.162461554341712, shape=(), dtype=float64)\n",
            "10 tf.Tensor(1.162461554354774, shape=(), dtype=float64)\n",
            "11 tf.Tensor(1.1624615543727492, shape=(), dtype=float64)\n",
            "12 tf.Tensor(1.1624615543839736, shape=(), dtype=float64)\n",
            "13 tf.Tensor(1.1624615544003536, shape=(), dtype=float64)\n",
            "14 tf.Tensor(1.1624615544114594, shape=(), dtype=float64)\n",
            "15 tf.Tensor(1.1624615544275556, shape=(), dtype=float64)\n",
            "16 tf.Tensor(1.1624615544380654, shape=(), dtype=float64)\n",
            "17 tf.Tensor(1.1624615544535868, shape=(), dtype=float64)\n",
            "18 tf.Tensor(1.1624615544637014, shape=(), dtype=float64)\n",
            "19 tf.Tensor(1.1624615544788066, shape=(), dtype=float64)\n",
            "20 tf.Tensor(1.1624615544884969, shape=(), dtype=float64)\n",
            "21 tf.Tensor(1.162461554503169, shape=(), dtype=float64)\n",
            "22 tf.Tensor(1.1624615545124735, shape=(), dtype=float64)\n",
            "23 tf.Tensor(1.1624615545267374, shape=(), dtype=float64)\n",
            "24 tf.Tensor(1.1624615545356687, shape=(), dtype=float64)\n",
            "25 tf.Tensor(1.1624615545495294, shape=(), dtype=float64)\n",
            "26 tf.Tensor(1.1624615545581072, shape=(), dtype=float64)\n",
            "27 tf.Tensor(1.1624615545715726, shape=(), dtype=float64)\n",
            "28 tf.Tensor(1.1624615545798116, shape=(), dtype=float64)\n",
            "29 tf.Tensor(1.162461554592888, shape=(), dtype=float64)\n",
            "30 tf.Tensor(1.1624615546008035, shape=(), dtype=float64)\n",
            "31 tf.Tensor(1.1624615546134969, shape=(), dtype=float64)\n",
            "32 tf.Tensor(1.1624615546211032, shape=(), dtype=float64)\n",
            "33 tf.Tensor(1.1624615546334196, shape=(), dtype=float64)\n",
            "34 tf.Tensor(1.16246155464073, shape=(), dtype=float64)\n",
            "35 tf.Tensor(1.1624615546526749, shape=(), dtype=float64)\n",
            "36 tf.Tensor(1.1624615546597024, shape=(), dtype=float64)\n",
            "37 tf.Tensor(1.1624615546712815, shape=(), dtype=float64)\n",
            "38 tf.Tensor(1.1624615546780388, shape=(), dtype=float64)\n",
            "39 tf.Tensor(1.1624615546892592, shape=(), dtype=float64)\n",
            "40 tf.Tensor(1.1624615546957564, shape=(), dtype=float64)\n",
            "41 tf.Tensor(1.1624615547066233, shape=(), dtype=float64)\n",
            "42 tf.Tensor(1.1624615547128727, shape=(), dtype=float64)\n",
            "43 tf.Tensor(1.1624615547233925, shape=(), dtype=float64)\n",
            "44 tf.Tensor(1.1624615547294048, shape=(), dtype=float64)\n",
            "45 tf.Tensor(1.1624615547395833, shape=(), dtype=float64)\n",
            "46 tf.Tensor(1.1624615547453672, shape=(), dtype=float64)\n",
            "47 tf.Tensor(1.1624615547552117, shape=(), dtype=float64)\n",
            "48 tf.Tensor(1.1624615547607773, shape=(), dtype=float64)\n",
            "49 tf.Tensor(1.1624615547702932, shape=(), dtype=float64)\n"
          ],
          "name": "stdout"
        }
      ]
    },
    {
      "cell_type": "code",
      "metadata": {
        "colab": {
          "base_uri": "https://localhost:8080/"
        },
        "id": "0Md38wdxEcBn",
        "outputId": "77bf978b-2279-464c-bac5-caf55795ff7d"
      },
      "source": [
        "neg_post"
      ],
      "execution_count": null,
      "outputs": [
        {
          "output_type": "execute_result",
          "data": {
            "text/plain": [
              "[<tf.Tensor: shape=(1, 1), dtype=float64, numpy=array([[2.46294361e+12]])>,\n",
              " array([[-1926.79522227]]),\n",
              " array([[-1926.79522457]]),\n",
              " array([[-1926.7952257]]),\n",
              " array([[-1926.79522647]]),\n",
              " array([[-1926.79522703]]),\n",
              " array([[-1926.79522756]]),\n",
              " array([[-1926.79522804]]),\n",
              " array([[-1926.79522852]]),\n",
              " array([[-1926.795229]]),\n",
              " array([[-1926.79522947]]),\n",
              " array([[-1926.79522994]]),\n",
              " array([[-1926.79523041]]),\n",
              " array([[-1926.79523088]]),\n",
              " array([[-1926.79523135]]),\n",
              " array([[-1926.79523182]]),\n",
              " array([[-1926.79523228]]),\n",
              " array([[-1926.79523275]]),\n",
              " array([[-1926.79523321]]),\n",
              " array([[-1926.79523368]]),\n",
              " array([[-1926.79523414]]),\n",
              " array([[-1926.79523461]]),\n",
              " array([[-1926.79523507]]),\n",
              " array([[-1926.79523553]]),\n",
              " array([[-1926.79523599]]),\n",
              " array([[-1926.79523645]]),\n",
              " array([[-1926.79523691]]),\n",
              " array([[-1926.79523737]]),\n",
              " array([[-1926.79523783]]),\n",
              " array([[-1926.79523829]]),\n",
              " array([[-1926.79523875]]),\n",
              " array([[-1926.7952392]]),\n",
              " array([[-1926.79523966]]),\n",
              " array([[-1926.79524012]]),\n",
              " array([[-1926.79524057]]),\n",
              " array([[-1926.79524103]]),\n",
              " array([[-1926.79524148]]),\n",
              " array([[-1926.79524194]]),\n",
              " array([[-1926.79524239]]),\n",
              " array([[-1926.79524285]]),\n",
              " array([[-1926.7952433]]),\n",
              " array([[-1926.79524375]]),\n",
              " array([[-1926.7952442]]),\n",
              " array([[-1926.79524466]]),\n",
              " array([[-1926.79524511]]),\n",
              " array([[-1926.79524556]]),\n",
              " array([[-1926.79524601]]),\n",
              " array([[-1926.79524646]]),\n",
              " array([[-1926.79524691]]),\n",
              " array([[-1926.79524736]]),\n",
              " array([[-1926.79524781]])]"
            ]
          },
          "metadata": {
            "tags": []
          },
          "execution_count": 19
        }
      ]
    },
    {
      "cell_type": "code",
      "metadata": {
        "colab": {
          "base_uri": "https://localhost:8080/"
        },
        "id": "XtGlAooICmjF",
        "outputId": "b7a302bb-7149-4b05-dffd-346313b3a44d"
      },
      "source": [
        "np.c_[f_real, f]"
      ],
      "execution_count": null,
      "outputs": [
        {
          "output_type": "execute_result",
          "data": {
            "text/plain": [
              "array([[-0.4409298 ,  2.0443647 ],\n",
              "       [-0.42807825,  2.06185748],\n",
              "       [-0.41476574,  2.07882635],\n",
              "       [-0.40728786,  2.09526362],\n",
              "       [-0.40685274,  2.11116209],\n",
              "       [-0.38895167,  2.12651498],\n",
              "       [-0.37643122,  2.141316  ],\n",
              "       [-0.37542877,  2.15555933],\n",
              "       [-0.35563118,  2.16923967],\n",
              "       [-0.35093667,  2.18235217],\n",
              "       [-0.32830614,  2.19489251],\n",
              "       [-0.31959908,  2.20685687],\n",
              "       [-0.30969567,  2.21824196],\n",
              "       [-0.29076759,  2.22904497],\n",
              "       [-0.27931963,  2.23926366],\n",
              "       [-0.26475097,  2.24889629],\n",
              "       [-0.25002377,  2.25794166],\n",
              "       [-0.23571688,  2.26639912],\n",
              "       [-0.21735256,  2.27426852],\n",
              "       [-0.19968416,  2.28155028],\n",
              "       [-0.18367149,  2.28824535],\n",
              "       [-0.1603115 ,  2.29435521],\n",
              "       [-0.15217902,  2.2998819 ],\n",
              "       [-0.13242783,  2.30482798],\n",
              "       [-0.10969955,  2.30919654],\n",
              "       [-0.09745947,  2.31299124],\n",
              "       [-0.06939814,  2.31621621],\n",
              "       [-0.05097647,  2.31887617],\n",
              "       [-0.03325101,  2.32097632],\n",
              "       [-0.01012582,  2.3225224 ],\n",
              "       [ 0.00732132,  2.32352064],\n",
              "       [ 0.02442804,  2.32397779],\n",
              "       [ 0.05282607,  2.3239011 ],\n",
              "       [ 0.0760016 ,  2.32329831],\n",
              "       [ 0.09630174,  2.32217762],\n",
              "       [ 0.11856825,  2.32054773],\n",
              "       [ 0.13340529,  2.31841779],\n",
              "       [ 0.15846632,  2.31579741],\n",
              "       [ 0.18161285,  2.31269664],\n",
              "       [ 0.2065603 ,  2.30912595],\n",
              "       [ 0.23428462,  2.30509625],\n",
              "       [ 0.25220628,  2.30061884],\n",
              "       [ 0.27421832,  2.29570542],\n",
              "       [ 0.30347886,  2.29036807],\n",
              "       [ 0.32438029,  2.28461923],\n",
              "       [ 0.34357662,  2.2784717 ],\n",
              "       [ 0.37564454,  2.27193862],\n",
              "       [ 0.39334321,  2.26503344],\n",
              "       [ 0.41760604,  2.25776992],\n",
              "       [ 0.43926677,  2.25016211],\n",
              "       [ 0.46723084,  2.24222433],\n",
              "       [ 0.49418475,  2.23397116],\n",
              "       [ 0.51398874,  2.22541742],\n",
              "       [ 0.54047103,  2.21657813],\n",
              "       [ 0.56168036,  2.20746854],\n",
              "       [ 0.59553219,  2.19810408],\n",
              "       [ 0.61906228,  2.18850032],\n",
              "       [ 0.63724509,  2.178673  ],\n",
              "       [ 0.66510707,  2.168638  ],\n",
              "       [ 0.69150375,  2.15841127],\n",
              "       [ 0.71498116,  2.14800888],\n",
              "       [ 0.7354494 ,  2.13744697],\n",
              "       [ 0.76111989,  2.12674171],\n",
              "       [ 0.78837154,  2.11590933],\n",
              "       [ 0.81219897,  2.10496605],\n",
              "       [ 0.83192569,  2.09392809],\n",
              "       [ 0.85974082,  2.08281165],\n",
              "       [ 0.87856271,  2.07163287],\n",
              "       [ 0.89686921,  2.06040784],\n",
              "       [ 0.92622478,  2.04915255],\n",
              "       [ 0.95206594,  2.0378829 ],\n",
              "       [ 0.97386107,  2.02661466],\n",
              "       [ 1.00068746,  2.01536345],\n",
              "       [ 1.02578844,  2.00414476],\n",
              "       [ 1.04503616,  1.99297386],\n",
              "       [ 1.06424083,  1.98186586],\n",
              "       [ 1.08804974,  1.97083564],\n",
              "       [ 1.10485794,  1.95989784],\n",
              "       [ 1.13023498,  1.94906687],\n",
              "       [ 1.15132452,  1.93835686],\n",
              "       [ 1.17327521,  1.92778167],\n",
              "       [ 1.19763469,  1.91735486],\n",
              "       [ 1.2075517 ,  1.90708967],\n",
              "       [ 1.23622934,  1.89699901],\n",
              "       [ 1.25213895,  1.88709547],\n",
              "       [ 1.27608658,  1.87739126],\n",
              "       [ 1.29392903,  1.86789823],\n",
              "       [ 1.30874586,  1.85862784],\n",
              "       [ 1.33339945,  1.84959116],\n",
              "       [ 1.34672273,  1.84079887],\n",
              "       [ 1.36864331,  1.8322612 ],\n",
              "       [ 1.38276695,  1.82398798],\n",
              "       [ 1.39992777,  1.81598857],\n",
              "       [ 1.41851529,  1.80827191],\n",
              "       [ 1.44170601,  1.80084648],\n",
              "       [ 1.45547165,  1.79372028],\n",
              "       [ 1.46967721,  1.78690085],\n",
              "       [ 1.49164427,  1.78039524],\n",
              "       [ 1.50292733,  1.77421003],\n",
              "       [ 1.5171385 ,  1.7683513 ],\n",
              "       [ 1.52941446,  1.76282464],\n",
              "       [ 1.54720281,  1.75763512],\n",
              "       [ 1.56137817,  1.75278735],\n",
              "       [ 1.57243185,  1.7482854 ],\n",
              "       [ 1.5807117 ,  1.74413284],\n",
              "       [ 1.59822015,  1.74033274],\n",
              "       [ 1.61140866,  1.73688766],\n",
              "       [ 1.62166187,  1.73379965],\n",
              "       [ 1.63082249,  1.73107025],\n",
              "       [ 1.64054521,  1.72870051],\n",
              "       [ 1.65218901,  1.72669096],\n",
              "       [ 1.66848233,  1.72504164],\n",
              "       [ 1.67505114,  1.72375209],\n",
              "       [ 1.67801499,  1.72282136],\n",
              "       [ 1.69353654,  1.72224802],\n",
              "       [ 1.69848863,  1.72203014],\n",
              "       [ 1.71610187,  1.72216535],\n",
              "       [ 1.71627196,  1.72265077],\n",
              "       [ 1.72418113,  1.72348311],\n",
              "       [ 1.73189131,  1.72465859],\n",
              "       [ 1.73884718,  1.726173  ],\n",
              "       [ 1.74431085,  1.7280217 ],\n",
              "       [ 1.75000952,  1.73019964],\n",
              "       [ 1.75431396,  1.73270132],\n",
              "       [ 1.75770663,  1.73552089],\n",
              "       [ 1.76218219,  1.73865207],\n",
              "       [ 1.76274724,  1.74208821],\n",
              "       [ 1.76735091,  1.74582232],\n",
              "       [ 1.76915531,  1.74984702],\n",
              "       [ 1.7716414 ,  1.75415463],\n",
              "       [ 1.77295045,  1.75873711],\n",
              "       [ 1.77488476,  1.76358613],\n",
              "       [ 1.77767253,  1.76869306],\n",
              "       [ 1.77565517,  1.77404899],\n",
              "       [ 1.77669461,  1.77964474],\n",
              "       [ 1.77684225,  1.78547087],\n",
              "       [ 1.77394948,  1.79151771],\n",
              "       [ 1.77278877,  1.79777539],\n",
              "       [ 1.77250986,  1.80423381],\n",
              "       [ 1.76297404,  1.81088269],\n",
              "       [ 1.76698693,  1.81771157],\n",
              "       [ 1.76003225,  1.82470987],\n",
              "       [ 1.74395806,  1.83186682],\n",
              "       [ 1.75115523,  1.83917157],\n",
              "       [ 1.73999569,  1.84661314],\n",
              "       [ 1.74056726,  1.85418047],\n",
              "       [ 1.72816523,  1.86186243],\n",
              "       [ 1.72311048,  1.86964784],\n",
              "       [ 1.71857591,  1.87752546],\n",
              "       [ 1.7058845 ,  1.88548405],\n",
              "       [ 1.69588339,  1.89351235],\n",
              "       [ 1.68899106,  1.90159913],\n",
              "       [ 1.68452609,  1.90973315],\n",
              "       [ 1.67463823,  1.91790325],\n",
              "       [ 1.66621238,  1.92609831],\n",
              "       [ 1.65294288,  1.93430728],\n",
              "       [ 1.64240915,  1.9425192 ],\n",
              "       [ 1.6332852 ,  1.95072324],\n",
              "       [ 1.62039904,  1.95890864],\n",
              "       [ 1.60352359,  1.96706481],\n",
              "       [ 1.59564648,  1.9751813 ],\n",
              "       [ 1.57841102,  1.98324782],\n",
              "       [ 1.56300774,  1.99125423],\n",
              "       [ 1.55144167,  1.99919061],\n",
              "       [ 1.53601602,  2.00704723],\n",
              "       [ 1.52420115,  2.01481455],\n",
              "       [ 1.50728193,  2.02248329],\n",
              "       [ 1.48905712,  2.03004438],\n",
              "       [ 1.47365028,  2.03748899],\n",
              "       [ 1.45497268,  2.04480857],\n",
              "       [ 1.4381139 ,  2.05199481],\n",
              "       [ 1.42590503,  2.05903969],\n",
              "       [ 1.40598072,  2.06593546],\n",
              "       [ 1.38522827,  2.07267469],\n",
              "       [ 1.36642791,  2.07925022],\n",
              "       [ 1.34609055,  2.08565522],\n",
              "       [ 1.32754751,  2.09188315],\n",
              "       [ 1.30279984,  2.0979278 ],\n",
              "       [ 1.28871118,  2.10378331],\n",
              "       [ 1.26536003,  2.10944411],\n",
              "       [ 1.24755648,  2.114905  ],\n",
              "       [ 1.2278249 ,  2.12016111],\n",
              "       [ 1.2048084 ,  2.12520789],\n",
              "       [ 1.17849137,  2.13004118],\n",
              "       [ 1.15467548,  2.13465714],\n",
              "       [ 1.1384108 ,  2.13905228],\n",
              "       [ 1.11636557,  2.14322348],\n",
              "       [ 1.08608448,  2.14716796],\n",
              "       [ 1.06305703,  2.15088329],\n",
              "       [ 1.04584589,  2.15436741],\n",
              "       [ 1.01920633,  2.1576186 ],\n",
              "       [ 1.0022379 ,  2.16063549],\n",
              "       [ 0.97440828,  2.16341707],\n",
              "       [ 0.95211809,  2.16596268],\n",
              "       [ 0.92495723,  2.16827198],\n",
              "       [ 0.89910647,  2.17034499],\n",
              "       [ 0.87043605,  2.17218207],\n",
              "       [ 0.83966505,  2.17378392],\n",
              "       [ 0.82574675,  2.17515155],\n",
              "       [ 0.80009615,  2.1762863 ],\n",
              "       [ 0.77059805,  2.17718983],\n",
              "       [ 0.75015265,  2.17786413],\n",
              "       [ 0.71630985,  2.17831148],\n",
              "       [ 0.70018023,  2.17853445],\n",
              "       [ 0.67177198,  2.17853592],\n",
              "       [ 0.65077106,  2.17831906],\n",
              "       [ 0.61441424,  2.1778873 ],\n",
              "       [ 0.59844139,  2.17724436],\n",
              "       [ 0.57220884,  2.1763942 ],\n",
              "       [ 0.54535172,  2.17534106],\n",
              "       [ 0.51582868,  2.17408941],\n",
              "       [ 0.49402569,  2.17264395],\n",
              "       [ 0.46861555,  2.17100962],\n",
              "       [ 0.44041569,  2.16919157],\n",
              "       [ 0.41188927,  2.16719516],\n",
              "       [ 0.38650229,  2.16502594],\n",
              "       [ 0.3622033 ,  2.16268966],\n",
              "       [ 0.34249851,  2.16019224],\n",
              "       [ 0.31861986,  2.15753977],\n",
              "       [ 0.29670748,  2.15473849],\n",
              "       [ 0.2694228 ,  2.15179479],\n",
              "       [ 0.23869765,  2.14871521],\n",
              "       [ 0.21589821,  2.14550638],\n",
              "       [ 0.18979   ,  2.14217508],\n",
              "       [ 0.16813683,  2.13872818],\n",
              "       [ 0.15010793,  2.13517264],\n",
              "       [ 0.12232158,  2.1315155 ],\n",
              "       [ 0.09814912,  2.12776388],\n",
              "       [ 0.07835212,  2.12392495],\n",
              "       [ 0.05697211,  2.12000593],\n",
              "       [ 0.03624168,  2.11601411],\n",
              "       [ 0.00839776,  2.11195675],\n",
              "       [-0.01377744,  2.10784119],\n",
              "       [-0.03436515,  2.10367474],\n",
              "       [-0.0515131 ,  2.09946472],\n",
              "       [-0.07354573,  2.09521843],\n",
              "       [-0.09790584,  2.09094317],\n",
              "       [-0.10842917,  2.08664618],\n",
              "       [-0.13512613,  2.08233467],\n",
              "       [-0.15324454,  2.07801582],\n",
              "       [-0.17205306,  2.07369671],\n",
              "       [-0.19317321,  2.06938439],\n",
              "       [-0.20915433,  2.06508581],\n",
              "       [-0.22657657,  2.06080784],\n",
              "       [-0.24309726,  2.05655726],\n",
              "       [-0.25954946,  2.05234073],\n",
              "       [-0.27876067,  2.04816483],\n",
              "       [-0.29668072,  2.044036  ],\n",
              "       [-0.30589247,  2.03996055],\n",
              "       [-0.3248764 ,  2.03594468],\n",
              "       [-0.33506017,  2.03199444],\n",
              "       [-0.3506394 ,  2.02811572],\n",
              "       [-0.35586351,  2.02431429],\n",
              "       [-0.37651771,  2.02059573],\n",
              "       [-0.3946421 ,  2.01696548],\n",
              "       [-0.40331467,  2.0134288 ],\n",
              "       [-0.40971752,  2.00999077],\n",
              "       [-0.41721868,  2.00665631],\n",
              "       [-0.42644399,  2.00343014],\n",
              "       [-0.43843694,  2.00031681],\n",
              "       [-0.44343673,  1.99732065],\n",
              "       [-0.45962309,  1.99444583],\n",
              "       [-0.46666186,  1.9916963 ],\n",
              "       [-0.47568792,  1.9890758 ],\n",
              "       [-0.47772288,  1.9865879 ],\n",
              "       [-0.48079315,  1.98423594],\n",
              "       [-0.48967247,  1.98202305],\n",
              "       [-0.49309582,  1.97995215],\n",
              "       [-0.50009915,  1.97802597],\n",
              "       [-0.50381862,  1.976247  ],\n",
              "       [-0.50546045,  1.97461752],\n",
              "       [-0.50273144,  1.97313961],\n",
              "       [-0.50701697,  1.97181512],\n",
              "       [-0.50754232,  1.9706457 ],\n",
              "       [-0.50548728,  1.96963278],\n",
              "       [-0.50579609,  1.96877755],\n",
              "       [-0.50914261,  1.96808102],\n",
              "       [-0.49927401,  1.96754398],\n",
              "       [-0.5021603 ,  1.96716699],\n",
              "       [-0.49868027,  1.96695041],\n",
              "       [-0.49531767,  1.9668944 ],\n",
              "       [-0.48860464,  1.9669989 ],\n",
              "       [-0.48602325,  1.96726364],\n",
              "       [-0.47843916,  1.96768816],\n",
              "       [-0.46692644,  1.9682718 ],\n",
              "       [-0.46732551,  1.9690137 ],\n",
              "       [-0.4641157 ,  1.96991278],\n",
              "       [-0.44616575,  1.97096781],\n",
              "       [-0.43977281,  1.97217734],\n",
              "       [-0.42841587,  1.97353974],\n",
              "       [-0.41738638,  1.97505322],\n",
              "       [-0.40957375,  1.97671578],\n",
              "       [-0.39621125,  1.97852527],\n",
              "       [-0.39057654,  1.98047935],\n",
              "       [-0.37334606,  1.98257554],\n",
              "       [-0.35941339,  1.98481118],\n",
              "       [-0.34985953,  1.98718344],\n",
              "       [-0.33463761,  1.98968938],\n",
              "       [-0.31817383,  1.99232587],\n",
              "       [-0.30111331,  1.99508966],\n",
              "       [-0.28645635,  1.99797736],\n",
              "       [-0.26423862,  2.00098544],\n",
              "       [-0.24796687,  2.00411025],\n",
              "       [-0.22899545,  2.00734801],\n",
              "       [-0.21885447,  2.01069482],\n",
              "       [-0.19634538,  2.01414669],\n",
              "       [-0.17492391,  2.01769951],\n",
              "       [-0.15671903,  2.02134905],\n",
              "       [-0.13424784,  2.02509102],\n",
              "       [-0.11580667,  2.02892103],\n",
              "       [-0.09569962,  2.03283458],\n",
              "       [-0.0716359 ,  2.03682713],\n",
              "       [-0.04880097,  2.04089404],\n",
              "       [-0.02726549,  2.04503063],\n",
              "       [-0.00336636,  2.04923212],\n",
              "       [ 0.02389301,  2.05349371],\n",
              "       [ 0.04721026,  2.05781054],\n",
              "       [ 0.07338996,  2.06217771],\n",
              "       [ 0.09843156,  2.06659027],\n",
              "       [ 0.12276235,  2.07104325],\n",
              "       [ 0.14724909,  2.07553165],\n",
              "       [ 0.18108525,  2.08005046],\n",
              "       [ 0.20340167,  2.08459463],\n",
              "       [ 0.23311741,  2.08915914],\n",
              "       [ 0.25643046,  2.09373893],\n",
              "       [ 0.28097426,  2.09832896],\n",
              "       [ 0.30861032,  2.10292421],\n",
              "       [ 0.33913768,  2.10751966],\n",
              "       [ 0.36423787,  2.1121103 ],\n",
              "       [ 0.39896993,  2.11669117],\n",
              "       [ 0.42422221,  2.12125733],\n",
              "       [ 0.45276238,  2.12580388],\n",
              "       [ 0.4891482 ,  2.13032594],\n",
              "       [ 0.51298517,  2.13481871],\n",
              "       [ 0.54204991,  2.13927743],\n",
              "       [ 0.5828051 ,  2.14369739],\n",
              "       [ 0.60721961,  2.14807395],\n",
              "       [ 0.63690881,  2.15240254],\n",
              "       [ 0.66567971,  2.15667865],\n",
              "       [ 0.70209527,  2.16089787],\n",
              "       [ 0.73385196,  2.16505585],\n",
              "       [ 0.75307108,  2.16914834],\n",
              "       [ 0.7905869 ,  2.17317119],\n",
              "       [ 0.82267869,  2.17712032],\n",
              "       [ 0.8550783 ,  2.18099178],\n",
              "       [ 0.88009504,  2.1847817 ],\n",
              "       [ 0.91459959,  2.18848633],\n",
              "       [ 0.95193107,  2.19210204],\n",
              "       [ 0.98253773,  2.19562531],\n",
              "       [ 1.00713106,  2.19905275],\n",
              "       [ 1.04226502,  2.20238107],\n",
              "       [ 1.06988905,  2.20560713],\n",
              "       [ 1.10594648,  2.20872793],\n",
              "       [ 1.12420051,  2.21174057],\n",
              "       [ 1.16614533,  2.21464233],\n",
              "       [ 1.19520729,  2.2174306 ],\n",
              "       [ 1.22880836,  2.22010292],\n",
              "       [ 1.25214192,  2.222657  ],\n",
              "       [ 1.28466057,  2.22509067],\n",
              "       [ 1.31141721,  2.22740192],\n",
              "       [ 1.34587861,  2.22958891],\n",
              "       [ 1.37486353,  2.23164993],\n",
              "       [ 1.41057783,  2.23358345],\n",
              "       [ 1.43731299,  2.23538809],\n",
              "       [ 1.45637619,  2.23706263],\n",
              "       [ 1.49238491,  2.23860602],\n",
              "       [ 1.5204344 ,  2.24001738],\n",
              "       [ 1.55202597,  2.24129597],\n",
              "       [ 1.57972961,  2.24244124],\n",
              "       [ 1.60288311,  2.24345281],\n",
              "       [ 1.63143751,  2.24433044],\n",
              "       [ 1.66344489,  2.2450741 ],\n",
              "       [ 1.68460729,  2.24568388],\n",
              "       [ 1.71380027,  2.24616008],\n",
              "       [ 1.73588515,  2.24650314],\n",
              "       [ 1.76858705,  2.24671369],\n",
              "       [ 1.79519739,  2.24679252],\n",
              "       [ 1.81761461,  2.24674057],\n",
              "       [ 1.83895023,  2.24655896],\n",
              "       [ 1.86433752,  2.24624899],\n",
              "       [ 1.88907878,  2.24581209],\n",
              "       [ 1.91206948,  2.24524988],\n",
              "       [ 1.93720963,  2.24456413],\n",
              "       [ 1.9540234 ,  2.24375677],\n",
              "       [ 1.97578247,  2.24282987],\n",
              "       [ 1.99759227,  2.24178569],\n",
              "       [ 2.02442274,  2.24062661],\n",
              "       [ 2.03857147,  2.23935516],\n",
              "       [ 2.06253115,  2.23797404],\n",
              "       [ 2.08497496,  2.23648608],\n",
              "       [ 2.09664776,  2.23489423],\n",
              "       [ 2.11238436,  2.23320162],\n",
              "       [ 2.12890754,  2.23141147],\n",
              "       [ 2.15299851,  2.22952716],\n",
              "       [ 2.16968687,  2.22755217],\n",
              "       [ 2.18401448,  2.22549014],\n",
              "       [ 2.1964754 ,  2.22334477],\n",
              "       [ 2.21440693,  2.22111993],\n",
              "       [ 2.22304542,  2.21881956],\n",
              "       [ 2.24253134,  2.21644773],\n",
              "       [ 2.25436898,  2.21400858],\n",
              "       [ 2.2666544 ,  2.21150637],\n",
              "       [ 2.28358296,  2.20894543],\n",
              "       [ 2.28722884,  2.20633018],\n",
              "       [ 2.29668299,  2.20366513],\n",
              "       [ 2.31118008,  2.20095484],\n",
              "       [ 2.3232376 ,  2.19820394],\n",
              "       [ 2.32546272,  2.19541715],\n",
              "       [ 2.33236106,  2.1925992 ],\n",
              "       [ 2.34184493,  2.1897549 ],\n",
              "       [ 2.35096364,  2.1868891 ],\n",
              "       [ 2.35256434,  2.18400666],\n",
              "       [ 2.36333313,  2.18111251],\n",
              "       [ 2.37295808,  2.17821158],\n",
              "       [ 2.37091474,  2.17530881],\n",
              "       [ 2.37281872,  2.17240917],\n",
              "       [ 2.38497649,  2.16951763],\n",
              "       [ 2.37658069,  2.16663914],\n",
              "       [ 2.3859664 ,  2.16377867],\n",
              "       [ 2.38763681,  2.16094114],\n",
              "       [ 2.3799226 ,  2.15813148],\n",
              "       [ 2.38631025,  2.15535458],\n",
              "       [ 2.38888161,  2.15261528],\n",
              "       [ 2.38211229,  2.14991839],\n",
              "       [ 2.37293664,  2.14726868],\n",
              "       [ 2.3736507 ,  2.14467085],\n",
              "       [ 2.3791864 ,  2.14212954],\n",
              "       [ 2.36612623,  2.13964932],\n",
              "       [ 2.36789859,  2.13723469],\n",
              "       [ 2.35523559,  2.13489007],\n",
              "       [ 2.35092201,  2.13261978],\n",
              "       [ 2.34282951,  2.13042805],\n",
              "       [ 2.33706151,  2.12831903],\n",
              "       [ 2.3310571 ,  2.12629672],\n",
              "       [ 2.32124578,  2.12436504],\n",
              "       [ 2.30866783,  2.12252778],\n",
              "       [ 2.30078337,  2.12078862],\n",
              "       [ 2.28973783,  2.11915107],\n",
              "       [ 2.27751093,  2.11761856],\n",
              "       [ 2.26461336,  2.11619432],\n",
              "       [ 2.25109317,  2.11488148],\n",
              "       [ 2.24060548,  2.11368299],\n",
              "       [ 2.23367779,  2.11260166],\n",
              "       [ 2.21370675,  2.11164012],\n",
              "       [ 2.19953236,  2.11080086],\n",
              "       [ 2.18032583,  2.11008617],\n",
              "       [ 2.16456509,  2.10949818],\n",
              "       [ 2.15462208,  2.10903884],\n",
              "       [ 2.1322749 ,  2.10870993],\n",
              "       [ 2.11706697,  2.10851302],\n",
              "       [ 2.10073551,  2.1084495 ],\n",
              "       [ 2.07763937,  2.10852058],\n",
              "       [ 2.06396539,  2.10872726],\n",
              "       [ 2.04395614,  2.10907034],\n",
              "       [ 2.02404287,  2.10955043],\n",
              "       [ 1.99885816,  2.11016794],\n",
              "       [ 1.9807221 ,  2.11092305],\n",
              "       [ 1.95198053,  2.11181577],\n",
              "       [ 1.93549002,  2.11284588],\n",
              "       [ 1.91308847,  2.11401296],\n",
              "       [ 1.88819908,  2.11531637],\n",
              "       [ 1.86715085,  2.11675528],\n",
              "       [ 1.83719211,  2.11832862],\n",
              "       [ 1.81406436,  2.12003513],\n",
              "       [ 1.78572392,  2.12187334],\n",
              "       [ 1.76454496,  2.12384157],\n",
              "       [ 1.73659187,  2.12593793],\n",
              "       [ 1.71504568,  2.1281603 ],\n",
              "       [ 1.68268098,  2.1305064 ],\n",
              "       [ 1.65941702,  2.1329737 ],\n",
              "       [ 1.63037308,  2.13555948],\n",
              "       [ 1.60350801,  2.13826084],\n",
              "       [ 1.57710247,  2.14107466],\n",
              "       [ 1.55203187,  2.14399763],\n",
              "       [ 1.52390646,  2.14702624],\n",
              "       [ 1.48651615,  2.15015679],\n",
              "       [ 1.46273859,  2.15338541],\n",
              "       [ 1.42808453,  2.15670803],\n",
              "       [ 1.40208399,  2.1601204 ],\n",
              "       [ 1.36795815,  2.16361811],\n",
              "       [ 1.34327958,  2.16719657],\n",
              "       [ 1.31278656,  2.17085101],\n",
              "       [ 1.28001249,  2.17457653],\n",
              "       [ 1.24524694,  2.17836804],\n",
              "       [ 1.21091497,  2.18222032],\n",
              "       [ 1.17858316,  2.18612799],\n",
              "       [ 1.14926939,  2.19008555],\n",
              "       [ 1.1198326 ,  2.19408735],\n",
              "       [ 1.08910336,  2.19812761],\n",
              "       [ 1.05765323,  2.20220042],\n",
              "       [ 1.01888056,  2.20629978],\n",
              "       [ 0.98827463,  2.21041956],\n",
              "       [ 0.9585305 ,  2.21455354],\n",
              "       [ 0.92504314,  2.21869537],\n",
              "       [ 0.88999639,  2.22283866],\n",
              "       [ 0.85250596,  2.2269769 ],\n",
              "       [ 0.82887764,  2.23110352],\n",
              "       [ 0.79031913,  2.23521188],\n",
              "       [ 0.75118752,  2.23929526],\n",
              "       [ 0.72321368,  2.24334693]])"
            ]
          },
          "metadata": {
            "tags": []
          },
          "execution_count": 20
        }
      ]
    },
    {
      "cell_type": "code",
      "metadata": {
        "colab": {
          "base_uri": "https://localhost:8080/"
        },
        "id": "MpZrum2VzwdW",
        "outputId": "b8f58366-a199-40ab-f49e-5ddafeba9f3e"
      },
      "source": [
        "f_store[0][:10]"
      ],
      "execution_count": null,
      "outputs": [
        {
          "output_type": "execute_result",
          "data": {
            "text/plain": [
              "<tf.Tensor: shape=(10, 1), dtype=float64, numpy=\n",
              "array([[1.34795387],\n",
              "       [3.41270686],\n",
              "       [2.16304289],\n",
              "       [1.89931015],\n",
              "       [2.16818405],\n",
              "       [1.33168633],\n",
              "       [2.77878553],\n",
              "       [1.23648319],\n",
              "       [2.13211031],\n",
              "       [2.66790672]])>"
            ]
          },
          "metadata": {
            "tags": []
          },
          "execution_count": 65
        }
      ]
    },
    {
      "cell_type": "code",
      "metadata": {
        "colab": {
          "base_uri": "https://localhost:8080/"
        },
        "id": "FVfy1D4Zz06e",
        "outputId": "84ca1e8d-ff55-45ea-ac57-5a9f66a11a09"
      },
      "source": [
        "f[:10]"
      ],
      "execution_count": null,
      "outputs": [
        {
          "output_type": "execute_result",
          "data": {
            "text/plain": [
              "<tf.Tensor: shape=(10, 1), dtype=float64, numpy=\n",
              "array([[2.04485958],\n",
              "       [2.09262546],\n",
              "       [2.13688104],\n",
              "       [2.17746055],\n",
              "       [2.21421649],\n",
              "       [2.247021  ],\n",
              "       [2.27576704],\n",
              "       [2.30036951],\n",
              "       [2.32076619],\n",
              "       [2.33691857]])>"
            ]
          },
          "metadata": {
            "tags": []
          },
          "execution_count": 66
        }
      ]
    },
    {
      "cell_type": "code",
      "metadata": {
        "colab": {
          "base_uri": "https://localhost:8080/"
        },
        "id": "25Dscjv0ytdX",
        "outputId": "76517b73-209c-4819-e47e-18a6034fb004"
      },
      "source": [
        "f_real[:10]"
      ],
      "execution_count": null,
      "outputs": [
        {
          "output_type": "execute_result",
          "data": {
            "text/plain": [
              "<tf.Tensor: shape=(10, 1), dtype=float64, numpy=\n",
              "array([[-0.4409298 ],\n",
              "       [-0.40947939],\n",
              "       [-0.37647237],\n",
              "       [-0.34986478],\n",
              "       [-0.33449939],\n",
              "       [-0.30475083],\n",
              "       [-0.27914782],\n",
              "       [-0.26837298],\n",
              "       [-0.24061494],\n",
              "       [-0.22882297]])>"
            ]
          },
          "metadata": {
            "tags": []
          },
          "execution_count": 68
        }
      ]
    },
    {
      "cell_type": "code",
      "metadata": {
        "id": "BIZ0wdyiz-N2",
        "colab": {
          "base_uri": "https://localhost:8080/"
        },
        "outputId": "46f609df-62d9-4891-bc9d-7d25e24d4d08"
      },
      "source": [
        "neg_post"
      ],
      "execution_count": null,
      "outputs": [
        {
          "output_type": "execute_result",
          "data": {
            "text/plain": [
              "[<tf.Tensor: shape=(1, 1), dtype=float64, numpy=array([[9.55553182e+11]])>,\n",
              " array([[413.33258563]])]"
            ]
          },
          "metadata": {
            "tags": []
          },
          "execution_count": 69
        }
      ]
    },
    {
      "cell_type": "code",
      "metadata": {
        "colab": {
          "base_uri": "https://localhost:8080/"
        },
        "id": "udL2X2pGNydB",
        "outputId": "6095235a-459c-4700-e5a0-8752c3fad392"
      },
      "source": [
        "K = k(x_grid)\n",
        "f_real = tf.Variable(f_real)\n",
        "print('neg posterior:', -gpc_posterior(f_real, y, K))\n",
        "hess_diag = compute_hess_vec_obs_ll(f, y)\n",
        "print('neg marg ll:', -compute_marginal_ll(f, y, K, hess_diag))"
      ],
      "execution_count": null,
      "outputs": [
        {
          "output_type": "stream",
          "text": [
            "neg posterior: tf.Tensor([[8865520.88359763]], shape=(1, 1), dtype=float64)\n",
            "neg marg ll: tf.Tensor([[893.22214118]], shape=(1, 1), dtype=float64)\n"
          ],
          "name": "stdout"
        }
      ]
    },
    {
      "cell_type": "code",
      "metadata": {
        "colab": {
          "base_uri": "https://localhost:8080/"
        },
        "id": "D3NUHXQ9M1Ag",
        "outputId": "03775c36-a9af-4c1e-a31d-c8f99595167b"
      },
      "source": [
        "### Optimize posterior\n",
        "from gpflow.optimizers import NaturalGradient\n",
        "from gpflow.optimizers import Scipy\n",
        "\n",
        "def get_gradients():\n",
        "  with tf.GradientTape() as tape:\n",
        "    ngpc = -gpc_posterior(f, y, K)\n",
        "    nmll = -compute_marginal_ll(f, y, tf.cast(k(x_grid), tf.float32), hess_diag)\n",
        "  tape.gradient()\n",
        "\n",
        "opt = Scipy()\n",
        "\n",
        "f = tf.Variable(tf.random.normal(mean=2., shape=f_real.shape, dtype=tf.float64))\n",
        "\n",
        "x_grid_tf = tf.constant(x_grid, dtype=tf.float64)\n",
        "\n",
        "neg_post = [-gpc_posterior(f, y, K)]\n",
        "hess_diag = compute_hess_vec_obs_ll(f, y)\n",
        "marg_ll = [-compute_marginal_ll(f, y, k(x_grid), hess_diag)]\n",
        "\n",
        "for i in range(10):\n",
        "  #K = tf.cast(k(x_grid_tf), dtype=tf.float32)\n",
        "  print(i, tf.reduce_mean(tf.abs(f - f_real)))\n",
        "  K = k(x_grid)\n",
        "  opt_res = Scipy().minimize(lambda: -gpc_posterior(f, y, K), [f])\n",
        "  neg_post.append(opt_res.fun)\n",
        "  \n",
        "  hess_diag = compute_hess_vec_obs_ll(f, y)\n",
        "  #print(i, tf.reduce_mean(hess_diag))\n",
        "  print(i, 'MargLL:', -compute_marginal_ll(f, y, k(x_grid_tf), hess_diag))\n",
        "  print([i.numpy() for i in k.trainable_variables])\n",
        "  opt_res = Scipy().minimize(\n",
        "      lambda: -compute_marginal_ll(f, y, k(x_grid_tf), hess_diag), \n",
        "      k.trainable_variables)\n",
        "  print([i.numpy() for i in k.trainable_variables])\n",
        "  marg_ll.append(opt_res.fun)\n",
        "  "
      ],
      "execution_count": null,
      "outputs": [
        {
          "output_type": "stream",
          "text": [
            "0 tf.Tensor(1.928219050172089, shape=(), dtype=float64)\n",
            "0 MargLL: tf.Tensor([[233.50657984]], shape=(1, 1), dtype=float64)\n",
            "[0.4970121932311086, 6.663154565288815]\n",
            "[0.49520281615051476, 15.854479157600773]\n",
            "1 tf.Tensor(1.805721203834451, shape=(), dtype=float64)\n",
            "1 MargLL: tf.Tensor([[228.04209319]], shape=(1, 1), dtype=float64)\n",
            "[0.49520281615051476, 15.854479157600773]\n",
            "[0.493641928838027, 15.854478197606813]\n",
            "2 tf.Tensor(1.8057210007892959, shape=(), dtype=float64)\n",
            "2 MargLL: tf.Tensor([[228.02053078]], shape=(1, 1), dtype=float64)\n",
            "[0.493641928838027, 15.854478197606813]\n",
            "[0.4922691082305981, 15.854476147887897]\n",
            "3 tf.Tensor(1.8057207866792504, shape=(), dtype=float64)\n",
            "3 MargLL: tf.Tensor([[228.0034841]], shape=(1, 1), dtype=float64)\n",
            "[0.4922691082305981, 15.854476147887897]\n",
            "[0.4910356614008378, 15.854473210873172]\n",
            "4 tf.Tensor(1.8057205587978715, shape=(), dtype=float64)\n",
            "4 MargLL: tf.Tensor([[227.98952183]], shape=(1, 1), dtype=float64)\n",
            "[0.4910356614008378, 15.854473210873172]\n",
            "[0.48991782446735505, 15.854469530102584]\n",
            "5 tf.Tensor(1.8057203087119498, shape=(), dtype=float64)\n",
            "5 MargLL: tf.Tensor([[227.97783003]], shape=(1, 1), dtype=float64)\n",
            "[0.48991782446735505, 15.854469530102584]\n",
            "[0.4888876847440996, 15.854465209004681]\n",
            "6 tf.Tensor(1.8057200322131377, shape=(), dtype=float64)\n",
            "6 MargLL: tf.Tensor([[227.96936346]], shape=(1, 1), dtype=float64)\n",
            "[0.4888876847440996, 15.854465209004681]\n",
            "[0.48822552841980166, 15.854460512692727]\n",
            "7 tf.Tensor(1.8057200234239463, shape=(), dtype=float64)\n",
            "7 MargLL: tf.Tensor([[227.96222517]], shape=(1, 1), dtype=float64)\n",
            "[0.48822552841980166, 15.854460512692727]\n",
            "[0.48733512635284454, 15.85445531968697]\n",
            "8 tf.Tensor(1.8057197547170258, shape=(), dtype=float64)\n",
            "8 MargLL: tf.Tensor([[227.95592688]], shape=(1, 1), dtype=float64)\n",
            "[0.48733512635284454, 15.85445531968697]\n",
            "[0.4867660381817492, 15.854442460921804]\n",
            "9 tf.Tensor(1.8057197452252791, shape=(), dtype=float64)\n",
            "9 MargLL: tf.Tensor([[227.93482108]], shape=(1, 1), dtype=float64)\n",
            "[0.4867660381817492, 15.854442460921804]\n",
            "[0.4857179189939034, 15.854435726777227]\n"
          ],
          "name": "stdout"
        }
      ]
    },
    {
      "cell_type": "code",
      "metadata": {
        "colab": {
          "base_uri": "https://localhost:8080/"
        },
        "id": "h-r4PY4dlWjp",
        "outputId": "2dded06d-e174-4175-ff45-8ef5a936be66"
      },
      "source": [
        "with tf.GradientTape() as tape:\n",
        "  nmll = -compute_marginal_ll(f, y, k(x_grid_tf), hess_diag)\n",
        "print([i.numpy() for i in k.trainable_variables])\n",
        "tape.gradient(nmll, k.trainable_variables)\n",
        "print([i.numpy() for i in k.trainable_variables])"
      ],
      "execution_count": null,
      "outputs": [
        {
          "output_type": "stream",
          "text": [
            "[0.38832099489518174, 15.754450086547237]\n",
            "[0.38832099489518174, 15.754450086547237]\n"
          ],
          "name": "stdout"
        }
      ]
    },
    {
      "cell_type": "code",
      "metadata": {
        "colab": {
          "base_uri": "https://localhost:8080/"
        },
        "id": "MO3kLtF5x4GD",
        "outputId": "0c464cc2-43f9-45dc-9bc3-b18aa6677981"
      },
      "source": [
        "neg_post"
      ],
      "execution_count": null,
      "outputs": [
        {
          "output_type": "execute_result",
          "data": {
            "text/plain": [
              "[<tf.Tensor: shape=(1, 1), dtype=float64, numpy=array([[1.05762912e+12]])>,\n",
              " array([[409.58022095]]),\n",
              " array([[401.58010584]]),\n",
              " array([[401.55143664]]),\n",
              " array([[401.528133]]),\n",
              " array([[401.50854384]]),\n",
              " array([[401.49174831]]),\n",
              " array([[401.47857581]]),\n",
              " array([[401.46841033]]),\n",
              " array([[401.45804005]]),\n",
              " array([[401.43430254]])]"
            ]
          },
          "metadata": {
            "tags": []
          },
          "execution_count": 55
        }
      ]
    },
    {
      "cell_type": "code",
      "metadata": {
        "colab": {
          "base_uri": "https://localhost:8080/"
        },
        "id": "LHDxXcbUmCYK",
        "outputId": "dbcccfe2-94c7-4743-a60a-949bb7f8a3f7"
      },
      "source": [
        "opt = tf.keras.optimizers.Adam(learning_rate=0.01)\n",
        "print([i.numpy() for i in k.trainable_variables])\n",
        "opt_list = [\n",
        "  opt.minimize(lambda: -compute_marginal_ll(f, y, k(x_grid_tf), hess_diag), k.trainable_variables)\n",
        "    for _ in range(1000)\n",
        "]\n",
        "\n",
        "print([i.numpy() for i in k.trainable_variables])"
      ],
      "execution_count": null,
      "outputs": [
        {
          "output_type": "stream",
          "text": [
            "[0.4857159894966842, 15.832121010409272]\n",
            "[0.4856443849694958, 15.093920511037295]\n"
          ],
          "name": "stdout"
        }
      ]
    },
    {
      "cell_type": "code",
      "metadata": {
        "colab": {
          "base_uri": "https://localhost:8080/"
        },
        "id": "i8_-tXbGkldt",
        "outputId": "0692bfd1-0a2d-468a-c438-6076d213c50b"
      },
      "source": [
        "-compute_marginal_ll(f, y, k(x_grid_tf), hess_diag)"
      ],
      "execution_count": null,
      "outputs": [
        {
          "output_type": "execute_result",
          "data": {
            "text/plain": [
              "<tf.Tensor: shape=(1, 1), dtype=float64, numpy=array([[227.92909695]])>"
            ]
          },
          "metadata": {
            "tags": []
          },
          "execution_count": 46
        }
      ]
    },
    {
      "cell_type": "code",
      "metadata": {
        "colab": {
          "base_uri": "https://localhost:8080/"
        },
        "id": "JckqOhkekfWo",
        "outputId": "72092ae8-138b-4932-c057-7a25e037f382"
      },
      "source": [
        "-compute_marginal_ll(f, y, k(x_grid_tf), hess_diag)"
      ],
      "execution_count": null,
      "outputs": [
        {
          "output_type": "execute_result",
          "data": {
            "text/plain": [
              "<tf.Tensor: shape=(1, 1), dtype=float64, numpy=array([[276.44208163]])>"
            ]
          },
          "metadata": {
            "tags": []
          },
          "execution_count": 42
        }
      ]
    },
    {
      "cell_type": "code",
      "metadata": {
        "colab": {
          "base_uri": "https://localhost:8080/",
          "height": 350
        },
        "id": "Tbu5V-eCNb8Z",
        "outputId": "af86af5c-364f-424f-bbc6-c30ea28d3bec"
      },
      "source": [
        "opt_res = Scipy().minimize(\n",
        "    lambda: -gpc_posterior(f, y, K), [f],\n",
        "    **{\n",
        "  #       'gtol': 1e-05, \n",
        " #        'eps': 1e-08, \n",
        "         'maxiter': 15000, \n",
        "         'ftol': 2.220446049250313e-09\n",
        "    })"
      ],
      "execution_count": null,
      "outputs": [
        {
          "output_type": "error",
          "ename": "TypeError",
          "evalue": "ignored",
          "traceback": [
            "\u001b[0;31m---------------------------------------------------------------------------\u001b[0m",
            "\u001b[0;31mTypeError\u001b[0m                                 Traceback (most recent call last)",
            "\u001b[0;32m<ipython-input-61-582bde3e2d70>\u001b[0m in \u001b[0;36m<module>\u001b[0;34m()\u001b[0m\n\u001b[1;32m      5\u001b[0m  \u001b[0;31m#        'eps': 1e-08,\u001b[0m\u001b[0;34m\u001b[0m\u001b[0;34m\u001b[0m\u001b[0;34m\u001b[0m\u001b[0m\n\u001b[1;32m      6\u001b[0m          \u001b[0;34m'maxiter'\u001b[0m\u001b[0;34m:\u001b[0m \u001b[0;36m15000\u001b[0m\u001b[0;34m,\u001b[0m\u001b[0;34m\u001b[0m\u001b[0;34m\u001b[0m\u001b[0m\n\u001b[0;32m----> 7\u001b[0;31m          \u001b[0;34m'ftol'\u001b[0m\u001b[0;34m:\u001b[0m \u001b[0;36m2.220446049250313e-09\u001b[0m\u001b[0;34m\u001b[0m\u001b[0;34m\u001b[0m\u001b[0m\n\u001b[0m\u001b[1;32m      8\u001b[0m     })\n",
            "\u001b[0;32m/usr/local/lib/python3.7/dist-packages/gpflow/optimizers/scipy.py\u001b[0m in \u001b[0;36mminimize\u001b[0;34m(self, closure, variables, method, step_callback, compile, **scipy_kwargs)\u001b[0m\n\u001b[1;32m     89\u001b[0m \u001b[0;34m\u001b[0m\u001b[0m\n\u001b[1;32m     90\u001b[0m         return scipy.optimize.minimize(\n\u001b[0;32m---> 91\u001b[0;31m             \u001b[0mfunc\u001b[0m\u001b[0;34m,\u001b[0m \u001b[0minitial_params\u001b[0m\u001b[0;34m,\u001b[0m \u001b[0mjac\u001b[0m\u001b[0;34m=\u001b[0m\u001b[0;32mTrue\u001b[0m\u001b[0;34m,\u001b[0m \u001b[0mmethod\u001b[0m\u001b[0;34m=\u001b[0m\u001b[0mmethod\u001b[0m\u001b[0;34m,\u001b[0m \u001b[0;34m**\u001b[0m\u001b[0mscipy_kwargs\u001b[0m\u001b[0;34m\u001b[0m\u001b[0;34m\u001b[0m\u001b[0m\n\u001b[0m\u001b[1;32m     92\u001b[0m         )\n\u001b[1;32m     93\u001b[0m \u001b[0;34m\u001b[0m\u001b[0m\n",
            "\u001b[0;31mTypeError\u001b[0m: minimize() got an unexpected keyword argument 'maxiter'"
          ]
        }
      ]
    },
    {
      "cell_type": "code",
      "metadata": {
        "id": "ola28BkGNdT4"
      },
      "source": [
        "??Scipy().minimize"
      ],
      "execution_count": null,
      "outputs": []
    },
    {
      "cell_type": "code",
      "metadata": {
        "colab": {
          "base_uri": "https://localhost:8080/"
        },
        "id": "fhbkThiYRhDq",
        "outputId": "c63eb20e-6e41-4052-a5c3-c71392385522"
      },
      "source": [
        "neg_post"
      ],
      "execution_count": null,
      "outputs": [
        {
          "output_type": "execute_result",
          "data": {
            "text/plain": [
              "[<tf.Tensor: shape=(1, 1), dtype=float64, numpy=array([[9.01147014e+11]])>,\n",
              " array([[419.04129102]]),\n",
              " array([[402.09938264]]),\n",
              " array([[402.05721902]]),\n",
              " array([[402.020729]]),\n",
              " array([[401.98852282]]),\n",
              " array([[401.95995842]]),\n",
              " array([[402.07783787]]),\n",
              " array([[402.05038212]]),\n",
              " array([[402.0258164]]),\n",
              " array([[402.0028788]]),\n",
              " array([[401.98403337]]),\n",
              " array([[402.06160614]]),\n",
              " array([[402.04100406]]),\n",
              " array([[402.02145667]]),\n",
              " array([[402.00515407]]),\n",
              " array([[401.99121717]]),\n",
              " array([[401.9748981]]),\n",
              " array([[401.96075798]]),\n",
              " array([[402.04697315]]),\n",
              " array([[402.03094695]]),\n",
              " array([[402.0168002]]),\n",
              " array([[402.00465667]]),\n",
              " array([[401.99204109]]),\n",
              " array([[401.98097841]]),\n",
              " array([[401.96925799]])]"
            ]
          },
          "metadata": {
            "tags": []
          },
          "execution_count": 8
        }
      ]
    },
    {
      "cell_type": "code",
      "metadata": {
        "colab": {
          "base_uri": "https://localhost:8080/"
        },
        "id": "gZDsXgQDZVkh",
        "outputId": "7ea8ae38-4ae7-4a9d-c23f-718c46d252ea"
      },
      "source": [
        "marg_ll"
      ],
      "execution_count": null,
      "outputs": [
        {
          "output_type": "execute_result",
          "data": {
            "text/plain": [
              "[<tf.Tensor: shape=(1, 1), dtype=float64, numpy=array([[9.01147014e+11]])>,\n",
              " array([[225.93517492]]),\n",
              " array([[225.8978915]]),\n",
              " array([[225.86636291]]),\n",
              " array([[225.83913239]]),\n",
              " array([[225.81546972]]),\n",
              " array([[225.78388989]]),\n",
              " array([[225.76102876]]),\n",
              " array([[225.74094626]]),\n",
              " array([[225.72244625]]),\n",
              " array([[225.70566604]]),\n",
              " array([[225.6919153]]),\n",
              " array([[225.67406129]]),\n",
              " array([[225.65864178]]),\n",
              " array([[225.64450039]]),\n",
              " array([[225.63619103]]),\n",
              " array([[225.62274795]]),\n",
              " array([[225.61078661]]),\n",
              " array([[225.59905799]]),\n",
              " array([[225.58597128]]),\n",
              " array([[225.57404209]]),\n",
              " array([[225.5666162]]),\n",
              " array([[225.55535086]]),\n",
              " array([[225.54901893]]),\n",
              " array([[225.53850861]]),\n",
              " array([[225.52990469]])]"
            ]
          },
          "metadata": {
            "tags": []
          },
          "execution_count": 9
        }
      ]
    },
    {
      "cell_type": "code",
      "metadata": {
        "colab": {
          "base_uri": "https://localhost:8080/"
        },
        "id": "NumVCdo8HH-d",
        "outputId": "ba53d2a2-d80a-4096-d6bc-e6c894100836"
      },
      "source": [
        "### Visualization\n",
        "import tensorflow_probability as tfp\n",
        "tfpd = tfp.distributions\n",
        "\n",
        "K = k(x_grid)\n",
        "hess_diag = compute_hess_vec_obs_ll(f, y)\n",
        "\n",
        "cov_mat = compute_posterior_covariance(K, hess_diag) + 10e-6*tf.eye(K.shape[0], dtype=tf.float64)\n",
        "\n",
        "mvn = tfpd.MultivariateNormalFullCovariance(loc=tf.squeeze(f[:2]), covariance_matrix=cov_mat[:2, :2])"
      ],
      "execution_count": null,
      "outputs": [
        {
          "output_type": "stream",
          "text": [
            "WARNING:tensorflow:From /usr/local/lib/python3.7/dist-packages/tensorflow_probability/python/distributions/distribution.py:346: MultivariateNormalFullCovariance.__init__ (from tensorflow_probability.python.distributions.mvn_full_covariance) is deprecated and will be removed after 2019-12-01.\n",
            "Instructions for updating:\n",
            "`MultivariateNormalFullCovariance` is deprecated, use `MultivariateNormalTriL(loc=loc, scale_tril=tf.linalg.cholesky(covariance_matrix))` instead.\n"
          ],
          "name": "stdout"
        }
      ]
    },
    {
      "cell_type": "code",
      "metadata": {
        "colab": {
          "base_uri": "https://localhost:8080/",
          "height": 504
        },
        "id": "lOMDtjMQKmAZ",
        "outputId": "c9b393ee-3c74-42ce-c5b2-3c2952acdf58"
      },
      "source": [
        "import matplotlib.pyplot as plt\n",
        "\n",
        "m = np.linspace(-1, 1, num=10)\n",
        "xx, yy = np.meshgrid(m, m)\n",
        "mesh = np.dstack((xx, yy)).reshape(-1, 2)\n",
        "\n",
        "dens = tf.reshape(mvn.prob(mesh), shape=(m.shape[0], m.shape[0]))\n",
        "\n",
        "plt.contourf(m, m, dens)"
      ],
      "execution_count": null,
      "outputs": [
        {
          "output_type": "execute_result",
          "data": {
            "text/plain": [
              "<matplotlib.contour.QuadContourSet at 0x7fa10cbaa5d0>"
            ]
          },
          "metadata": {
            "tags": []
          },
          "execution_count": 12
        },
        {
          "output_type": "display_data",
          "data": {
            "image/png": "[encoded data removed]",
            "text/plain": [
              "<Figure size 864x576 with 1 Axes>"
            ]
          },
          "metadata": {
            "tags": [],
            "needs_background": "light"
          }
        }
      ]
    },
    {
      "cell_type": "code",
      "metadata": {
        "id": "HBZyxtcEIXXF"
      },
      "source": [
        ""
      ],
      "execution_count": null,
      "outputs": []
    },
    {
      "cell_type": "code",
      "metadata": {
        "colab": {
          "base_uri": "https://localhost:8080/"
        },
        "id": "6WV8R2wdJmri",
        "outputId": "3f73a8a6-1b46-402d-eef8-120ef0710696"
      },
      "source": [
        "y"
      ],
      "execution_count": null,
      "outputs": [
        {
          "output_type": "execute_result",
          "data": {
            "text/plain": [
              "<tf.Tensor: shape=(200, 1), dtype=int32, numpy=\n",
              "array([[1],\n",
              "       [0],\n",
              "       [1],\n",
              "       [0],\n",
              "       [1],\n",
              "       [1],\n",
              "       [1],\n",
              "       [0],\n",
              "       [1],\n",
              "       [1],\n",
              "       [1],\n",
              "       [0],\n",
              "       [0],\n",
              "       [1],\n",
              "       [0],\n",
              "       [0],\n",
              "       [0],\n",
              "       [0],\n",
              "       [0],\n",
              "       [1],\n",
              "       [0],\n",
              "       [0],\n",
              "       [1],\n",
              "       [0],\n",
              "       [0],\n",
              "       [1],\n",
              "       [1],\n",
              "       [1],\n",
              "       [0],\n",
              "       [1],\n",
              "       [1],\n",
              "       [1],\n",
              "       [0],\n",
              "       [0],\n",
              "       [1],\n",
              "       [0],\n",
              "       [1],\n",
              "       [1],\n",
              "       [0],\n",
              "       [1],\n",
              "       [0],\n",
              "       [0],\n",
              "       [0],\n",
              "       [1],\n",
              "       [1],\n",
              "       [1],\n",
              "       [1],\n",
              "       [1],\n",
              "       [0],\n",
              "       [1],\n",
              "       [0],\n",
              "       [0],\n",
              "       [1],\n",
              "       [0],\n",
              "       [0],\n",
              "       [1],\n",
              "       [1],\n",
              "       [1],\n",
              "       [0],\n",
              "       [1],\n",
              "       [0],\n",
              "       [0],\n",
              "       [1],\n",
              "       [0],\n",
              "       [1],\n",
              "       [1],\n",
              "       [0],\n",
              "       [1],\n",
              "       [0],\n",
              "       [1],\n",
              "       [1],\n",
              "       [1],\n",
              "       [0],\n",
              "       [1],\n",
              "       [0],\n",
              "       [0],\n",
              "       [0],\n",
              "       [0],\n",
              "       [1],\n",
              "       [1],\n",
              "       [1],\n",
              "       [1],\n",
              "       [1],\n",
              "       [0],\n",
              "       [0],\n",
              "       [0],\n",
              "       [1],\n",
              "       [0],\n",
              "       [1],\n",
              "       [1],\n",
              "       [1],\n",
              "       [1],\n",
              "       [0],\n",
              "       [1],\n",
              "       [0],\n",
              "       [0],\n",
              "       [0],\n",
              "       [1],\n",
              "       [0],\n",
              "       [1],\n",
              "       [0],\n",
              "       [1],\n",
              "       [0],\n",
              "       [1],\n",
              "       [1],\n",
              "       [0],\n",
              "       [1],\n",
              "       [1],\n",
              "       [1],\n",
              "       [1],\n",
              "       [1],\n",
              "       [1],\n",
              "       [0],\n",
              "       [0],\n",
              "       [1],\n",
              "       [0],\n",
              "       [0],\n",
              "       [1],\n",
              "       [1],\n",
              "       [1],\n",
              "       [0],\n",
              "       [1],\n",
              "       [0],\n",
              "       [0],\n",
              "       [1],\n",
              "       [1],\n",
              "       [1],\n",
              "       [1],\n",
              "       [0],\n",
              "       [1],\n",
              "       [0],\n",
              "       [1],\n",
              "       [1],\n",
              "       [1],\n",
              "       [1],\n",
              "       [0],\n",
              "       [1],\n",
              "       [1],\n",
              "       [0],\n",
              "       [0],\n",
              "       [0],\n",
              "       [1],\n",
              "       [0],\n",
              "       [1],\n",
              "       [0],\n",
              "       [1],\n",
              "       [0],\n",
              "       [0],\n",
              "       [0],\n",
              "       [0],\n",
              "       [0],\n",
              "       [1],\n",
              "       [1],\n",
              "       [0],\n",
              "       [1],\n",
              "       [1],\n",
              "       [1],\n",
              "       [1],\n",
              "       [1],\n",
              "       [1],\n",
              "       [1],\n",
              "       [0],\n",
              "       [1],\n",
              "       [1],\n",
              "       [0],\n",
              "       [0],\n",
              "       [0],\n",
              "       [0],\n",
              "       [0],\n",
              "       [0],\n",
              "       [1],\n",
              "       [0],\n",
              "       [0],\n",
              "       [0],\n",
              "       [1],\n",
              "       [1],\n",
              "       [0],\n",
              "       [1],\n",
              "       [1],\n",
              "       [0],\n",
              "       [1],\n",
              "       [1],\n",
              "       [1],\n",
              "       [0],\n",
              "       [1],\n",
              "       [1],\n",
              "       [1],\n",
              "       [0],\n",
              "       [1],\n",
              "       [0],\n",
              "       [1],\n",
              "       [1],\n",
              "       [0],\n",
              "       [1],\n",
              "       [1],\n",
              "       [0],\n",
              "       [0],\n",
              "       [1],\n",
              "       [1],\n",
              "       [0]], dtype=int32)>"
            ]
          },
          "metadata": {
            "tags": []
          },
          "execution_count": 35
        }
      ]
    },
    {
      "cell_type": "code",
      "metadata": {
        "colab": {
          "base_uri": "https://localhost:8080/"
        },
        "id": "vSLksYhDI_HN",
        "outputId": "6244becd-9eac-4fc7-e42f-9a4310b58c34"
      },
      "source": [
        "tf.math.sigmoid(f)"
      ],
      "execution_count": null,
      "outputs": [
        {
          "output_type": "execute_result",
          "data": {
            "text/plain": [
              "<tf.Tensor: shape=(200, 1), dtype=float64, numpy=\n",
              "array([[0.48395801],\n",
              "       [0.48128774],\n",
              "       [0.47914282],\n",
              "       [0.47753539],\n",
              "       [0.4764736 ],\n",
              "       [0.4759616 ],\n",
              "       [0.47599934],\n",
              "       [0.47658259],\n",
              "       [0.47770286],\n",
              "       [0.47934729],\n",
              "       [0.4814987 ],\n",
              "       [0.48413551],\n",
              "       [0.4872318 ],\n",
              "       [0.49075735],\n",
              "       [0.49467777],\n",
              "       [0.49895464],\n",
              "       [0.50354575],\n",
              "       [0.50840537],\n",
              "       [0.51348466],\n",
              "       [0.51873206],\n",
              "       [0.52409378],\n",
              "       [0.52951436],\n",
              "       [0.5349372 ],\n",
              "       [0.54030523],\n",
              "       [0.54556146],\n",
              "       [0.5506496 ],\n",
              "       [0.55551465],\n",
              "       [0.56010342],\n",
              "       [0.56436501],\n",
              "       [0.56825127],\n",
              "       [0.57171714],\n",
              "       [0.574721  ],\n",
              "       [0.57722487],\n",
              "       [0.57919469],\n",
              "       [0.58060042],\n",
              "       [0.58141624],\n",
              "       [0.58162068],\n",
              "       [0.58119671],\n",
              "       [0.58013191],\n",
              "       [0.57841864],\n",
              "       [0.57605417],\n",
              "       [0.57304087],\n",
              "       [0.56938647],\n",
              "       [0.56510417],\n",
              "       [0.56021291],\n",
              "       [0.55473749],\n",
              "       [0.54870868],\n",
              "       [0.54216327],\n",
              "       [0.53514401],\n",
              "       [0.52769944],\n",
              "       [0.51988355],\n",
              "       [0.51175541],\n",
              "       [0.50337851],\n",
              "       [0.49482008],\n",
              "       [0.48615027],\n",
              "       [0.47744117],\n",
              "       [0.46876586],\n",
              "       [0.46019734],\n",
              "       [0.45180758],\n",
              "       [0.44366655],\n",
              "       [0.4358413 ],\n",
              "       [0.42839527],\n",
              "       [0.42138763],\n",
              "       [0.41487281],\n",
              "       [0.40890015],\n",
              "       [0.40351373],\n",
              "       [0.39875227],\n",
              "       [0.39464916],\n",
              "       [0.39123256],\n",
              "       [0.38852555],\n",
              "       [0.38654626],\n",
              "       [0.38530806],\n",
              "       [0.38481973],\n",
              "       [0.38508546],\n",
              "       [0.38610498],\n",
              "       [0.38787351],\n",
              "       [0.39038169],\n",
              "       [0.39361545],\n",
              "       [0.39755588],\n",
              "       [0.40217904],\n",
              "       [0.40745578],\n",
              "       [0.41335165],\n",
              "       [0.41982676],\n",
              "       [0.42683586],\n",
              "       [0.4343284 ],\n",
              "       [0.44224879],\n",
              "       [0.45053684],\n",
              "       [0.45912823],\n",
              "       [0.46795524],\n",
              "       [0.47694753],\n",
              "       [0.48603307],\n",
              "       [0.49513914],\n",
              "       [0.50419332],\n",
              "       [0.51312455],\n",
              "       [0.52186406],\n",
              "       [0.53034633],\n",
              "       [0.53850983],\n",
              "       [0.54629771],\n",
              "       [0.55365827],\n",
              "       [0.56054541],\n",
              "       [0.56691874],\n",
              "       [0.57274378],\n",
              "       [0.57799183],\n",
              "       [0.58263994],\n",
              "       [0.58667063],\n",
              "       [0.59007172],\n",
              "       [0.59283603],\n",
              "       [0.59496109],\n",
              "       [0.59644889],\n",
              "       [0.59730559],\n",
              "       [0.59754133],\n",
              "       [0.59716997],\n",
              "       [0.59620894],\n",
              "       [0.59467902],\n",
              "       [0.59260423],\n",
              "       [0.59001167],\n",
              "       [0.58693132],\n",
              "       [0.58339587],\n",
              "       [0.57944055],\n",
              "       [0.57510287],\n",
              "       [0.57042232],\n",
              "       [0.56544011],\n",
              "       [0.56019877],\n",
              "       [0.55474178],\n",
              "       [0.54911315],\n",
              "       [0.54335695],\n",
              "       [0.53751687],\n",
              "       [0.53163577],\n",
              "       [0.5257552 ],\n",
              "       [0.51991497],\n",
              "       [0.51415281],\n",
              "       [0.50850394],\n",
              "       [0.50300081],\n",
              "       [0.49767287],\n",
              "       [0.49254633],\n",
              "       [0.48764409],\n",
              "       [0.48298564],\n",
              "       [0.47858707],\n",
              "       [0.4744611 ],\n",
              "       [0.47061716],\n",
              "       [0.46706156],\n",
              "       [0.46379762],\n",
              "       [0.46082588],\n",
              "       [0.45814434],\n",
              "       [0.45574867],\n",
              "       [0.4536325 ],\n",
              "       [0.45178764],\n",
              "       [0.45020438],\n",
              "       [0.44887177],\n",
              "       [0.44777787],\n",
              "       [0.44691001],\n",
              "       [0.4462551 ],\n",
              "       [0.44579982],\n",
              "       [0.44553092],\n",
              "       [0.44543542],\n",
              "       [0.44550084],\n",
              "       [0.4457154 ],\n",
              "       [0.4460682 ],\n",
              "       [0.4465494 ],\n",
              "       [0.44715033],\n",
              "       [0.44786365],\n",
              "       [0.44868343],\n",
              "       [0.44960523],\n",
              "       [0.45062612],\n",
              "       [0.45174473],\n",
              "       [0.45296125],\n",
              "       [0.45427738],\n",
              "       [0.4556963 ],\n",
              "       [0.45722258],\n",
              "       [0.45886209],\n",
              "       [0.46062188],\n",
              "       [0.46251004],\n",
              "       [0.46453554],\n",
              "       [0.46670808],\n",
              "       [0.4690379 ],\n",
              "       [0.47153556],\n",
              "       [0.4742118 ],\n",
              "       [0.47707725],\n",
              "       [0.48014227],\n",
              "       [0.48341673],\n",
              "       [0.48690978],\n",
              "       [0.49062962],\n",
              "       [0.49458335],\n",
              "       [0.49877671],\n",
              "       [0.5032139 ],\n",
              "       [0.50789743],\n",
              "       [0.51282794],\n",
              "       [0.51800406],\n",
              "       [0.5234223 ],\n",
              "       [0.52907693],\n",
              "       [0.53495995],\n",
              "       [0.54106106],\n",
              "       [0.54736762],\n",
              "       [0.55386475],\n",
              "       [0.56053534],\n",
              "       [0.56736023],\n",
              "       [0.57431832],\n",
              "       [0.58138679],\n",
              "       [0.58854128],\n",
              "       [0.59575619]])>"
            ]
          },
          "metadata": {
            "tags": []
          },
          "execution_count": 34
        }
      ]
    },
    {
      "cell_type": "code",
      "metadata": {
        "colab": {
          "base_uri": "https://localhost:8080/"
        },
        "id": "D_awDJnzOe4S",
        "outputId": "cf93d42d-cc5b-4aaf-f058-55c6c8535e08"
      },
      "source": [
        "with tf.GradientTape() as tape:\n",
        "  ngpc = -gpc_posterior(f, y, K)\n",
        "  nmll = -compute_marginal_ll(f, y, tf.cast(k(x_grid), tf.float32), hess_diag)\n",
        "tape.gradient(nmll, [f, k.trainable_variables])"
      ],
      "execution_count": null,
      "outputs": [
        {
          "output_type": "execute_result",
          "data": {
            "text/plain": [
              "[<tf.Tensor: shape=(200, 1), dtype=float32, numpy=\n",
              " array([[ -772.5556   ],\n",
              "        [ -201.0639   ],\n",
              "        [  213.2083   ],\n",
              "        [  153.32002  ],\n",
              "        [  545.0853   ],\n",
              "        [  363.60873  ],\n",
              "        [  390.21664  ],\n",
              "        [ -459.41174  ],\n",
              "        [  265.6429   ],\n",
              "        [ -156.199    ],\n",
              "        [  263.83395  ],\n",
              "        [ -605.73224  ],\n",
              "        [   65.227234 ],\n",
              "        [  950.0456   ],\n",
              "        [  -54.100628 ],\n",
              "        [ -649.5994   ],\n",
              "        [  155.39876  ],\n",
              "        [  493.7262   ],\n",
              "        [-1242.3228   ],\n",
              "        [  -36.396126 ],\n",
              "        [ 1028.8145   ],\n",
              "        [ -925.4663   ],\n",
              "        [   52.988544 ],\n",
              "        [  -47.47816  ],\n",
              "        [-1343.3793   ],\n",
              "        [   59.232944 ],\n",
              "        [  252.13057  ],\n",
              "        [  -39.041958 ],\n",
              "        [  452.57965  ],\n",
              "        [ 1250.2305   ],\n",
              "        [ -188.93306  ],\n",
              "        [  -95.8463   ],\n",
              "        [  454.72308  ],\n",
              "        [  -65.30589  ],\n",
              "        [-1316.1783   ],\n",
              "        [ 1193.6177   ],\n",
              "        [ -283.2562   ],\n",
              "        [ -292.9817   ],\n",
              "        [  456.79962  ],\n",
              "        [-1033.8195   ],\n",
              "        [  211.4724   ],\n",
              "        [  894.78613  ],\n",
              "        [  171.37108  ],\n",
              "        [ -452.6307   ],\n",
              "        [  383.81277  ],\n",
              "        [  193.6707   ],\n",
              "        [ -313.7412   ],\n",
              "        [ -125.057205 ],\n",
              "        [  900.36176  ],\n",
              "        [  990.0453   ],\n",
              "        [-1969.1127   ],\n",
              "        [ 1036.9128   ],\n",
              "        [-1111.1681   ],\n",
              "        [ -764.83374  ],\n",
              "        [  404.18484  ],\n",
              "        [-1549.6501   ],\n",
              "        [ 1554.5826   ],\n",
              "        [ 1230.1808   ],\n",
              "        [  410.4035   ],\n",
              "        [-1581.5249   ],\n",
              "        [ -715.5146   ],\n",
              "        [ -602.5766   ],\n",
              "        [  -12.491184 ],\n",
              "        [  405.30313  ],\n",
              "        [ -660.8484   ],\n",
              "        [  754.50995  ],\n",
              "        [  905.38666  ],\n",
              "        [ -152.4535   ],\n",
              "        [ -272.74237  ],\n",
              "        [ -440.85144  ],\n",
              "        [  190.26399  ],\n",
              "        [ 2296.9614   ],\n",
              "        [  662.8812   ],\n",
              "        [ -489.04193  ],\n",
              "        [   16.71107  ],\n",
              "        [ -146.46323  ],\n",
              "        [  564.8863   ],\n",
              "        [-1727.9236   ],\n",
              "        [-1461.6947   ],\n",
              "        [  585.12866  ],\n",
              "        [  979.14557  ],\n",
              "        [ -403.57608  ],\n",
              "        [  368.36713  ],\n",
              "        [ -993.55444  ],\n",
              "        [ -502.81586  ],\n",
              "        [   70.66086  ],\n",
              "        [  645.7187   ],\n",
              "        [  -90.616516 ],\n",
              "        [  218.09581  ],\n",
              "        [  338.5492   ],\n",
              "        [ 1142.4161   ],\n",
              "        [-1335.2537   ],\n",
              "        [  -20.743052 ],\n",
              "        [ 1101.1832   ],\n",
              "        [  436.70645  ],\n",
              "        [-1050.908    ],\n",
              "        [ -302.3204   ],\n",
              "        [ -244.13121  ],\n",
              "        [  362.4828   ],\n",
              "        [ -337.5329   ],\n",
              "        [  571.0277   ],\n",
              "        [-1069.8145   ],\n",
              "        [ -520.7926   ],\n",
              "        [ -511.6872   ],\n",
              "        [  262.43723  ],\n",
              "        [  820.8555   ],\n",
              "        [ -927.2158   ],\n",
              "        [ 1120.4207   ],\n",
              "        [ -337.0867   ],\n",
              "        [ -382.34937  ],\n",
              "        [ -243.84962  ],\n",
              "        [ 1716.3219   ],\n",
              "        [  748.5856   ],\n",
              "        [  257.73065  ],\n",
              "        [  444.0822   ],\n",
              "        [ -756.63104  ],\n",
              "        [-1005.45245  ],\n",
              "        [  757.87067  ],\n",
              "        [  277.90515  ],\n",
              "        [ -364.4768   ],\n",
              "        [ -157.93668  ],\n",
              "        [ -294.11575  ],\n",
              "        [  359.34595  ],\n",
              "        [ -316.3711   ],\n",
              "        [  866.97546  ],\n",
              "        [ -349.84998  ],\n",
              "        [-1075.5588   ],\n",
              "        [  236.45183  ],\n",
              "        [ -432.44464  ],\n",
              "        [  866.8398   ],\n",
              "        [ -800.732    ],\n",
              "        [  831.72687  ],\n",
              "        [  520.9399   ],\n",
              "        [-1427.5104   ],\n",
              "        [ -920.4672   ],\n",
              "        [  204.38115  ],\n",
              "        [   88.66752  ],\n",
              "        [-1006.3653   ],\n",
              "        [  586.8085   ],\n",
              "        [  391.84714  ],\n",
              "        [ -301.29016  ],\n",
              "        [ 1387.3243   ],\n",
              "        [  203.08829  ],\n",
              "        [   -9.843465 ],\n",
              "        [   -6.4302564],\n",
              "        [ 1017.53455  ],\n",
              "        [ -418.44165  ],\n",
              "        [ -598.8431   ],\n",
              "        [  658.19617  ],\n",
              "        [  427.53928  ],\n",
              "        [  107.07856  ],\n",
              "        [-1452.1455   ],\n",
              "        [   76.23427  ],\n",
              "        [  192.63155  ],\n",
              "        [ -296.11075  ],\n",
              "        [-1242.8721   ],\n",
              "        [  198.32553  ],\n",
              "        [  -42.823734 ],\n",
              "        [ 1624.593    ],\n",
              "        [  337.6556   ],\n",
              "        [  807.1927   ],\n",
              "        [-2705.6946   ],\n",
              "        [ 2057.6614   ],\n",
              "        [  241.56355  ],\n",
              "        [  545.6734   ],\n",
              "        [-1614.3434   ],\n",
              "        [ 1862.1733   ],\n",
              "        [-1209.6406   ],\n",
              "        [-1146.2552   ],\n",
              "        [ -779.7251   ],\n",
              "        [ 1909.8682   ],\n",
              "        [ -615.3531   ],\n",
              "        [ -263.7684   ],\n",
              "        [  218.68839  ],\n",
              "        [ -177.29243  ],\n",
              "        [-1567.2783   ],\n",
              "        [  235.78247  ],\n",
              "        [ -295.09525  ],\n",
              "        [  447.16122  ],\n",
              "        [ -847.1397   ],\n",
              "        [  433.1114   ],\n",
              "        [ 2187.3142   ],\n",
              "        [ -122.29802  ],\n",
              "        [  104.30018  ],\n",
              "        [ 1596.3663   ],\n",
              "        [ -164.94087  ],\n",
              "        [-1071.4257   ],\n",
              "        [ -596.2581   ],\n",
              "        [  485.98984  ],\n",
              "        [-1381.7583   ],\n",
              "        [  351.83853  ],\n",
              "        [ 1082.3286   ],\n",
              "        [ -249.53351  ],\n",
              "        [  472.67688  ],\n",
              "        [-1206.7952   ],\n",
              "        [   -4.8302283],\n",
              "        [  -81.41733  ],\n",
              "        [ -341.8806   ],\n",
              "        [  327.44016  ],\n",
              "        [  335.32413  ]], dtype=float32)>,\n",
              " (<tf.Tensor: shape=(), dtype=float64, numpy=181.4261597244318>,\n",
              "  <tf.Tensor: shape=(), dtype=float64, numpy=-4.353799311344076>)]"
            ]
          },
          "metadata": {
            "tags": []
          },
          "execution_count": 27
        }
      ]
    },
    {
      "cell_type": "code",
      "metadata": {
        "colab": {
          "base_uri": "https://localhost:8080/"
        },
        "id": "B3A-qf8FNo6c",
        "outputId": "268edd49-16dc-43b2-c0e5-5cc300b0b57c"
      },
      "source": [
        "marg_ll"
      ],
      "execution_count": null,
      "outputs": [
        {
          "output_type": "execute_result",
          "data": {
            "text/plain": [
              "[<tf.Tensor: shape=(1, 1), dtype=float32, numpy=array([[9103780.]], dtype=float32)>,\n",
              " 278.0638427734375,\n",
              " 156.47727966308594,\n",
              " 156.25267028808594,\n",
              " 156.25267028808594,\n",
              " 156.25267028808594,\n",
              " 156.25267028808594,\n",
              " 156.25267028808594,\n",
              " 156.25267028808594,\n",
              " 156.25267028808594,\n",
              " 156.25267028808594]"
            ]
          },
          "metadata": {
            "tags": []
          },
          "execution_count": 22
        }
      ]
    },
    {
      "cell_type": "code",
      "metadata": {
        "id": "f861gh6Nzlgp"
      },
      "source": [
        "K = tf.cast(k(x_grid), tf.float32)\n",
        "f = tf.Variable(f)\n",
        "hess_diag = compute_hess_vec_obs_ll(f, y)"
      ],
      "execution_count": null,
      "outputs": []
    },
    {
      "cell_type": "code",
      "metadata": {
        "id": "pY17HkBffGXT"
      },
      "source": [
        "x_grid_tf = tf.constant(x_grid, dtype=tf.float64)\n",
        "K = tf.cast(k(x_grid_tf), dtype=tf.float32)"
      ],
      "execution_count": null,
      "outputs": []
    },
    {
      "cell_type": "code",
      "metadata": {
        "colab": {
          "base_uri": "https://localhost:8080/"
        },
        "id": "sWQD-QrBeW4G",
        "outputId": "e36ee86b-5ed0-4473-ab03-c4377801b0e4"
      },
      "source": [
        "k.trainable_variables"
      ],
      "execution_count": null,
      "outputs": [
        {
          "output_type": "execute_result",
          "data": {
            "text/plain": [
              "(<tf.Variable 'Variable:0' shape=() dtype=float64, numpy=14.669790419156977>,\n",
              " <tf.Variable 'Variable:0' shape=() dtype=float64, numpy=-81.9588310210035>)"
            ]
          },
          "metadata": {
            "tags": []
          },
          "execution_count": 42
        }
      ]
    },
    {
      "cell_type": "code",
      "metadata": {
        "colab": {
          "base_uri": "https://localhost:8080/"
        },
        "id": "UEJYBZlwA7KP",
        "outputId": "0147d508-2d73-4f06-a543-7f588dd0d86c"
      },
      "source": [
        "compute_marginal_ll(f, y, K, hess_diag)"
      ],
      "execution_count": null,
      "outputs": [
        {
          "output_type": "execute_result",
          "data": {
            "text/plain": [
              "<tf.Tensor: shape=(1, 1), dtype=float32, numpy=array([[-292.66058]], dtype=float32)>"
            ]
          },
          "metadata": {
            "tags": []
          },
          "execution_count": 28
        }
      ]
    },
    {
      "cell_type": "code",
      "metadata": {
        "colab": {
          "base_uri": "https://localhost:8080/"
        },
        "id": "lwGncE9HHIRr",
        "outputId": "56b93e43-fb14-413f-bfaa-61eccb2da4c3"
      },
      "source": [
        "### Optimize posterior\n",
        "from gpflow.optimizers import NaturalGradient\n",
        "from gpflow.optimizers import Scipy\n",
        "\n",
        "opt = Scipy()\n",
        "\n",
        "neg_post = []\n",
        "marg_ll = []\n",
        "\n",
        "x_grid_tf = tf.constant(x_grid, dtype=tf.float64)\n",
        "K = tf.cast(k(x_grid_tf), dtype=tf.float32)\n",
        "\n",
        "for i in range(10):\n",
        "  opt_res = opt.minimize(lambda: -gpc_posterior(f, y, K), variables=[f])\n",
        "  neg_post.append(opt_res.fun[0, 0])\n",
        "  \n",
        "  hess_diag = compute_hess_vec_obs_ll(f, y)\n",
        "\n",
        "  opt_res = opt.minimize(\n",
        "      lambda: -compute_marginal_ll(f, y, tf.cast(k(x_grid), tf.float32), hess_diag), \n",
        "      variables=k.trainable_variables)\n",
        "  marg_ll.append(opt_res.fun[0, 0])\n",
        "  print(i, 'mll', opt_res.fun[0,0])"
      ],
      "execution_count": null,
      "outputs": [
        {
          "output_type": "stream",
          "text": [
            "WARNING:tensorflow:5 out of the last 30 calls to <function Scipy.eval_func.<locals>._tf_eval at 0x7f26e32b1b90> triggered tf.function retracing. Tracing is expensive and the excessive number of tracings could be due to (1) creating @tf.function repeatedly in a loop, (2) passing tensors with different shapes, (3) passing Python objects instead of tensors. For (1), please define your @tf.function outside of the loop. For (2), @tf.function has experimental_relax_shapes=True option that relaxes argument shapes that can avoid unnecessary retracing. For (3), please refer to https://www.tensorflow.org/guide/function#controlling_retracing and https://www.tensorflow.org/api_docs/python/tf/function for  more details.\n",
            "0 mll 138.6294403076172\n",
            "WARNING:tensorflow:6 out of the last 31 calls to <function Scipy.eval_func.<locals>._tf_eval at 0x7f26e32b1b90> triggered tf.function retracing. Tracing is expensive and the excessive number of tracings could be due to (1) creating @tf.function repeatedly in a loop, (2) passing tensors with different shapes, (3) passing Python objects instead of tensors. For (1), please define your @tf.function outside of the loop. For (2), @tf.function has experimental_relax_shapes=True option that relaxes argument shapes that can avoid unnecessary retracing. For (3), please refer to https://www.tensorflow.org/guide/function#controlling_retracing and https://www.tensorflow.org/api_docs/python/tf/function for  more details.\n",
            "1 mll 138.6294403076172\n",
            "2 mll 138.6294403076172\n",
            "3 mll 138.6294403076172\n",
            "4 mll 138.6294403076172\n",
            "5 mll 138.6294403076172\n",
            "6 mll 138.6294403076172\n",
            "7 mll 138.6294403076172\n",
            "8 mll 138.6294403076172\n",
            "9 mll 138.6294403076172\n"
          ],
          "name": "stdout"
        }
      ]
    },
    {
      "cell_type": "code",
      "metadata": {
        "colab": {
          "base_uri": "https://localhost:8080/"
        },
        "id": "E8t2kVhBFxot",
        "outputId": "c48f45da-6f3f-4988-9c34-37ad2925a4cf"
      },
      "source": [
        "neg_post"
      ],
      "execution_count": null,
      "outputs": [
        {
          "output_type": "execute_result",
          "data": {
            "text/plain": [
              "[321.958984375,\n",
              " 321.958984375,\n",
              " 321.958984375,\n",
              " 321.958984375,\n",
              " 321.958984375,\n",
              " 321.958984375,\n",
              " 321.958984375,\n",
              " 321.958984375,\n",
              " 321.958984375,\n",
              " 321.958984375]"
            ]
          },
          "metadata": {
            "tags": []
          },
          "execution_count": 47
        }
      ]
    },
    {
      "cell_type": "code",
      "metadata": {
        "colab": {
          "base_uri": "https://localhost:8080/"
        },
        "id": "sq4--VPGEup4",
        "outputId": "65e20ee6-668f-4781-9fe4-0d34fb6f5d89"
      },
      "source": [
        "### optimize with custom training loop\n",
        "import tensorflow.keras as tfk\n",
        "\n",
        "opt_post = tfk.optimizers.Adam()\n",
        "for i in range(10):\n",
        "  with tf.GradientTape() as tape:\n",
        "    ngpc = -gpc_posterior(f, y, K)\n",
        "  \n",
        "  grads = tape.gradient(ngpc, [f])\n",
        "  opt_post.apply_gradients(zip(grads, [f]))\n",
        "\n",
        "  print(i, ngpc)"
      ],
      "execution_count": null,
      "outputs": [
        {
          "output_type": "stream",
          "text": [
            "0 tf.Tensor([[nan]], shape=(1, 1), dtype=float32)\n",
            "1 tf.Tensor([[nan]], shape=(1, 1), dtype=float32)\n",
            "2 tf.Tensor([[nan]], shape=(1, 1), dtype=float32)\n",
            "3 tf.Tensor([[nan]], shape=(1, 1), dtype=float32)\n",
            "4 tf.Tensor([[nan]], shape=(1, 1), dtype=float32)\n",
            "5 tf.Tensor([[nan]], shape=(1, 1), dtype=float32)\n",
            "6 tf.Tensor([[nan]], shape=(1, 1), dtype=float32)\n",
            "7 tf.Tensor([[nan]], shape=(1, 1), dtype=float32)\n",
            "8 tf.Tensor([[nan]], shape=(1, 1), dtype=float32)\n",
            "9 tf.Tensor([[nan]], shape=(1, 1), dtype=float32)\n"
          ],
          "name": "stdout"
        }
      ]
    },
    {
      "cell_type": "code",
      "metadata": {
        "colab": {
          "base_uri": "https://localhost:8080/"
        },
        "id": "0h6afZWyg2Eg",
        "outputId": "1b158996-08b9-4eb5-958e-7fb312587c00"
      },
      "source": [
        "opt.minimize(\n",
        "    lambda: -compute_marginal_ll(f, y, tf.cast(k(x_grid), tf.float32), hess_diag), \n",
        "    variables=k.trainable_variables)"
      ],
      "execution_count": null,
      "outputs": [
        {
          "output_type": "execute_result",
          "data": {
            "text/plain": [
              "      fun: array([[278.06384277]])\n",
              " hess_inv: <2x2 LbfgsInvHessProduct with dtype=float64>\n",
              "      jac: array([  17.49926258, -103.72166781])\n",
              "  message: b'CONVERGENCE: REL_REDUCTION_OF_F_<=_FACTR*EPSMCH'\n",
              "     nfev: 21\n",
              "      nit: 4\n",
              "   status: 0\n",
              "  success: True\n",
              "        x: array([0.52897115, 1.85666415])"
            ]
          },
          "metadata": {
            "tags": []
          },
          "execution_count": 30
        }
      ]
    },
    {
      "cell_type": "code",
      "metadata": {
        "colab": {
          "base_uri": "https://localhost:8080/"
        },
        "id": "QQAR4-LRiqRn",
        "outputId": "406529c2-60d7-4f67-cfdf-9f3b4cbe7896"
      },
      "source": [
        "with tf.GradientTape() as tape:\n",
        "  K = tf.cast(k(x_grid), tf.float32)\n",
        "  mll = compute_marginal_ll(f, y, K, hess_diag)\n",
        "\n",
        "tape.gradient(mll, k.trainable_variables)"
      ],
      "execution_count": null,
      "outputs": [
        {
          "output_type": "execute_result",
          "data": {
            "text/plain": [
              "(<tf.Tensor: shape=(), dtype=float64, numpy=-2653.19322039523>,\n",
              " <tf.Tensor: shape=(), dtype=float64, numpy=132.7010788219566>)"
            ]
          },
          "metadata": {
            "tags": []
          },
          "execution_count": 66
        }
      ]
    },
    {
      "cell_type": "code",
      "metadata": {
        "colab": {
          "base_uri": "https://localhost:8080/"
        },
        "id": "eEdUNXKDjdip",
        "outputId": "f7dbe214-b990-43db-82dc-8940ec78e066"
      },
      "source": [
        "k.trainable_variables"
      ],
      "execution_count": null,
      "outputs": [
        {
          "output_type": "execute_result",
          "data": {
            "text/plain": [
              "(<tf.Variable 'Variable:0' shape=() dtype=float64, numpy=0.5413248546129181>,\n",
              " <tf.Variable 'Variable:0' shape=() dtype=float64, numpy=1.854586542131141>)"
            ]
          },
          "metadata": {
            "tags": []
          },
          "execution_count": 65
        }
      ]
    },
    {
      "cell_type": "code",
      "metadata": {
        "colab": {
          "base_uri": "https://localhost:8080/"
        },
        "id": "42aZ8LW3jWeL",
        "outputId": "97872233-9dc6-4e21-d41f-9c4bd4145b35"
      },
      "source": [
        "k.trainable_parameters"
      ],
      "execution_count": null,
      "outputs": [
        {
          "output_type": "execute_result",
          "data": {
            "text/plain": [
              "(<Parameter: dtype=float64, shape=[], fn=\"softplus\", numpy=1.0>,\n",
              " <Parameter: dtype=float64, shape=[], fn=\"softplus\", numpy=2.0>)"
            ]
          },
          "metadata": {
            "tags": []
          },
          "execution_count": 62
        }
      ]
    },
    {
      "cell_type": "code",
      "metadata": {
        "colab": {
          "base_uri": "https://localhost:8080/"
        },
        "id": "0QfCyYDRhWDW",
        "outputId": "9e94a5fb-b58c-48ac-9d6c-affe2bfbe119"
      },
      "source": [
        "k.trainable_variables"
      ],
      "execution_count": null,
      "outputs": [
        {
          "output_type": "execute_result",
          "data": {
            "text/plain": [
              "<tf.Variable 'Variable:0' shape=() dtype=float64, numpy=0.5413248546129181>"
            ]
          },
          "metadata": {
            "tags": []
          },
          "execution_count": 58
        }
      ]
    },
    {
      "cell_type": "code",
      "metadata": {
        "colab": {
          "base_uri": "https://localhost:8080/"
        },
        "id": "ixxcml9Pg2zj",
        "outputId": "2c9e6e23-8eb6-4a90-bb42-91260aca071c"
      },
      "source": [
        "ttt = lambda: compute_marginal_ll(f, y, K, hess_diag)\n",
        "ttt()"
      ],
      "execution_count": null,
      "outputs": [
        {
          "output_type": "execute_result",
          "data": {
            "text/plain": [
              "<tf.Tensor: shape=(1, 1), dtype=float32, numpy=array([[-292.66058]], dtype=float32)>"
            ]
          },
          "metadata": {
            "tags": []
          },
          "execution_count": 53
        }
      ]
    },
    {
      "cell_type": "code",
      "metadata": {
        "colab": {
          "base_uri": "https://localhost:8080/"
        },
        "id": "7wXTcqISx5-Z",
        "outputId": "9aeeddab-dca8-4835-c4df-09ba0890d94b"
      },
      "source": [
        "%%timeit\n",
        "prod_vector = tf.repeat(1., repeats=f.shape[0])\n",
        "prod_vector = tf.reshape(prod_vector, shape=(-1,1))\n",
        "\n",
        "with tf.autodiff.ForwardAccumulator(\n",
        "    f, prod_vector) as acc:\n",
        "  with tf.GradientTape() as tape:\n",
        "    obs_ll = tf.reduce_sum(obs_dist.log_prob(f, y))\n",
        "  grad_obs_ll = tape.gradient(obs_ll, f)\n",
        "\n",
        "tf.squeeze(acc.jvp(grad_obs_ll))"
      ],
      "execution_count": null,
      "outputs": [
        {
          "output_type": "stream",
          "text": [
            "100 loops, best of 5: 15.7 ms per loop\n"
          ],
          "name": "stdout"
        }
      ]
    },
    {
      "cell_type": "code",
      "metadata": {
        "colab": {
          "base_uri": "https://localhost:8080/"
        },
        "id": "XeBn319nyyEr",
        "outputId": "7ae1faa2-1058-46c2-938f-147a6d0cdde4"
      },
      "source": [
        "tf.reduce_sum(obs_dist.log_prob(f, y))"
      ],
      "execution_count": null,
      "outputs": [
        {
          "output_type": "execute_result",
          "data": {
            "text/plain": [
              "<tf.Tensor: shape=(), dtype=float32, numpy=-129.47101>"
            ]
          },
          "metadata": {
            "tags": []
          },
          "execution_count": 45
        }
      ]
    },
    {
      "cell_type": "code",
      "metadata": {
        "colab": {
          "base_uri": "https://localhost:8080/"
        },
        "id": "w_Tr-Wg8uXtE",
        "outputId": "6c10d257-215c-449f-a232-22d3f440f17c"
      },
      "source": [
        "tf.repeat(1, repeats=10)"
      ],
      "execution_count": null,
      "outputs": [
        {
          "output_type": "execute_result",
          "data": {
            "text/plain": [
              "<tf.Tensor: shape=(10,), dtype=int32, numpy=array([1, 1, 1, 1, 1, 1, 1, 1, 1, 1], dtype=int32)>"
            ]
          },
          "metadata": {
            "tags": []
          },
          "execution_count": 40
        }
      ]
    },
    {
      "cell_type": "code",
      "metadata": {
        "colab": {
          "base_uri": "https://localhost:8080/",
          "height": 163
        },
        "id": "zstuHbu7wvQL",
        "outputId": "2fd8272e-e270-4cb0-f8a0-963c949f8079"
      },
      "source": [
        "tf._hessian_vector_product"
      ],
      "execution_count": null,
      "outputs": [
        {
          "output_type": "error",
          "ename": "AttributeError",
          "evalue": "ignored",
          "traceback": [
            "\u001b[0;31m---------------------------------------------------------------------------\u001b[0m",
            "\u001b[0;31mAttributeError\u001b[0m                            Traceback (most recent call last)",
            "\u001b[0;32m<ipython-input-39-9f06c825f13e>\u001b[0m in \u001b[0;36m<module>\u001b[0;34m()\u001b[0m\n\u001b[0;32m----> 1\u001b[0;31m \u001b[0mtf\u001b[0m\u001b[0;34m.\u001b[0m\u001b[0m_hessian_vector_product\u001b[0m\u001b[0;34m\u001b[0m\u001b[0;34m\u001b[0m\u001b[0m\n\u001b[0m",
            "\u001b[0;31mAttributeError\u001b[0m: module 'tensorflow' has no attribute '_hessian_vector_product'"
          ]
        }
      ]
    },
    {
      "cell_type": "markdown",
      "metadata": {
        "id": "1N3nqKgsT-xe"
      },
      "source": [
        "### TP Binary Classification"
      ]
    },
    {
      "cell_type": "code",
      "metadata": {
        "id": "ORu0SRGUUCg4",
        "colab": {
          "base_uri": "https://localhost:8080/",
          "height": 483
        },
        "outputId": "808e6745-17fd-457e-9840-a12c51cc165c"
      },
      "source": [
        "# build the kernel and covariance matrix\n",
        "k = gpflow.kernels.Matern52(variance=20.0)\n",
        "x_grid = np.linspace(0, 6, 200).reshape(-1, 1)\n",
        "K = k(x_grid)\n",
        "\n",
        "# sample from a multivariate normal\n",
        "rng = np.random.RandomState(6)\n",
        "\n",
        "L = np.linalg.cholesky(K)\n",
        "f_grid = np.dot(L, rng.randn(200, 5))\n",
        "plt.plot(x_grid, f_grid, \"C0\", linewidth=1)\n",
        "_ = plt.plot(x_grid, f_grid[:, 1], \"C0\", linewidth=2)"
      ],
      "execution_count": null,
      "outputs": [
        {
          "output_type": "display_data",
          "data": {
            "image/png": "[encoded data removed]",
            "text/plain": [
              "<Figure size 864x576 with 1 Axes>"
            ]
          },
          "metadata": {
            "tags": [],
            "needs_background": "light"
          }
        }
      ]
    },
    {
      "cell_type": "code",
      "metadata": {
        "id": "4qbfS1dDXZUZ"
      },
      "source": [
        "### Sample from TP\n",
        "# Based on https://journal.r-project.org/archive/2013/RJ-2013-033/RJ-2013-033.pdf\n",
        "nu = 5\n",
        "\n",
        "k = gpflow.kernels.Matern52(variance=20.0)\n",
        "x_grid = np.linspace(0, 6, 400).reshape(-1, 2)\n",
        "K = k(x_grid)\n",
        "\n",
        "# sample from a multivariate normal\n",
        "rng = np.random.RandomState(6)\n",
        "f_grid = np.dot(L, rng.randn(200, 5))\n",
        "\n",
        "L = np.linalg.cholesky(K)\n",
        "\n",
        "chi2 = tfd.Chi2(df=nu)\n",
        "samples_chi2 = chi2.sample(sample_shape=x_grid.shape[0])\n",
        "\n",
        "scaler = tf.sqrt(nu/samples_chi2)\n",
        "scaler = tf.reshape(scaler, shape=(-1,1))\n",
        "\n",
        "t_samples = tf.multiply(scaler, f_grid)\n"
      ],
      "execution_count": null,
      "outputs": []
    },
    {
      "cell_type": "code",
      "metadata": {
        "colab": {
          "base_uri": "https://localhost:8080/",
          "height": 571
        },
        "id": "No-ZtS-wZ0fu",
        "outputId": "9dc4820b-e9bf-4b16-ee52-2e2aea44e178"
      },
      "source": [
        "plt.plot(x_grid, f_grid, \"C0\", linewidth=1)\n",
        "_ = plt.plot(x_grid, f_grid[:, 1], \"C0\", linewidth=2)\n",
        "_ = plt.plot(x_grid, t_samples[:, 1], \"C1\", linewidth=2)\n",
        "_ = plt.plot(x_grid, t_samples, \"C1\", linewidth=1)"
      ],
      "execution_count": null,
      "outputs": [
        {
          "output_type": "stream",
          "text": [
            "/usr/local/lib/python3.7/dist-packages/ipykernel_launcher.py:1: MatplotlibDeprecationWarning: cycling among columns of inputs with non-matching shapes is deprecated.\n",
            "  \"\"\"Entry point for launching an IPython kernel.\n",
            "/usr/local/lib/python3.7/dist-packages/ipykernel_launcher.py:4: MatplotlibDeprecationWarning: cycling among columns of inputs with non-matching shapes is deprecated.\n",
            "  after removing the cwd from sys.path.\n"
          ],
          "name": "stderr"
        },
        {
          "output_type": "display_data",
          "data": {
            "image/png": "[encoded data removed]",
            "text/plain": [
              "<Figure size 864x576 with 1 Axes>"
            ]
          },
          "metadata": {
            "tags": [],
            "needs_background": "light"
          }
        }
      ]
    },
    {
      "cell_type": "code",
      "metadata": {
        "colab": {
          "base_uri": "https://localhost:8080/",
          "height": 554
        },
        "id": "X08XoCnZZdVm",
        "outputId": "9ab82137-c0b0-4259-c98a-1aaed491800b"
      },
      "source": [
        "def invlink(f):\n",
        "    # By default, standard normal CDF is used as link function, but \n",
        "    # any other function can be used as well, just set invlink argument\n",
        "    # of Bernoulli()\n",
        "    return gpflow.likelihoods.Bernoulli().invlink(f).numpy()\n",
        "\n",
        "def student_invlink(f):\n",
        "    # By default, standard normal CDF is used as link function, but \n",
        "    # any other function can be used as well, just set invlink argument\n",
        "    # of Bernoulli()\n",
        "    return gpflow.likelihoods.Bernoulli(invlink=tf.math.sigmoid) \\\n",
        "                 .invlink(f).numpy()\n",
        "\n",
        "p_grid = student_invlink(t_samples)\n",
        "plt.plot(x_grid, p_grid, \"C2\", linewidth=1)\n",
        "_ = plt.plot(x_grid, p_grid[:, 1], \"C2\", linewidth=2)\n",
        "\n",
        "p_grid = invlink(f_grid)\n",
        "plt.plot(x_grid, p_grid, \"C0\", linewidth=1)\n",
        "_ = plt.plot(x_grid, p_grid[:, 1], \"C0\", linewidth=2)"
      ],
      "execution_count": null,
      "outputs": [
        {
          "output_type": "stream",
          "text": [
            "/usr/local/lib/python3.7/dist-packages/ipykernel_launcher.py:14: MatplotlibDeprecationWarning: cycling among columns of inputs with non-matching shapes is deprecated.\n",
            "  \n",
            "/usr/local/lib/python3.7/dist-packages/ipykernel_launcher.py:18: MatplotlibDeprecationWarning: cycling among columns of inputs with non-matching shapes is deprecated.\n"
          ],
          "name": "stderr"
        },
        {
          "output_type": "display_data",
          "data": {
            "image/png": "[encoded data removed]",
            "text/plain": [
              "<Figure size 864x576 with 1 Axes>"
            ]
          },
          "metadata": {
            "tags": [],
            "needs_background": "light"
          }
        }
      ]
    },
    {
      "cell_type": "code",
      "metadata": {
        "colab": {
          "base_uri": "https://localhost:8080/"
        },
        "id": "wLLPJF6pXniH",
        "outputId": "5c42a74a-c8c2-4040-8652-6d98020ec35f"
      },
      "source": [
        "nu = 2\n",
        "\n",
        "\n",
        "tf.sqrt(nu/chi2.sample(sample_shape=x_grid.shape[0]))\n",
        "\n"
      ],
      "execution_count": null,
      "outputs": [
        {
          "output_type": "execute_result",
          "data": {
            "text/plain": [
              "<tf.Tensor: shape=(200,), dtype=float32, numpy=\n",
              "array([ 1.3007921 ,  0.5945616 ,  4.140359  ,  0.5236784 ,  1.0546414 ,\n",
              "        2.3277607 ,  0.6428949 ,  0.87101114,  2.139834  ,  1.0765688 ,\n",
              "        0.48967543,  0.83307487,  1.4357847 ,  0.84297323,  1.4021976 ,\n",
              "        2.0693488 ,  0.7149594 ,  2.031121  ,  0.90849364,  1.0859494 ,\n",
              "        1.3602829 ,  1.5546957 ,  1.1186092 ,  2.6291556 ,  1.5865874 ,\n",
              "        1.2005293 ,  3.746406  ,  1.9046172 ,  0.9871173 ,  1.5947839 ,\n",
              "        1.053179  ,  2.8627064 ,  3.998484  ,  0.9493354 ,  2.3621824 ,\n",
              "        0.5116686 ,  1.1282829 ,  1.2950402 ,  2.1322181 ,  0.9792082 ,\n",
              "        2.082827  ,  0.55384165,  1.8508312 ,  3.751865  ,  8.078958  ,\n",
              "        0.9400194 ,  1.6236022 ,  8.167329  ,  0.4386076 ,  0.9109911 ,\n",
              "        1.3400762 ,  1.1491632 ,  0.63242054,  1.521914  ,  1.314498  ,\n",
              "        0.592963  ,  0.6141043 ,  2.804778  ,  0.6605994 ,  0.9502515 ,\n",
              "        0.7335708 ,  1.1584921 ,  0.72806495,  4.295151  ,  1.6300067 ,\n",
              "        3.6665761 ,  1.7560205 ,  2.5937493 ,  1.5734788 ,  0.8369146 ,\n",
              "        0.980202  ,  1.9978347 ,  0.89010787,  2.3407736 ,  0.9723676 ,\n",
              "        9.877506  ,  2.307985  ,  1.2967595 ,  1.3001509 ,  1.3927106 ,\n",
              "        1.276221  ,  0.77793497,  2.588358  ,  0.5359765 ,  0.75232404,\n",
              "        0.93714833,  2.3122647 ,  1.3657533 ,  0.6469442 ,  0.7484061 ,\n",
              "        0.84351534,  0.5026075 ,  7.332144  ,  0.8879893 ,  2.2875056 ,\n",
              "        3.1842477 ,  1.1730055 ,  1.621023  ,  0.7594066 ,  0.64241356,\n",
              "        0.60139036,  0.6853504 ,  0.7066254 ,  1.0791297 ,  0.93464124,\n",
              "        0.66137064,  0.6912628 ,  1.073029  ,  0.6429936 ,  4.8949304 ,\n",
              "        0.89423233,  4.126927  ,  0.7264649 ,  3.303227  ,  1.7035993 ,\n",
              "        1.8593687 ,  0.80081713,  1.1253146 ,  4.364598  , 22.73436   ,\n",
              "        0.81388575,  1.0567816 ,  3.8566203 ,  1.2524468 ,  2.4514902 ,\n",
              "        0.99138606,  1.3658181 ,  0.7632529 ,  1.1802202 ,  3.4939013 ,\n",
              "        0.7556624 ,  3.958447  ,  1.4458638 ,  8.4581175 ,  1.3908607 ,\n",
              "        0.8432955 ,  1.4119959 ,  1.5005233 ,  2.6716905 ,  1.0740402 ,\n",
              "        3.2119167 ,  1.9475752 ,  0.62925416,  0.7973007 ,  1.0148203 ,\n",
              "        0.5638148 ,  0.747502  ,  1.667618  ,  0.93951887,  7.6796446 ,\n",
              "        0.9201067 ,  1.2622176 ,  2.6005049 ,  1.031039  ,  0.78885806,\n",
              "        0.78000396,  1.1416258 ,  0.9285592 ,  1.0597633 ,  1.3302269 ,\n",
              "        0.82719773,  1.806144  ,  3.1445947 ,  1.8109851 ,  1.0390835 ,\n",
              "        0.5971422 ,  0.7700068 ,  1.574476  ,  2.2228284 ,  0.5136227 ,\n",
              "        0.9821821 ,  1.523039  ,  1.0577959 ,  0.82955116,  0.75313276,\n",
              "        4.4231243 ,  6.62804   ,  0.53390414,  0.6007642 ,  1.430076  ,\n",
              "        3.0234108 ,  0.85112226,  0.9186917 ,  1.0466136 ,  1.1086556 ,\n",
              "        0.97350544,  2.9097316 ,  0.68063074,  0.9788322 ,  1.15921   ,\n",
              "        2.6832004 ,  1.2607028 ,  1.0180506 ,  0.6538705 ,  0.83275044,\n",
              "        1.1910491 ,  0.67028016,  1.0963354 ,  0.8695652 ,  1.0251122 ],\n",
              "      dtype=float32)>"
            ]
          },
          "metadata": {
            "tags": []
          },
          "execution_count": 15
        }
      ]
    },
    {
      "cell_type": "markdown",
      "metadata": {
        "id": "Nxec9so2H0lH"
      },
      "source": [
        "### TPC t-Laplace Approximation"
      ]
    },
    {
      "cell_type": "code",
      "metadata": {
        "colab": {
          "base_uri": "https://localhost:8080/"
        },
        "id": "T6a9vtOW83Zb",
        "outputId": "bd44da7e-b1d8-4c63-f10a-3cd1f0340cf9"
      },
      "source": [
        "! pip install gpflow"
      ],
      "execution_count": null,
      "outputs": [
        {
          "output_type": "stream",
          "text": [
            "Collecting gpflow\n",
            "  Downloading gpflow-2.2.1-py3-none-any.whl (271 kB)\n",
            "\u001b[?25l\r\u001b[K     |█▏                              | 10 kB 23.3 MB/s eta 0:00:01\r\u001b[K     |██▍                             | 20 kB 27.3 MB/s eta 0:00:01\r\u001b[K     |███▋                            | 30 kB 30.7 MB/s eta 0:00:01\r\u001b[K     |████▉                           | 40 kB 27.2 MB/s eta 0:00:01\r\u001b[K     |██████                          | 51 kB 22.0 MB/s eta 0:00:01\r\u001b[K     |███████▎                        | 61 kB 14.0 MB/s eta 0:00:01\r\u001b[K     |████████▌                       | 71 kB 13.3 MB/s eta 0:00:01\r\u001b[K     |█████████▋                      | 81 kB 14.4 MB/s eta 0:00:01\r\u001b[K     |██████████▉                     | 92 kB 15.6 MB/s eta 0:00:01\r\u001b[K     |████████████                    | 102 kB 15.5 MB/s eta 0:00:01\r\u001b[K     |█████████████▎                  | 112 kB 15.5 MB/s eta 0:00:01\r\u001b[K     |██████████████▌                 | 122 kB 15.5 MB/s eta 0:00:01\r\u001b[K     |███████████████▊                | 133 kB 15.5 MB/s eta 0:00:01\r\u001b[K     |█████████████████               | 143 kB 15.5 MB/s eta 0:00:01\r\u001b[K     |██████████████████              | 153 kB 15.5 MB/s eta 0:00:01\r\u001b[K     |███████████████████▎            | 163 kB 15.5 MB/s eta 0:00:01\r\u001b[K     |████████████████████▌           | 174 kB 15.5 MB/s eta 0:00:01\r\u001b[K     |█████████████████████▊          | 184 kB 15.5 MB/s eta 0:00:01\r\u001b[K     |███████████████████████         | 194 kB 15.5 MB/s eta 0:00:01\r\u001b[K     |████████████████████████▏       | 204 kB 15.5 MB/s eta 0:00:01\r\u001b[K     |█████████████████████████▍      | 215 kB 15.5 MB/s eta 0:00:01\r\u001b[K     |██████████████████████████▌     | 225 kB 15.5 MB/s eta 0:00:01\r\u001b[K     |███████████████████████████▊    | 235 kB 15.5 MB/s eta 0:00:01\r\u001b[K     |█████████████████████████████   | 245 kB 15.5 MB/s eta 0:00:01\r\u001b[K     |██████████████████████████████▏ | 256 kB 15.5 MB/s eta 0:00:01\r\u001b[K     |███████████████████████████████▍| 266 kB 15.5 MB/s eta 0:00:01\r\u001b[K     |████████████████████████████████| 271 kB 15.5 MB/s \n",
            "\u001b[?25hRequirement already satisfied: tabulate in /usr/local/lib/python3.7/dist-packages (from gpflow) (0.8.9)\n",
            "Requirement already satisfied: setuptools>=41.0.0 in /usr/local/lib/python3.7/dist-packages (from gpflow) (57.2.0)\n",
            "Collecting dataclasses\n",
            "  Downloading dataclasses-0.6-py3-none-any.whl (14 kB)\n",
            "Collecting deprecated\n",
            "  Downloading Deprecated-1.2.12-py2.py3-none-any.whl (9.5 kB)\n",
            "Requirement already satisfied: packaging in /usr/local/lib/python3.7/dist-packages (from gpflow) (21.0)\n",
            "Requirement already satisfied: numpy in /usr/local/lib/python3.7/dist-packages (from gpflow) (1.19.5)\n",
            "Requirement already satisfied: tensorflow-probability>0.10.0 in /usr/local/lib/python3.7/dist-packages (from gpflow) (0.13.0)\n",
            "Requirement already satisfied: scipy in /usr/local/lib/python3.7/dist-packages (from gpflow) (1.4.1)\n",
            "Requirement already satisfied: tensorflow>=2.2.0 in /usr/local/lib/python3.7/dist-packages (from gpflow) (2.5.0)\n",
            "Collecting multipledispatch>=0.6\n",
            "  Downloading multipledispatch-0.6.0-py3-none-any.whl (11 kB)\n",
            "Requirement already satisfied: typing-extensions in /usr/local/lib/python3.7/dist-packages (from gpflow) (3.7.4.3)\n",
            "Requirement already satisfied: six in /usr/local/lib/python3.7/dist-packages (from multipledispatch>=0.6->gpflow) (1.15.0)\n",
            "Requirement already satisfied: astunparse~=1.6.3 in /usr/local/lib/python3.7/dist-packages (from tensorflow>=2.2.0->gpflow) (1.6.3)\n",
            "Requirement already satisfied: opt-einsum~=3.3.0 in /usr/local/lib/python3.7/dist-packages (from tensorflow>=2.2.0->gpflow) (3.3.0)\n",
            "Requirement already satisfied: tensorboard~=2.5 in /usr/local/lib/python3.7/dist-packages (from tensorflow>=2.2.0->gpflow) (2.5.0)\n",
            "Requirement already satisfied: tensorflow-estimator<2.6.0,>=2.5.0rc0 in /usr/local/lib/python3.7/dist-packages (from tensorflow>=2.2.0->gpflow) (2.5.0)\n",
            "Requirement already satisfied: keras-nightly~=2.5.0.dev in /usr/local/lib/python3.7/dist-packages (from tensorflow>=2.2.0->gpflow) (2.5.0.dev2021032900)\n",
            "Requirement already satisfied: termcolor~=1.1.0 in /usr/local/lib/python3.7/dist-packages (from tensorflow>=2.2.0->gpflow) (1.1.0)\n",
            "Requirement already satisfied: wheel~=0.35 in /usr/local/lib/python3.7/dist-packages (from tensorflow>=2.2.0->gpflow) (0.36.2)\n",
            "Requirement already satisfied: grpcio~=1.34.0 in /usr/local/lib/python3.7/dist-packages (from tensorflow>=2.2.0->gpflow) (1.34.1)\n",
            "Requirement already satisfied: protobuf>=3.9.2 in /usr/local/lib/python3.7/dist-packages (from tensorflow>=2.2.0->gpflow) (3.17.3)\n",
            "Requirement already satisfied: gast==0.4.0 in /usr/local/lib/python3.7/dist-packages (from tensorflow>=2.2.0->gpflow) (0.4.0)\n",
            "Requirement already satisfied: keras-preprocessing~=1.1.2 in /usr/local/lib/python3.7/dist-packages (from tensorflow>=2.2.0->gpflow) (1.1.2)\n",
            "Requirement already satisfied: h5py~=3.1.0 in /usr/local/lib/python3.7/dist-packages (from tensorflow>=2.2.0->gpflow) (3.1.0)\n",
            "Requirement already satisfied: google-pasta~=0.2 in /usr/local/lib/python3.7/dist-packages (from tensorflow>=2.2.0->gpflow) (0.2.0)\n",
            "Requirement already satisfied: absl-py~=0.10 in /usr/local/lib/python3.7/dist-packages (from tensorflow>=2.2.0->gpflow) (0.12.0)\n",
            "Requirement already satisfied: flatbuffers~=1.12.0 in /usr/local/lib/python3.7/dist-packages (from tensorflow>=2.2.0->gpflow) (1.12)\n",
            "Requirement already satisfied: wrapt~=1.12.1 in /usr/local/lib/python3.7/dist-packages (from tensorflow>=2.2.0->gpflow) (1.12.1)\n",
            "Requirement already satisfied: cached-property in /usr/local/lib/python3.7/dist-packages (from h5py~=3.1.0->tensorflow>=2.2.0->gpflow) (1.5.2)\n",
            "Requirement already satisfied: google-auth-oauthlib<0.5,>=0.4.1 in /usr/local/lib/python3.7/dist-packages (from tensorboard~=2.5->tensorflow>=2.2.0->gpflow) (0.4.4)\n",
            "Requirement already satisfied: werkzeug>=0.11.15 in /usr/local/lib/python3.7/dist-packages (from tensorboard~=2.5->tensorflow>=2.2.0->gpflow) (1.0.1)\n",
            "Requirement already satisfied: tensorboard-data-server<0.7.0,>=0.6.0 in /usr/local/lib/python3.7/dist-packages (from tensorboard~=2.5->tensorflow>=2.2.0->gpflow) (0.6.1)\n",
            "Requirement already satisfied: markdown>=2.6.8 in /usr/local/lib/python3.7/dist-packages (from tensorboard~=2.5->tensorflow>=2.2.0->gpflow) (3.3.4)\n",
            "Requirement already satisfied: tensorboard-plugin-wit>=1.6.0 in /usr/local/lib/python3.7/dist-packages (from tensorboard~=2.5->tensorflow>=2.2.0->gpflow) (1.8.0)\n",
            "Requirement already satisfied: google-auth<2,>=1.6.3 in /usr/local/lib/python3.7/dist-packages (from tensorboard~=2.5->tensorflow>=2.2.0->gpflow) (1.32.1)\n",
            "Requirement already satisfied: requests<3,>=2.21.0 in /usr/local/lib/python3.7/dist-packages (from tensorboard~=2.5->tensorflow>=2.2.0->gpflow) (2.23.0)\n",
            "Requirement already satisfied: pyasn1-modules>=0.2.1 in /usr/local/lib/python3.7/dist-packages (from google-auth<2,>=1.6.3->tensorboard~=2.5->tensorflow>=2.2.0->gpflow) (0.2.8)\n",
            "Requirement already satisfied: rsa<5,>=3.1.4 in /usr/local/lib/python3.7/dist-packages (from google-auth<2,>=1.6.3->tensorboard~=2.5->tensorflow>=2.2.0->gpflow) (4.7.2)\n",
            "Requirement already satisfied: cachetools<5.0,>=2.0.0 in /usr/local/lib/python3.7/dist-packages (from google-auth<2,>=1.6.3->tensorboard~=2.5->tensorflow>=2.2.0->gpflow) (4.2.2)\n",
            "Requirement already satisfied: requests-oauthlib>=0.7.0 in /usr/local/lib/python3.7/dist-packages (from google-auth-oauthlib<0.5,>=0.4.1->tensorboard~=2.5->tensorflow>=2.2.0->gpflow) (1.3.0)\n",
            "Requirement already satisfied: importlib-metadata in /usr/local/lib/python3.7/dist-packages (from markdown>=2.6.8->tensorboard~=2.5->tensorflow>=2.2.0->gpflow) (4.6.1)\n",
            "Requirement already satisfied: pyasn1<0.5.0,>=0.4.6 in /usr/local/lib/python3.7/dist-packages (from pyasn1-modules>=0.2.1->google-auth<2,>=1.6.3->tensorboard~=2.5->tensorflow>=2.2.0->gpflow) (0.4.8)\n",
            "Requirement already satisfied: certifi>=2017.4.17 in /usr/local/lib/python3.7/dist-packages (from requests<3,>=2.21.0->tensorboard~=2.5->tensorflow>=2.2.0->gpflow) (2021.5.30)\n",
            "Requirement already satisfied: chardet<4,>=3.0.2 in /usr/local/lib/python3.7/dist-packages (from requests<3,>=2.21.0->tensorboard~=2.5->tensorflow>=2.2.0->gpflow) (3.0.4)\n",
            "Requirement already satisfied: urllib3!=1.25.0,!=1.25.1,<1.26,>=1.21.1 in /usr/local/lib/python3.7/dist-packages (from requests<3,>=2.21.0->tensorboard~=2.5->tensorflow>=2.2.0->gpflow) (1.24.3)\n",
            "Requirement already satisfied: idna<3,>=2.5 in /usr/local/lib/python3.7/dist-packages (from requests<3,>=2.21.0->tensorboard~=2.5->tensorflow>=2.2.0->gpflow) (2.10)\n",
            "Requirement already satisfied: oauthlib>=3.0.0 in /usr/local/lib/python3.7/dist-packages (from requests-oauthlib>=0.7.0->google-auth-oauthlib<0.5,>=0.4.1->tensorboard~=2.5->tensorflow>=2.2.0->gpflow) (3.1.1)\n",
            "Requirement already satisfied: cloudpickle>=1.3 in /usr/local/lib/python3.7/dist-packages (from tensorflow-probability>0.10.0->gpflow) (1.3.0)\n",
            "Requirement already satisfied: decorator in /usr/local/lib/python3.7/dist-packages (from tensorflow-probability>0.10.0->gpflow) (4.4.2)\n",
            "Requirement already satisfied: dm-tree in /usr/local/lib/python3.7/dist-packages (from tensorflow-probability>0.10.0->gpflow) (0.1.6)\n",
            "Requirement already satisfied: zipp>=0.5 in /usr/local/lib/python3.7/dist-packages (from importlib-metadata->markdown>=2.6.8->tensorboard~=2.5->tensorflow>=2.2.0->gpflow) (3.5.0)\n",
            "Requirement already satisfied: pyparsing>=2.0.2 in /usr/local/lib/python3.7/dist-packages (from packaging->gpflow) (2.4.7)\n",
            "Installing collected packages: multipledispatch, deprecated, dataclasses, gpflow\n",
            "Successfully installed dataclasses-0.6 deprecated-1.2.12 gpflow-2.2.1 multipledispatch-0.6.0\n"
          ],
          "name": "stdout"
        }
      ]
    },
    {
      "cell_type": "code",
      "metadata": {
        "id": "93mWSlQvHzgz"
      },
      "source": [
        "import gpflow\n",
        "import matplotlib.pyplot as plt\n",
        "import numpy as np\n",
        "import tensorflow as tf\n",
        "import tensorflow_probability as tfp\n",
        "tfd = tfp.distributions\n",
        "\n",
        "plt.rcParams[\"figure.figsize\"] = (12, 8)\n",
        "\n",
        "tf.__version__\n",
        "\n",
        "PI = tf.constant(np.pi, dtype=tf.float64)\n",
        "obs_dist = gpflow.likelihoods.Bernoulli(invlink=tf.math.sigmoid)\n",
        "\n",
        "def get_t(nu, nobs):\n",
        "  return 2/(nu + nobs) + 1\n",
        "\n",
        "def log_t(x, t):\n",
        "  if t == 1:\n",
        "    return tf.math.log(x)\n",
        "  else:\n",
        "    one_min_t = 1 - t\n",
        "    return (x**one_min_t - 1) / one_min_t\n",
        "\n",
        "def get_psi(t, nu, nobs, half_log_det_X):\n",
        "  psi = (1. - t)*(\n",
        "      tf.math.lgamma((nu + nobs)/2.) \n",
        "      - nobs/2 * (PI*nu)\n",
        "      - tf.math.lgamma(nu/2.)\n",
        "      - half_log_det_X\n",
        "  )\n",
        "  return tf.exp(psi)\n",
        "\n",
        "#log_t approximation to posterior\n",
        "def tpc_posterior(f, y, chol_K, nu, t, psi):\n",
        "  fK = tf.linalg.cholesky_solve(chol_K, f)\n",
        "  \n",
        "  one_min_t_div = 1/(1-t)\n",
        "\n",
        "  psi_div = psi * one_min_t_div\n",
        "\n",
        "  ll = (\n",
        "    tf.reduce_sum(log_t(tf.exp(obs_dist.log_prob(f, y)), t))\n",
        "    + psi_div\n",
        "    + psi_div*(1/nu)*tf.matmul(fK, fK, transpose_a=True)\n",
        "    - one_min_t_div\n",
        "  )\n",
        "\n",
        "  return ll#, tf.reduce_sum(log_t(tf.exp(obs_dist.log_prob(f, y)), t)), psi_div, psi_div*(1/nu), tf.matmul(fK, fK, transpose_a=True), one_min_t_div\n",
        "\n",
        "def compute_posterior_covariance(K, w):\n",
        "  sqrt_w = tf.sqrt(w)\n",
        "  sqrt_w_t = tf.reshape(sqrt_w, shape=(-1, 1))\n",
        "\n",
        "  K_sqrt_w = tf.multiply(K, sqrt_w)\n",
        "  B = tf.eye(K.shape[0]) + tf.multiply(sqrt_w_t, K_sqrt_w)\n",
        "  \n",
        "  chol_B = tf.linalg.cholesky(B)\n",
        "  K_sqrt_w_t = tf.transpose(K_sqrt_w)\n",
        "  inv_sqrt_B_sqrt_w_K = tf.linalg.cholesky_solve(chol_B, K_sqrt_w_t)\n",
        "\n",
        "  cov_mat = K - tf.matmul(\n",
        "      inv_sqrt_B_sqrt_w_K, inv_sqrt_B_sqrt_w_K, transpose_a=True)\n",
        "  \n",
        "  return cov_mat\n",
        "\n",
        "def get_C(f, y, chol_K, nu, t, psi):\n",
        "  logt_posterior = tpc_posterior(f, y, chol_K, nu, t, psi)\n",
        "  C = 1 + (1 - t)*logt_posterior\n",
        "\n",
        "  return C\n",
        "\n",
        "def get_tau(f, y, chol_K, nu, t, psi):\n",
        "  C = get_C(f, y, chol_K, nu, t, psi)\n",
        "  tau = - (\n",
        "      2*C/(1 - t)\n",
        "  )\n",
        "  return tau\n",
        "\n",
        "def compute_posterior_scaling_mat(K, w, tau, psi, t, nu):\n",
        "\n",
        "  scaler_cov = tau/nu\n",
        "  scaler_c = (t - 1)*nu / (2*psi)\n",
        "\n",
        "  # TODO: Check whether -w is the correct one.\n",
        "  sqrt_w = tf.sqrt(-w)\n",
        "  sqrt_w_t = tf.reshape(sqrt_w, shape=(-1, 1))\n",
        "\n",
        "  K_sqrt_w = tf.multiply(K, sqrt_w)\n",
        "  B = tf.eye(K.shape[0], dtype=tf.float64) + scaler_c*tf.multiply(sqrt_w_t, K_sqrt_w)\n",
        "  \n",
        "  # TODO: Check whether this transpose makes sense\n",
        "  chol_B = tf.linalg.cholesky(B)\n",
        "  K_sqrt_w_t = tf.transpose(K_sqrt_w)\n",
        "  inv_sqrt_B_sqrt_w_K = tf.linalg.cholesky_solve(chol_B, K_sqrt_w_t)\n",
        "\n",
        "  cov_mat = scaler_c*K - (scaler_c**2)*tf.matmul(\n",
        "      inv_sqrt_B_sqrt_w_K, inv_sqrt_B_sqrt_w_K, transpose_a=True)\n",
        "  \n",
        "  return scaler_cov*cov_mat\n",
        "\n",
        "def compute_hess_vec_obs_ll(f, y):\n",
        "  prod_vector = tf.repeat(tf.cast(1., dtype=tf.float64), repeats=f.shape[0])\n",
        "  prod_vector = tf.reshape(prod_vector, shape=(-1,1))\n",
        "\n",
        "  with tf.autodiff.ForwardAccumulator(\n",
        "      f, prod_vector) as acc:\n",
        "    with tf.GradientTape() as tape:\n",
        "      obs_ll = tf.reduce_sum(obs_dist.log_prob(f, y))\n",
        "    grad_obs_ll = tape.gradient(obs_ll, f)\n",
        "\n",
        "  hess_vec = acc.jvp(grad_obs_ll)\n",
        "  return tf.squeeze(hess_vec)\n",
        "\n",
        "def compute_marginal_ll(f, y, K, hess_diag, t, nu):\n",
        "  nobs = K.shape[0]\n",
        "  \n",
        "  pad_K = K + 10e-6*tf.eye(nobs, dtype=tf.float64)\n",
        "  chol_K = tf.linalg.cholesky(pad_K)\n",
        "  half_log_det_K = tf.math.log(tf.reduce_sum(tf.linalg.diag_part(chol_K)))\n",
        "  \n",
        "  psi = get_psi(t, nu, nobs, half_log_det_K)\n",
        "  tau = get_tau(f, y, chol_K, nu, t, psi)\n",
        "  scaling_mat = compute_posterior_scaling_mat(pad_K, hess_diag, tau, psi, t, nu)\n",
        "\n",
        "  C = get_C(f, y, chol_K, nu, t, psi)\n",
        "\n",
        "  chol_A = tf.linalg.cholesky(scaling_mat)\n",
        "  half_log_det_A = tf.math.log(tf.reduce_sum(tf.linalg.diag_part(chol_A)))\n",
        "\n",
        "  marg_ll = (1 / (1 - t)) * (\n",
        "      tf.math.log(C)\n",
        "      + 0.5*nobs*tf.math.log(PI*tau)\n",
        "      + tf.math.lgamma(0.5*nu)\n",
        "      + half_log_det_A\n",
        "      - tf.math.lgamma(0.5*(nu + nobs))\n",
        "  )\n",
        "\n",
        "  return marg_ll\n",
        "'''\n",
        "def compute_marginal_ll(f, y, K, hess_diag):\n",
        "  sqrt_w = tf.sqrt(-hess_diag)\n",
        "  sqrt_w_t = tf.reshape(sqrt_w, shape=(-1, 1))\n",
        "\n",
        "  K_sqrt_w = tf.multiply(K, sqrt_w)\n",
        "  B = tf.eye(K.shape[0]) + tf.multiply(sqrt_w_t, K_sqrt_w)\n",
        "  chol_B = tf.linalg.cholesky(B)\n",
        "\n",
        "  chol_K = tf.linalg.cholesky(K  + 10e-5*tf.eye(K.shape[0]))\n",
        "  inv_chol_K_f = tf.linalg.cholesky_solve(chol_K, f)\n",
        "\n",
        "  mll = (\n",
        "      - 0.5*tf.tensordot(inv_chol_K_f, inv_chol_K_f, axes=(0, 0))\n",
        "      + tf.reduce_sum(obs_dist.log_prob(f, y))\n",
        "      - tf.reduce_sum(tf.math.log(tf.linalg.diag_part(chol_B)))\n",
        "  )\n",
        "  \n",
        "  return mll\n",
        "'''\n",
        "k = gpflow.kernels.SquaredExponential(lengthscales=1, variance=2.)\n",
        "x_grid = np.linspace(0, 6, 200).reshape(-1, 1)\n",
        "K = k(x_grid)\n",
        "\n",
        "# sample from a multivariate normal\n",
        "rng = np.random.RandomState(6)\n",
        "\n",
        "L = np.linalg.cholesky(K + 10e-6*np.eye(K.shape[0]))\n",
        "f_real = np.dot(L, rng.randn(200, 1))\n",
        "f_real = tf.cast(f, tf.float64)\n",
        "pvals = obs_dist.invlink(f_real)\n",
        "y = tf.cast(rng.binomial(1, pvals), tf.int32)\n"
      ],
      "execution_count": null,
      "outputs": []
    },
    {
      "cell_type": "code",
      "metadata": {
        "colab": {
          "base_uri": "https://localhost:8080/",
          "height": 289
        },
        "id": "J-M2zvQo9iPA",
        "outputId": "e17e026a-3ce6-4ef3-ddc6-2bba6724dba7"
      },
      "source": [
        "x_grid_tf = tf.constant(x_grid, dtype=tf.float64)\n",
        "K = tf.cast(k(x_grid_tf), dtype=tf.float32)\n",
        "\n",
        "nu = tf.constant(2.)\n",
        "nobs = K.shape[0]\n",
        "t = get_t(nu, nobs)\n",
        "\n",
        "pad_K = K + 10e-5*tf.eye(nobs)\n",
        "chol_K = tf.linalg.cholesky(pad_K)\n",
        "half_log_det_K = tf.math.log(tf.reduce_sum(tf.linalg.diag_part(chol_K)))\n",
        "\n",
        "psi = get_psi(t, nu, nobs, half_log_det_K)\n",
        "tau = get_tau(f, y, chol_K, nu, t, psi) \n",
        "\n",
        "tpc_posterior(f, y, chol_K, nu=2.0, t=t, psi=psi)"
      ],
      "execution_count": null,
      "outputs": [
        {
          "output_type": "error",
          "ename": "InvalidArgumentError",
          "evalue": "ignored",
          "traceback": [
            "\u001b[0;31m---------------------------------------------------------------------------\u001b[0m",
            "\u001b[0;31mInvalidArgumentError\u001b[0m                      Traceback (most recent call last)",
            "\u001b[0;32m<ipython-input-34-5234fd8740fb>\u001b[0m in \u001b[0;36m<module>\u001b[0;34m()\u001b[0m\n\u001b[1;32m     10\u001b[0m \u001b[0mhalf_log_det_K\u001b[0m \u001b[0;34m=\u001b[0m \u001b[0mtf\u001b[0m\u001b[0;34m.\u001b[0m\u001b[0mmath\u001b[0m\u001b[0;34m.\u001b[0m\u001b[0mlog\u001b[0m\u001b[0;34m(\u001b[0m\u001b[0mtf\u001b[0m\u001b[0;34m.\u001b[0m\u001b[0mreduce_sum\u001b[0m\u001b[0;34m(\u001b[0m\u001b[0mtf\u001b[0m\u001b[0;34m.\u001b[0m\u001b[0mlinalg\u001b[0m\u001b[0;34m.\u001b[0m\u001b[0mdiag_part\u001b[0m\u001b[0;34m(\u001b[0m\u001b[0mchol_K\u001b[0m\u001b[0;34m)\u001b[0m\u001b[0;34m)\u001b[0m\u001b[0;34m)\u001b[0m\u001b[0;34m\u001b[0m\u001b[0;34m\u001b[0m\u001b[0m\n\u001b[1;32m     11\u001b[0m \u001b[0;34m\u001b[0m\u001b[0m\n\u001b[0;32m---> 12\u001b[0;31m \u001b[0mpsi\u001b[0m \u001b[0;34m=\u001b[0m \u001b[0mget_psi\u001b[0m\u001b[0;34m(\u001b[0m\u001b[0mt\u001b[0m\u001b[0;34m,\u001b[0m \u001b[0mnu\u001b[0m\u001b[0;34m,\u001b[0m \u001b[0mnobs\u001b[0m\u001b[0;34m,\u001b[0m \u001b[0mhalf_log_det_K\u001b[0m\u001b[0;34m)\u001b[0m\u001b[0;34m\u001b[0m\u001b[0;34m\u001b[0m\u001b[0m\n\u001b[0m\u001b[1;32m     13\u001b[0m \u001b[0mtau\u001b[0m \u001b[0;34m=\u001b[0m \u001b[0mget_tau\u001b[0m\u001b[0;34m(\u001b[0m\u001b[0mf\u001b[0m\u001b[0;34m,\u001b[0m \u001b[0my\u001b[0m\u001b[0;34m,\u001b[0m \u001b[0mchol_K\u001b[0m\u001b[0;34m,\u001b[0m \u001b[0mnu\u001b[0m\u001b[0;34m,\u001b[0m \u001b[0mt\u001b[0m\u001b[0;34m,\u001b[0m \u001b[0mpsi\u001b[0m\u001b[0;34m)\u001b[0m\u001b[0;34m\u001b[0m\u001b[0;34m\u001b[0m\u001b[0m\n\u001b[1;32m     14\u001b[0m \u001b[0;34m\u001b[0m\u001b[0m\n",
            "\u001b[0;32m<ipython-input-33-dbfb4c578064>\u001b[0m in \u001b[0;36mget_psi\u001b[0;34m(t, nu, nobs, half_log_det_X)\u001b[0m\n\u001b[1;32m     28\u001b[0m       \u001b[0;34m-\u001b[0m \u001b[0mnobs\u001b[0m\u001b[0;34m/\u001b[0m\u001b[0;36m2\u001b[0m \u001b[0;34m*\u001b[0m \u001b[0;34m(\u001b[0m\u001b[0mPI\u001b[0m\u001b[0;34m*\u001b[0m\u001b[0mnu\u001b[0m\u001b[0;34m)\u001b[0m\u001b[0;34m\u001b[0m\u001b[0;34m\u001b[0m\u001b[0m\n\u001b[1;32m     29\u001b[0m       \u001b[0;34m-\u001b[0m \u001b[0mtf\u001b[0m\u001b[0;34m.\u001b[0m\u001b[0mmath\u001b[0m\u001b[0;34m.\u001b[0m\u001b[0mlgamma\u001b[0m\u001b[0;34m(\u001b[0m\u001b[0mnu\u001b[0m\u001b[0;34m/\u001b[0m\u001b[0;36m2.\u001b[0m\u001b[0;34m)\u001b[0m\u001b[0;34m\u001b[0m\u001b[0;34m\u001b[0m\u001b[0m\n\u001b[0;32m---> 30\u001b[0;31m       \u001b[0;34m-\u001b[0m \u001b[0mhalf_log_det_X\u001b[0m\u001b[0;34m\u001b[0m\u001b[0;34m\u001b[0m\u001b[0m\n\u001b[0m\u001b[1;32m     31\u001b[0m   )\n\u001b[1;32m     32\u001b[0m   \u001b[0;32mreturn\u001b[0m \u001b[0mtf\u001b[0m\u001b[0;34m.\u001b[0m\u001b[0mexp\u001b[0m\u001b[0;34m(\u001b[0m\u001b[0mpsi\u001b[0m\u001b[0;34m)\u001b[0m\u001b[0;34m\u001b[0m\u001b[0;34m\u001b[0m\u001b[0m\n",
            "\u001b[0;32m/usr/local/lib/python3.7/dist-packages/tensorflow/python/ops/math_ops.py\u001b[0m in \u001b[0;36mbinary_op_wrapper\u001b[0;34m(x, y)\u001b[0m\n\u001b[1;32m   1232\u001b[0m         \u001b[0;31m#   r_binary_op_wrapper use different force_same_dtype values.\u001b[0m\u001b[0;34m\u001b[0m\u001b[0;34m\u001b[0m\u001b[0;34m\u001b[0m\u001b[0m\n\u001b[1;32m   1233\u001b[0m         \u001b[0mx\u001b[0m\u001b[0;34m,\u001b[0m \u001b[0my\u001b[0m \u001b[0;34m=\u001b[0m \u001b[0mmaybe_promote_tensors\u001b[0m\u001b[0;34m(\u001b[0m\u001b[0mx\u001b[0m\u001b[0;34m,\u001b[0m \u001b[0my\u001b[0m\u001b[0;34m,\u001b[0m \u001b[0mforce_same_dtype\u001b[0m\u001b[0;34m=\u001b[0m\u001b[0;32mFalse\u001b[0m\u001b[0;34m)\u001b[0m\u001b[0;34m\u001b[0m\u001b[0;34m\u001b[0m\u001b[0m\n\u001b[0;32m-> 1234\u001b[0;31m         \u001b[0;32mreturn\u001b[0m \u001b[0mfunc\u001b[0m\u001b[0;34m(\u001b[0m\u001b[0mx\u001b[0m\u001b[0;34m,\u001b[0m \u001b[0my\u001b[0m\u001b[0;34m,\u001b[0m \u001b[0mname\u001b[0m\u001b[0;34m=\u001b[0m\u001b[0mname\u001b[0m\u001b[0;34m)\u001b[0m\u001b[0;34m\u001b[0m\u001b[0;34m\u001b[0m\u001b[0m\n\u001b[0m\u001b[1;32m   1235\u001b[0m       \u001b[0;32mexcept\u001b[0m \u001b[0;34m(\u001b[0m\u001b[0mTypeError\u001b[0m\u001b[0;34m,\u001b[0m \u001b[0mValueError\u001b[0m\u001b[0;34m)\u001b[0m \u001b[0;32mas\u001b[0m \u001b[0me\u001b[0m\u001b[0;34m:\u001b[0m\u001b[0;34m\u001b[0m\u001b[0;34m\u001b[0m\u001b[0m\n\u001b[1;32m   1236\u001b[0m         \u001b[0;31m# Even if dispatching the op failed, the RHS may be a tensor aware\u001b[0m\u001b[0;34m\u001b[0m\u001b[0;34m\u001b[0m\u001b[0;34m\u001b[0m\u001b[0m\n",
            "\u001b[0;32m/usr/local/lib/python3.7/dist-packages/tensorflow/python/ops/math_ops.py\u001b[0m in \u001b[0;36m_mul_dispatch\u001b[0;34m(x, y, name)\u001b[0m\n\u001b[1;32m   1573\u001b[0m     \u001b[0;32mreturn\u001b[0m \u001b[0msparse_tensor\u001b[0m\u001b[0;34m.\u001b[0m\u001b[0mSparseTensor\u001b[0m\u001b[0;34m(\u001b[0m\u001b[0my\u001b[0m\u001b[0;34m.\u001b[0m\u001b[0mindices\u001b[0m\u001b[0;34m,\u001b[0m \u001b[0mnew_vals\u001b[0m\u001b[0;34m,\u001b[0m \u001b[0my\u001b[0m\u001b[0;34m.\u001b[0m\u001b[0mdense_shape\u001b[0m\u001b[0;34m)\u001b[0m\u001b[0;34m\u001b[0m\u001b[0;34m\u001b[0m\u001b[0m\n\u001b[1;32m   1574\u001b[0m   \u001b[0;32melse\u001b[0m\u001b[0;34m:\u001b[0m\u001b[0;34m\u001b[0m\u001b[0;34m\u001b[0m\u001b[0m\n\u001b[0;32m-> 1575\u001b[0;31m     \u001b[0;32mreturn\u001b[0m \u001b[0mmultiply\u001b[0m\u001b[0;34m(\u001b[0m\u001b[0mx\u001b[0m\u001b[0;34m,\u001b[0m \u001b[0my\u001b[0m\u001b[0;34m,\u001b[0m \u001b[0mname\u001b[0m\u001b[0;34m=\u001b[0m\u001b[0mname\u001b[0m\u001b[0;34m)\u001b[0m\u001b[0;34m\u001b[0m\u001b[0;34m\u001b[0m\u001b[0m\n\u001b[0m\u001b[1;32m   1576\u001b[0m \u001b[0;34m\u001b[0m\u001b[0m\n\u001b[1;32m   1577\u001b[0m \u001b[0;34m\u001b[0m\u001b[0m\n",
            "\u001b[0;32m/usr/local/lib/python3.7/dist-packages/tensorflow/python/util/dispatch.py\u001b[0m in \u001b[0;36mwrapper\u001b[0;34m(*args, **kwargs)\u001b[0m\n\u001b[1;32m    204\u001b[0m     \u001b[0;34m\"\"\"Call target, and fall back on dispatchers if there is a TypeError.\"\"\"\u001b[0m\u001b[0;34m\u001b[0m\u001b[0;34m\u001b[0m\u001b[0m\n\u001b[1;32m    205\u001b[0m     \u001b[0;32mtry\u001b[0m\u001b[0;34m:\u001b[0m\u001b[0;34m\u001b[0m\u001b[0;34m\u001b[0m\u001b[0m\n\u001b[0;32m--> 206\u001b[0;31m       \u001b[0;32mreturn\u001b[0m \u001b[0mtarget\u001b[0m\u001b[0;34m(\u001b[0m\u001b[0;34m*\u001b[0m\u001b[0margs\u001b[0m\u001b[0;34m,\u001b[0m \u001b[0;34m**\u001b[0m\u001b[0mkwargs\u001b[0m\u001b[0;34m)\u001b[0m\u001b[0;34m\u001b[0m\u001b[0;34m\u001b[0m\u001b[0m\n\u001b[0m\u001b[1;32m    207\u001b[0m     \u001b[0;32mexcept\u001b[0m \u001b[0;34m(\u001b[0m\u001b[0mTypeError\u001b[0m\u001b[0;34m,\u001b[0m \u001b[0mValueError\u001b[0m\u001b[0;34m)\u001b[0m\u001b[0;34m:\u001b[0m\u001b[0;34m\u001b[0m\u001b[0;34m\u001b[0m\u001b[0m\n\u001b[1;32m    208\u001b[0m       \u001b[0;31m# Note: convert_to_eager_tensor currently raises a ValueError, not a\u001b[0m\u001b[0;34m\u001b[0m\u001b[0;34m\u001b[0m\u001b[0;34m\u001b[0m\u001b[0m\n",
            "\u001b[0;32m/usr/local/lib/python3.7/dist-packages/tensorflow/python/ops/math_ops.py\u001b[0m in \u001b[0;36mmultiply\u001b[0;34m(x, y, name)\u001b[0m\n\u001b[1;32m    528\u001b[0m   \"\"\"\n\u001b[1;32m    529\u001b[0m \u001b[0;34m\u001b[0m\u001b[0m\n\u001b[0;32m--> 530\u001b[0;31m   \u001b[0;32mreturn\u001b[0m \u001b[0mgen_math_ops\u001b[0m\u001b[0;34m.\u001b[0m\u001b[0mmul\u001b[0m\u001b[0;34m(\u001b[0m\u001b[0mx\u001b[0m\u001b[0;34m,\u001b[0m \u001b[0my\u001b[0m\u001b[0;34m,\u001b[0m \u001b[0mname\u001b[0m\u001b[0;34m)\u001b[0m\u001b[0;34m\u001b[0m\u001b[0;34m\u001b[0m\u001b[0m\n\u001b[0m\u001b[1;32m    531\u001b[0m \u001b[0;34m\u001b[0m\u001b[0m\n\u001b[1;32m    532\u001b[0m \u001b[0;34m\u001b[0m\u001b[0m\n",
            "\u001b[0;32m/usr/local/lib/python3.7/dist-packages/tensorflow/python/ops/gen_math_ops.py\u001b[0m in \u001b[0;36mmul\u001b[0;34m(x, y, name)\u001b[0m\n\u001b[1;32m   6238\u001b[0m       \u001b[0;32mreturn\u001b[0m \u001b[0m_result\u001b[0m\u001b[0;34m\u001b[0m\u001b[0;34m\u001b[0m\u001b[0m\n\u001b[1;32m   6239\u001b[0m     \u001b[0;32mexcept\u001b[0m \u001b[0m_core\u001b[0m\u001b[0;34m.\u001b[0m\u001b[0m_NotOkStatusException\u001b[0m \u001b[0;32mas\u001b[0m \u001b[0me\u001b[0m\u001b[0;34m:\u001b[0m\u001b[0;34m\u001b[0m\u001b[0;34m\u001b[0m\u001b[0m\n\u001b[0;32m-> 6240\u001b[0;31m       \u001b[0m_ops\u001b[0m\u001b[0;34m.\u001b[0m\u001b[0mraise_from_not_ok_status\u001b[0m\u001b[0;34m(\u001b[0m\u001b[0me\u001b[0m\u001b[0;34m,\u001b[0m \u001b[0mname\u001b[0m\u001b[0;34m)\u001b[0m\u001b[0;34m\u001b[0m\u001b[0;34m\u001b[0m\u001b[0m\n\u001b[0m\u001b[1;32m   6241\u001b[0m     \u001b[0;32mexcept\u001b[0m \u001b[0m_core\u001b[0m\u001b[0;34m.\u001b[0m\u001b[0m_FallbackException\u001b[0m\u001b[0;34m:\u001b[0m\u001b[0;34m\u001b[0m\u001b[0;34m\u001b[0m\u001b[0m\n\u001b[1;32m   6242\u001b[0m       \u001b[0;32mpass\u001b[0m\u001b[0;34m\u001b[0m\u001b[0;34m\u001b[0m\u001b[0m\n",
            "\u001b[0;32m/usr/local/lib/python3.7/dist-packages/tensorflow/python/framework/ops.py\u001b[0m in \u001b[0;36mraise_from_not_ok_status\u001b[0;34m(e, name)\u001b[0m\n\u001b[1;32m   6895\u001b[0m   \u001b[0mmessage\u001b[0m \u001b[0;34m=\u001b[0m \u001b[0me\u001b[0m\u001b[0;34m.\u001b[0m\u001b[0mmessage\u001b[0m \u001b[0;34m+\u001b[0m \u001b[0;34m(\u001b[0m\u001b[0;34m\" name: \"\u001b[0m \u001b[0;34m+\u001b[0m \u001b[0mname\u001b[0m \u001b[0;32mif\u001b[0m \u001b[0mname\u001b[0m \u001b[0;32mis\u001b[0m \u001b[0;32mnot\u001b[0m \u001b[0;32mNone\u001b[0m \u001b[0;32melse\u001b[0m \u001b[0;34m\"\"\u001b[0m\u001b[0;34m)\u001b[0m\u001b[0;34m\u001b[0m\u001b[0;34m\u001b[0m\u001b[0m\n\u001b[1;32m   6896\u001b[0m   \u001b[0;31m# pylint: disable=protected-access\u001b[0m\u001b[0;34m\u001b[0m\u001b[0;34m\u001b[0m\u001b[0;34m\u001b[0m\u001b[0m\n\u001b[0;32m-> 6897\u001b[0;31m   \u001b[0msix\u001b[0m\u001b[0;34m.\u001b[0m\u001b[0mraise_from\u001b[0m\u001b[0;34m(\u001b[0m\u001b[0mcore\u001b[0m\u001b[0;34m.\u001b[0m\u001b[0m_status_to_exception\u001b[0m\u001b[0;34m(\u001b[0m\u001b[0me\u001b[0m\u001b[0;34m.\u001b[0m\u001b[0mcode\u001b[0m\u001b[0;34m,\u001b[0m \u001b[0mmessage\u001b[0m\u001b[0;34m)\u001b[0m\u001b[0;34m,\u001b[0m \u001b[0;32mNone\u001b[0m\u001b[0;34m)\u001b[0m\u001b[0;34m\u001b[0m\u001b[0;34m\u001b[0m\u001b[0m\n\u001b[0m\u001b[1;32m   6898\u001b[0m   \u001b[0;31m# pylint: enable=protected-access\u001b[0m\u001b[0;34m\u001b[0m\u001b[0;34m\u001b[0m\u001b[0;34m\u001b[0m\u001b[0m\n\u001b[1;32m   6899\u001b[0m \u001b[0;34m\u001b[0m\u001b[0m\n",
            "\u001b[0;32m/usr/local/lib/python3.7/dist-packages/six.py\u001b[0m in \u001b[0;36mraise_from\u001b[0;34m(value, from_value)\u001b[0m\n",
            "\u001b[0;31mInvalidArgumentError\u001b[0m: cannot compute Mul as input #1(zero-based) was expected to be a double tensor but is a float tensor [Op:Mul]"
          ]
        }
      ]
    },
    {
      "cell_type": "code",
      "metadata": {
        "colab": {
          "base_uri": "https://localhost:8080/"
        },
        "id": "SyMegGYou-xs",
        "outputId": "9704f05f-df7f-49d9-ee8d-6fbb913698af"
      },
      "source": [
        "get_t(nu, nobs)"
      ],
      "execution_count": null,
      "outputs": [
        {
          "output_type": "execute_result",
          "data": {
            "text/plain": [
              "<tf.Tensor: shape=(), dtype=float32, numpy=1.009901>"
            ]
          },
          "metadata": {
            "tags": []
          },
          "execution_count": 4
        }
      ]
    },
    {
      "cell_type": "code",
      "metadata": {
        "id": "XWPnDoSAHzny",
        "colab": {
          "base_uri": "https://localhost:8080/",
          "height": 544
        },
        "outputId": "1f1f5d6c-38af-4657-b7c3-2ad89f1fa3ef"
      },
      "source": [
        "### Optimize posterior\n",
        "'''\n",
        "from gpflow.optimizers import NaturalGradient\n",
        "from gpflow.optimizers import Scipy\n",
        "\n",
        "opt = Scipy()\n",
        "\n",
        "neg_post = []\n",
        "marg_ll = []\n",
        "\n",
        "x_grid_tf = tf.constant(x_grid, dtype=tf.float64)\n",
        "K = tf.cast(k(x_grid_tf), dtype=tf.float32)\n",
        "\n",
        "nu = tf.constant(2.)\n",
        "nobs = K.shape[0]\n",
        "t = get_t(nu, nobs)\n",
        "\n",
        "for i in range(10):\n",
        "\n",
        "  K = tf.cast(k(x_grid_tf), dtype=tf.float32)\n",
        "  nobs = K.shape[0]\n",
        "  t = get_t(nu, nobs)\n",
        "\n",
        "  pad_K = K + 10e-5*tf.eye(nobs)\n",
        "  chol_K = tf.linalg.cholesky(pad_K)\n",
        "  half_log_det_K = tf.math.log(tf.reduce_sum(tf.linalg.diag_part(chol_K)))\n",
        "\n",
        "  psi = get_psi(t, nu, nobs, half_log_det_K)\n",
        "  tau = get_tau(f, y, chol_K, nu, t, psi) \n",
        "\n",
        "  opt_res = opt.minimize(lambda: -tpc_posterior(f, y, chol_K, nu, t, psi), variables=[f])\n",
        "  neg_post.append(opt_res.fun[0, 0])\n",
        "  \n",
        "  hess_diag = compute_hess_vec_obs_ll(f, y)\n",
        "\n",
        "  opt_res = opt.minimize(\n",
        "      lambda: -compute_marginal_ll(f, y, tf.cast(k(x_grid) + 10e-6*tf.eye(nobs, dtype=tf.float64), tf.float32), hess_diag, t, nu), \n",
        "      variables=k.trainable_variables)\n",
        "  marg_ll.append(opt_res.fun[0, 0])\n",
        "  print(i, 'mll', opt_res.fun[0,0])\n",
        "'''"
      ],
      "execution_count": null,
      "outputs": [
        {
          "output_type": "stream",
          "text": [
            "0 mll 57889.08984375\n",
            "1 mll 57789.08203125\n"
          ],
          "name": "stdout"
        },
        {
          "output_type": "error",
          "ename": "InvalidArgumentError",
          "evalue": "ignored",
          "traceback": [
            "\u001b[0;31m---------------------------------------------------------------------------\u001b[0m",
            "\u001b[0;31mInvalidArgumentError\u001b[0m                      Traceback (most recent call last)",
            "\u001b[0;32m<ipython-input-11-faf9289a1eef>\u001b[0m in \u001b[0;36m<module>\u001b[0;34m()\u001b[0m\n\u001b[1;32m     35\u001b[0m   opt_res = opt.minimize(\n\u001b[1;32m     36\u001b[0m       \u001b[0;32mlambda\u001b[0m\u001b[0;34m:\u001b[0m \u001b[0;34m-\u001b[0m\u001b[0mcompute_marginal_ll\u001b[0m\u001b[0;34m(\u001b[0m\u001b[0mf\u001b[0m\u001b[0;34m,\u001b[0m \u001b[0my\u001b[0m\u001b[0;34m,\u001b[0m \u001b[0mtf\u001b[0m\u001b[0;34m.\u001b[0m\u001b[0mcast\u001b[0m\u001b[0;34m(\u001b[0m\u001b[0mk\u001b[0m\u001b[0;34m(\u001b[0m\u001b[0mx_grid\u001b[0m\u001b[0;34m)\u001b[0m \u001b[0;34m+\u001b[0m \u001b[0;36m10e-6\u001b[0m\u001b[0;34m*\u001b[0m\u001b[0mtf\u001b[0m\u001b[0;34m.\u001b[0m\u001b[0meye\u001b[0m\u001b[0;34m(\u001b[0m\u001b[0mnobs\u001b[0m\u001b[0;34m,\u001b[0m \u001b[0mdtype\u001b[0m\u001b[0;34m=\u001b[0m\u001b[0mtf\u001b[0m\u001b[0;34m.\u001b[0m\u001b[0mfloat64\u001b[0m\u001b[0;34m)\u001b[0m\u001b[0;34m,\u001b[0m \u001b[0mtf\u001b[0m\u001b[0;34m.\u001b[0m\u001b[0mfloat32\u001b[0m\u001b[0;34m)\u001b[0m\u001b[0;34m,\u001b[0m \u001b[0mhess_diag\u001b[0m\u001b[0;34m,\u001b[0m \u001b[0mt\u001b[0m\u001b[0;34m,\u001b[0m \u001b[0mnu\u001b[0m\u001b[0;34m)\u001b[0m\u001b[0;34m,\u001b[0m\u001b[0;34m\u001b[0m\u001b[0;34m\u001b[0m\u001b[0m\n\u001b[0;32m---> 37\u001b[0;31m       variables=k.trainable_variables)\n\u001b[0m\u001b[1;32m     38\u001b[0m   \u001b[0mmarg_ll\u001b[0m\u001b[0;34m.\u001b[0m\u001b[0mappend\u001b[0m\u001b[0;34m(\u001b[0m\u001b[0mopt_res\u001b[0m\u001b[0;34m.\u001b[0m\u001b[0mfun\u001b[0m\u001b[0;34m[\u001b[0m\u001b[0;36m0\u001b[0m\u001b[0;34m,\u001b[0m \u001b[0;36m0\u001b[0m\u001b[0;34m]\u001b[0m\u001b[0;34m)\u001b[0m\u001b[0;34m\u001b[0m\u001b[0;34m\u001b[0m\u001b[0m\n\u001b[1;32m     39\u001b[0m   \u001b[0mprint\u001b[0m\u001b[0;34m(\u001b[0m\u001b[0mi\u001b[0m\u001b[0;34m,\u001b[0m \u001b[0;34m'mll'\u001b[0m\u001b[0;34m,\u001b[0m \u001b[0mopt_res\u001b[0m\u001b[0;34m.\u001b[0m\u001b[0mfun\u001b[0m\u001b[0;34m[\u001b[0m\u001b[0;36m0\u001b[0m\u001b[0;34m,\u001b[0m\u001b[0;36m0\u001b[0m\u001b[0;34m]\u001b[0m\u001b[0;34m)\u001b[0m\u001b[0;34m\u001b[0m\u001b[0;34m\u001b[0m\u001b[0m\n",
            "\u001b[0;32m/usr/local/lib/python3.7/dist-packages/gpflow/optimizers/scipy.py\u001b[0m in \u001b[0;36mminimize\u001b[0;34m(self, closure, variables, method, step_callback, compile, **scipy_kwargs)\u001b[0m\n\u001b[1;32m     89\u001b[0m \u001b[0;34m\u001b[0m\u001b[0m\n\u001b[1;32m     90\u001b[0m         return scipy.optimize.minimize(\n\u001b[0;32m---> 91\u001b[0;31m             \u001b[0mfunc\u001b[0m\u001b[0;34m,\u001b[0m \u001b[0minitial_params\u001b[0m\u001b[0;34m,\u001b[0m \u001b[0mjac\u001b[0m\u001b[0;34m=\u001b[0m\u001b[0;32mTrue\u001b[0m\u001b[0;34m,\u001b[0m \u001b[0mmethod\u001b[0m\u001b[0;34m=\u001b[0m\u001b[0mmethod\u001b[0m\u001b[0;34m,\u001b[0m \u001b[0;34m**\u001b[0m\u001b[0mscipy_kwargs\u001b[0m\u001b[0;34m\u001b[0m\u001b[0;34m\u001b[0m\u001b[0m\n\u001b[0m\u001b[1;32m     92\u001b[0m         )\n\u001b[1;32m     93\u001b[0m \u001b[0;34m\u001b[0m\u001b[0m\n",
            "\u001b[0;32m/usr/local/lib/python3.7/dist-packages/scipy/optimize/_minimize.py\u001b[0m in \u001b[0;36mminimize\u001b[0;34m(fun, x0, args, method, jac, hess, hessp, bounds, constraints, tol, callback, options)\u001b[0m\n\u001b[1;32m    608\u001b[0m     \u001b[0;32melif\u001b[0m \u001b[0mmeth\u001b[0m \u001b[0;34m==\u001b[0m \u001b[0;34m'l-bfgs-b'\u001b[0m\u001b[0;34m:\u001b[0m\u001b[0;34m\u001b[0m\u001b[0;34m\u001b[0m\u001b[0m\n\u001b[1;32m    609\u001b[0m         return _minimize_lbfgsb(fun, x0, args, jac, bounds,\n\u001b[0;32m--> 610\u001b[0;31m                                 callback=callback, **options)\n\u001b[0m\u001b[1;32m    611\u001b[0m     \u001b[0;32melif\u001b[0m \u001b[0mmeth\u001b[0m \u001b[0;34m==\u001b[0m \u001b[0;34m'tnc'\u001b[0m\u001b[0;34m:\u001b[0m\u001b[0;34m\u001b[0m\u001b[0;34m\u001b[0m\u001b[0m\n\u001b[1;32m    612\u001b[0m         return _minimize_tnc(fun, x0, args, jac, bounds, callback=callback,\n",
            "\u001b[0;32m/usr/local/lib/python3.7/dist-packages/scipy/optimize/lbfgsb.py\u001b[0m in \u001b[0;36m_minimize_lbfgsb\u001b[0;34m(fun, x0, args, jac, bounds, disp, maxcor, ftol, gtol, eps, maxfun, maxiter, iprint, callback, maxls, **unknown_options)\u001b[0m\n\u001b[1;32m    343\u001b[0m             \u001b[0;31m# until the completion of the current minimization iteration.\u001b[0m\u001b[0;34m\u001b[0m\u001b[0;34m\u001b[0m\u001b[0;34m\u001b[0m\u001b[0m\n\u001b[1;32m    344\u001b[0m             \u001b[0;31m# Overwrite f and g:\u001b[0m\u001b[0;34m\u001b[0m\u001b[0;34m\u001b[0m\u001b[0;34m\u001b[0m\u001b[0m\n\u001b[0;32m--> 345\u001b[0;31m             \u001b[0mf\u001b[0m\u001b[0;34m,\u001b[0m \u001b[0mg\u001b[0m \u001b[0;34m=\u001b[0m \u001b[0mfunc_and_grad\u001b[0m\u001b[0;34m(\u001b[0m\u001b[0mx\u001b[0m\u001b[0;34m)\u001b[0m\u001b[0;34m\u001b[0m\u001b[0;34m\u001b[0m\u001b[0m\n\u001b[0m\u001b[1;32m    346\u001b[0m         \u001b[0;32melif\u001b[0m \u001b[0mtask_str\u001b[0m\u001b[0;34m.\u001b[0m\u001b[0mstartswith\u001b[0m\u001b[0;34m(\u001b[0m\u001b[0;34mb'NEW_X'\u001b[0m\u001b[0;34m)\u001b[0m\u001b[0;34m:\u001b[0m\u001b[0;34m\u001b[0m\u001b[0;34m\u001b[0m\u001b[0m\n\u001b[1;32m    347\u001b[0m             \u001b[0;31m# new iteration\u001b[0m\u001b[0;34m\u001b[0m\u001b[0;34m\u001b[0m\u001b[0;34m\u001b[0m\u001b[0m\n",
            "\u001b[0;32m/usr/local/lib/python3.7/dist-packages/scipy/optimize/lbfgsb.py\u001b[0m in \u001b[0;36mfunc_and_grad\u001b[0;34m(x)\u001b[0m\n\u001b[1;32m    293\u001b[0m     \u001b[0;32melse\u001b[0m\u001b[0;34m:\u001b[0m\u001b[0;34m\u001b[0m\u001b[0;34m\u001b[0m\u001b[0m\n\u001b[1;32m    294\u001b[0m         \u001b[0;32mdef\u001b[0m \u001b[0mfunc_and_grad\u001b[0m\u001b[0;34m(\u001b[0m\u001b[0mx\u001b[0m\u001b[0;34m)\u001b[0m\u001b[0;34m:\u001b[0m\u001b[0;34m\u001b[0m\u001b[0;34m\u001b[0m\u001b[0m\n\u001b[0;32m--> 295\u001b[0;31m             \u001b[0mf\u001b[0m \u001b[0;34m=\u001b[0m \u001b[0mfun\u001b[0m\u001b[0;34m(\u001b[0m\u001b[0mx\u001b[0m\u001b[0;34m,\u001b[0m \u001b[0;34m*\u001b[0m\u001b[0margs\u001b[0m\u001b[0;34m)\u001b[0m\u001b[0;34m\u001b[0m\u001b[0;34m\u001b[0m\u001b[0m\n\u001b[0m\u001b[1;32m    296\u001b[0m             \u001b[0mg\u001b[0m \u001b[0;34m=\u001b[0m \u001b[0mjac\u001b[0m\u001b[0;34m(\u001b[0m\u001b[0mx\u001b[0m\u001b[0;34m,\u001b[0m \u001b[0;34m*\u001b[0m\u001b[0margs\u001b[0m\u001b[0;34m)\u001b[0m\u001b[0;34m\u001b[0m\u001b[0;34m\u001b[0m\u001b[0m\n\u001b[1;32m    297\u001b[0m             \u001b[0;32mreturn\u001b[0m \u001b[0mf\u001b[0m\u001b[0;34m,\u001b[0m \u001b[0mg\u001b[0m\u001b[0;34m\u001b[0m\u001b[0;34m\u001b[0m\u001b[0m\n",
            "\u001b[0;32m/usr/local/lib/python3.7/dist-packages/scipy/optimize/optimize.py\u001b[0m in \u001b[0;36mfunction_wrapper\u001b[0;34m(*wrapper_args)\u001b[0m\n\u001b[1;32m    325\u001b[0m     \u001b[0;32mdef\u001b[0m \u001b[0mfunction_wrapper\u001b[0m\u001b[0;34m(\u001b[0m\u001b[0;34m*\u001b[0m\u001b[0mwrapper_args\u001b[0m\u001b[0;34m)\u001b[0m\u001b[0;34m:\u001b[0m\u001b[0;34m\u001b[0m\u001b[0;34m\u001b[0m\u001b[0m\n\u001b[1;32m    326\u001b[0m         \u001b[0mncalls\u001b[0m\u001b[0;34m[\u001b[0m\u001b[0;36m0\u001b[0m\u001b[0;34m]\u001b[0m \u001b[0;34m+=\u001b[0m \u001b[0;36m1\u001b[0m\u001b[0;34m\u001b[0m\u001b[0;34m\u001b[0m\u001b[0m\n\u001b[0;32m--> 327\u001b[0;31m         \u001b[0;32mreturn\u001b[0m \u001b[0mfunction\u001b[0m\u001b[0;34m(\u001b[0m\u001b[0;34m*\u001b[0m\u001b[0;34m(\u001b[0m\u001b[0mwrapper_args\u001b[0m \u001b[0;34m+\u001b[0m \u001b[0margs\u001b[0m\u001b[0;34m)\u001b[0m\u001b[0;34m)\u001b[0m\u001b[0;34m\u001b[0m\u001b[0;34m\u001b[0m\u001b[0m\n\u001b[0m\u001b[1;32m    328\u001b[0m \u001b[0;34m\u001b[0m\u001b[0m\n\u001b[1;32m    329\u001b[0m     \u001b[0;32mreturn\u001b[0m \u001b[0mncalls\u001b[0m\u001b[0;34m,\u001b[0m \u001b[0mfunction_wrapper\u001b[0m\u001b[0;34m\u001b[0m\u001b[0;34m\u001b[0m\u001b[0m\n",
            "\u001b[0;32m/usr/local/lib/python3.7/dist-packages/scipy/optimize/optimize.py\u001b[0m in \u001b[0;36m__call__\u001b[0;34m(self, x, *args)\u001b[0m\n\u001b[1;32m     63\u001b[0m     \u001b[0;32mdef\u001b[0m \u001b[0m__call__\u001b[0m\u001b[0;34m(\u001b[0m\u001b[0mself\u001b[0m\u001b[0;34m,\u001b[0m \u001b[0mx\u001b[0m\u001b[0;34m,\u001b[0m \u001b[0;34m*\u001b[0m\u001b[0margs\u001b[0m\u001b[0;34m)\u001b[0m\u001b[0;34m:\u001b[0m\u001b[0;34m\u001b[0m\u001b[0;34m\u001b[0m\u001b[0m\n\u001b[1;32m     64\u001b[0m         \u001b[0mself\u001b[0m\u001b[0;34m.\u001b[0m\u001b[0mx\u001b[0m \u001b[0;34m=\u001b[0m \u001b[0mnumpy\u001b[0m\u001b[0;34m.\u001b[0m\u001b[0masarray\u001b[0m\u001b[0;34m(\u001b[0m\u001b[0mx\u001b[0m\u001b[0;34m)\u001b[0m\u001b[0;34m.\u001b[0m\u001b[0mcopy\u001b[0m\u001b[0;34m(\u001b[0m\u001b[0;34m)\u001b[0m\u001b[0;34m\u001b[0m\u001b[0;34m\u001b[0m\u001b[0m\n\u001b[0;32m---> 65\u001b[0;31m         \u001b[0mfg\u001b[0m \u001b[0;34m=\u001b[0m \u001b[0mself\u001b[0m\u001b[0;34m.\u001b[0m\u001b[0mfun\u001b[0m\u001b[0;34m(\u001b[0m\u001b[0mx\u001b[0m\u001b[0;34m,\u001b[0m \u001b[0;34m*\u001b[0m\u001b[0margs\u001b[0m\u001b[0;34m)\u001b[0m\u001b[0;34m\u001b[0m\u001b[0;34m\u001b[0m\u001b[0m\n\u001b[0m\u001b[1;32m     66\u001b[0m         \u001b[0mself\u001b[0m\u001b[0;34m.\u001b[0m\u001b[0mjac\u001b[0m \u001b[0;34m=\u001b[0m \u001b[0mfg\u001b[0m\u001b[0;34m[\u001b[0m\u001b[0;36m1\u001b[0m\u001b[0;34m]\u001b[0m\u001b[0;34m\u001b[0m\u001b[0;34m\u001b[0m\u001b[0m\n\u001b[1;32m     67\u001b[0m         \u001b[0;32mreturn\u001b[0m \u001b[0mfg\u001b[0m\u001b[0;34m[\u001b[0m\u001b[0;36m0\u001b[0m\u001b[0;34m]\u001b[0m\u001b[0;34m\u001b[0m\u001b[0;34m\u001b[0m\u001b[0m\n",
            "\u001b[0;32m/usr/local/lib/python3.7/dist-packages/gpflow/optimizers/scipy.py\u001b[0m in \u001b[0;36m_eval\u001b[0;34m(x)\u001b[0m\n\u001b[1;32m    111\u001b[0m \u001b[0;34m\u001b[0m\u001b[0m\n\u001b[1;32m    112\u001b[0m         \u001b[0;32mdef\u001b[0m \u001b[0m_eval\u001b[0m\u001b[0;34m(\u001b[0m\u001b[0mx\u001b[0m\u001b[0;34m:\u001b[0m \u001b[0mnp\u001b[0m\u001b[0;34m.\u001b[0m\u001b[0mndarray\u001b[0m\u001b[0;34m)\u001b[0m \u001b[0;34m->\u001b[0m \u001b[0mTuple\u001b[0m\u001b[0;34m[\u001b[0m\u001b[0mnp\u001b[0m\u001b[0;34m.\u001b[0m\u001b[0mndarray\u001b[0m\u001b[0;34m,\u001b[0m \u001b[0mnp\u001b[0m\u001b[0;34m.\u001b[0m\u001b[0mndarray\u001b[0m\u001b[0;34m]\u001b[0m\u001b[0;34m:\u001b[0m\u001b[0;34m\u001b[0m\u001b[0;34m\u001b[0m\u001b[0m\n\u001b[0;32m--> 113\u001b[0;31m             \u001b[0mloss\u001b[0m\u001b[0;34m,\u001b[0m \u001b[0mgrad\u001b[0m \u001b[0;34m=\u001b[0m \u001b[0m_tf_eval\u001b[0m\u001b[0;34m(\u001b[0m\u001b[0mtf\u001b[0m\u001b[0;34m.\u001b[0m\u001b[0mconvert_to_tensor\u001b[0m\u001b[0;34m(\u001b[0m\u001b[0mx\u001b[0m\u001b[0;34m)\u001b[0m\u001b[0;34m)\u001b[0m\u001b[0;34m\u001b[0m\u001b[0;34m\u001b[0m\u001b[0m\n\u001b[0m\u001b[1;32m    114\u001b[0m             \u001b[0;32mreturn\u001b[0m \u001b[0mloss\u001b[0m\u001b[0;34m.\u001b[0m\u001b[0mnumpy\u001b[0m\u001b[0;34m(\u001b[0m\u001b[0;34m)\u001b[0m\u001b[0;34m.\u001b[0m\u001b[0mastype\u001b[0m\u001b[0;34m(\u001b[0m\u001b[0mnp\u001b[0m\u001b[0;34m.\u001b[0m\u001b[0mfloat64\u001b[0m\u001b[0;34m)\u001b[0m\u001b[0;34m,\u001b[0m \u001b[0mgrad\u001b[0m\u001b[0;34m.\u001b[0m\u001b[0mnumpy\u001b[0m\u001b[0;34m(\u001b[0m\u001b[0;34m)\u001b[0m\u001b[0;34m.\u001b[0m\u001b[0mastype\u001b[0m\u001b[0;34m(\u001b[0m\u001b[0mnp\u001b[0m\u001b[0;34m.\u001b[0m\u001b[0mfloat64\u001b[0m\u001b[0;34m)\u001b[0m\u001b[0;34m\u001b[0m\u001b[0;34m\u001b[0m\u001b[0m\n\u001b[1;32m    115\u001b[0m \u001b[0;34m\u001b[0m\u001b[0m\n",
            "\u001b[0;32m/usr/local/lib/python3.7/dist-packages/tensorflow/python/eager/def_function.py\u001b[0m in \u001b[0;36m__call__\u001b[0;34m(self, *args, **kwds)\u001b[0m\n\u001b[1;32m    887\u001b[0m \u001b[0;34m\u001b[0m\u001b[0m\n\u001b[1;32m    888\u001b[0m       \u001b[0;32mwith\u001b[0m \u001b[0mOptionalXlaContext\u001b[0m\u001b[0;34m(\u001b[0m\u001b[0mself\u001b[0m\u001b[0;34m.\u001b[0m\u001b[0m_jit_compile\u001b[0m\u001b[0;34m)\u001b[0m\u001b[0;34m:\u001b[0m\u001b[0;34m\u001b[0m\u001b[0;34m\u001b[0m\u001b[0m\n\u001b[0;32m--> 889\u001b[0;31m         \u001b[0mresult\u001b[0m \u001b[0;34m=\u001b[0m \u001b[0mself\u001b[0m\u001b[0;34m.\u001b[0m\u001b[0m_call\u001b[0m\u001b[0;34m(\u001b[0m\u001b[0;34m*\u001b[0m\u001b[0margs\u001b[0m\u001b[0;34m,\u001b[0m \u001b[0;34m**\u001b[0m\u001b[0mkwds\u001b[0m\u001b[0;34m)\u001b[0m\u001b[0;34m\u001b[0m\u001b[0;34m\u001b[0m\u001b[0m\n\u001b[0m\u001b[1;32m    890\u001b[0m \u001b[0;34m\u001b[0m\u001b[0m\n\u001b[1;32m    891\u001b[0m       \u001b[0mnew_tracing_count\u001b[0m \u001b[0;34m=\u001b[0m \u001b[0mself\u001b[0m\u001b[0;34m.\u001b[0m\u001b[0mexperimental_get_tracing_count\u001b[0m\u001b[0;34m(\u001b[0m\u001b[0;34m)\u001b[0m\u001b[0;34m\u001b[0m\u001b[0;34m\u001b[0m\u001b[0m\n",
            "\u001b[0;32m/usr/local/lib/python3.7/dist-packages/tensorflow/python/eager/def_function.py\u001b[0m in \u001b[0;36m_call\u001b[0;34m(self, *args, **kwds)\u001b[0m\n\u001b[1;32m    922\u001b[0m       \u001b[0;31m# In this case we have not created variables on the first call. So we can\u001b[0m\u001b[0;34m\u001b[0m\u001b[0;34m\u001b[0m\u001b[0;34m\u001b[0m\u001b[0m\n\u001b[1;32m    923\u001b[0m       \u001b[0;31m# run the first trace but we should fail if variables are created.\u001b[0m\u001b[0;34m\u001b[0m\u001b[0;34m\u001b[0m\u001b[0;34m\u001b[0m\u001b[0m\n\u001b[0;32m--> 924\u001b[0;31m       \u001b[0mresults\u001b[0m \u001b[0;34m=\u001b[0m \u001b[0mself\u001b[0m\u001b[0;34m.\u001b[0m\u001b[0m_stateful_fn\u001b[0m\u001b[0;34m(\u001b[0m\u001b[0;34m*\u001b[0m\u001b[0margs\u001b[0m\u001b[0;34m,\u001b[0m \u001b[0;34m**\u001b[0m\u001b[0mkwds\u001b[0m\u001b[0;34m)\u001b[0m\u001b[0;34m\u001b[0m\u001b[0;34m\u001b[0m\u001b[0m\n\u001b[0m\u001b[1;32m    925\u001b[0m       \u001b[0;32mif\u001b[0m \u001b[0mself\u001b[0m\u001b[0;34m.\u001b[0m\u001b[0m_created_variables\u001b[0m\u001b[0;34m:\u001b[0m\u001b[0;34m\u001b[0m\u001b[0;34m\u001b[0m\u001b[0m\n\u001b[1;32m    926\u001b[0m         raise ValueError(\"Creating variables on a non-first call to a function\"\n",
            "\u001b[0;32m/usr/local/lib/python3.7/dist-packages/tensorflow/python/eager/function.py\u001b[0m in \u001b[0;36m__call__\u001b[0;34m(self, *args, **kwargs)\u001b[0m\n\u001b[1;32m   3022\u001b[0m        filtered_flat_args) = self._maybe_define_function(args, kwargs)\n\u001b[1;32m   3023\u001b[0m     return graph_function._call_flat(\n\u001b[0;32m-> 3024\u001b[0;31m         filtered_flat_args, captured_inputs=graph_function.captured_inputs)  # pylint: disable=protected-access\n\u001b[0m\u001b[1;32m   3025\u001b[0m \u001b[0;34m\u001b[0m\u001b[0m\n\u001b[1;32m   3026\u001b[0m   \u001b[0;34m@\u001b[0m\u001b[0mproperty\u001b[0m\u001b[0;34m\u001b[0m\u001b[0;34m\u001b[0m\u001b[0m\n",
            "\u001b[0;32m/usr/local/lib/python3.7/dist-packages/tensorflow/python/eager/function.py\u001b[0m in \u001b[0;36m_call_flat\u001b[0;34m(self, args, captured_inputs, cancellation_manager)\u001b[0m\n\u001b[1;32m   1959\u001b[0m       \u001b[0;31m# No tape is watching; skip to running the function.\u001b[0m\u001b[0;34m\u001b[0m\u001b[0;34m\u001b[0m\u001b[0;34m\u001b[0m\u001b[0m\n\u001b[1;32m   1960\u001b[0m       return self._build_call_outputs(self._inference_function.call(\n\u001b[0;32m-> 1961\u001b[0;31m           ctx, args, cancellation_manager=cancellation_manager))\n\u001b[0m\u001b[1;32m   1962\u001b[0m     forward_backward = self._select_forward_and_backward_functions(\n\u001b[1;32m   1963\u001b[0m         \u001b[0margs\u001b[0m\u001b[0;34m,\u001b[0m\u001b[0;34m\u001b[0m\u001b[0;34m\u001b[0m\u001b[0m\n",
            "\u001b[0;32m/usr/local/lib/python3.7/dist-packages/tensorflow/python/eager/function.py\u001b[0m in \u001b[0;36mcall\u001b[0;34m(self, ctx, args, cancellation_manager)\u001b[0m\n\u001b[1;32m    594\u001b[0m               \u001b[0minputs\u001b[0m\u001b[0;34m=\u001b[0m\u001b[0margs\u001b[0m\u001b[0;34m,\u001b[0m\u001b[0;34m\u001b[0m\u001b[0;34m\u001b[0m\u001b[0m\n\u001b[1;32m    595\u001b[0m               \u001b[0mattrs\u001b[0m\u001b[0;34m=\u001b[0m\u001b[0mattrs\u001b[0m\u001b[0;34m,\u001b[0m\u001b[0;34m\u001b[0m\u001b[0;34m\u001b[0m\u001b[0m\n\u001b[0;32m--> 596\u001b[0;31m               ctx=ctx)\n\u001b[0m\u001b[1;32m    597\u001b[0m         \u001b[0;32melse\u001b[0m\u001b[0;34m:\u001b[0m\u001b[0;34m\u001b[0m\u001b[0;34m\u001b[0m\u001b[0m\n\u001b[1;32m    598\u001b[0m           outputs = execute.execute_with_cancellation(\n",
            "\u001b[0;32m/usr/local/lib/python3.7/dist-packages/tensorflow/python/eager/execute.py\u001b[0m in \u001b[0;36mquick_execute\u001b[0;34m(op_name, num_outputs, inputs, attrs, ctx, name)\u001b[0m\n\u001b[1;32m     58\u001b[0m     \u001b[0mctx\u001b[0m\u001b[0;34m.\u001b[0m\u001b[0mensure_initialized\u001b[0m\u001b[0;34m(\u001b[0m\u001b[0;34m)\u001b[0m\u001b[0;34m\u001b[0m\u001b[0;34m\u001b[0m\u001b[0m\n\u001b[1;32m     59\u001b[0m     tensors = pywrap_tfe.TFE_Py_Execute(ctx._handle, device_name, op_name,\n\u001b[0;32m---> 60\u001b[0;31m                                         inputs, attrs, num_outputs)\n\u001b[0m\u001b[1;32m     61\u001b[0m   \u001b[0;32mexcept\u001b[0m \u001b[0mcore\u001b[0m\u001b[0;34m.\u001b[0m\u001b[0m_NotOkStatusException\u001b[0m \u001b[0;32mas\u001b[0m \u001b[0me\u001b[0m\u001b[0;34m:\u001b[0m\u001b[0;34m\u001b[0m\u001b[0;34m\u001b[0m\u001b[0m\n\u001b[1;32m     62\u001b[0m     \u001b[0;32mif\u001b[0m \u001b[0mname\u001b[0m \u001b[0;32mis\u001b[0m \u001b[0;32mnot\u001b[0m \u001b[0;32mNone\u001b[0m\u001b[0;34m:\u001b[0m\u001b[0;34m\u001b[0m\u001b[0;34m\u001b[0m\u001b[0m\n",
            "\u001b[0;31mInvalidArgumentError\u001b[0m:  Cholesky decomposition was not successful. The input might not be valid.\n\t [[node Cholesky (defined at <ipython-input-10-5ccfdb44d124>:119) ]] [Op:__inference__tf_eval_8842]\n\nErrors may have originated from an input operation.\nInput Source operations connected to node Cholesky:\n add_7 (defined at <ipython-input-10-5ccfdb44d124>:118)\n\nFunction call stack:\n_tf_eval\n"
          ]
        }
      ]
    },
    {
      "cell_type": "code",
      "metadata": {
        "colab": {
          "base_uri": "https://localhost:8080/"
        },
        "id": "6bd6KoXnCZ7K",
        "outputId": "71979a03-39e1-48f5-c7cc-68e1b864efc7"
      },
      "source": [
        "### Optimize posterior\n",
        "from gpflow.optimizers import NaturalGradient\n",
        "from gpflow.optimizers import Scipy\n",
        "\n",
        "opt = Scipy()\n",
        "\n",
        "neg_post = []\n",
        "marg_ll = []\n",
        "\n",
        "x_grid_tf = tf.constant(x_grid, dtype=tf.float64)\n",
        "K = k(x_grid_tf)\n",
        "\n",
        "nu = tf.constant(2., dtype=tf.float64)\n",
        "nobs = K.shape[0]\n",
        "t = get_t(nu, nobs)\n",
        "\n",
        "f = tf.Variable(np.random.normal(size=y.shape))\n",
        "\n",
        "for i in range(100):\n",
        "\n",
        "  K = k(x_grid_tf)\n",
        "  nobs = K.shape[0]\n",
        "  t = get_t(nu, nobs)\n",
        "\n",
        "  pad_K = K + 10e-6*tf.eye(nobs, dtype=tf.float64)\n",
        "  chol_K = tf.linalg.cholesky(pad_K)\n",
        "  half_log_det_K = tf.math.log(tf.reduce_sum(tf.linalg.diag_part(chol_K)))\n",
        "\n",
        "  psi = get_psi(t, nu, nobs, half_log_det_K)\n",
        "  tau = get_tau(f, y, chol_K, nu, t, psi) \n",
        "\n",
        "  opt_res = opt.minimize(lambda: -tpc_posterior(f, y, chol_K, nu, t, psi), variables=[f])\n",
        "  neg_post.append(opt_res.fun[0, 0])\n",
        "  if i % 10 == 0:\n",
        "    print(i, 'neg-post', opt_res.fun[0,0])\n",
        "  \n",
        "  hess_diag = compute_hess_vec_obs_ll(f, y)\n",
        "\n",
        "  opt_res = opt.minimize(\n",
        "      lambda: -compute_marginal_ll(f, y, k(x_grid), hess_diag, t, nu), \n",
        "      variables=k.trainable_variables)\n",
        "  marg_ll.append(opt_res.fun[0, 0])\n",
        "  if i % 10 == 0:\n",
        "    print(i, 'mll', opt_res.fun[0,0])"
      ],
      "execution_count": null,
      "outputs": [
        {
          "output_type": "stream",
          "text": [
            "0 neg-post 1718.7081620524664\n",
            "0 mll 56511.280977392125\n",
            "10 neg-post 1456.4610408353708\n",
            "10 mll 56501.62908225023\n",
            "20 neg-post 1456.4339931952125\n",
            "20 mll 56498.07128906822\n",
            "30 neg-post 1456.124761903146\n",
            "30 mll 56496.02232901107\n",
            "40 neg-post 1456.097230052789\n",
            "40 mll 56494.40452170488\n",
            "50 neg-post 1456.0884488331608\n",
            "50 mll 56493.473019037694\n",
            "60 neg-post 1456.085082000135\n",
            "60 mll 56492.72071944924\n",
            "70 neg-post 1455.9802169420657\n",
            "70 mll 56492.065753744704\n",
            "80 neg-post 1455.886146478877\n",
            "80 mll 56491.476864523014\n",
            "90 neg-post 1455.8562747104963\n",
            "90 mll 56491.296155935845\n"
          ],
          "name": "stdout"
        }
      ]
    },
    {
      "cell_type": "code",
      "metadata": {
        "colab": {
          "base_uri": "https://localhost:8080/"
        },
        "id": "rozt6Dp_R5-c",
        "outputId": "06e839e8-eba1-4cbb-8c04-e306f13307e3"
      },
      "source": [
        "import numpy as np\n",
        "np.linalg.eigvals(pad_K)"
      ],
      "execution_count": null,
      "outputs": [
        {
          "output_type": "execute_result",
          "data": {
            "text/plain": [
              "array([ 2.14627988e+04,  2.74400681e-01,  9.58264864e-05,  9.56749427e-05,\n",
              "       -4.08293163e-05, -4.05855462e-05,  8.33350205e-05,  8.33554586e-05,\n",
              "       -3.63959080e-05, -3.59788755e-05, -3.55767770e-05, -3.55221346e-05,\n",
              "       -3.44458858e-05, -3.35642908e-05, -3.09299721e-05, -3.00818610e-05,\n",
              "        7.59975810e-05,  7.50513864e-05,  6.96477437e-05,  7.39427778e-05,\n",
              "        7.38910894e-05,  7.38310991e-05,  7.30993779e-05,  7.28717932e-05,\n",
              "        7.21175602e-05,  7.25891077e-05,  7.22676705e-05,  7.22670447e-05,\n",
              "       -2.85847982e-05, -2.82364344e-05, -2.94700785e-05, -2.94232796e-05,\n",
              "        6.87427964e-05,  6.74558469e-05,  6.73472096e-05, -2.59535100e-05,\n",
              "        6.49099675e-05,  6.46413246e-05,  6.35691904e-05,  6.15364188e-05,\n",
              "        6.24874374e-05,  6.24577660e-05, -2.54749102e-05, -2.47761491e-05,\n",
              "       -2.46886830e-05, -2.43413688e-05, -2.39872788e-05, -2.22875569e-05,\n",
              "       -1.97844292e-05, -2.13336971e-05, -2.05839442e-05, -2.08955389e-05,\n",
              "       -1.92080734e-05,  5.85249218e-05,  5.78170184e-05, -1.60592317e-05,\n",
              "       -1.58287385e-05,  5.57939275e-05,  5.72719910e-05,  5.72369463e-05,\n",
              "        5.67337265e-05,  5.68524811e-05, -1.43293673e-05, -1.39370950e-05,\n",
              "       -1.38044152e-05, -1.38704208e-05, -1.27133153e-05,  5.51420999e-05,\n",
              "        5.49912365e-05,  5.47394666e-05,  5.28168457e-05,  5.38215027e-05,\n",
              "        5.38614258e-05,  5.13784034e-05, -1.07831347e-05, -1.20856885e-05,\n",
              "       -1.20929772e-05, -1.18865000e-05, -1.18810622e-05, -1.12934977e-05,\n",
              "       -1.12998687e-05,  5.07342011e-05,  5.07637887e-05,  4.98837981e-05,\n",
              "        4.94761262e-05,  4.87947655e-05,  4.84218945e-05,  4.83773401e-05,\n",
              "       -9.33344654e-06, -9.27890414e-06, -8.84547990e-06, -8.89916191e-06,\n",
              "       -7.61468573e-06, -7.30789907e-06,  4.79689770e-05, -7.22149480e-06,\n",
              "       -5.43605893e-06, -5.60864009e-06, -6.46647277e-06, -6.33849231e-06,\n",
              "        4.69610677e-05,  4.77026988e-05,  4.77414869e-05, -3.45471267e-06,\n",
              "       -3.24836492e-06, -6.94394657e-06,  4.53670436e-05,  4.67532409e-05,\n",
              "       -2.93968537e-06,  1.93655774e-06,  2.10202097e-06,  7.54425571e-07,\n",
              "       -3.29885452e-08, -6.17035880e-07, -1.98719431e-06, -1.18217588e-06,\n",
              "       -1.26571240e-06, -2.58008163e-06, -2.46828040e-06, -2.50842390e-06,\n",
              "        4.37148337e-05,  3.84523082e-06,  6.78518973e-06,  5.80110782e-06,\n",
              "        4.07082098e-06,  5.32379272e-06,  4.47102730e-06,  4.78810580e-06,\n",
              "        4.65047333e-06,  4.29994543e-05,  4.38762145e-05,  8.11807695e-06,\n",
              "        4.19539101e-05,  4.08739688e-05,  3.95143034e-05,  3.94667150e-05,\n",
              "        8.18437911e-06,  8.54246809e-06,  1.01834084e-05,  1.07101669e-05,\n",
              "        1.08078693e-05,  1.21898456e-05,  1.23695445e-05,  1.37371771e-05,\n",
              "        3.81117097e-05,  3.79147095e-05,  3.75035779e-05,  3.73788098e-05,\n",
              "        2.49324694e-05,  2.43920786e-05,  3.67680914e-05,  2.32294697e-05,\n",
              "        3.66246859e-05,  2.10471189e-05,  2.06657787e-05,  2.32140537e-05,\n",
              "        3.54597178e-05,  3.46976376e-05,  3.48680660e-05,  3.65105443e-05,\n",
              "        3.65067717e-05,  3.61701459e-05,  2.66209427e-05,  2.66751940e-05,\n",
              "        2.84633115e-05,  2.80582753e-05,  2.79221094e-05,  3.03366996e-05,\n",
              "        3.05755129e-05,  3.23120694e-05,  3.10557989e-05,  3.60560261e-05,\n",
              "        1.45107288e-05,  2.00427712e-05,  2.71974623e-05,  1.55715497e-05,\n",
              "        3.59744408e-05,  3.36909216e-05,  3.13643613e-05,  2.70514902e-05,\n",
              "        1.64370012e-05,  1.94218665e-05,  3.13268065e-05,  3.38277241e-05,\n",
              "        3.29894719e-05,  3.31253141e-05,  3.32493109e-05,  1.62585584e-05,\n",
              "        1.70306575e-05,  1.49868674e-05,  1.78111368e-05,  1.73776734e-05,\n",
              "        1.87996557e-05,  1.88631875e-05,  1.49789039e-05,  1.49733933e-05,\n",
              "        1.82254880e-05,  1.82449730e-05,  1.82627518e-05,  1.82592285e-05],\n",
              "      dtype=float32)"
            ]
          },
          "metadata": {
            "tags": []
          },
          "execution_count": 13
        }
      ]
    },
    {
      "cell_type": "code",
      "metadata": {
        "colab": {
          "base_uri": "https://localhost:8080/"
        },
        "id": "t_CYHRJ7Gkv_",
        "outputId": "4dc3aafe-2208-4765-a78e-8b8329e3a0ca"
      },
      "source": [
        "np.linalg.eigvals(k(x_grid).numpy() + 10e-6*np.eye(K.shape[0]))"
      ],
      "execution_count": null,
      "outputs": [
        {
          "output_type": "execute_result",
          "data": {
            "text/plain": [
              "array([1.51178110e+02+0.00000000e+00j, 1.13820238e+02+0.00000000e+00j,\n",
              "       7.13196240e+01+0.00000000e+00j, 3.75055813e+01+0.00000000e+00j,\n",
              "       1.67412387e+01+0.00000000e+00j, 6.42745204e+00+0.00000000e+00j,\n",
              "       2.15198878e+00+0.00000000e+00j, 6.36571920e-01+0.00000000e+00j,\n",
              "       1.68293450e-01+0.00000000e+00j, 4.01628231e-02+0.00000000e+00j,\n",
              "       8.72974650e-03+0.00000000e+00j, 1.74589588e-03+0.00000000e+00j,\n",
              "       3.28768642e-04+0.00000000e+00j, 6.42898365e-05+0.00000000e+00j,\n",
              "       1.86164625e-05+0.00000000e+00j, 1.12798130e-05+0.00000000e+00j,\n",
              "       1.01785705e-05+0.00000000e+00j, 1.00234847e-05+0.00000000e+00j,\n",
              "       1.00029201e-05+0.00000000e+00j, 1.00003442e-05+0.00000000e+00j,\n",
              "       1.00000386e-05+0.00000000e+00j, 1.00000041e-05+0.00000000e+00j,\n",
              "       1.00000004e-05+0.00000000e+00j, 9.99999992e-06+0.00000000e+00j,\n",
              "       1.00000001e-05+0.00000000e+00j, 1.00000000e-05+0.00000000e+00j,\n",
              "       1.00000000e-05+0.00000000e+00j, 9.99999996e-06+0.00000000e+00j,\n",
              "       9.99999996e-06+0.00000000e+00j, 1.00000000e-05+0.00000000e+00j,\n",
              "       9.99999997e-06+0.00000000e+00j, 1.00000000e-05+0.00000000e+00j,\n",
              "       9.99999997e-06+0.00000000e+00j, 1.00000000e-05+0.00000000e+00j,\n",
              "       9.99999998e-06+0.00000000e+00j, 1.00000000e-05+0.00000000e+00j,\n",
              "       9.99999998e-06+0.00000000e+00j, 9.99999998e-06+0.00000000e+00j,\n",
              "       9.99999998e-06+0.00000000e+00j, 1.00000000e-05+0.00000000e+00j,\n",
              "       1.00000000e-05+0.00000000e+00j, 1.00000000e-05+0.00000000e+00j,\n",
              "       1.00000000e-05+0.00000000e+00j, 1.00000000e-05+0.00000000e+00j,\n",
              "       1.00000000e-05+0.00000000e+00j, 1.00000000e-05+0.00000000e+00j,\n",
              "       1.00000000e-05+0.00000000e+00j, 1.00000000e-05+7.26867869e-17j,\n",
              "       1.00000000e-05-7.26867869e-17j, 9.99999998e-06+0.00000000e+00j,\n",
              "       9.99999998e-06+0.00000000e+00j, 9.99999998e-06+0.00000000e+00j,\n",
              "       9.99999998e-06+0.00000000e+00j, 9.99999998e-06+0.00000000e+00j,\n",
              "       9.99999998e-06+0.00000000e+00j, 9.99999999e-06+0.00000000e+00j,\n",
              "       9.99999999e-06+0.00000000e+00j, 9.99999999e-06+0.00000000e+00j,\n",
              "       9.99999999e-06+0.00000000e+00j, 9.99999999e-06+0.00000000e+00j,\n",
              "       9.99999999e-06+0.00000000e+00j, 9.99999999e-06+0.00000000e+00j,\n",
              "       1.00000000e-05+0.00000000e+00j, 1.00000000e-05+0.00000000e+00j,\n",
              "       1.00000000e-05+0.00000000e+00j, 1.00000000e-05+0.00000000e+00j,\n",
              "       1.00000000e-05+0.00000000e+00j, 1.00000000e-05+0.00000000e+00j,\n",
              "       1.00000000e-05+0.00000000e+00j, 1.00000000e-05+1.88882578e-16j,\n",
              "       1.00000000e-05-1.88882578e-16j, 9.99999999e-06+0.00000000e+00j,\n",
              "       9.99999999e-06+0.00000000e+00j, 9.99999999e-06+0.00000000e+00j,\n",
              "       9.99999999e-06+0.00000000e+00j, 9.99999999e-06+0.00000000e+00j,\n",
              "       9.99999999e-06+0.00000000e+00j, 1.00000000e-05+0.00000000e+00j,\n",
              "       1.00000000e-05+0.00000000e+00j, 1.00000000e-05+5.71305797e-16j,\n",
              "       1.00000000e-05-5.71305797e-16j, 1.00000000e-05+8.99226309e-17j,\n",
              "       1.00000000e-05-8.99226309e-17j, 1.00000000e-05+0.00000000e+00j,\n",
              "       1.00000000e-05+3.97567335e-17j, 1.00000000e-05-3.97567335e-17j,\n",
              "       1.00000000e-05+0.00000000e+00j, 1.00000000e-05+0.00000000e+00j,\n",
              "       1.00000000e-05+0.00000000e+00j, 9.99999999e-06+8.54786524e-17j,\n",
              "       9.99999999e-06-8.54786524e-17j, 9.99999999e-06+0.00000000e+00j,\n",
              "       9.99999999e-06+7.01625853e-17j, 9.99999999e-06-7.01625853e-17j,\n",
              "       9.99999999e-06+1.74059984e-16j, 9.99999999e-06-1.74059984e-16j,\n",
              "       9.99999999e-06+0.00000000e+00j, 9.99999999e-06+0.00000000e+00j,\n",
              "       1.00000000e-05+4.70975063e-16j, 1.00000000e-05-4.70975063e-16j,\n",
              "       9.99999999e-06+0.00000000e+00j, 1.00000000e-05+4.79362265e-17j,\n",
              "       1.00000000e-05-4.79362265e-17j, 1.00000000e-05+0.00000000e+00j,\n",
              "       1.00000000e-05+3.23648596e-16j, 1.00000000e-05-3.23648596e-16j,\n",
              "       1.00000000e-05+0.00000000e+00j, 1.00000000e-05+0.00000000e+00j,\n",
              "       1.00000000e-05+7.98652165e-16j, 1.00000000e-05-7.98652165e-16j,\n",
              "       1.00000000e-05+1.83469210e-17j, 1.00000000e-05-1.83469210e-17j,\n",
              "       1.00000000e-05+2.15630711e-16j, 1.00000000e-05-2.15630711e-16j,\n",
              "       1.00000000e-05+1.71891045e-16j, 1.00000000e-05-1.71891045e-16j,\n",
              "       1.00000000e-05+0.00000000e+00j, 1.00000000e-05+2.37527869e-15j,\n",
              "       1.00000000e-05-2.37527869e-15j, 1.00000000e-05+7.04682282e-16j,\n",
              "       1.00000000e-05-7.04682282e-16j, 1.00000000e-05+1.52004896e-16j,\n",
              "       1.00000000e-05-1.52004896e-16j, 1.00000000e-05+1.47305266e-16j,\n",
              "       1.00000000e-05-1.47305266e-16j, 1.00000000e-05+0.00000000e+00j,\n",
              "       1.00000000e-05+2.21349657e-15j, 1.00000000e-05-2.21349657e-15j,\n",
              "       1.00000000e-05+2.32375643e-16j, 1.00000000e-05-2.32375643e-16j,\n",
              "       1.00000000e-05+5.16889669e-16j, 1.00000000e-05-5.16889669e-16j,\n",
              "       1.00000000e-05+0.00000000e+00j, 1.00000000e-05+1.44495918e-15j,\n",
              "       1.00000000e-05-1.44495918e-15j, 1.00000000e-05+6.69869056e-16j,\n",
              "       1.00000000e-05-6.69869056e-16j, 1.00000000e-05+0.00000000e+00j,\n",
              "       1.00000000e-05+4.90217243e-17j, 1.00000000e-05-4.90217243e-17j,\n",
              "       1.00000000e-05+0.00000000e+00j, 1.00000000e-05+1.19888479e-15j,\n",
              "       1.00000000e-05-1.19888479e-15j, 1.00000000e-05+1.08928375e-15j,\n",
              "       1.00000000e-05-1.08928375e-15j, 1.00000000e-05+9.59429777e-16j,\n",
              "       1.00000000e-05-9.59429777e-16j, 1.00000000e-05+5.73270743e-16j,\n",
              "       1.00000000e-05-5.73270743e-16j, 1.00000000e-05+0.00000000e+00j,\n",
              "       1.00000000e-05+1.39273358e-15j, 1.00000000e-05-1.39273358e-15j,\n",
              "       1.00000000e-05+1.78286419e-16j, 1.00000000e-05-1.78286419e-16j,\n",
              "       1.00000000e-05+1.27236654e-15j, 1.00000000e-05-1.27236654e-15j,\n",
              "       1.00000000e-05+1.05454031e-15j, 1.00000000e-05-1.05454031e-15j,\n",
              "       1.00000000e-05+0.00000000e+00j, 1.00000000e-05+2.52210519e-16j,\n",
              "       1.00000000e-05-2.52210519e-16j, 1.00000000e-05+3.83639944e-16j,\n",
              "       1.00000000e-05-3.83639944e-16j, 1.00000000e-05+9.95669135e-16j,\n",
              "       1.00000000e-05-9.95669135e-16j, 1.00000000e-05+0.00000000e+00j,\n",
              "       1.00000000e-05+5.64461801e-16j, 1.00000000e-05-5.64461801e-16j,\n",
              "       1.00000000e-05+8.73607051e-16j, 1.00000000e-05-8.73607051e-16j,\n",
              "       1.00000000e-05+9.54425376e-16j, 1.00000000e-05-9.54425376e-16j,\n",
              "       1.00000000e-05+9.56716820e-17j, 1.00000000e-05-9.56716820e-17j,\n",
              "       1.00000000e-05+5.51864394e-16j, 1.00000000e-05-5.51864394e-16j,\n",
              "       1.00000000e-05+0.00000000e+00j, 1.00000000e-05+1.13859576e-16j,\n",
              "       1.00000000e-05-1.13859576e-16j, 1.00000000e-05+7.22504655e-16j,\n",
              "       1.00000000e-05-7.22504655e-16j, 1.00000000e-05+7.66498773e-16j,\n",
              "       1.00000000e-05-7.66498773e-16j, 1.00000000e-05+3.50341551e-16j,\n",
              "       1.00000000e-05-3.50341551e-16j, 1.00000000e-05+1.10549850e-16j,\n",
              "       1.00000000e-05-1.10549850e-16j, 1.00000000e-05+4.39839410e-16j,\n",
              "       1.00000000e-05-4.39839410e-16j, 1.00000000e-05+3.00958621e-16j,\n",
              "       1.00000000e-05-3.00958621e-16j, 1.00000000e-05+0.00000000e+00j,\n",
              "       1.00000000e-05+1.75558899e-16j, 1.00000000e-05-1.75558899e-16j,\n",
              "       1.00000000e-05+0.00000000e+00j, 1.00000000e-05+0.00000000e+00j,\n",
              "       1.00000000e-05+3.25120405e-16j, 1.00000000e-05-3.25120405e-16j,\n",
              "       1.00000000e-05+0.00000000e+00j, 1.00000000e-05+0.00000000e+00j])"
            ]
          },
          "metadata": {
            "tags": []
          },
          "execution_count": 14
        }
      ]
    },
    {
      "cell_type": "code",
      "metadata": {
        "colab": {
          "base_uri": "https://localhost:8080/"
        },
        "id": "9n0IbOSPRtfk",
        "outputId": "42be96a4-679f-461c-af19-49a28e437b7f"
      },
      "source": [
        "tf.linalg.cholesky(tf.cast(k(x_grid) + 10e-6*tf.eye(nobs, dtype=tf.float64), tf.float32))"
      ],
      "execution_count": null,
      "outputs": [
        {
          "output_type": "execute_result",
          "data": {
            "text/plain": [
              "<tf.Tensor: shape=(200, 200), dtype=float32, numpy=\n",
              "array([[1.4142171e+00, 0.0000000e+00, 0.0000000e+00, ..., 0.0000000e+00,\n",
              "        0.0000000e+00, 0.0000000e+00],\n",
              "       [1.4135673e+00, 4.2865977e-02, 0.0000000e+00, ..., 0.0000000e+00,\n",
              "        0.0000000e+00, 0.0000000e+00],\n",
              "       [1.4116411e+00, 8.4947720e-02, 7.9561379e-03, ..., 0.0000000e+00,\n",
              "        0.0000000e+00, 0.0000000e+00],\n",
              "       ...,\n",
              "       [3.0871327e-08, 1.9966559e-07, 2.2741082e-07, ..., 4.3336716e-03,\n",
              "        0.0000000e+00, 0.0000000e+00],\n",
              "       [2.5797739e-08, 1.6777685e-07, 1.9207184e-07, ..., 2.7117000e-03,\n",
              "        4.3035704e-03, 0.0000000e+00],\n",
              "       [2.1538389e-08, 1.4084928e-07, 1.6207078e-07, ..., 3.4372690e-03,\n",
              "        2.6772921e-03, 4.3361648e-03]], dtype=float32)>"
            ]
          },
          "metadata": {
            "tags": []
          },
          "execution_count": 7
        }
      ]
    },
    {
      "cell_type": "code",
      "metadata": {
        "colab": {
          "base_uri": "https://localhost:8080/"
        },
        "id": "q51b2QnNSCcn",
        "outputId": "ae4b6534-b740-4bec-8661-6845468a1f24"
      },
      "source": [
        "tf.linalg.cholesky(tf.cast(k(x_grid) + 10e-6*tf.eye(K.shape[0], dtype=tf.float64), tf.float32))"
      ],
      "execution_count": null,
      "outputs": [
        {
          "output_type": "execute_result",
          "data": {
            "text/plain": [
              "<tf.Tensor: shape=(200, 200), dtype=float32, numpy=\n",
              "array([[1.4142171e+00, 0.0000000e+00, 0.0000000e+00, ..., 0.0000000e+00,\n",
              "        0.0000000e+00, 0.0000000e+00],\n",
              "       [1.4135673e+00, 4.2865977e-02, 0.0000000e+00, ..., 0.0000000e+00,\n",
              "        0.0000000e+00, 0.0000000e+00],\n",
              "       [1.4116411e+00, 8.4947720e-02, 7.9561379e-03, ..., 0.0000000e+00,\n",
              "        0.0000000e+00, 0.0000000e+00],\n",
              "       ...,\n",
              "       [3.0871327e-08, 1.9966559e-07, 2.2741082e-07, ..., 4.3336716e-03,\n",
              "        0.0000000e+00, 0.0000000e+00],\n",
              "       [2.5797739e-08, 1.6777685e-07, 1.9207184e-07, ..., 2.7117000e-03,\n",
              "        4.3035704e-03, 0.0000000e+00],\n",
              "       [2.1538389e-08, 1.4084928e-07, 1.6207078e-07, ..., 3.4372690e-03,\n",
              "        2.6772921e-03, 4.3361648e-03]], dtype=float32)>"
            ]
          },
          "metadata": {
            "tags": []
          },
          "execution_count": 24
        }
      ]
    },
    {
      "cell_type": "code",
      "metadata": {
        "id": "SgCpChAFG0kG"
      },
      "source": [
        "mat = k(x_grid).numpy()"
      ],
      "execution_count": null,
      "outputs": []
    },
    {
      "cell_type": "code",
      "metadata": {
        "colab": {
          "base_uri": "https://localhost:8080/"
        },
        "id": "dA8l1fLLHFRM",
        "outputId": "39c5b6a6-b3a3-4896-8d48-2f5a5b4772df"
      },
      "source": [
        "mat[0, 5], mat[5, 0]"
      ],
      "execution_count": null,
      "outputs": [
        {
          "output_type": "execute_result",
          "data": {
            "text/plain": [
              "(1.9774019391752014, 1.9774019391752014)"
            ]
          },
          "metadata": {
            "tags": []
          },
          "execution_count": 26
        }
      ]
    }
  ]
}