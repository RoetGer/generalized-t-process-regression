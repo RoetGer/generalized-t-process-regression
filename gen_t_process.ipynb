{
  "nbformat": 4,
  "nbformat_minor": 0,
  "metadata": {
    "colab": {
      "name": "gen-t-process.ipynb",
      "provenance": [],
      "collapsed_sections": [],
      "authorship_tag": "ABX9TyOOzYUYa7BdO+76ceTXWveu",
      "include_colab_link": true
    },
    "kernelspec": {
      "name": "python3",
      "display_name": "Python 3"
    },
    "language_info": {
      "name": "python"
    }
  },
  "cells": [
    {
      "cell_type": "markdown",
      "metadata": {
        "id": "view-in-github",
        "colab_type": "text"
      },
      "source": [
        "<a href=\"https://colab.research.google.com/github/RoetGer/generalized-t-process-regression/blob/main/gen_t_process.ipynb\" target=\"_parent\"><img src=\"https://colab.research.google.com/assets/colab-badge.svg\" alt=\"Open In Colab\"/></a>"
      ]
    },
    {
      "cell_type": "code",
      "metadata": {
        "colab": {
          "base_uri": "https://localhost:8080/"
        },
        "id": "RzbOgyPaNdMO",
        "outputId": "da76a69e-92ba-4ff8-8102-4b173bf525f7"
      },
      "source": [
        "! pip install gpflow"
      ],
      "execution_count": null,
      "outputs": [
        {
          "output_type": "stream",
          "text": [
            "Collecting gpflow\n",
            "\u001b[?25l  Downloading https://files.pythonhosted.org/packages/55/25/f3d0b5a7bea6c371ddbce6f2fb17b668d2782379be9c70cc40d2f063b67c/gpflow-2.2.1-py3-none-any.whl (271kB)\n",
            "\r\u001b[K     |█▏                              | 10kB 17.8MB/s eta 0:00:01\r\u001b[K     |██▍                             | 20kB 23.1MB/s eta 0:00:01\r\u001b[K     |███▋                            | 30kB 18.0MB/s eta 0:00:01\r\u001b[K     |████▉                           | 40kB 15.3MB/s eta 0:00:01\r\u001b[K     |██████                          | 51kB 7.9MB/s eta 0:00:01\r\u001b[K     |███████▎                        | 61kB 7.8MB/s eta 0:00:01\r\u001b[K     |████████▌                       | 71kB 8.8MB/s eta 0:00:01\r\u001b[K     |█████████▋                      | 81kB 9.3MB/s eta 0:00:01\r\u001b[K     |██████████▉                     | 92kB 9.4MB/s eta 0:00:01\r\u001b[K     |████████████                    | 102kB 7.7MB/s eta 0:00:01\r\u001b[K     |█████████████▎                  | 112kB 7.7MB/s eta 0:00:01\r\u001b[K     |██████████████▌                 | 122kB 7.7MB/s eta 0:00:01\r\u001b[K     |███████████████▊                | 133kB 7.7MB/s eta 0:00:01\r\u001b[K     |█████████████████               | 143kB 7.7MB/s eta 0:00:01\r\u001b[K     |██████████████████              | 153kB 7.7MB/s eta 0:00:01\r\u001b[K     |███████████████████▎            | 163kB 7.7MB/s eta 0:00:01\r\u001b[K     |████████████████████▌           | 174kB 7.7MB/s eta 0:00:01\r\u001b[K     |█████████████████████▊          | 184kB 7.7MB/s eta 0:00:01\r\u001b[K     |███████████████████████         | 194kB 7.7MB/s eta 0:00:01\r\u001b[K     |████████████████████████▏       | 204kB 7.7MB/s eta 0:00:01\r\u001b[K     |█████████████████████████▍      | 215kB 7.7MB/s eta 0:00:01\r\u001b[K     |██████████████████████████▌     | 225kB 7.7MB/s eta 0:00:01\r\u001b[K     |███████████████████████████▊    | 235kB 7.7MB/s eta 0:00:01\r\u001b[K     |█████████████████████████████   | 245kB 7.7MB/s eta 0:00:01\r\u001b[K     |██████████████████████████████▏ | 256kB 7.7MB/s eta 0:00:01\r\u001b[K     |███████████████████████████████▍| 266kB 7.7MB/s eta 0:00:01\r\u001b[K     |████████████████████████████████| 276kB 7.7MB/s \n",
            "\u001b[?25hRequirement already satisfied: tensorflow>=2.2.0 in /usr/local/lib/python3.7/dist-packages (from gpflow) (2.5.0)\n",
            "Requirement already satisfied: tabulate in /usr/local/lib/python3.7/dist-packages (from gpflow) (0.8.9)\n",
            "Requirement already satisfied: scipy in /usr/local/lib/python3.7/dist-packages (from gpflow) (1.4.1)\n",
            "Requirement already satisfied: typing-extensions in /usr/local/lib/python3.7/dist-packages (from gpflow) (3.7.4.3)\n",
            "Collecting deprecated\n",
            "  Downloading https://files.pythonhosted.org/packages/fb/73/994edfcba74443146c84b91921fcc269374354118d4f452fb0c54c1cbb12/Deprecated-1.2.12-py2.py3-none-any.whl\n",
            "Requirement already satisfied: numpy in /usr/local/lib/python3.7/dist-packages (from gpflow) (1.19.5)\n",
            "Requirement already satisfied: setuptools>=41.0.0 in /usr/local/lib/python3.7/dist-packages (from gpflow) (57.0.0)\n",
            "Collecting dataclasses\n",
            "  Downloading https://files.pythonhosted.org/packages/26/2f/1095cdc2868052dd1e64520f7c0d5c8c550ad297e944e641dbf1ffbb9a5d/dataclasses-0.6-py3-none-any.whl\n",
            "Requirement already satisfied: tensorflow-probability>0.10.0 in /usr/local/lib/python3.7/dist-packages (from gpflow) (0.13.0)\n",
            "Collecting multipledispatch>=0.6\n",
            "  Downloading https://files.pythonhosted.org/packages/89/79/429ecef45fd5e4504f7474d4c3c3c4668c267be3370e4c2fd33e61506833/multipledispatch-0.6.0-py3-none-any.whl\n",
            "Requirement already satisfied: packaging in /usr/local/lib/python3.7/dist-packages (from gpflow) (20.9)\n",
            "Requirement already satisfied: six~=1.15.0 in /usr/local/lib/python3.7/dist-packages (from tensorflow>=2.2.0->gpflow) (1.15.0)\n",
            "Requirement already satisfied: keras-nightly~=2.5.0.dev in /usr/local/lib/python3.7/dist-packages (from tensorflow>=2.2.0->gpflow) (2.5.0.dev2021032900)\n",
            "Requirement already satisfied: keras-preprocessing~=1.1.2 in /usr/local/lib/python3.7/dist-packages (from tensorflow>=2.2.0->gpflow) (1.1.2)\n",
            "Requirement already satisfied: h5py~=3.1.0 in /usr/local/lib/python3.7/dist-packages (from tensorflow>=2.2.0->gpflow) (3.1.0)\n",
            "Requirement already satisfied: protobuf>=3.9.2 in /usr/local/lib/python3.7/dist-packages (from tensorflow>=2.2.0->gpflow) (3.17.3)\n",
            "Requirement already satisfied: gast==0.4.0 in /usr/local/lib/python3.7/dist-packages (from tensorflow>=2.2.0->gpflow) (0.4.0)\n",
            "Requirement already satisfied: opt-einsum~=3.3.0 in /usr/local/lib/python3.7/dist-packages (from tensorflow>=2.2.0->gpflow) (3.3.0)\n",
            "Requirement already satisfied: astunparse~=1.6.3 in /usr/local/lib/python3.7/dist-packages (from tensorflow>=2.2.0->gpflow) (1.6.3)\n",
            "Requirement already satisfied: absl-py~=0.10 in /usr/local/lib/python3.7/dist-packages (from tensorflow>=2.2.0->gpflow) (0.12.0)\n",
            "Requirement already satisfied: termcolor~=1.1.0 in /usr/local/lib/python3.7/dist-packages (from tensorflow>=2.2.0->gpflow) (1.1.0)\n",
            "Requirement already satisfied: grpcio~=1.34.0 in /usr/local/lib/python3.7/dist-packages (from tensorflow>=2.2.0->gpflow) (1.34.1)\n",
            "Requirement already satisfied: tensorboard~=2.5 in /usr/local/lib/python3.7/dist-packages (from tensorflow>=2.2.0->gpflow) (2.5.0)\n",
            "Requirement already satisfied: wrapt~=1.12.1 in /usr/local/lib/python3.7/dist-packages (from tensorflow>=2.2.0->gpflow) (1.12.1)\n",
            "Requirement already satisfied: tensorflow-estimator<2.6.0,>=2.5.0rc0 in /usr/local/lib/python3.7/dist-packages (from tensorflow>=2.2.0->gpflow) (2.5.0)\n",
            "Requirement already satisfied: wheel~=0.35 in /usr/local/lib/python3.7/dist-packages (from tensorflow>=2.2.0->gpflow) (0.36.2)\n",
            "Requirement already satisfied: google-pasta~=0.2 in /usr/local/lib/python3.7/dist-packages (from tensorflow>=2.2.0->gpflow) (0.2.0)\n",
            "Requirement already satisfied: flatbuffers~=1.12.0 in /usr/local/lib/python3.7/dist-packages (from tensorflow>=2.2.0->gpflow) (1.12)\n",
            "Requirement already satisfied: dm-tree in /usr/local/lib/python3.7/dist-packages (from tensorflow-probability>0.10.0->gpflow) (0.1.6)\n",
            "Requirement already satisfied: cloudpickle>=1.3 in /usr/local/lib/python3.7/dist-packages (from tensorflow-probability>0.10.0->gpflow) (1.3.0)\n",
            "Requirement already satisfied: decorator in /usr/local/lib/python3.7/dist-packages (from tensorflow-probability>0.10.0->gpflow) (4.4.2)\n",
            "Requirement already satisfied: pyparsing>=2.0.2 in /usr/local/lib/python3.7/dist-packages (from packaging->gpflow) (2.4.7)\n",
            "Requirement already satisfied: cached-property; python_version < \"3.8\" in /usr/local/lib/python3.7/dist-packages (from h5py~=3.1.0->tensorflow>=2.2.0->gpflow) (1.5.2)\n",
            "Requirement already satisfied: requests<3,>=2.21.0 in /usr/local/lib/python3.7/dist-packages (from tensorboard~=2.5->tensorflow>=2.2.0->gpflow) (2.23.0)\n",
            "Requirement already satisfied: tensorboard-data-server<0.7.0,>=0.6.0 in /usr/local/lib/python3.7/dist-packages (from tensorboard~=2.5->tensorflow>=2.2.0->gpflow) (0.6.1)\n",
            "Requirement already satisfied: google-auth-oauthlib<0.5,>=0.4.1 in /usr/local/lib/python3.7/dist-packages (from tensorboard~=2.5->tensorflow>=2.2.0->gpflow) (0.4.4)\n",
            "Requirement already satisfied: tensorboard-plugin-wit>=1.6.0 in /usr/local/lib/python3.7/dist-packages (from tensorboard~=2.5->tensorflow>=2.2.0->gpflow) (1.8.0)\n",
            "Requirement already satisfied: markdown>=2.6.8 in /usr/local/lib/python3.7/dist-packages (from tensorboard~=2.5->tensorflow>=2.2.0->gpflow) (3.3.4)\n",
            "Requirement already satisfied: google-auth<2,>=1.6.3 in /usr/local/lib/python3.7/dist-packages (from tensorboard~=2.5->tensorflow>=2.2.0->gpflow) (1.32.1)\n",
            "Requirement already satisfied: werkzeug>=0.11.15 in /usr/local/lib/python3.7/dist-packages (from tensorboard~=2.5->tensorflow>=2.2.0->gpflow) (1.0.1)\n",
            "Requirement already satisfied: idna<3,>=2.5 in /usr/local/lib/python3.7/dist-packages (from requests<3,>=2.21.0->tensorboard~=2.5->tensorflow>=2.2.0->gpflow) (2.10)\n",
            "Requirement already satisfied: urllib3!=1.25.0,!=1.25.1,<1.26,>=1.21.1 in /usr/local/lib/python3.7/dist-packages (from requests<3,>=2.21.0->tensorboard~=2.5->tensorflow>=2.2.0->gpflow) (1.24.3)\n",
            "Requirement already satisfied: chardet<4,>=3.0.2 in /usr/local/lib/python3.7/dist-packages (from requests<3,>=2.21.0->tensorboard~=2.5->tensorflow>=2.2.0->gpflow) (3.0.4)\n",
            "Requirement already satisfied: certifi>=2017.4.17 in /usr/local/lib/python3.7/dist-packages (from requests<3,>=2.21.0->tensorboard~=2.5->tensorflow>=2.2.0->gpflow) (2021.5.30)\n",
            "Requirement already satisfied: requests-oauthlib>=0.7.0 in /usr/local/lib/python3.7/dist-packages (from google-auth-oauthlib<0.5,>=0.4.1->tensorboard~=2.5->tensorflow>=2.2.0->gpflow) (1.3.0)\n",
            "Requirement already satisfied: importlib-metadata; python_version < \"3.8\" in /usr/local/lib/python3.7/dist-packages (from markdown>=2.6.8->tensorboard~=2.5->tensorflow>=2.2.0->gpflow) (4.6.0)\n",
            "Requirement already satisfied: pyasn1-modules>=0.2.1 in /usr/local/lib/python3.7/dist-packages (from google-auth<2,>=1.6.3->tensorboard~=2.5->tensorflow>=2.2.0->gpflow) (0.2.8)\n",
            "Requirement already satisfied: rsa<5,>=3.1.4; python_version >= \"3.6\" in /usr/local/lib/python3.7/dist-packages (from google-auth<2,>=1.6.3->tensorboard~=2.5->tensorflow>=2.2.0->gpflow) (4.7.2)\n",
            "Requirement already satisfied: cachetools<5.0,>=2.0.0 in /usr/local/lib/python3.7/dist-packages (from google-auth<2,>=1.6.3->tensorboard~=2.5->tensorflow>=2.2.0->gpflow) (4.2.2)\n",
            "Requirement already satisfied: oauthlib>=3.0.0 in /usr/local/lib/python3.7/dist-packages (from requests-oauthlib>=0.7.0->google-auth-oauthlib<0.5,>=0.4.1->tensorboard~=2.5->tensorflow>=2.2.0->gpflow) (3.1.1)\n",
            "Requirement already satisfied: zipp>=0.5 in /usr/local/lib/python3.7/dist-packages (from importlib-metadata; python_version < \"3.8\"->markdown>=2.6.8->tensorboard~=2.5->tensorflow>=2.2.0->gpflow) (3.4.1)\n",
            "Requirement already satisfied: pyasn1<0.5.0,>=0.4.6 in /usr/local/lib/python3.7/dist-packages (from pyasn1-modules>=0.2.1->google-auth<2,>=1.6.3->tensorboard~=2.5->tensorflow>=2.2.0->gpflow) (0.4.8)\n",
            "Installing collected packages: deprecated, dataclasses, multipledispatch, gpflow\n",
            "Successfully installed dataclasses-0.6 deprecated-1.2.12 gpflow-2.2.1 multipledispatch-0.6.0\n"
          ],
          "name": "stdout"
        }
      ]
    },
    {
      "cell_type": "code",
      "metadata": {
        "colab": {
          "base_uri": "https://localhost:8080/",
          "height": 35
        },
        "id": "w7njeSkCrgll",
        "outputId": "b0cd5cda-829d-4cd5-b057-9336a579ee2e"
      },
      "source": [
        "import gpflow\n",
        "import matplotlib.pyplot as plt\n",
        "import numpy as np\n",
        "import tensorflow as tf\n",
        "import tensorflow_probability as tfp\n",
        "tfd = tfp.distributions\n",
        "\n",
        "plt.rcParams[\"figure.figsize\"] = (12, 8)\n",
        "\n",
        "tf.__version__"
      ],
      "execution_count": null,
      "outputs": [
        {
          "output_type": "execute_result",
          "data": {
            "application/vnd.google.colaboratory.intrinsic+json": {
              "type": "string"
            },
            "text/plain": [
              "'2.5.0'"
            ]
          },
          "metadata": {
            "tags": []
          },
          "execution_count": 2
        }
      ]
    },
    {
      "cell_type": "code",
      "metadata": {
        "id": "8eKgiizBttqZ"
      },
      "source": [
        "df = 3.\n",
        "loc = tf.Variable([1., 2., 3.])\n",
        "scale = [[ 0.6,  0. ,  0. ],\n",
        "         [ 0.2,  0.5,  0. ],\n",
        "         [ 0.1, -0.3,  0.4]]\n",
        "scale = tf.linalg.LinearOperatorLowerTriangular(scale)\n",
        "\n",
        "mvt = tfd.MultivariateStudentTLinearOperator(\n",
        "    df=df,\n",
        "    loc=loc,\n",
        "    scale=scale)"
      ],
      "execution_count": null,
      "outputs": []
    },
    {
      "cell_type": "code",
      "metadata": {
        "colab": {
          "base_uri": "https://localhost:8080/"
        },
        "id": "aG-3heWevSh8",
        "outputId": "64fe45eb-f9f1-4131-c51d-b1f3b48fe048"
      },
      "source": [
        "with tf.GradientTape() as outer_tape:\n",
        "  with tf.GradientTape() as inner_tape:\n",
        "    density = mvt.prob([0., 0., 0.])\n",
        "  gradient = inner_tape.gradient(density, mvt.trainable_variables[0])\n",
        "\n",
        "outer_tape.jacobian(gradient, mvt.trainable_variables[0])"
      ],
      "execution_count": null,
      "outputs": [
        {
          "output_type": "execute_result",
          "data": {
            "text/plain": [
              "<tf.Tensor: shape=(3, 3), dtype=float32, numpy=\n",
              "array([[ 6.9320464e-07, -7.5581365e-06, -9.2025548e-06],\n",
              "       [-7.5581352e-06,  1.9834491e-05,  2.5120040e-05],\n",
              "       [-9.2025539e-06,  2.5120042e-05,  2.7110138e-05]], dtype=float32)>"
            ]
          },
          "metadata": {
            "tags": []
          },
          "execution_count": 4
        }
      ]
    },
    {
      "cell_type": "code",
      "metadata": {
        "colab": {
          "base_uri": "https://localhost:8080/"
        },
        "id": "r7UXiTooyANa",
        "outputId": "e4f8299b-81d2-4411-a658-42d0701b8dbc"
      },
      "source": [
        "mvt.trainable_variables"
      ],
      "execution_count": null,
      "outputs": [
        {
          "output_type": "execute_result",
          "data": {
            "text/plain": [
              "(<tf.Variable 'Variable:0' shape=(3,) dtype=float32, numpy=array([1., 2., 3.], dtype=float32)>,)"
            ]
          },
          "metadata": {
            "tags": []
          },
          "execution_count": 5
        }
      ]
    },
    {
      "cell_type": "code",
      "metadata": {
        "colab": {
          "base_uri": "https://localhost:8080/"
        },
        "id": "bG5FVFXQxUKH",
        "outputId": "5a05ea3f-f3f8-4b46-98ce-86f29d67a165"
      },
      "source": [
        "loc.shape"
      ],
      "execution_count": null,
      "outputs": [
        {
          "output_type": "execute_result",
          "data": {
            "text/plain": [
              "TensorShape([3])"
            ]
          },
          "metadata": {
            "tags": []
          },
          "execution_count": 6
        }
      ]
    },
    {
      "cell_type": "markdown",
      "metadata": {
        "id": "q-4lbKoTNpKO"
      },
      "source": [
        "### GPflow - Binary Classification\n",
        "\n",
        "Foundation taken from [GPflow binary classification model](https://gpflow.readthedocs.io/en/master/notebooks/basics/classification.html)"
      ]
    },
    {
      "cell_type": "code",
      "metadata": {
        "colab": {
          "base_uri": "https://localhost:8080/",
          "height": 483
        },
        "id": "WNejbwNuNsHP",
        "outputId": "532a4571-56e4-4ec7-f509-648c892fc2a3"
      },
      "source": [
        "# build the kernel and covariance matrix\n",
        "k = gpflow.kernels.Matern52(variance=20.0)\n",
        "x_grid = np.linspace(0, 6, 200).reshape(-1, 1)\n",
        "K = k(x_grid)\n",
        "\n",
        "# sample from a multivariate normal\n",
        "rng = np.random.RandomState(6)\n",
        "\n",
        "L = np.linalg.cholesky(K)\n",
        "f_grid = np.dot(L, rng.randn(200, 5))\n",
        "plt.plot(x_grid, f_grid, \"C0\", linewidth=1)\n",
        "_ = plt.plot(x_grid, f_grid[:, 1], \"C0\", linewidth=2)"
      ],
      "execution_count": null,
      "outputs": [
        {
          "output_type": "display_data",
          "data": {
            "image/png": "[encoded data removed]",
            "text/plain": [
              "<Figure size 864x576 with 1 Axes>"
            ]
          },
          "metadata": {
            "tags": [],
            "needs_background": "light"
          }
        }
      ]
    },
    {
      "cell_type": "code",
      "metadata": {
        "colab": {
          "base_uri": "https://localhost:8080/",
          "height": 483
        },
        "id": "tRTcuEPPOgvi",
        "outputId": "f5a8be50-5b22-4c48-b193-1958dc27f28d"
      },
      "source": [
        "def invlink(f):\n",
        "    # By default, standard normal CDF is used as link function, but \n",
        "    # any other function can be used as well, just set invlink argument\n",
        "    # of Bernoulli()\n",
        "    return gpflow.likelihoods.Bernoulli().invlink(f).numpy()\n",
        "\n",
        "\n",
        "p_grid = invlink(f_grid)\n",
        "plt.plot(x_grid, p_grid, \"C1\", linewidth=1)\n",
        "_ = plt.plot(x_grid, p_grid[:, 1], \"C1\", linewidth=2)"
      ],
      "execution_count": null,
      "outputs": [
        {
          "output_type": "display_data",
          "data": {
            "image/png": "[encoded data removed]",
            "text/plain": [
              "<Figure size 864x576 with 1 Axes>"
            ]
          },
          "metadata": {
            "tags": [],
            "needs_background": "light"
          }
        }
      ]
    },
    {
      "cell_type": "code",
      "metadata": {
        "colab": {
          "base_uri": "https://localhost:8080/",
          "height": 483
        },
        "id": "ySLYs6N3Ovep",
        "outputId": "4c3edde7-5b0c-4771-ab22-4a3c4981e8be"
      },
      "source": [
        "# Select some input locations\n",
        "ind = rng.randint(0, 200, (30,))\n",
        "X_gen = x_grid[ind]\n",
        "\n",
        "# evaluate probability and get Bernoulli draws\n",
        "p = p_grid[ind, 1:2]\n",
        "Y_gen = rng.binomial(1, p)\n",
        "\n",
        "# plot\n",
        "plt.plot(x_grid, p_grid[:, 1], \"C1\", linewidth=2)\n",
        "plt.plot(X_gen, p, \"C1o\", ms=6)\n",
        "_ = plt.plot(X_gen, Y_gen, \"C3x\", ms=8, mew=2)"
      ],
      "execution_count": null,
      "outputs": [
        {
          "output_type": "display_data",
          "data": {
            "image/png": "[encoded data removed]",
            "text/plain": [
              "<Figure size 864x576 with 1 Axes>"
            ]
          },
          "metadata": {
            "tags": [],
            "needs_background": "light"
          }
        }
      ]
    },
    {
      "cell_type": "code",
      "metadata": {
        "colab": {
          "base_uri": "https://localhost:8080/"
        },
        "id": "lN3CmSBWPRM9",
        "outputId": "5864db92-fe47-42b3-ccc0-33afc82ad1c9"
      },
      "source": [
        "m = gpflow.models.VGP(\n",
        "    (X_gen, Y_gen), likelihood=gpflow.likelihoods.Bernoulli(), kernel=gpflow.kernels.Matern52()\n",
        ")\n",
        "\n",
        "opt = gpflow.optimizers.Scipy()\n",
        "opt.minimize(m.training_loss, variables=m.trainable_variables)"
      ],
      "execution_count": null,
      "outputs": [
        {
          "output_type": "execute_result",
          "data": {
            "text/plain": [
              "      fun: 5.921130177394291\n",
              " hess_inv: <497x497 LbfgsInvHessProduct with dtype=float64>\n",
              "      jac: array([ 6.78253795e-04, -1.61809166e-06,  7.97288934e-05, -2.56457370e-05,\n",
              "       -3.19435981e-04, -9.77303768e-05,  3.65503836e-06, -3.55404475e-05,\n",
              "        1.51691560e-06,  2.60414254e-06, -5.66910904e-07,  6.83518424e-07,\n",
              "       -4.84583134e-06, -8.26329395e-07, -7.74970114e-06,  6.64908570e-06,\n",
              "       -2.58952853e-07, -1.15593266e-05, -4.40631564e-07,  4.90943344e-07,\n",
              "       -5.01536929e-09, -2.33588387e-09, -2.40253319e-06,  1.37008530e-07,\n",
              "       -3.01552016e-07, -3.93965023e-07, -2.99033797e-08, -3.87416728e-08,\n",
              "       -3.92586551e-08,  2.05379648e-08,  2.92843059e-06, -8.10135283e-08,\n",
              "       -8.38028936e-08,  6.45942925e-16,  4.92766267e-11,  3.41825071e-15,\n",
              "        5.14826996e-14, -3.38859041e-13,  1.52259895e-13,  9.40644512e-09,\n",
              "       -2.80741643e-09,  6.83393397e-09,  5.31380897e-16, -2.47080565e-11,\n",
              "        5.19857243e-13,  4.81490492e-09, -2.39469898e-08, -7.80634456e-10,\n",
              "        1.98637090e-12, -1.60230856e-11, -4.58055751e-09, -2.60455821e-08,\n",
              "        8.68577724e-09, -3.85189300e-09, -3.07971978e-09, -2.07310848e-08,\n",
              "       -9.21717894e-09,  3.49482166e-10, -1.14630584e-09,  1.84418695e-07,\n",
              "       -8.57930854e-09,  4.20047099e-07,  1.68063787e-04, -1.15419579e-08,\n",
              "        1.60534225e-12, -2.82798847e-09, -3.72457719e-09, -4.04416898e-09,\n",
              "       -2.58254343e-08,  1.87122352e-12,  1.19626725e-13,  5.44715938e-13,\n",
              "        1.45166213e-10,  2.84270997e-09,  5.77243482e-07, -1.84337585e-10,\n",
              "        3.96241940e-11, -7.12571242e-09,  3.01241548e-07,  1.23788328e-06,\n",
              "       -1.09988700e-08,  5.05005088e-09,  3.34638011e-08,  1.87668997e-07,\n",
              "       -5.12084593e-07,  6.12842281e-08, -1.07939378e-06,  2.79508529e-06,\n",
              "        1.49642199e-06,  4.39434235e-07, -1.05523008e-06, -6.60442894e-07,\n",
              "       -6.22207028e-05, -2.53258939e-05, -9.04474881e-09,  9.81266808e-14,\n",
              "       -5.88163370e-14, -8.27493185e-13,  2.55168629e-13,  1.17444762e-10,\n",
              "       -3.60868477e-11,  8.42252521e-11,  1.45175358e-15,  1.09083361e-11,\n",
              "        3.60013154e-12,  8.69114513e-11, -3.04764907e-10, -6.27612528e-11,\n",
              "        2.37965288e-12,  6.97917002e-12,  8.62937867e-10, -1.10968963e-09,\n",
              "        2.39224752e-09, -1.39720370e-09, -1.19991372e-09,  3.06980945e-08,\n",
              "        2.01449534e-08,  6.54333223e-09,  2.45966386e-09,  7.10279454e-09,\n",
              "       -1.98989757e-08, -2.44572622e-08,  3.84619196e-04, -1.85807791e-04,\n",
              "        4.36910661e-04, -1.18908983e-09,  8.09486552e-11,  1.41037140e-10,\n",
              "        2.24256248e-10,  3.68935470e-14, -5.57170032e-15,  6.90726466e-15,\n",
              "       -1.87547010e-12,  3.11726385e-11, -6.82720692e-09,  3.30137338e-12,\n",
              "       -7.17619146e-13,  1.19635476e-10, -3.59839645e-09, -1.46797917e-08,\n",
              "        1.15953666e-10, -5.24248230e-11, -3.50066351e-10, -1.88711398e-09,\n",
              "        8.01552509e-09, -1.85301464e-09,  2.59274749e-08, -3.83940887e-08,\n",
              "       -2.04015037e-08, -8.12846031e-09,  2.35637719e-08,  1.11669648e-08,\n",
              "       -2.11883047e-04, -4.35663612e-04, -1.16529979e-04,  7.75741714e-05,\n",
              "       -2.00933811e-08,  7.79194517e-10, -1.81982675e-10,  4.26665225e-13,\n",
              "       -9.13646002e-14,  2.14284780e-13, -2.18778344e-12,  3.80793536e-10,\n",
              "       -9.10731517e-09,  1.04980007e-11, -2.94991561e-12,  3.56891277e-10,\n",
              "       -4.73167354e-09, -1.89235107e-08,  4.70166996e-11, -1.23025532e-11,\n",
              "       -1.20530253e-10,  3.89459627e-11,  2.04532610e-08, -8.45713860e-09,\n",
              "        1.22199803e-07, -5.72850996e-08, -7.15995707e-09, -2.92177679e-08,\n",
              "        1.29587727e-07,  3.87661348e-08,  5.08101178e-05, -2.43054949e-05,\n",
              "        8.96962766e-05, -9.75650534e-05, -2.00216699e-04, -2.14000335e-07,\n",
              "       -1.59731141e-09,  4.08166270e-13,  6.84625267e-14, -1.75006635e-13,\n",
              "       -2.28985935e-12,  1.56814741e-09, -1.02511220e-08,  3.12805038e-11,\n",
              "       -5.74068967e-12,  1.05609712e-09, -5.25090898e-09, -1.97822638e-08,\n",
              "       -2.93164009e-10,  1.81503718e-10,  9.27572065e-10,  8.91443087e-09,\n",
              "        5.51911916e-08, -3.03706618e-08,  4.59696100e-07, -1.04651464e-07,\n",
              "        4.24433265e-08, -1.03841707e-07,  4.80789430e-07,  1.31875530e-07,\n",
              "       -3.01774651e-05,  6.03394557e-05, -2.50461449e-05,  2.71074629e-05,\n",
              "       -1.43290244e-05,  5.40953223e-04, -3.68923013e-07, -2.29448767e-12,\n",
              "        2.25274165e-13, -5.57277320e-13, -1.70087262e-11, -4.18336004e-09,\n",
              "       -5.69874062e-08, -3.89060469e-11,  7.48687143e-12, -1.41149025e-09,\n",
              "       -3.11487498e-08, -1.44023954e-07,  2.27856744e-09, -1.07141122e-09,\n",
              "       -7.09503233e-09, -4.29058789e-08,  1.19900050e-07, -9.34184639e-09,\n",
              "        1.30994107e-08, -2.94140336e-07, -1.73593492e-07, -1.41418044e-08,\n",
              "        2.40818153e-07,  6.97618922e-08, -3.15227920e-05, -1.89156314e-05,\n",
              "        1.79380041e-05,  8.88265480e-07,  8.52101241e-06,  1.36553103e-05,\n",
              "       -2.53901996e-04, -1.03277256e-06, -1.16287779e-08,  2.84322427e-08,\n",
              "        5.01763049e-15, -1.27687385e-10,  6.60080008e-12,  2.50403544e-08,\n",
              "       -9.48810610e-08, -3.48949490e-09,  1.11043568e-11, -6.05399840e-11,\n",
              "       -2.04999266e-08, -1.19445878e-07,  4.03248287e-08, -1.78133655e-08,\n",
              "       -1.41754037e-08, -9.76698604e-08, -4.15057434e-08,  4.33320842e-10,\n",
              "       -5.13840095e-09,  6.79232560e-07, -2.01023133e-08,  1.80561987e-06,\n",
              "       -4.79570427e-06,  4.87743447e-07, -7.02439478e-06,  1.94282006e-06,\n",
              "       -1.39680148e-05,  1.46532945e-05, -3.25019600e-06, -4.95167545e-05,\n",
              "       -5.02467338e-08, -7.65711625e-09, -6.46913339e-16,  3.29310529e-11,\n",
              "       -3.23661491e-13, -6.36950694e-09,  2.64758206e-08,  9.64014934e-10,\n",
              "       -2.34575652e-12,  2.08446314e-11,  5.64070749e-09,  3.27775464e-08,\n",
              "       -1.14598896e-08,  5.21925462e-09,  4.26032426e-09,  2.83232070e-08,\n",
              "        1.46978902e-08, -7.04714495e-10,  1.57786656e-09, -2.13840576e-07,\n",
              "        1.52082384e-08, -6.26436450e-07,  2.14789265e-06,  1.16379150e-06,\n",
              "        5.95253499e-06, -9.87553737e-07,  4.53794836e-06, -1.02081072e-05,\n",
              "       -2.62576182e-06, -8.83160831e-07, -2.01409104e-05, -5.23925761e-07,\n",
              "       -7.87242672e-16, -1.21022371e-10,  3.60610347e-12,  2.45515730e-08,\n",
              "        3.06939827e-07,  4.04354897e-09, -1.01787263e-11,  8.56181309e-11,\n",
              "        2.39755179e-08,  1.23922800e-07, -3.88887535e-08,  1.80431198e-08,\n",
              "        1.53734386e-08,  9.76012863e-08,  6.11884240e-08, -1.26636093e-08,\n",
              "        6.51555808e-09,  3.87333897e-06, -3.96709151e-07,  4.86924540e-06,\n",
              "       -3.68263860e-07,  2.59387201e-06, -4.65604922e-06,  7.48804469e-07,\n",
              "        6.82293480e-07,  6.64407992e-06,  3.16525060e-06, -1.36093759e-06,\n",
              "       -9.40842960e-07, -3.21589704e-05, -3.66119825e-10,  2.11563409e-12,\n",
              "        3.44345026e-10, -9.73144311e-14, -6.53197642e-15, -3.89575299e-12,\n",
              "        3.88935252e-09,  1.74682115e-09, -1.10133527e-11,  3.81341091e-12,\n",
              "        3.06785441e-11,  1.82757833e-10, -4.33773476e-10, -2.24850138e-10,\n",
              "       -1.27871339e-09, -2.40103947e-09,  1.16305246e-08, -1.74343713e-08,\n",
              "       -1.05789092e-08, -1.33082416e-08,  6.40839846e-06, -1.55032608e-06,\n",
              "        9.34857570e-06,  4.43519650e-08,  1.20580583e-07,  3.51244367e-07,\n",
              "        1.10552966e-06,  1.02008088e-07,  2.19032007e-07, -4.86210045e-07,\n",
              "       -1.68024713e-05, -2.77488813e-07,  5.69273445e-09,  3.46868967e-11,\n",
              "       -3.03136473e-11,  3.44229922e-09,  3.27238588e-09,  1.73087680e-08,\n",
              "       -1.91073703e-09,  1.25746337e-09,  7.36577626e-09, -8.76137905e-09,\n",
              "       -2.52700979e-08,  2.94280306e-08,  6.13572152e-07, -4.58511701e-08,\n",
              "        9.40930312e-08, -1.62849809e-07,  4.43454820e-07,  1.55474782e-07,\n",
              "        1.10207995e-06, -8.00616121e-07,  1.77827990e-06, -3.68649179e-09,\n",
              "       -1.53458928e-07,  5.10283289e-08,  3.25650752e-07,  1.61046533e-07,\n",
              "        1.27965700e-08, -6.90349308e-08,  1.23063993e-07, -8.20161681e-07,\n",
              "       -1.21384069e-07, -8.03033865e-10,  1.72999154e-10, -3.10796751e-08,\n",
              "        1.04880949e-06,  6.39954791e-06, -6.01018978e-08,  2.75979262e-08,\n",
              "        1.83041020e-07,  1.02810605e-06, -2.84402348e-06,  3.58985267e-07,\n",
              "       -6.05339209e-06,  1.08440273e-05,  3.02878610e-06,  3.63783804e-06,\n",
              "        2.89057647e-06,  5.97115223e-07,  8.76205177e-06,  1.32923895e-05,\n",
              "        1.28648780e-05,  3.71104720e-06,  2.69821312e-05, -2.28476934e-05,\n",
              "        7.69409183e-07, -1.02303015e-05,  3.71201519e-06,  6.60549456e-07,\n",
              "        9.87983421e-08, -2.18454907e-07,  9.46664521e-07, -2.54339012e-07,\n",
              "        3.43836560e-10, -9.95303985e-10, -3.62025768e-10, -2.26641133e-09,\n",
              "       -6.09214726e-09, -1.53136459e-08,  1.82186612e-09, -1.33353216e-09,\n",
              "        8.91662652e-11,  1.26873570e-08,  1.19001248e-08, -1.70572840e-10,\n",
              "        2.79435664e-10,  8.15752571e-07, -9.06220070e-08,  1.36768072e-06,\n",
              "       -4.64049237e-06, -6.00243809e-06, -4.24991571e-06,  1.30404239e-05,\n",
              "        2.72144992e-06, -3.10927222e-06,  1.47118809e-07, -1.44525068e-06,\n",
              "        5.29523205e-07,  9.38883408e-08,  1.40452824e-08, -3.10297696e-08,\n",
              "        3.46628775e-06, -1.31909094e-05, -8.33315648e-06,  3.82562825e-08,\n",
              "       -1.96750512e-11,  1.26622877e-09,  2.26437939e-07,  1.23062074e-06,\n",
              "       -3.92240940e-07,  1.77788630e-07,  1.46362629e-07,  9.44218250e-07,\n",
              "        5.36140680e-07, -7.38595941e-08,  6.30421180e-08,  1.80667616e-05,\n",
              "       -2.04836774e-06,  1.84622867e-05,  5.22603723e-07,  3.81173200e-07,\n",
              "       -2.18936748e-08,  6.59089326e-08, -2.30324808e-07,  1.00011097e-06,\n",
              "        2.03680587e-07, -3.67324545e-08, -8.25458688e-08,  5.40086477e-08,\n",
              "        2.65690105e-08, -1.33922669e-09, -8.64629485e-08, -1.41128424e-08,\n",
              "       -4.99167363e-07])\n",
              "  message: b'CONVERGENCE: REL_REDUCTION_OF_F_<=_FACTR*EPSMCH'\n",
              "     nfev: 286\n",
              "      nit: 260\n",
              "   status: 0\n",
              "  success: True\n",
              "        x: array([ 3.65395728e+00,  4.93264202e+02,  1.17047131e+00, -3.56969821e-01,\n",
              "       -2.41740195e-01, -1.13489342e+00, -4.52701807e-02,  1.85032367e-02,\n",
              "        3.00899979e-02, -3.12450048e-02,  9.17190665e-03,  3.05349295e-03,\n",
              "        2.54488128e-03, -2.72411751e-04,  3.94076994e-02, -1.61018494e-02,\n",
              "        2.67957268e-04,  3.40086908e-03,  4.86665342e-04, -8.05447512e-03,\n",
              "       -2.54777705e-05, -3.73732626e-05,  1.15552907e-03, -1.70930822e-04,\n",
              "        6.18422492e-04,  1.46401429e-03,  3.50489677e-04,  2.33524185e-04,\n",
              "        1.44002924e-04,  1.64020341e-05, -1.29938415e-02,  1.30246376e-04,\n",
              "        9.99999263e-01,  7.05315887e-15, -1.68994231e-08,  3.14337345e-12,\n",
              "       -2.89391408e-11,  1.22559372e-10, -5.13196394e-11, -3.35007511e-06,\n",
              "        1.10979665e-06, -2.44216038e-06, -1.94209769e-14,  8.26525779e-09,\n",
              "       -1.72353739e-10, -1.67651615e-06,  8.80924170e-06,  2.89520452e-07,\n",
              "       -8.58743606e-10,  6.23719617e-09,  1.70269259e-06,  1.00641243e-05,\n",
              "       -3.66291396e-06,  1.76183715e-06,  1.55402843e-06,  1.07080174e-05,\n",
              "        6.74375018e-06, -1.59418051e-06,  6.15453624e-07, -1.13299382e-04,\n",
              "        2.72199858e-05, -3.97919222e-04,  3.77644748e-01,  9.99853905e-01,\n",
              "       -8.02217373e-10,  3.12617147e-06,  4.53481644e-06,  4.98542447e-06,\n",
              "        3.17896533e-05, -1.80402577e-09,  2.73230615e-10, -5.95113250e-10,\n",
              "       -3.59564855e-07, -3.27119392e-06, -7.08150036e-04,  2.30308853e-07,\n",
              "       -5.49210715e-08,  8.86764959e-06, -4.08182165e-04, -1.64574145e-03,\n",
              "        1.70808056e-05, -8.43577118e-06, -5.55843956e-05, -3.07446346e-04,\n",
              "        9.09262140e-04, -3.17187274e-04,  1.02323400e-03, -7.93274671e-03,\n",
              "       -7.75961722e-03, -7.00383034e-04, -1.34944294e-03,  3.74348836e-04,\n",
              "       -2.23768080e-01,  1.34674021e-01,  9.99999969e-01,  1.99509080e-11,\n",
              "       -9.16411964e-11,  4.54082958e-10, -9.69868514e-11, -3.94435483e-08,\n",
              "        1.33199504e-08, -2.93188292e-08, -9.76295083e-13, -4.92635867e-09,\n",
              "       -1.84357341e-09, -3.23651614e-08,  1.10279403e-07,  2.82681126e-08,\n",
              "       -1.20586717e-09, -3.91145503e-09, -3.93322367e-07,  4.06935123e-07,\n",
              "       -8.47550420e-07,  4.73205238e-07,  4.35555990e-07, -1.24905491e-05,\n",
              "       -1.50791876e-05,  4.06386766e-06, -1.39606410e-06,  1.69320203e-05,\n",
              "       -1.43969812e-05, -4.05718773e-05, -9.55422852e-02, -1.12081985e-01,\n",
              "        8.64749226e-01,  9.99999979e-01, -7.96439295e-08, -1.31353820e-07,\n",
              "       -2.78917598e-07,  7.74347850e-12, -2.53476970e-12,  5.57905050e-12,\n",
              "        3.84646134e-09,  2.94081950e-11,  7.59648426e-06, -2.96197026e-09,\n",
              "        6.87292177e-10, -1.14339542e-07,  4.37495526e-06,  1.75974164e-05,\n",
              "       -1.74195941e-07,  8.59895959e-08,  5.67267361e-07,  3.05887096e-06,\n",
              "       -1.06925675e-05,  4.00897697e-06, -1.69156910e-05,  8.78567069e-05,\n",
              "        8.26175701e-05,  1.00410998e-05,  1.67530264e-06, -8.77353638e-06,\n",
              "        1.59631480e-01, -4.52384815e-01, -2.48550469e-01,  2.91823199e-01,\n",
              "        9.99999866e-01, -5.81695536e-07, -1.17995204e-07, -1.60391162e-10,\n",
              "        3.68556966e-11, -8.08016116e-11,  5.56045328e-09, -1.74581964e-07,\n",
              "        1.10793083e-05, -6.86880910e-09,  1.81332593e-09, -2.62453706e-07,\n",
              "        6.36356155e-06,  2.54007004e-05, -2.10602642e-07,  1.04401118e-07,\n",
              "        6.80678102e-07,  3.22541726e-06, -2.00793290e-05,  8.75992907e-06,\n",
              "       -5.52742139e-05,  1.42236941e-04,  1.17344280e-04,  2.77898075e-05,\n",
              "       -6.19867247e-05, -3.73195394e-05,  6.05635588e-02, -3.21443422e-01,\n",
              "       -1.03105121e-01, -4.89762125e-01,  7.18681497e-01,  9.99998894e-01,\n",
              "        7.70989130e-07, -1.42555613e-10, -3.17196965e-11,  7.12657536e-11,\n",
              "        6.05270982e-09, -7.99466227e-07,  1.23692231e-05, -1.59631702e-08,\n",
              "        3.06234703e-09, -6.25758616e-07,  7.05052313e-06,  2.75260299e-05,\n",
              "       -7.79627985e-08,  3.68863566e-08,  2.69598708e-07, -1.08835167e-06,\n",
              "       -3.75834888e-05,  2.01798278e-05, -1.81040243e-04,  2.13079015e-04,\n",
              "        1.19117508e-04,  8.26855302e-05, -3.11145637e-04, -1.36262193e-04,\n",
              "       -9.59932422e-02, -4.34497508e-02,  6.07626364e-02,  6.11641891e-02,\n",
              "        1.14545272e-01,  9.53932176e-01,  9.99994485e-01,  9.04914375e-10,\n",
              "       -1.14676610e-10,  2.48995893e-10,  3.98076259e-08,  1.87580076e-06,\n",
              "        7.52020416e-05, -2.92401214e-09,  1.00777175e-09, -1.07512105e-07,\n",
              "        4.39063051e-05,  1.83365528e-04, -2.28349467e-06,  1.12845934e-06,\n",
              "        7.42501356e-06,  4.30527787e-05, -1.22420619e-04,  4.15154534e-05,\n",
              "       -8.47541605e-05,  8.70434112e-04,  8.50082532e-04,  6.12286826e-05,\n",
              "       -2.54578115e-05, -4.80379439e-05, -4.30416643e-02, -3.48505102e-02,\n",
              "        1.45177029e-02, -2.17390891e-02, -2.06762656e-02, -1.23738238e-02,\n",
              "        9.92209105e-01,  9.99990946e-01,  4.72312488e-06, -1.03702775e-05,\n",
              "       -2.39548849e-12,  4.37629166e-08, -5.08816410e-09, -8.97488164e-06,\n",
              "        3.54964315e-05,  1.30921720e-06, -6.34702929e-09,  1.75904782e-08,\n",
              "        7.71784399e-06,  4.68670987e-05, -1.72154778e-05,  8.28035372e-06,\n",
              "        7.31150273e-06,  5.12404326e-05,  3.26368854e-05, -7.78292453e-06,\n",
              "        2.93011774e-06, -4.42729433e-04,  1.10031591e-04, -1.91332005e-03,\n",
              "        1.13562531e-03,  5.07950643e-02,  7.34013614e-03,  5.63610320e-02,\n",
              "        7.16238164e-02, -1.57042797e-02,  6.08666278e-03,  9.92850771e-01,\n",
              "        9.99999295e-01,  2.97704759e-06,  3.75627741e-13, -1.20655134e-08,\n",
              "        8.84044858e-10,  2.46723264e-06, -1.03300016e-05, -3.71739057e-07,\n",
              "        1.47565056e-09, -6.40035886e-09, -2.18918331e-06, -1.32291173e-05,\n",
              "        4.85164968e-06, -2.33387197e-06, -2.05978691e-06, -1.43594601e-05,\n",
              "       -9.11146463e-06,  2.16527014e-06, -8.24372161e-07,  1.26009201e-04,\n",
              "       -3.12062248e-05,  5.30157290e-04,  1.99754029e-03, -1.59961527e-02,\n",
              "       -5.03946929e-03, -1.84956653e-02, -2.39888108e-02,  7.32467637e-03,\n",
              "       -4.78428977e-04,  3.98522130e-03,  9.99104340e-01,  9.99989288e-01,\n",
              "       -8.45374426e-13,  3.70256029e-08, -2.14965842e-09, -7.52790601e-06,\n",
              "       -5.82329208e-05, -7.24714134e-07,  1.33712571e-09, -1.91169333e-08,\n",
              "       -4.24831719e-06, -2.04461256e-05,  6.82578410e-06, -3.26491264e-06,\n",
              "       -2.87308537e-06, -1.80143598e-05, -1.05877942e-05,  2.44117169e-06,\n",
              "       -9.81841510e-07, -1.38124232e-03,  2.79043276e-04, -2.71449276e-03,\n",
              "       -2.35067065e-03, -6.56540777e-03,  2.61086883e-03, -3.64051789e-03,\n",
              "       -3.31608521e-03, -1.99223330e-03, -1.40017515e-03,  1.12573733e-03,\n",
              "        8.91380557e-05,  9.99738536e-01,  9.99999989e-01, -4.15666164e-09,\n",
              "       -8.72109085e-07,  2.81769141e-10, -6.71440688e-11,  1.08510711e-08,\n",
              "       -4.28036770e-06, -3.79747751e-06,  3.74846711e-08, -1.85132881e-08,\n",
              "       -1.21981964e-07, -6.74406655e-07,  1.97036500e-06, -6.83680220e-07,\n",
              "        2.17491056e-06, -7.12799313e-07, -5.75934510e-05,  1.64762567e-06,\n",
              "        2.61401384e-05,  1.90054250e-06, -3.82485720e-03, -2.78218395e-04,\n",
              "       -2.32061315e-03, -5.46581353e-04, -5.45190618e-04, -2.35655208e-04,\n",
              "       -5.74754273e-04,  4.34203625e-05, -1.26004192e-04,  1.78710609e-04,\n",
              "        9.99760877e-01,  9.99998610e-01, -7.50223312e-06, -1.76366684e-08,\n",
              "       -2.08799554e-08, -1.70918687e-06, -4.44423995e-06, -1.94149439e-05,\n",
              "        9.50879895e-07, -5.53644173e-07, -3.54765275e-06,  1.00314903e-06,\n",
              "        1.61595979e-05, -1.41801106e-05, -1.84665299e-04, -1.35958441e-05,\n",
              "       -1.04404902e-04,  9.44864625e-05, -2.84862448e-04, -1.52340449e-04,\n",
              "       -3.58550040e-04,  1.13153395e-03, -2.89920679e-04,  1.03374954e-03,\n",
              "        1.29340695e-03, -3.20677244e-04, -7.08671842e-05, -2.59448619e-04,\n",
              "        6.09910648e-05,  3.86191345e-05, -4.43105534e-05,  9.99989758e-01,\n",
              "        9.98598813e-01,  9.87617592e-07, -2.34990786e-07,  3.80490632e-05,\n",
              "       -1.42625268e-03, -8.43517679e-03,  9.19114468e-05, -4.53909720e-05,\n",
              "       -2.99087882e-04, -1.65548854e-03,  4.95263436e-03, -1.73639236e-03,\n",
              "        5.68140791e-03, -3.28698865e-02, -2.75315659e-02, -3.48071871e-03,\n",
              "       -1.60742915e-02,  5.65224973e-04, -1.06578663e-03, -8.33276004e-02,\n",
              "       -1.32462318e-02, -9.41061580e-02, -1.13565418e-01,  2.39730565e-02,\n",
              "       -7.29244104e-03,  2.07052074e-02, -6.85338069e-03, -1.23852799e-03,\n",
              "       -1.88092517e-04,  3.80431370e-04,  9.83385687e-01,  9.99997138e-01,\n",
              "        6.65903777e-06,  4.55538548e-07,  4.93335075e-07,  3.03280143e-06,\n",
              "        2.81432792e-06,  1.16935031e-05, -3.58742431e-06,  2.43852187e-06,\n",
              "       -1.29855875e-07,  5.12927375e-06, -5.12185760e-06,  1.29885474e-05,\n",
              "        9.26211149e-06, -3.58237945e-04,  7.53267823e-05, -1.36974122e-03,\n",
              "        8.82437506e-04,  2.51215305e-03, -8.36147884e-04, -3.09113003e-02,\n",
              "       -1.34980791e-02,  3.03934457e-03, -9.34963142e-04,  2.67452103e-03,\n",
              "       -8.99535899e-04, -1.62468364e-04, -2.46397181e-05,  4.99475109e-05,\n",
              "       -4.70724661e-03,  9.98969048e-01,  9.99722591e-01, -1.16979406e-05,\n",
              "       -8.33013546e-08, -9.73112458e-07, -6.87898115e-05, -3.83402197e-04,\n",
              "        1.36466758e-04, -6.57133362e-05, -5.73954985e-05, -3.89143210e-04,\n",
              "       -2.39725262e-04,  5.36485889e-05, -2.41957169e-05, -5.65933310e-03,\n",
              "        1.03023233e-03, -5.34118913e-03, -3.21048230e-04, -1.05038906e-04,\n",
              "        1.37177426e-04,  3.40085223e-04,  5.48798051e-04, -3.79585214e-04,\n",
              "       -5.03051851e-05, -4.52850696e-05,  4.52523627e-05, -1.57691733e-05,\n",
              "       -9.29128443e-06, -2.77000009e-07,  1.16255421e-04,  1.90663606e-05,\n",
              "        9.99997279e-01])"
            ]
          },
          "metadata": {
            "tags": []
          },
          "execution_count": 9
        }
      ]
    },
    {
      "cell_type": "code",
      "metadata": {
        "colab": {
          "base_uri": "https://localhost:8080/"
        },
        "id": "DhMzTcdaIoWp",
        "outputId": "1aadaea8-0f79-4849-c602-96b49f9eea98"
      },
      "source": [
        "m.training_loss()"
      ],
      "execution_count": null,
      "outputs": [
        {
          "output_type": "execute_result",
          "data": {
            "text/plain": [
              "<tf.Tensor: shape=(), dtype=float64, numpy=5.921130177394292>"
            ]
          },
          "metadata": {
            "tags": []
          },
          "execution_count": 10
        }
      ]
    },
    {
      "cell_type": "code",
      "metadata": {
        "id": "zxtIEnKJTLfI"
      },
      "source": [
        "with tf.GradientTape() as tape:\n",
        "  mll = m.maximum_log_likelihood_objective()\n",
        "\n",
        "tape.jacobian(mll, m.trainable_variables)"
      ],
      "execution_count": null,
      "outputs": []
    },
    {
      "cell_type": "code",
      "metadata": {
        "id": "t-cibIXthAEr"
      },
      "source": [
        "obs_dist = gpflow.likelihoods.Bernoulli(invlink=tf.math.sigmoid)\n",
        "\n",
        "??obs_dist.predict_log_density"
      ],
      "execution_count": null,
      "outputs": []
    },
    {
      "cell_type": "code",
      "metadata": {
        "colab": {
          "base_uri": "https://localhost:8080/"
        },
        "id": "Xn-ht1PBhbcf",
        "outputId": "4ac0b173-c090-4af5-f58b-03e5ed15a55b"
      },
      "source": [
        "obs_dist.log_prob(f_grid[:30,:1], Y_gen)"
      ],
      "execution_count": null,
      "outputs": [
        {
          "output_type": "execute_result",
          "data": {
            "text/plain": [
              "<tf.Tensor: shape=(30,), dtype=float64, numpy=\n",
              "array([-1.61587877e+00, -1.48984477e+00, -1.33196346e+00, -3.79287935e-01,\n",
              "       -4.79049744e-01, -7.88255854e-01, -6.32315490e-01, -5.01419843e-01,\n",
              "       -3.91492380e-01, -3.03863486e-01, -2.35978500e-01, -1.81045085e-01,\n",
              "       -1.36544524e-01, -2.32998985e+00, -7.63898726e-02, -5.71398647e-02,\n",
              "       -4.30555024e-02, -3.25834221e-02, -2.46946565e-02, -3.98901426e+00,\n",
              "       -1.42630033e-02, -1.10535643e-02, -8.75049693e-03, -7.11412427e-03,\n",
              "       -5.93139030e-03, -5.07594011e-03, -4.47273717e-03, -4.04727220e-03,\n",
              "       -5.59281770e+00, -3.47115426e-03])>"
            ]
          },
          "metadata": {
            "tags": []
          },
          "execution_count": 13
        }
      ]
    },
    {
      "cell_type": "markdown",
      "metadata": {
        "id": "wQoXHdptMbZn"
      },
      "source": [
        "### GPC Laplace Approach"
      ]
    },
    {
      "cell_type": "code",
      "metadata": {
        "id": "zeZ7225RisFC",
        "colab": {
          "base_uri": "https://localhost:8080/",
          "height": 367
        },
        "outputId": "05dc9e51-fbb5-466e-9ac0-8be6ffe10159"
      },
      "source": [
        "import gpflow\n",
        "import matplotlib.pyplot as plt\n",
        "import numpy as np\n",
        "import tensorflow as tf\n",
        "import tensorflow_probability as tfp\n",
        "tfd = tfp.distributions\n",
        "\n",
        "plt.rcParams[\"figure.figsize\"] = (12, 8)\n",
        "\n",
        "tf.__version__\n",
        "\n",
        "PI = tf.constant(np.pi, dtype=tf.float32)\n",
        "obs_dist = gpflow.likelihoods.Bernoulli(invlink=tf.math.sigmoid)\n",
        "\n",
        "def gpc_posterior(f, y, K):\n",
        "  pad_K = K + 10e-5*tf.eye(K.shape[0])\n",
        "  chol_K = tf.linalg.cholesky(pad_K)\n",
        "  fK = tf.linalg.cholesky_solve(chol_K, f)\n",
        "  nobs = f.shape[0]\n",
        "\n",
        "  ll = (\n",
        "    tf.reduce_sum(obs_dist.log_prob(f, y))\n",
        "    - 0.5*tf.matmul(fK, fK, transpose_a=True)\n",
        "    - tf.math.log(tf.reduce_sum(tf.linalg.diag_part(chol_K)))\n",
        "    - 0.5*nobs*tf.math.log(2*PI)\n",
        "  )\n",
        "\n",
        "  return ll\n",
        "\n",
        "def compute_posterior_covariance(K, w):\n",
        "  sqrt_w = tf.sqrt(w)\n",
        "  sqrt_w_t = tf.reshape(sqrt_w, shape=(-1, 1))\n",
        "\n",
        "  K_sqrt_w = tf.multiply(K, sqrt_w)\n",
        "  B = tf.eye(K.shape[0]) + tf.multiply(sqrt_w_t, K_sqrt_w)\n",
        "  \n",
        "  chol_B = tf.linalg.cholesky(B)\n",
        "  K_sqrt_w_t = tf.transpose(K_sqrt_w)\n",
        "  inv_sqrt_B_sqrt_w_K = tf.linalg.cholesky_solve(chol_B, K_sqrt_w_t)\n",
        "\n",
        "  cov_mat = K - tf.matmul(\n",
        "      inv_sqrt_B_sqrt_w_K, inv_sqrt_B_sqrt_w_K, transpose_a=True)\n",
        "  \n",
        "  return cov_mat\n",
        "\n",
        "def compute_hess_vec_obs_ll(f, y):\n",
        "  prod_vector = tf.repeat(1., repeats=f.shape[0])\n",
        "  prod_vector = tf.reshape(prod_vector, shape=(-1,1))\n",
        "\n",
        "  with tf.autodiff.ForwardAccumulator(\n",
        "      f, prod_vector) as acc:\n",
        "    with tf.GradientTape() as tape:\n",
        "      obs_ll = tf.reduce_sum(obs_dist.log_prob(f, y))\n",
        "    grad_obs_ll = tape.gradient(obs_ll, f)\n",
        "\n",
        "  hess_vec = acc.jvp(grad_obs_ll)\n",
        "  return tf.squeeze(hess_vec)\n",
        "\n",
        "def compute_marginal_ll(f, y, K, hess_diag):\n",
        "  sqrt_w = tf.sqrt(-hess_diag)\n",
        "  sqrt_w_t = tf.reshape(sqrt_w, shape=(-1, 1))\n",
        "\n",
        "  K_sqrt_w = tf.multiply(K, sqrt_w)\n",
        "  B = tf.eye(K.shape[0]) + tf.multiply(sqrt_w_t, K_sqrt_w)\n",
        "  chol_B = tf.linalg.cholesky(B)\n",
        "\n",
        "  chol_K = tf.linalg.cholesky(K  + 10e-5*tf.eye(K.shape[0]))\n",
        "  inv_chol_K_f = tf.linalg.cholesky_solve(chol_K, f)\n",
        "\n",
        "  mll = (\n",
        "      - 0.5*tf.tensordot(inv_chol_K_f, inv_chol_K_f, axes=(0, 0))\n",
        "      + tf.reduce_sum(obs_dist.log_prob(f, y))\n",
        "      - tf.reduce_sum(tf.math.log(tf.linalg.diag_part(chol_B)))\n",
        "  )\n",
        "  \n",
        "  return mll\n",
        "\n",
        "k = gpflow.kernels.SquaredExponential(lengthscales=1, variance=2.)\n",
        "x_grid = np.linspace(0, 6, 200).reshape(-1, 1)\n",
        "K = k(x_grid)\n",
        "\n",
        "# sample from a multivariate normal\n",
        "rng = np.random.RandomState(6)\n",
        "\n",
        "L = np.linalg.cholesky(K + 10e-6*np.eye(K.shape[0]))\n",
        "f = np.dot(L, rng.randn(200, 1))\n",
        "f = tf.cast(f, tf.float32)\n",
        "\n",
        "pvals = obs_dist.invlink(f)\n",
        "y = tf.cast(rng.binomial(1, pvals), tf.int32)"
      ],
      "execution_count": null,
      "outputs": [
        {
          "output_type": "error",
          "ename": "ModuleNotFoundError",
          "evalue": "ignored",
          "traceback": [
            "\u001b[0;31m---------------------------------------------------------------------------\u001b[0m",
            "\u001b[0;31mModuleNotFoundError\u001b[0m                       Traceback (most recent call last)",
            "\u001b[0;32m<ipython-input-1-3a60f09795c7>\u001b[0m in \u001b[0;36m<module>\u001b[0;34m()\u001b[0m\n\u001b[0;32m----> 1\u001b[0;31m \u001b[0;32mimport\u001b[0m \u001b[0mgpflow\u001b[0m\u001b[0;34m\u001b[0m\u001b[0;34m\u001b[0m\u001b[0m\n\u001b[0m\u001b[1;32m      2\u001b[0m \u001b[0;32mimport\u001b[0m \u001b[0mmatplotlib\u001b[0m\u001b[0;34m.\u001b[0m\u001b[0mpyplot\u001b[0m \u001b[0;32mas\u001b[0m \u001b[0mplt\u001b[0m\u001b[0;34m\u001b[0m\u001b[0;34m\u001b[0m\u001b[0m\n\u001b[1;32m      3\u001b[0m \u001b[0;32mimport\u001b[0m \u001b[0mnumpy\u001b[0m \u001b[0;32mas\u001b[0m \u001b[0mnp\u001b[0m\u001b[0;34m\u001b[0m\u001b[0;34m\u001b[0m\u001b[0m\n\u001b[1;32m      4\u001b[0m \u001b[0;32mimport\u001b[0m \u001b[0mtensorflow\u001b[0m \u001b[0;32mas\u001b[0m \u001b[0mtf\u001b[0m\u001b[0;34m\u001b[0m\u001b[0;34m\u001b[0m\u001b[0m\n\u001b[1;32m      5\u001b[0m \u001b[0;32mimport\u001b[0m \u001b[0mtensorflow_probability\u001b[0m \u001b[0;32mas\u001b[0m \u001b[0mtfp\u001b[0m\u001b[0;34m\u001b[0m\u001b[0;34m\u001b[0m\u001b[0m\n",
            "\u001b[0;31mModuleNotFoundError\u001b[0m: No module named 'gpflow'",
            "",
            "\u001b[0;31m---------------------------------------------------------------------------\u001b[0;32m\nNOTE: If your import is failing due to a missing package, you can\nmanually install dependencies using either !pip or !apt.\n\nTo view examples of installing some common dependencies, click the\n\"Open Examples\" button below.\n\u001b[0;31m---------------------------------------------------------------------------\u001b[0m\n"
          ]
        }
      ]
    },
    {
      "cell_type": "code",
      "metadata": {
        "id": "XJbayXVRqlZ4"
      },
      "source": [
        ""
      ],
      "execution_count": null,
      "outputs": []
    },
    {
      "cell_type": "code",
      "metadata": {
        "id": "Tn6fNRM-q0RA"
      },
      "source": [
        ""
      ],
      "execution_count": null,
      "outputs": []
    },
    {
      "cell_type": "code",
      "metadata": {
        "colab": {
          "base_uri": "https://localhost:8080/"
        },
        "id": "udL2X2pGNydB",
        "outputId": "ca3eb9f1-58ea-48f0-f1a9-d4ec5f501c44"
      },
      "source": [
        "K = tf.cast(k(x_grid), tf.float32)\n",
        "f = tf.Variable(f)\n",
        "gpc_posterior(f, y, K)"
      ],
      "execution_count": null,
      "outputs": [
        {
          "output_type": "execute_result",
          "data": {
            "text/plain": [
              "<tf.Tensor: shape=(1, 1), dtype=float32, numpy=array([[-90782.42]], dtype=float32)>"
            ]
          },
          "metadata": {
            "tags": []
          },
          "execution_count": 30
        }
      ]
    },
    {
      "cell_type": "code",
      "metadata": {
        "colab": {
          "base_uri": "https://localhost:8080/"
        },
        "id": "D3NUHXQ9M1Ag",
        "outputId": "847d881c-a4a6-400e-83b9-bf6ee4ec96e5"
      },
      "source": [
        "### Optimize posterior\n",
        "from gpflow.optimizers import NaturalGradient\n",
        "from gpflow.optimizers import Scipy\n",
        "\n",
        "def get_gradients():\n",
        "  with tf.GradientTape() as tape:\n",
        "    ngpc = -gpc_posterior(f, y, K)\n",
        "    nmll = -compute_marginal_ll(f, y, tf.cast(k(x_grid), tf.float32), hess_diag)\n",
        "  tape.gradient()\n",
        "\n",
        "opt = Scipy()\n",
        "\n",
        "f = tf.Variable(f)\n",
        "\n",
        "x_grid_tf = tf.constant(x_grid, dtype=tf.float64)\n",
        "\n",
        "neg_post = [-gpc_posterior(f, y, K)]\n",
        "hess_diag = compute_hess_vec_obs_ll(f, y)\n",
        "marg_ll = [-compute_marginal_ll(f, y, tf.cast(k(x_grid), tf.float32), hess_diag)]\n",
        "\n",
        "for i in range(10):\n",
        "  #K = tf.cast(k(x_grid_tf), dtype=tf.float32)\n",
        "  K = tf.cast(k(x_grid), tf.float32)\n",
        "  opt_res = opt.minimize(lambda: -gpc_posterior(f, y, K), [f])\n",
        "  neg_post.append(opt_res.fun)\n",
        "  \n",
        "  hess_diag = compute_hess_vec_obs_ll(f, y)\n",
        "  print(i, tf.reduce_mean(hess_diag))\n",
        "  opt_res = opt.minimize(\n",
        "      lambda: -compute_marginal_ll(f, y, tf.cast(k(x_grid_tf), tf.float32), hess_diag), \n",
        "      k.trainable_variables)\n",
        "  marg_ll.append(opt_res.fun)\n",
        "  "
      ],
      "execution_count": null,
      "outputs": [
        {
          "output_type": "stream",
          "text": [
            "0 tf.Tensor(-0.20540395, shape=(), dtype=float32)\n",
            "1 tf.Tensor(-0.20540401, shape=(), dtype=float32)\n",
            "2 tf.Tensor(-0.20540398, shape=(), dtype=float32)\n",
            "3 tf.Tensor(-0.20540401, shape=(), dtype=float32)\n",
            "4 tf.Tensor(-0.20540403, shape=(), dtype=float32)\n",
            "5 tf.Tensor(-0.20540409, shape=(), dtype=float32)\n",
            "6 tf.Tensor(-0.20540413, shape=(), dtype=float32)\n",
            "7 tf.Tensor(-0.2054042, shape=(), dtype=float32)\n",
            "8 tf.Tensor(-0.2054042, shape=(), dtype=float32)\n",
            "9 tf.Tensor(-0.20540422, shape=(), dtype=float32)\n"
          ],
          "name": "stdout"
        }
      ]
    },
    {
      "cell_type": "code",
      "metadata": {
        "colab": {
          "base_uri": "https://localhost:8080/"
        },
        "id": "fhbkThiYRhDq",
        "outputId": "30200912-9506-4458-87a5-01967f5b5e1c"
      },
      "source": [
        "neg_post"
      ],
      "execution_count": null,
      "outputs": [
        {
          "output_type": "execute_result",
          "data": {
            "text/plain": [
              "[<tf.Tensor: shape=(1, 1), dtype=float32, numpy=array([[90782.42]], dtype=float32)>,\n",
              " array([[314.97271729]]),\n",
              " array([[315.68981934]]),\n",
              " array([[315.66015625]]),\n",
              " array([[315.64770508]]),\n",
              " array([[315.63366699]]),\n",
              " array([[315.6048584]]),\n",
              " array([[315.56652832]]),\n",
              " array([[315.46252441]]),\n",
              " array([[315.4788208]]),\n",
              " array([[315.51574707]])]"
            ]
          },
          "metadata": {
            "tags": []
          },
          "execution_count": 34
        }
      ]
    },
    {
      "cell_type": "code",
      "metadata": {
        "colab": {
          "base_uri": "https://localhost:8080/"
        },
        "id": "gZDsXgQDZVkh",
        "outputId": "e4486329-29d5-4bbd-86b8-921748431b53"
      },
      "source": [
        "opt_res"
      ],
      "execution_count": null,
      "outputs": [
        {
          "output_type": "execute_result",
          "data": {
            "text/plain": [
              "      fun: array([[133.93280029]])\n",
              " hess_inv: <2x2 LbfgsInvHessProduct with dtype=float64>\n",
              "      jac: array([0.01119485, 0.00162611])\n",
              "  message: b'CONVERGENCE: REL_REDUCTION_OF_F_<=_FACTR*EPSMCH'\n",
              "     nfev: 22\n",
              "      nit: 10\n",
              "   status: 0\n",
              "  success: True\n",
              "        x: array([ 0.19593529, -0.94261868])"
            ]
          },
          "metadata": {
            "tags": []
          },
          "execution_count": 33
        }
      ]
    },
    {
      "cell_type": "code",
      "metadata": {
        "colab": {
          "base_uri": "https://localhost:8080/"
        },
        "id": "D_awDJnzOe4S",
        "outputId": "cf93d42d-cc5b-4aaf-f058-55c6c8535e08"
      },
      "source": [
        "with tf.GradientTape() as tape:\n",
        "  ngpc = -gpc_posterior(f, y, K)\n",
        "  nmll = -compute_marginal_ll(f, y, tf.cast(k(x_grid), tf.float32), hess_diag)\n",
        "tape.gradient(nmll, [f, k.trainable_variables])"
      ],
      "execution_count": null,
      "outputs": [
        {
          "output_type": "execute_result",
          "data": {
            "text/plain": [
              "[<tf.Tensor: shape=(200, 1), dtype=float32, numpy=\n",
              " array([[ -772.5556   ],\n",
              "        [ -201.0639   ],\n",
              "        [  213.2083   ],\n",
              "        [  153.32002  ],\n",
              "        [  545.0853   ],\n",
              "        [  363.60873  ],\n",
              "        [  390.21664  ],\n",
              "        [ -459.41174  ],\n",
              "        [  265.6429   ],\n",
              "        [ -156.199    ],\n",
              "        [  263.83395  ],\n",
              "        [ -605.73224  ],\n",
              "        [   65.227234 ],\n",
              "        [  950.0456   ],\n",
              "        [  -54.100628 ],\n",
              "        [ -649.5994   ],\n",
              "        [  155.39876  ],\n",
              "        [  493.7262   ],\n",
              "        [-1242.3228   ],\n",
              "        [  -36.396126 ],\n",
              "        [ 1028.8145   ],\n",
              "        [ -925.4663   ],\n",
              "        [   52.988544 ],\n",
              "        [  -47.47816  ],\n",
              "        [-1343.3793   ],\n",
              "        [   59.232944 ],\n",
              "        [  252.13057  ],\n",
              "        [  -39.041958 ],\n",
              "        [  452.57965  ],\n",
              "        [ 1250.2305   ],\n",
              "        [ -188.93306  ],\n",
              "        [  -95.8463   ],\n",
              "        [  454.72308  ],\n",
              "        [  -65.30589  ],\n",
              "        [-1316.1783   ],\n",
              "        [ 1193.6177   ],\n",
              "        [ -283.2562   ],\n",
              "        [ -292.9817   ],\n",
              "        [  456.79962  ],\n",
              "        [-1033.8195   ],\n",
              "        [  211.4724   ],\n",
              "        [  894.78613  ],\n",
              "        [  171.37108  ],\n",
              "        [ -452.6307   ],\n",
              "        [  383.81277  ],\n",
              "        [  193.6707   ],\n",
              "        [ -313.7412   ],\n",
              "        [ -125.057205 ],\n",
              "        [  900.36176  ],\n",
              "        [  990.0453   ],\n",
              "        [-1969.1127   ],\n",
              "        [ 1036.9128   ],\n",
              "        [-1111.1681   ],\n",
              "        [ -764.83374  ],\n",
              "        [  404.18484  ],\n",
              "        [-1549.6501   ],\n",
              "        [ 1554.5826   ],\n",
              "        [ 1230.1808   ],\n",
              "        [  410.4035   ],\n",
              "        [-1581.5249   ],\n",
              "        [ -715.5146   ],\n",
              "        [ -602.5766   ],\n",
              "        [  -12.491184 ],\n",
              "        [  405.30313  ],\n",
              "        [ -660.8484   ],\n",
              "        [  754.50995  ],\n",
              "        [  905.38666  ],\n",
              "        [ -152.4535   ],\n",
              "        [ -272.74237  ],\n",
              "        [ -440.85144  ],\n",
              "        [  190.26399  ],\n",
              "        [ 2296.9614   ],\n",
              "        [  662.8812   ],\n",
              "        [ -489.04193  ],\n",
              "        [   16.71107  ],\n",
              "        [ -146.46323  ],\n",
              "        [  564.8863   ],\n",
              "        [-1727.9236   ],\n",
              "        [-1461.6947   ],\n",
              "        [  585.12866  ],\n",
              "        [  979.14557  ],\n",
              "        [ -403.57608  ],\n",
              "        [  368.36713  ],\n",
              "        [ -993.55444  ],\n",
              "        [ -502.81586  ],\n",
              "        [   70.66086  ],\n",
              "        [  645.7187   ],\n",
              "        [  -90.616516 ],\n",
              "        [  218.09581  ],\n",
              "        [  338.5492   ],\n",
              "        [ 1142.4161   ],\n",
              "        [-1335.2537   ],\n",
              "        [  -20.743052 ],\n",
              "        [ 1101.1832   ],\n",
              "        [  436.70645  ],\n",
              "        [-1050.908    ],\n",
              "        [ -302.3204   ],\n",
              "        [ -244.13121  ],\n",
              "        [  362.4828   ],\n",
              "        [ -337.5329   ],\n",
              "        [  571.0277   ],\n",
              "        [-1069.8145   ],\n",
              "        [ -520.7926   ],\n",
              "        [ -511.6872   ],\n",
              "        [  262.43723  ],\n",
              "        [  820.8555   ],\n",
              "        [ -927.2158   ],\n",
              "        [ 1120.4207   ],\n",
              "        [ -337.0867   ],\n",
              "        [ -382.34937  ],\n",
              "        [ -243.84962  ],\n",
              "        [ 1716.3219   ],\n",
              "        [  748.5856   ],\n",
              "        [  257.73065  ],\n",
              "        [  444.0822   ],\n",
              "        [ -756.63104  ],\n",
              "        [-1005.45245  ],\n",
              "        [  757.87067  ],\n",
              "        [  277.90515  ],\n",
              "        [ -364.4768   ],\n",
              "        [ -157.93668  ],\n",
              "        [ -294.11575  ],\n",
              "        [  359.34595  ],\n",
              "        [ -316.3711   ],\n",
              "        [  866.97546  ],\n",
              "        [ -349.84998  ],\n",
              "        [-1075.5588   ],\n",
              "        [  236.45183  ],\n",
              "        [ -432.44464  ],\n",
              "        [  866.8398   ],\n",
              "        [ -800.732    ],\n",
              "        [  831.72687  ],\n",
              "        [  520.9399   ],\n",
              "        [-1427.5104   ],\n",
              "        [ -920.4672   ],\n",
              "        [  204.38115  ],\n",
              "        [   88.66752  ],\n",
              "        [-1006.3653   ],\n",
              "        [  586.8085   ],\n",
              "        [  391.84714  ],\n",
              "        [ -301.29016  ],\n",
              "        [ 1387.3243   ],\n",
              "        [  203.08829  ],\n",
              "        [   -9.843465 ],\n",
              "        [   -6.4302564],\n",
              "        [ 1017.53455  ],\n",
              "        [ -418.44165  ],\n",
              "        [ -598.8431   ],\n",
              "        [  658.19617  ],\n",
              "        [  427.53928  ],\n",
              "        [  107.07856  ],\n",
              "        [-1452.1455   ],\n",
              "        [   76.23427  ],\n",
              "        [  192.63155  ],\n",
              "        [ -296.11075  ],\n",
              "        [-1242.8721   ],\n",
              "        [  198.32553  ],\n",
              "        [  -42.823734 ],\n",
              "        [ 1624.593    ],\n",
              "        [  337.6556   ],\n",
              "        [  807.1927   ],\n",
              "        [-2705.6946   ],\n",
              "        [ 2057.6614   ],\n",
              "        [  241.56355  ],\n",
              "        [  545.6734   ],\n",
              "        [-1614.3434   ],\n",
              "        [ 1862.1733   ],\n",
              "        [-1209.6406   ],\n",
              "        [-1146.2552   ],\n",
              "        [ -779.7251   ],\n",
              "        [ 1909.8682   ],\n",
              "        [ -615.3531   ],\n",
              "        [ -263.7684   ],\n",
              "        [  218.68839  ],\n",
              "        [ -177.29243  ],\n",
              "        [-1567.2783   ],\n",
              "        [  235.78247  ],\n",
              "        [ -295.09525  ],\n",
              "        [  447.16122  ],\n",
              "        [ -847.1397   ],\n",
              "        [  433.1114   ],\n",
              "        [ 2187.3142   ],\n",
              "        [ -122.29802  ],\n",
              "        [  104.30018  ],\n",
              "        [ 1596.3663   ],\n",
              "        [ -164.94087  ],\n",
              "        [-1071.4257   ],\n",
              "        [ -596.2581   ],\n",
              "        [  485.98984  ],\n",
              "        [-1381.7583   ],\n",
              "        [  351.83853  ],\n",
              "        [ 1082.3286   ],\n",
              "        [ -249.53351  ],\n",
              "        [  472.67688  ],\n",
              "        [-1206.7952   ],\n",
              "        [   -4.8302283],\n",
              "        [  -81.41733  ],\n",
              "        [ -341.8806   ],\n",
              "        [  327.44016  ],\n",
              "        [  335.32413  ]], dtype=float32)>,\n",
              " (<tf.Tensor: shape=(), dtype=float64, numpy=181.4261597244318>,\n",
              "  <tf.Tensor: shape=(), dtype=float64, numpy=-4.353799311344076>)]"
            ]
          },
          "metadata": {
            "tags": []
          },
          "execution_count": 27
        }
      ]
    },
    {
      "cell_type": "code",
      "metadata": {
        "colab": {
          "base_uri": "https://localhost:8080/"
        },
        "id": "B3A-qf8FNo6c",
        "outputId": "268edd49-16dc-43b2-c0e5-5cc300b0b57c"
      },
      "source": [
        "marg_ll"
      ],
      "execution_count": null,
      "outputs": [
        {
          "output_type": "execute_result",
          "data": {
            "text/plain": [
              "[<tf.Tensor: shape=(1, 1), dtype=float32, numpy=array([[9103780.]], dtype=float32)>,\n",
              " 278.0638427734375,\n",
              " 156.47727966308594,\n",
              " 156.25267028808594,\n",
              " 156.25267028808594,\n",
              " 156.25267028808594,\n",
              " 156.25267028808594,\n",
              " 156.25267028808594,\n",
              " 156.25267028808594,\n",
              " 156.25267028808594,\n",
              " 156.25267028808594]"
            ]
          },
          "metadata": {
            "tags": []
          },
          "execution_count": 22
        }
      ]
    },
    {
      "cell_type": "code",
      "metadata": {
        "id": "f861gh6Nzlgp"
      },
      "source": [
        "K = tf.cast(k(x_grid), tf.float32)\n",
        "f = tf.Variable(f)\n",
        "hess_diag = compute_hess_vec_obs_ll(f, y)"
      ],
      "execution_count": null,
      "outputs": []
    },
    {
      "cell_type": "code",
      "metadata": {
        "id": "pY17HkBffGXT"
      },
      "source": [
        "x_grid_tf = tf.constant(x_grid, dtype=tf.float64)\n",
        "K = tf.cast(k(x_grid_tf), dtype=tf.float32)"
      ],
      "execution_count": null,
      "outputs": []
    },
    {
      "cell_type": "code",
      "metadata": {
        "colab": {
          "base_uri": "https://localhost:8080/"
        },
        "id": "sWQD-QrBeW4G",
        "outputId": "e36ee86b-5ed0-4473-ab03-c4377801b0e4"
      },
      "source": [
        "k.trainable_variables"
      ],
      "execution_count": null,
      "outputs": [
        {
          "output_type": "execute_result",
          "data": {
            "text/plain": [
              "(<tf.Variable 'Variable:0' shape=() dtype=float64, numpy=14.669790419156977>,\n",
              " <tf.Variable 'Variable:0' shape=() dtype=float64, numpy=-81.9588310210035>)"
            ]
          },
          "metadata": {
            "tags": []
          },
          "execution_count": 42
        }
      ]
    },
    {
      "cell_type": "code",
      "metadata": {
        "colab": {
          "base_uri": "https://localhost:8080/"
        },
        "id": "UEJYBZlwA7KP",
        "outputId": "0147d508-2d73-4f06-a543-7f588dd0d86c"
      },
      "source": [
        "compute_marginal_ll(f, y, K, hess_diag)"
      ],
      "execution_count": null,
      "outputs": [
        {
          "output_type": "execute_result",
          "data": {
            "text/plain": [
              "<tf.Tensor: shape=(1, 1), dtype=float32, numpy=array([[-292.66058]], dtype=float32)>"
            ]
          },
          "metadata": {
            "tags": []
          },
          "execution_count": 28
        }
      ]
    },
    {
      "cell_type": "code",
      "metadata": {
        "colab": {
          "base_uri": "https://localhost:8080/"
        },
        "id": "lwGncE9HHIRr",
        "outputId": "56b93e43-fb14-413f-bfaa-61eccb2da4c3"
      },
      "source": [
        "### Optimize posterior\n",
        "from gpflow.optimizers import NaturalGradient\n",
        "from gpflow.optimizers import Scipy\n",
        "\n",
        "opt = Scipy()\n",
        "\n",
        "neg_post = []\n",
        "marg_ll = []\n",
        "\n",
        "x_grid_tf = tf.constant(x_grid, dtype=tf.float64)\n",
        "K = tf.cast(k(x_grid_tf), dtype=tf.float32)\n",
        "\n",
        "for i in range(10):\n",
        "  opt_res = opt.minimize(lambda: -gpc_posterior(f, y, K), variables=[f])\n",
        "  neg_post.append(opt_res.fun[0, 0])\n",
        "  \n",
        "  hess_diag = compute_hess_vec_obs_ll(f, y)\n",
        "\n",
        "  opt_res = opt.minimize(\n",
        "      lambda: -compute_marginal_ll(f, y, tf.cast(k(x_grid), tf.float32), hess_diag), \n",
        "      variables=k.trainable_variables)\n",
        "  marg_ll.append(opt_res.fun[0, 0])\n",
        "  print(i, 'mll', opt_res.fun[0,0])"
      ],
      "execution_count": null,
      "outputs": [
        {
          "output_type": "stream",
          "text": [
            "WARNING:tensorflow:5 out of the last 30 calls to <function Scipy.eval_func.<locals>._tf_eval at 0x7f26e32b1b90> triggered tf.function retracing. Tracing is expensive and the excessive number of tracings could be due to (1) creating @tf.function repeatedly in a loop, (2) passing tensors with different shapes, (3) passing Python objects instead of tensors. For (1), please define your @tf.function outside of the loop. For (2), @tf.function has experimental_relax_shapes=True option that relaxes argument shapes that can avoid unnecessary retracing. For (3), please refer to https://www.tensorflow.org/guide/function#controlling_retracing and https://www.tensorflow.org/api_docs/python/tf/function for  more details.\n",
            "0 mll 138.6294403076172\n",
            "WARNING:tensorflow:6 out of the last 31 calls to <function Scipy.eval_func.<locals>._tf_eval at 0x7f26e32b1b90> triggered tf.function retracing. Tracing is expensive and the excessive number of tracings could be due to (1) creating @tf.function repeatedly in a loop, (2) passing tensors with different shapes, (3) passing Python objects instead of tensors. For (1), please define your @tf.function outside of the loop. For (2), @tf.function has experimental_relax_shapes=True option that relaxes argument shapes that can avoid unnecessary retracing. For (3), please refer to https://www.tensorflow.org/guide/function#controlling_retracing and https://www.tensorflow.org/api_docs/python/tf/function for  more details.\n",
            "1 mll 138.6294403076172\n",
            "2 mll 138.6294403076172\n",
            "3 mll 138.6294403076172\n",
            "4 mll 138.6294403076172\n",
            "5 mll 138.6294403076172\n",
            "6 mll 138.6294403076172\n",
            "7 mll 138.6294403076172\n",
            "8 mll 138.6294403076172\n",
            "9 mll 138.6294403076172\n"
          ],
          "name": "stdout"
        }
      ]
    },
    {
      "cell_type": "code",
      "metadata": {
        "colab": {
          "base_uri": "https://localhost:8080/"
        },
        "id": "E8t2kVhBFxot",
        "outputId": "c48f45da-6f3f-4988-9c34-37ad2925a4cf"
      },
      "source": [
        "neg_post"
      ],
      "execution_count": null,
      "outputs": [
        {
          "output_type": "execute_result",
          "data": {
            "text/plain": [
              "[321.958984375,\n",
              " 321.958984375,\n",
              " 321.958984375,\n",
              " 321.958984375,\n",
              " 321.958984375,\n",
              " 321.958984375,\n",
              " 321.958984375,\n",
              " 321.958984375,\n",
              " 321.958984375,\n",
              " 321.958984375]"
            ]
          },
          "metadata": {
            "tags": []
          },
          "execution_count": 47
        }
      ]
    },
    {
      "cell_type": "code",
      "metadata": {
        "colab": {
          "base_uri": "https://localhost:8080/"
        },
        "id": "sq4--VPGEup4",
        "outputId": "65e20ee6-668f-4781-9fe4-0d34fb6f5d89"
      },
      "source": [
        "### optimize with custom training loop\n",
        "import tensorflow.keras as tfk\n",
        "\n",
        "opt_post = tfk.optimizers.Adam()\n",
        "for i in range(10):\n",
        "  with tf.GradientTape() as tape:\n",
        "    ngpc = -gpc_posterior(f, y, K)\n",
        "  \n",
        "  grads = tape.gradient(ngpc, [f])\n",
        "  opt_post.apply_gradients(zip(grads, [f]))\n",
        "\n",
        "  print(i, ngpc)"
      ],
      "execution_count": null,
      "outputs": [
        {
          "output_type": "stream",
          "text": [
            "0 tf.Tensor([[nan]], shape=(1, 1), dtype=float32)\n",
            "1 tf.Tensor([[nan]], shape=(1, 1), dtype=float32)\n",
            "2 tf.Tensor([[nan]], shape=(1, 1), dtype=float32)\n",
            "3 tf.Tensor([[nan]], shape=(1, 1), dtype=float32)\n",
            "4 tf.Tensor([[nan]], shape=(1, 1), dtype=float32)\n",
            "5 tf.Tensor([[nan]], shape=(1, 1), dtype=float32)\n",
            "6 tf.Tensor([[nan]], shape=(1, 1), dtype=float32)\n",
            "7 tf.Tensor([[nan]], shape=(1, 1), dtype=float32)\n",
            "8 tf.Tensor([[nan]], shape=(1, 1), dtype=float32)\n",
            "9 tf.Tensor([[nan]], shape=(1, 1), dtype=float32)\n"
          ],
          "name": "stdout"
        }
      ]
    },
    {
      "cell_type": "code",
      "metadata": {
        "colab": {
          "base_uri": "https://localhost:8080/"
        },
        "id": "0h6afZWyg2Eg",
        "outputId": "1b158996-08b9-4eb5-958e-7fb312587c00"
      },
      "source": [
        "opt.minimize(\n",
        "    lambda: -compute_marginal_ll(f, y, tf.cast(k(x_grid), tf.float32), hess_diag), \n",
        "    variables=k.trainable_variables)"
      ],
      "execution_count": null,
      "outputs": [
        {
          "output_type": "execute_result",
          "data": {
            "text/plain": [
              "      fun: array([[278.06384277]])\n",
              " hess_inv: <2x2 LbfgsInvHessProduct with dtype=float64>\n",
              "      jac: array([  17.49926258, -103.72166781])\n",
              "  message: b'CONVERGENCE: REL_REDUCTION_OF_F_<=_FACTR*EPSMCH'\n",
              "     nfev: 21\n",
              "      nit: 4\n",
              "   status: 0\n",
              "  success: True\n",
              "        x: array([0.52897115, 1.85666415])"
            ]
          },
          "metadata": {
            "tags": []
          },
          "execution_count": 30
        }
      ]
    },
    {
      "cell_type": "code",
      "metadata": {
        "colab": {
          "base_uri": "https://localhost:8080/"
        },
        "id": "QQAR4-LRiqRn",
        "outputId": "406529c2-60d7-4f67-cfdf-9f3b4cbe7896"
      },
      "source": [
        "with tf.GradientTape() as tape:\n",
        "  K = tf.cast(k(x_grid), tf.float32)\n",
        "  mll = compute_marginal_ll(f, y, K, hess_diag)\n",
        "\n",
        "tape.gradient(mll, k.trainable_variables)"
      ],
      "execution_count": null,
      "outputs": [
        {
          "output_type": "execute_result",
          "data": {
            "text/plain": [
              "(<tf.Tensor: shape=(), dtype=float64, numpy=-2653.19322039523>,\n",
              " <tf.Tensor: shape=(), dtype=float64, numpy=132.7010788219566>)"
            ]
          },
          "metadata": {
            "tags": []
          },
          "execution_count": 66
        }
      ]
    },
    {
      "cell_type": "code",
      "metadata": {
        "colab": {
          "base_uri": "https://localhost:8080/"
        },
        "id": "eEdUNXKDjdip",
        "outputId": "f7dbe214-b990-43db-82dc-8940ec78e066"
      },
      "source": [
        "k.trainable_variables"
      ],
      "execution_count": null,
      "outputs": [
        {
          "output_type": "execute_result",
          "data": {
            "text/plain": [
              "(<tf.Variable 'Variable:0' shape=() dtype=float64, numpy=0.5413248546129181>,\n",
              " <tf.Variable 'Variable:0' shape=() dtype=float64, numpy=1.854586542131141>)"
            ]
          },
          "metadata": {
            "tags": []
          },
          "execution_count": 65
        }
      ]
    },
    {
      "cell_type": "code",
      "metadata": {
        "colab": {
          "base_uri": "https://localhost:8080/"
        },
        "id": "42aZ8LW3jWeL",
        "outputId": "97872233-9dc6-4e21-d41f-9c4bd4145b35"
      },
      "source": [
        "k.trainable_parameters"
      ],
      "execution_count": null,
      "outputs": [
        {
          "output_type": "execute_result",
          "data": {
            "text/plain": [
              "(<Parameter: dtype=float64, shape=[], fn=\"softplus\", numpy=1.0>,\n",
              " <Parameter: dtype=float64, shape=[], fn=\"softplus\", numpy=2.0>)"
            ]
          },
          "metadata": {
            "tags": []
          },
          "execution_count": 62
        }
      ]
    },
    {
      "cell_type": "code",
      "metadata": {
        "colab": {
          "base_uri": "https://localhost:8080/"
        },
        "id": "0QfCyYDRhWDW",
        "outputId": "9e94a5fb-b58c-48ac-9d6c-affe2bfbe119"
      },
      "source": [
        "k.trainable_variables"
      ],
      "execution_count": null,
      "outputs": [
        {
          "output_type": "execute_result",
          "data": {
            "text/plain": [
              "<tf.Variable 'Variable:0' shape=() dtype=float64, numpy=0.5413248546129181>"
            ]
          },
          "metadata": {
            "tags": []
          },
          "execution_count": 58
        }
      ]
    },
    {
      "cell_type": "code",
      "metadata": {
        "colab": {
          "base_uri": "https://localhost:8080/"
        },
        "id": "ixxcml9Pg2zj",
        "outputId": "2c9e6e23-8eb6-4a90-bb42-91260aca071c"
      },
      "source": [
        "ttt = lambda: compute_marginal_ll(f, y, K, hess_diag)\n",
        "ttt()"
      ],
      "execution_count": null,
      "outputs": [
        {
          "output_type": "execute_result",
          "data": {
            "text/plain": [
              "<tf.Tensor: shape=(1, 1), dtype=float32, numpy=array([[-292.66058]], dtype=float32)>"
            ]
          },
          "metadata": {
            "tags": []
          },
          "execution_count": 53
        }
      ]
    },
    {
      "cell_type": "code",
      "metadata": {
        "colab": {
          "base_uri": "https://localhost:8080/"
        },
        "id": "iijsqc5HhBFD",
        "outputId": "e33ec276-af51-4989-9b5d-be6a0048e5e6"
      },
      "source": [
        "gpc_posterior(f, y, K)"
      ],
      "execution_count": null,
      "outputs": [
        {
          "output_type": "execute_result",
          "data": {
            "text/plain": [
              "<tf.Tensor: shape=(1, 1), dtype=float32, numpy=array([[-470.11688]], dtype=float32)>"
            ]
          },
          "metadata": {
            "tags": []
          },
          "execution_count": 54
        }
      ]
    },
    {
      "cell_type": "code",
      "metadata": {
        "colab": {
          "base_uri": "https://localhost:8080/"
        },
        "id": "t_Nt78yrdZ3k",
        "outputId": "61e238d2-e591-4a23-b583-09e13af96c84"
      },
      "source": [
        "hess_diag = compute_hess_vec_obs_ll(f, y)\n",
        "compute_marginal_ll(f, y, K, hess_diag)"
      ],
      "execution_count": null,
      "outputs": [
        {
          "output_type": "execute_result",
          "data": {
            "text/plain": [
              "<tf.Tensor: shape=(1, 1), dtype=float32, numpy=array([[-292.66058]], dtype=float32)>"
            ]
          },
          "metadata": {
            "tags": []
          },
          "execution_count": 38
        }
      ]
    },
    {
      "cell_type": "code",
      "metadata": {
        "colab": {
          "base_uri": "https://localhost:8080/"
        },
        "id": "nbOI-fb7dkL6",
        "outputId": "6fe04377-6e2a-4be2-a92f-cdc854c092f9"
      },
      "source": [
        "tf.sqrt(hess_diag)"
      ],
      "execution_count": null,
      "outputs": [
        {
          "output_type": "execute_result",
          "data": {
            "text/plain": [
              "<tf.Tensor: shape=(200,), dtype=float32, numpy=\n",
              "array([nan, nan, nan, nan, nan, nan, nan, nan, nan, nan, nan, nan, nan,\n",
              "       nan, nan, nan, nan, nan, nan, nan, nan, nan, nan, nan, nan, nan,\n",
              "       nan, nan, nan, nan, nan, nan, nan, nan, nan, nan, nan, nan, nan,\n",
              "       nan, nan, nan, nan, nan, nan, nan, nan, nan, nan, nan, nan, nan,\n",
              "       nan, nan, nan, nan, nan, nan, nan, nan, nan, nan, nan, nan, nan,\n",
              "       nan, nan, nan, nan, nan, nan, nan, nan, nan, nan, nan, nan, nan,\n",
              "       nan, nan, nan, nan, nan, nan, nan, nan, nan, nan, nan, nan, nan,\n",
              "       nan, nan, nan, nan, nan, nan, nan, nan, nan, nan, nan, nan, nan,\n",
              "       nan, nan, nan, nan, nan, nan, nan, nan, nan, nan, nan, nan, nan,\n",
              "       nan, nan, nan, nan, nan, nan, nan, nan, nan, nan, nan, nan, nan,\n",
              "       nan, nan, nan, nan, nan, nan, nan, nan, nan, nan, nan, nan, nan,\n",
              "       nan, nan, nan, nan, nan, nan, nan, nan, nan, nan, nan, nan, nan,\n",
              "       nan, nan, nan, nan, nan, nan, nan, nan, nan, nan, nan, nan, nan,\n",
              "       nan, nan, nan, nan, nan, nan, nan, nan, nan, nan, nan, nan, nan,\n",
              "       nan, nan, nan, nan, nan, nan, nan, nan, nan, nan, nan, nan, nan,\n",
              "       nan, nan, nan, nan, nan], dtype=float32)>"
            ]
          },
          "metadata": {
            "tags": []
          },
          "execution_count": 36
        }
      ]
    },
    {
      "cell_type": "code",
      "metadata": {
        "id": "UaIQGwRSBG3d"
      },
      "source": [
        "w = hess_diag\n",
        "sqrt_w = tf.sqrt(w)\n",
        "sqrt_w_t = tf.reshape(sqrt_w, shape=(-1, 1))\n",
        "\n",
        "K_sqrt_w = tf.multiply(K, sqrt_w)\n",
        "B = tf.eye(K.shape[0]) + tf.multiply(sqrt_w_t, K_sqrt_w)\n",
        "chol_B = tf.linalg.cholesky(B)\n",
        "\n",
        "chol_K = tf.linalg.cholesky(K + 10e-6*tf.eye(K.shape[0]))\n",
        "inv_chol_K_f = tf.linalg.cholesky_solve(chol_K, f)\n",
        "\n",
        "mll = (\n",
        "    - 0.5*tf.tensordot(inv_chol_K_f, inv_chol_K_f, axes=(0, 0))\n",
        "    + tf.reduce_sum(obs_dist.log_prob(f, y))\n",
        "    - tf.reduce_sum(tf.math.log(tf.linalg.diag_part(chol_B)))\n",
        ")"
      ],
      "execution_count": null,
      "outputs": []
    },
    {
      "cell_type": "code",
      "metadata": {
        "colab": {
          "base_uri": "https://localhost:8080/"
        },
        "id": "UmETVHqUzir3",
        "outputId": "e8394e46-b735-40f0-a516-1b129f12f5cd"
      },
      "source": [
        "\n",
        "\n",
        "hess_diag *= -1\n",
        "w = hess_diag\n",
        "sqrt_w = tf.sqrt(w)\n",
        "\n",
        "K_sqrt_w = tf.multiply(K, sqrt_w)\n",
        "K_sqrt_w\n",
        "\n",
        "transp_sqrt_w = tf.reshape(sqrt_w, shape=(-1, 1))\n",
        "B = tf.eye(K.shape[0]) + tf.multiply(transp_sqrt_w, K_sqrt_w)\n",
        "chol_B = tf.linalg.cholesky(B)\n",
        "transp_K_sqrt_w = tf.transpose(K_sqrt_w)\n",
        "inv_sqrt_B_sqrt_w_K = tf.linalg.cholesky_solve(chol_B, transp_K_sqrt_w)\n",
        "\n",
        "cov_mat = K - tf.matmul(\n",
        "    inv_sqrt_B_sqrt_w_K, inv_sqrt_B_sqrt_w_K, transpose_a=True)\n",
        "cov_mat"
      ],
      "execution_count": null,
      "outputs": [
        {
          "output_type": "execute_result",
          "data": {
            "text/plain": [
              "<tf.Tensor: shape=(200, 200), dtype=float32, numpy=\n",
              "array([[1.8167303e+00, 1.8189354e+00, 1.8195785e+00, ..., 4.9037661e-04,\n",
              "        5.4430944e-04, 5.9513567e-04],\n",
              "       [1.8189354e+00, 1.8227317e+00, 1.8249587e+00, ..., 4.2973517e-04,\n",
              "        4.8363028e-04, 5.3472619e-04],\n",
              "       [1.8195785e+00, 1.8249587e+00, 1.8287665e+00, ..., 3.6701289e-04,\n",
              "        4.2054118e-04, 4.7159131e-04],\n",
              "       ...,\n",
              "       [4.9037673e-04, 4.2973514e-04, 3.6701292e-04, ..., 1.7724513e+00,\n",
              "        1.7689170e+00, 1.7638757e+00],\n",
              "       [5.4430938e-04, 4.8363014e-04, 4.2054104e-04, ..., 1.7689170e+00,\n",
              "        1.7669816e+00, 1.7635427e+00],\n",
              "       [5.9513538e-04, 5.3472607e-04, 4.7159128e-04, ..., 1.7638757e+00,\n",
              "        1.7635427e+00, 1.7617131e+00]], dtype=float32)>"
            ]
          },
          "metadata": {
            "tags": []
          },
          "execution_count": 22
        }
      ]
    },
    {
      "cell_type": "code",
      "metadata": {
        "colab": {
          "base_uri": "https://localhost:8080/"
        },
        "id": "RV7WWhI_4lGd",
        "outputId": "320597d9-5c9c-4a67-ac44-44289d5a5992"
      },
      "source": [
        "compute_posterior_covariance(K, hess_diag)"
      ],
      "execution_count": null,
      "outputs": [
        {
          "output_type": "execute_result",
          "data": {
            "text/plain": [
              "<tf.Tensor: shape=(200, 200), dtype=float32, numpy=\n",
              "array([[1.8167303e+00, 1.8189354e+00, 1.8195785e+00, ..., 4.9037661e-04,\n",
              "        5.4430944e-04, 5.9513567e-04],\n",
              "       [1.8189354e+00, 1.8227317e+00, 1.8249587e+00, ..., 4.2973517e-04,\n",
              "        4.8363028e-04, 5.3472619e-04],\n",
              "       [1.8195785e+00, 1.8249587e+00, 1.8287665e+00, ..., 3.6701289e-04,\n",
              "        4.2054118e-04, 4.7159131e-04],\n",
              "       ...,\n",
              "       [4.9037673e-04, 4.2973514e-04, 3.6701292e-04, ..., 1.7724513e+00,\n",
              "        1.7689170e+00, 1.7638757e+00],\n",
              "       [5.4430938e-04, 4.8363014e-04, 4.2054104e-04, ..., 1.7689170e+00,\n",
              "        1.7669816e+00, 1.7635427e+00],\n",
              "       [5.9513538e-04, 5.3472607e-04, 4.7159128e-04, ..., 1.7638757e+00,\n",
              "        1.7635427e+00, 1.7617131e+00]], dtype=float32)>"
            ]
          },
          "metadata": {
            "tags": []
          },
          "execution_count": 23
        }
      ]
    },
    {
      "cell_type": "code",
      "metadata": {
        "colab": {
          "base_uri": "https://localhost:8080/"
        },
        "id": "LjLg3Twc0BLL",
        "outputId": "77c4d919-96fe-4c61-a706-c5bb30705518"
      },
      "source": [
        "tmat = tf.reshape(tf.range(25), shape=(5,5))\n",
        "tvec = tf.range(5)\n",
        "\n",
        "tf.transpose(tf.multiply(tmat, tvec))"
      ],
      "execution_count": null,
      "outputs": [
        {
          "output_type": "execute_result",
          "data": {
            "text/plain": [
              "<tf.Tensor: shape=(5, 5), dtype=int32, numpy=\n",
              "array([[ 0,  0,  0,  0,  0],\n",
              "       [ 1,  6, 11, 16, 21],\n",
              "       [ 4, 14, 24, 34, 44],\n",
              "       [ 9, 24, 39, 54, 69],\n",
              "       [16, 36, 56, 76, 96]], dtype=int32)>"
            ]
          },
          "metadata": {
            "tags": []
          },
          "execution_count": 50
        }
      ]
    },
    {
      "cell_type": "code",
      "metadata": {
        "colab": {
          "base_uri": "https://localhost:8080/"
        },
        "id": "EFjCx5TN0dpl",
        "outputId": "bc45c0bd-b8d7-4ac6-8630-5bafe1285c64"
      },
      "source": [
        "tvec"
      ],
      "execution_count": null,
      "outputs": [
        {
          "output_type": "execute_result",
          "data": {
            "text/plain": [
              "<tf.Tensor: shape=(5,), dtype=int32, numpy=array([0, 1, 2, 3, 4], dtype=int32)>"
            ]
          },
          "metadata": {
            "tags": []
          },
          "execution_count": 38
        }
      ]
    },
    {
      "cell_type": "code",
      "metadata": {
        "id": "b6YcPiRBzYq1"
      },
      "source": [
        "f = tf.Variable(f)"
      ],
      "execution_count": null,
      "outputs": []
    },
    {
      "cell_type": "code",
      "metadata": {
        "colab": {
          "base_uri": "https://localhost:8080/"
        },
        "id": "yPWCWmKarC1d",
        "outputId": "58134db9-e627-4f28-ff8b-c82d8937b64c"
      },
      "source": [
        "%%timeit\n",
        "with tf.GradientTape() as tape1:\n",
        "  with tf.GradientTape() as tape2:\n",
        "    obs_ll = tf.reduce_sum(obs_dist.log_prob(f, y))\n",
        "  grad_obs_ll = tape2.gradient(obs_ll, f)\n",
        "\n",
        "hess = tape1.jacobian(grad_obs_ll, f)\n",
        "tf.squeeze(hess)"
      ],
      "execution_count": null,
      "outputs": [
        {
          "output_type": "stream",
          "text": [
            "WARNING:tensorflow:6 out of the last 6 calls to <function pfor.<locals>.f at 0x7fa8dafe44d0> triggered tf.function retracing. Tracing is expensive and the excessive number of tracings could be due to (1) creating @tf.function repeatedly in a loop, (2) passing tensors with different shapes, (3) passing Python objects instead of tensors. For (1), please define your @tf.function outside of the loop. For (2), @tf.function has experimental_relax_shapes=True option that relaxes argument shapes that can avoid unnecessary retracing. For (3), please refer to https://www.tensorflow.org/guide/function#controlling_retracing and https://www.tensorflow.org/api_docs/python/tf/function for  more details.\n",
            "1 loop, best of 5: 386 ms per loop\n"
          ],
          "name": "stdout"
        }
      ]
    },
    {
      "cell_type": "code",
      "metadata": {
        "colab": {
          "base_uri": "https://localhost:8080/"
        },
        "id": "7wXTcqISx5-Z",
        "outputId": "9aeeddab-dca8-4835-c4df-09ba0890d94b"
      },
      "source": [
        "%%timeit\n",
        "prod_vector = tf.repeat(1., repeats=f.shape[0])\n",
        "prod_vector = tf.reshape(prod_vector, shape=(-1,1))\n",
        "\n",
        "with tf.autodiff.ForwardAccumulator(\n",
        "    f, prod_vector) as acc:\n",
        "  with tf.GradientTape() as tape:\n",
        "    obs_ll = tf.reduce_sum(obs_dist.log_prob(f, y))\n",
        "  grad_obs_ll = tape.gradient(obs_ll, f)\n",
        "\n",
        "tf.squeeze(acc.jvp(grad_obs_ll))"
      ],
      "execution_count": null,
      "outputs": [
        {
          "output_type": "stream",
          "text": [
            "100 loops, best of 5: 15.7 ms per loop\n"
          ],
          "name": "stdout"
        }
      ]
    },
    {
      "cell_type": "code",
      "metadata": {
        "colab": {
          "base_uri": "https://localhost:8080/"
        },
        "id": "XeBn319nyyEr",
        "outputId": "7ae1faa2-1058-46c2-938f-147a6d0cdde4"
      },
      "source": [
        "tf.reduce_sum(obs_dist.log_prob(f, y))"
      ],
      "execution_count": null,
      "outputs": [
        {
          "output_type": "execute_result",
          "data": {
            "text/plain": [
              "<tf.Tensor: shape=(), dtype=float32, numpy=-129.47101>"
            ]
          },
          "metadata": {
            "tags": []
          },
          "execution_count": 45
        }
      ]
    },
    {
      "cell_type": "code",
      "metadata": {
        "colab": {
          "base_uri": "https://localhost:8080/"
        },
        "id": "w_Tr-Wg8uXtE",
        "outputId": "6c10d257-215c-449f-a232-22d3f440f17c"
      },
      "source": [
        "tf.repeat(1, repeats=10)"
      ],
      "execution_count": null,
      "outputs": [
        {
          "output_type": "execute_result",
          "data": {
            "text/plain": [
              "<tf.Tensor: shape=(10,), dtype=int32, numpy=array([1, 1, 1, 1, 1, 1, 1, 1, 1, 1], dtype=int32)>"
            ]
          },
          "metadata": {
            "tags": []
          },
          "execution_count": 40
        }
      ]
    },
    {
      "cell_type": "code",
      "metadata": {
        "colab": {
          "base_uri": "https://localhost:8080/",
          "height": 163
        },
        "id": "zstuHbu7wvQL",
        "outputId": "2fd8272e-e270-4cb0-f8a0-963c949f8079"
      },
      "source": [
        "tf._hessian_vector_product"
      ],
      "execution_count": null,
      "outputs": [
        {
          "output_type": "error",
          "ename": "AttributeError",
          "evalue": "ignored",
          "traceback": [
            "\u001b[0;31m---------------------------------------------------------------------------\u001b[0m",
            "\u001b[0;31mAttributeError\u001b[0m                            Traceback (most recent call last)",
            "\u001b[0;32m<ipython-input-39-9f06c825f13e>\u001b[0m in \u001b[0;36m<module>\u001b[0;34m()\u001b[0m\n\u001b[0;32m----> 1\u001b[0;31m \u001b[0mtf\u001b[0m\u001b[0;34m.\u001b[0m\u001b[0m_hessian_vector_product\u001b[0m\u001b[0;34m\u001b[0m\u001b[0;34m\u001b[0m\u001b[0m\n\u001b[0m",
            "\u001b[0;31mAttributeError\u001b[0m: module 'tensorflow' has no attribute '_hessian_vector_product'"
          ]
        }
      ]
    },
    {
      "cell_type": "code",
      "metadata": {
        "colab": {
          "base_uri": "https://localhost:8080/"
        },
        "id": "v1oFWPTEtAAN",
        "outputId": "ecb7bc56-e5f6-4926-fb18-7eaa76efd0e2"
      },
      "source": [
        "grad_obs_ll"
      ],
      "execution_count": null,
      "outputs": [
        {
          "output_type": "execute_result",
          "data": {
            "text/plain": [
              "[None]"
            ]
          },
          "metadata": {
            "tags": []
          },
          "execution_count": 35
        }
      ]
    },
    {
      "cell_type": "code",
      "metadata": {
        "colab": {
          "base_uri": "https://localhost:8080/"
        },
        "id": "yI0sA4RzssPH",
        "outputId": "bf0bde5b-afef-439c-bfa9-a112d83d288a"
      },
      "source": [
        "obs_ll"
      ],
      "execution_count": null,
      "outputs": [
        {
          "output_type": "execute_result",
          "data": {
            "text/plain": [
              "<tf.Tensor: shape=(), dtype=float32, numpy=-129.47101>"
            ]
          },
          "metadata": {
            "tags": []
          },
          "execution_count": 29
        }
      ]
    },
    {
      "cell_type": "code",
      "metadata": {
        "colab": {
          "base_uri": "https://localhost:8080/"
        },
        "id": "c4oEOH8crsmz",
        "outputId": "d4411d7c-41b9-40af-d9ab-c09aa62a8e52"
      },
      "source": [
        "grad_obs_ll"
      ],
      "execution_count": null,
      "outputs": [
        {
          "output_type": "execute_result",
          "data": {
            "text/plain": [
              "[None]"
            ]
          },
          "metadata": {
            "tags": []
          },
          "execution_count": 26
        }
      ]
    },
    {
      "cell_type": "code",
      "metadata": {
        "colab": {
          "base_uri": "https://localhost:8080/"
        },
        "id": "pa_jSNESna4Q",
        "outputId": "6d58812f-dc90-488e-b224-574d8e021cc6"
      },
      "source": [
        "gpc_posterior(f, y, tf.cast(K, tf.float32))"
      ],
      "execution_count": null,
      "outputs": [
        {
          "output_type": "execute_result",
          "data": {
            "text/plain": [
              "<tf.Tensor: shape=(1, 1), dtype=float32, numpy=array([[-9103958.]], dtype=float32)>"
            ]
          },
          "metadata": {
            "tags": []
          },
          "execution_count": 105
        }
      ]
    },
    {
      "cell_type": "code",
      "metadata": {
        "colab": {
          "base_uri": "https://localhost:8080/"
        },
        "id": "VJmnlEuesbVv",
        "outputId": "aebd6c36-d183-4197-e73f-dac7e1581488"
      },
      "source": [
        "obs_dist.log_prob(f, y)"
      ],
      "execution_count": null,
      "outputs": [
        {
          "output_type": "execute_result",
          "data": {
            "text/plain": [
              "<tf.Tensor: shape=(200,), dtype=float32, numpy=\n",
              "array([-0.93772006, -0.5092219 , -0.8989961 , -0.533438  , -0.87431836,\n",
              "       -0.5523362 , -0.84243006, -0.56793684, -0.8206742 , -0.8140894 ,\n",
              "       -0.798191  , -0.6046071 , -0.61081815, -0.7709777 , -0.62752324,\n",
              "       -0.63518834, -0.7462109 , -0.73832965, -0.728388  , -0.6683619 ,\n",
              "       -0.7095187 , -0.69622576, -0.6906727 , -0.7067026 , -0.7202057 ,\n",
              "       -0.6588998 , -0.6429888 , -0.63082623, -0.77332455, -0.6042218 ,\n",
              "       -0.5918742 , -0.57994306, -0.84317815, -0.86422664, -0.532597  ,\n",
              "       -0.9066441 , -0.50543815, -0.48990244, -0.9722576 , -0.45992732,\n",
              "       -0.44364214, -1.0489734 , -0.41811675, -0.40280136, -0.3906304 ,\n",
              "       -0.379877  , -0.3655076 , -0.35607916, -1.2303593 , -0.3366064 ,\n",
              "       -1.2781907 , -1.3029952 , -0.3103309 , -0.30257696, -0.29691312,\n",
              "       -1.3840538 , -0.2828305 , -1.4116274 , -0.2742499 , -0.2698354 ,\n",
              "       -0.26658693, -0.26471165, -0.26221076, -0.2596569 , -1.4802988 ,\n",
              "       -1.4801102 , -0.2568904 , -0.2579598 , -0.2598993 , -0.25967684,\n",
              "       -1.4733075 , -1.4673985 , -0.2627875 , -1.46135   , -0.26645947,\n",
              "       -0.26942757, -0.27147254, -0.27541438, -1.4176931 , -1.408502  ,\n",
              "       -1.4001362 , -0.28500727, -1.3771775 , -0.29179704, -0.29581574,\n",
              "       -0.29764345, -1.3480484 , -0.30476263, -1.333437  , -1.3225014 ,\n",
              "       -0.31139877, -1.3091189 , -0.31734872, -0.3192749 , -1.2968915 ,\n",
              "       -1.2910447 , -1.2857178 , -0.3230031 , -1.2820777 , -0.32610682,\n",
              "       -1.2750703 , -0.3274658 , -1.2746086 , -0.32903853, -0.33118635,\n",
              "       -0.33064464, -0.3309641 , -0.33206055, -0.33361152, -0.33519354,\n",
              "       -0.3363054 , -0.33581254, -1.2489392 , -0.34180883, -0.34214073,\n",
              "       -1.2303768 , -1.2313447 , -0.3499222 , -0.35293344, -0.35615295,\n",
              "       -1.1968191 , -0.36405239, -1.1767863 , -1.1651043 , -0.37976867,\n",
              "       -0.3857893 , -0.39361697, -0.400673  , -1.0913892 , -0.4178323 ,\n",
              "       -1.0559199 , -0.43752408, -0.44761932, -0.99764836, -0.9774626 ,\n",
              "       -0.48482263, -0.93354535, -0.9112056 , -0.52911776, -0.5489323 ,\n",
              "       -0.56378716, -0.8159135 , -0.6100863 , -0.7642128 , -0.6525645 ,\n",
              "       -0.713006  , -0.6842268 , -0.6590792 , -0.6348626 , -0.6071286 ,\n",
              "       -0.5806896 , -0.85191804, -0.8829311 , -0.5099979 , -0.9518669 ,\n",
              "       -0.98997426, -1.0272382 , -1.0637276 , -0.40337825, -1.1454217 ,\n",
              "       -1.1819466 , -0.34790525, -1.2667766 , -0.31609517, -0.30132845,\n",
              "       -0.28862515, -0.27573442, -0.26341558, -0.252679  , -0.2421224 ,\n",
              "       -0.23281714, -0.22552997, -0.21765822, -0.21034765, -1.6892745 ,\n",
              "       -1.7151076 , -0.19367467, -0.18847041, -0.18580428, -0.18231392,\n",
              "       -0.18040268, -1.8088666 , -0.17756572, -0.17611025, -0.17546347,\n",
              "       -0.17671676, -0.17780751, -1.8139465 , -0.17958967, -0.18291764,\n",
              "       -0.18532881, -0.19008838, -1.7367934 , -0.19882879, -0.20369601,\n",
              "       -0.20928368, -0.21474226, -0.2199611 , -0.22924447, -0.2371456 ],\n",
              "      dtype=float32)>"
            ]
          },
          "metadata": {
            "tags": []
          },
          "execution_count": 103
        }
      ]
    },
    {
      "cell_type": "code",
      "metadata": {
        "id": "zaemC3G5kOE5"
      },
      "source": [
        "  pad_K = tf.cast(K, tf.float32) + 10e-6*tf.eye(K.shape[0])\n",
        "  chol_K = tf.linalg.cholesky(pad_K)\n",
        "  fK = tf.linalg.cholesky_solve(chol_K, f)\n",
        "  nobs = f.shape[0]\n",
        "\n",
        "  ll = (\n",
        "    obs_dist.log_prob(f, y)\n",
        "    - 0.5*tf.matmul(fK, fK, transpose_a=True)\n",
        "    - tf.math.log(tf.reduce_sum(tf.linalg.diag_part(chol_K)))\n",
        "    - 0.5*nobs*tf.math.log(2*PI)\n",
        "  )\n"
      ],
      "execution_count": null,
      "outputs": []
    },
    {
      "cell_type": "code",
      "metadata": {
        "colab": {
          "base_uri": "https://localhost:8080/"
        },
        "id": "t-D_vxI2rkJs",
        "outputId": "d61d101d-2b22-412f-baa0-4acb4d58fee2"
      },
      "source": [
        "obs_dist.log_prob(f, y).dtype"
      ],
      "execution_count": null,
      "outputs": [
        {
          "output_type": "execute_result",
          "data": {
            "text/plain": [
              "tf.float64"
            ]
          },
          "metadata": {
            "tags": []
          },
          "execution_count": 95
        }
      ]
    },
    {
      "cell_type": "code",
      "metadata": {
        "colab": {
          "base_uri": "https://localhost:8080/"
        },
        "id": "XJEa5c1erwGk",
        "outputId": "e9e5fc3d-71be-4327-aaa3-8d35883d81ab"
      },
      "source": [
        "y.dtype"
      ],
      "execution_count": null,
      "outputs": [
        {
          "output_type": "execute_result",
          "data": {
            "text/plain": [
              "dtype('int64')"
            ]
          },
          "metadata": {
            "tags": []
          },
          "execution_count": 96
        }
      ]
    },
    {
      "cell_type": "code",
      "metadata": {
        "colab": {
          "base_uri": "https://localhost:8080/"
        },
        "id": "TunNcLACpLea",
        "outputId": "a7034f4b-e6f7-4b1c-b370-bf3fa0492077"
      },
      "source": [
        "tf.matmul(fK, fK, transpose_a=True)"
      ],
      "execution_count": null,
      "outputs": [
        {
          "output_type": "execute_result",
          "data": {
            "text/plain": [
              "<tf.Tensor: shape=(1, 1), dtype=float32, numpy=array([[18207288.]], dtype=float32)>"
            ]
          },
          "metadata": {
            "tags": []
          },
          "execution_count": 69
        }
      ]
    },
    {
      "cell_type": "code",
      "metadata": {
        "colab": {
          "base_uri": "https://localhost:8080/"
        },
        "id": "So2smZPwpm_O",
        "outputId": "c8e05b1e-b3fd-4667-88c8-af7d6779ef36"
      },
      "source": [
        "tf.tensordot(fK, fK, axes=(0, 0))"
      ],
      "execution_count": null,
      "outputs": [
        {
          "output_type": "execute_result",
          "data": {
            "text/plain": [
              "<tf.Tensor: shape=(1, 1), dtype=float32, numpy=array([[18207288.]], dtype=float32)>"
            ]
          },
          "metadata": {
            "tags": []
          },
          "execution_count": 74
        }
      ]
    },
    {
      "cell_type": "code",
      "metadata": {
        "colab": {
          "base_uri": "https://localhost:8080/"
        },
        "id": "-9fFwKFUqa0F",
        "outputId": "4f07daf9-c11d-4f46-f9c9-2472507cc130"
      },
      "source": [
        "tf.math.log(tf.reduce_sum(tf.linalg.diag_part(chol_K)))"
      ],
      "execution_count": null,
      "outputs": [
        {
          "output_type": "execute_result",
          "data": {
            "text/plain": [
              "<tf.Tensor: shape=(), dtype=float32, numpy=0.84840196>"
            ]
          },
          "metadata": {
            "tags": []
          },
          "execution_count": 81
        }
      ]
    },
    {
      "cell_type": "code",
      "metadata": {
        "colab": {
          "base_uri": "https://localhost:8080/"
        },
        "id": "cNCqsmF0qc1M",
        "outputId": "b5e8ead0-7766-446a-b0d5-517743cae3dc"
      },
      "source": [
        "tf.linalg.diag_part(chol_K).shape"
      ],
      "execution_count": null,
      "outputs": [
        {
          "output_type": "execute_result",
          "data": {
            "text/plain": [
              "TensorShape([200])"
            ]
          },
          "metadata": {
            "tags": []
          },
          "execution_count": 80
        }
      ]
    },
    {
      "cell_type": "markdown",
      "metadata": {
        "id": "1N3nqKgsT-xe"
      },
      "source": [
        "### TP Binary Classification"
      ]
    },
    {
      "cell_type": "code",
      "metadata": {
        "id": "ORu0SRGUUCg4"
      },
      "source": [
        "# build the kernel and covariance matrix\n",
        "k = gpflow.kernels.Matern52(variance=20.0)\n",
        "x_grid = np.linspace(0, 6, 200).reshape(-1, 1)\n",
        "K = k(x_grid)\n",
        "\n",
        "# sample from a multivariate normal\n",
        "rng = np.random.RandomState(6)\n",
        "\n",
        "L = np.linalg.cholesky(K)\n",
        "f_grid = np.dot(L, rng.randn(200, 5))\n",
        "plt.plot(x_grid, f_grid, \"C0\", linewidth=1)\n",
        "_ = plt.plot(x_grid, f_grid[:, 1], \"C0\", linewidth=2)"
      ],
      "execution_count": null,
      "outputs": []
    },
    {
      "cell_type": "code",
      "metadata": {
        "id": "4qbfS1dDXZUZ"
      },
      "source": [
        "### Sample from TP\n",
        "# Based on https://journal.r-project.org/archive/2013/RJ-2013-033/RJ-2013-033.pdf\n",
        "nu = 5\n",
        "\n",
        "k = gpflow.kernels.Matern52(variance=20.0)\n",
        "x_grid = np.linspace(0, 6, 400).reshape(-1, 2)\n",
        "K = k(x_grid)\n",
        "\n",
        "# sample from a multivariate normal\n",
        "rng = np.random.RandomState(6)\n",
        "f_grid = np.dot(L, rng.randn(200, 5))\n",
        "\n",
        "L = np.linalg.cholesky(K)\n",
        "\n",
        "chi2 = tfd.Chi2(df=nu)\n",
        "samples_chi2 = chi2.sample(sample_shape=x_grid.shape[0])\n",
        "\n",
        "scaler = tf.sqrt(nu/samples_chi2)\n",
        "scaler = tf.reshape(scaler, shape=(-1,1))\n",
        "\n",
        "t_samples = tf.multiply(scaler, f_grid)\n"
      ],
      "execution_count": null,
      "outputs": []
    },
    {
      "cell_type": "code",
      "metadata": {
        "colab": {
          "base_uri": "https://localhost:8080/",
          "height": 571
        },
        "id": "No-ZtS-wZ0fu",
        "outputId": "5f291d78-b519-4941-ac5b-0b168d6eb61b"
      },
      "source": [
        "plt.plot(x_grid, f_grid, \"C0\", linewidth=1)\n",
        "_ = plt.plot(x_grid, f_grid[:, 1], \"C0\", linewidth=2)\n",
        "_ = plt.plot(x_grid, t_samples[:, 1], \"C1\", linewidth=2)\n",
        "_ = plt.plot(x_grid, t_samples, \"C1\", linewidth=1)"
      ],
      "execution_count": null,
      "outputs": [
        {
          "output_type": "stream",
          "text": [
            "/usr/local/lib/python3.7/dist-packages/ipykernel_launcher.py:1: MatplotlibDeprecationWarning: cycling among columns of inputs with non-matching shapes is deprecated.\n",
            "  \"\"\"Entry point for launching an IPython kernel.\n",
            "/usr/local/lib/python3.7/dist-packages/ipykernel_launcher.py:4: MatplotlibDeprecationWarning: cycling among columns of inputs with non-matching shapes is deprecated.\n",
            "  after removing the cwd from sys.path.\n"
          ],
          "name": "stderr"
        },
        {
          "output_type": "display_data",
          "data": {
            "image/png": "[encoded data removed]",
            "text/plain": [
              "<Figure size 864x576 with 1 Axes>"
            ]
          },
          "metadata": {
            "tags": [],
            "needs_background": "light"
          }
        }
      ]
    },
    {
      "cell_type": "code",
      "metadata": {
        "colab": {
          "base_uri": "https://localhost:8080/",
          "height": 554
        },
        "id": "X08XoCnZZdVm",
        "outputId": "9d353c73-ea57-4ede-85b1-8b2b034fb0fa"
      },
      "source": [
        "def invlink(f):\n",
        "    # By default, standard normal CDF is used as link function, but \n",
        "    # any other function can be used as well, just set invlink argument\n",
        "    # of Bernoulli()\n",
        "    return gpflow.likelihoods.Bernoulli().invlink(f).numpy()\n",
        "\n",
        "def student_invlink(f):\n",
        "    # By default, standard normal CDF is used as link function, but \n",
        "    # any other function can be used as well, just set invlink argument\n",
        "    # of Bernoulli()\n",
        "    return gpflow.likelihoods.Bernoulli(invlink=tf.math.sigmoid) \\\n",
        "                 .invlink(f).numpy()\n",
        "\n",
        "p_grid = student_invlink(t_samples)\n",
        "plt.plot(x_grid, p_grid, \"C2\", linewidth=1)\n",
        "_ = plt.plot(x_grid, p_grid[:, 1], \"C2\", linewidth=2)\n",
        "\n",
        "p_grid = invlink(f_grid)\n",
        "plt.plot(x_grid, p_grid, \"C0\", linewidth=1)\n",
        "_ = plt.plot(x_grid, p_grid[:, 1], \"C0\", linewidth=2)"
      ],
      "execution_count": null,
      "outputs": [
        {
          "output_type": "stream",
          "text": [
            "/usr/local/lib/python3.7/dist-packages/ipykernel_launcher.py:14: MatplotlibDeprecationWarning: cycling among columns of inputs with non-matching shapes is deprecated.\n",
            "  \n",
            "/usr/local/lib/python3.7/dist-packages/ipykernel_launcher.py:18: MatplotlibDeprecationWarning: cycling among columns of inputs with non-matching shapes is deprecated.\n"
          ],
          "name": "stderr"
        },
        {
          "output_type": "display_data",
          "data": {
            "image/png": "[encoded data removed]",
            "text/plain": [
              "<Figure size 864x576 with 1 Axes>"
            ]
          },
          "metadata": {
            "tags": [],
            "needs_background": "light"
          }
        }
      ]
    },
    {
      "cell_type": "code",
      "metadata": {
        "id": "yzveQ2_-ba_Y"
      },
      "source": [
        "tf."
      ],
      "execution_count": null,
      "outputs": []
    },
    {
      "cell_type": "code",
      "metadata": {
        "colab": {
          "base_uri": "https://localhost:8080/",
          "height": 221
        },
        "id": "IGCm5fn9Y8mP",
        "outputId": "832fd0c7-8f9a-4a6f-8b91-04a7349ff838"
      },
      "source": [
        "tf.multiply(scaler, x_grid)"
      ],
      "execution_count": null,
      "outputs": [
        {
          "output_type": "error",
          "ename": "InvalidArgumentError",
          "evalue": "ignored",
          "traceback": [
            "\u001b[0;31m---------------------------------------------------------------------------\u001b[0m",
            "\u001b[0;31mInvalidArgumentError\u001b[0m                      Traceback (most recent call last)",
            "\u001b[0;32m<ipython-input-22-01addcb92452>\u001b[0m in \u001b[0;36m<module>\u001b[0;34m()\u001b[0m\n\u001b[0;32m----> 1\u001b[0;31m \u001b[0mtf\u001b[0m\u001b[0;34m.\u001b[0m\u001b[0mmultiply\u001b[0m\u001b[0;34m(\u001b[0m\u001b[0mscaler\u001b[0m\u001b[0;34m,\u001b[0m \u001b[0mx_grid\u001b[0m\u001b[0;34m)\u001b[0m\u001b[0;34m\u001b[0m\u001b[0;34m\u001b[0m\u001b[0m\n\u001b[0m",
            "\u001b[0;32m/usr/local/lib/python3.7/dist-packages/tensorflow/python/util/dispatch.py\u001b[0m in \u001b[0;36mwrapper\u001b[0;34m(*args, **kwargs)\u001b[0m\n\u001b[1;32m    204\u001b[0m     \u001b[0;34m\"\"\"Call target, and fall back on dispatchers if there is a TypeError.\"\"\"\u001b[0m\u001b[0;34m\u001b[0m\u001b[0;34m\u001b[0m\u001b[0m\n\u001b[1;32m    205\u001b[0m     \u001b[0;32mtry\u001b[0m\u001b[0;34m:\u001b[0m\u001b[0;34m\u001b[0m\u001b[0;34m\u001b[0m\u001b[0m\n\u001b[0;32m--> 206\u001b[0;31m       \u001b[0;32mreturn\u001b[0m \u001b[0mtarget\u001b[0m\u001b[0;34m(\u001b[0m\u001b[0;34m*\u001b[0m\u001b[0margs\u001b[0m\u001b[0;34m,\u001b[0m \u001b[0;34m**\u001b[0m\u001b[0mkwargs\u001b[0m\u001b[0;34m)\u001b[0m\u001b[0;34m\u001b[0m\u001b[0;34m\u001b[0m\u001b[0m\n\u001b[0m\u001b[1;32m    207\u001b[0m     \u001b[0;32mexcept\u001b[0m \u001b[0;34m(\u001b[0m\u001b[0mTypeError\u001b[0m\u001b[0;34m,\u001b[0m \u001b[0mValueError\u001b[0m\u001b[0;34m)\u001b[0m\u001b[0;34m:\u001b[0m\u001b[0;34m\u001b[0m\u001b[0;34m\u001b[0m\u001b[0m\n\u001b[1;32m    208\u001b[0m       \u001b[0;31m# Note: convert_to_eager_tensor currently raises a ValueError, not a\u001b[0m\u001b[0;34m\u001b[0m\u001b[0;34m\u001b[0m\u001b[0;34m\u001b[0m\u001b[0m\n",
            "\u001b[0;32m/usr/local/lib/python3.7/dist-packages/tensorflow/python/ops/math_ops.py\u001b[0m in \u001b[0;36mmultiply\u001b[0;34m(x, y, name)\u001b[0m\n\u001b[1;32m    528\u001b[0m   \"\"\"\n\u001b[1;32m    529\u001b[0m \u001b[0;34m\u001b[0m\u001b[0m\n\u001b[0;32m--> 530\u001b[0;31m   \u001b[0;32mreturn\u001b[0m \u001b[0mgen_math_ops\u001b[0m\u001b[0;34m.\u001b[0m\u001b[0mmul\u001b[0m\u001b[0;34m(\u001b[0m\u001b[0mx\u001b[0m\u001b[0;34m,\u001b[0m \u001b[0my\u001b[0m\u001b[0;34m,\u001b[0m \u001b[0mname\u001b[0m\u001b[0;34m)\u001b[0m\u001b[0;34m\u001b[0m\u001b[0;34m\u001b[0m\u001b[0m\n\u001b[0m\u001b[1;32m    531\u001b[0m \u001b[0;34m\u001b[0m\u001b[0m\n\u001b[1;32m    532\u001b[0m \u001b[0;34m\u001b[0m\u001b[0m\n",
            "\u001b[0;32m/usr/local/lib/python3.7/dist-packages/tensorflow/python/ops/gen_math_ops.py\u001b[0m in \u001b[0;36mmul\u001b[0;34m(x, y, name)\u001b[0m\n\u001b[1;32m   6238\u001b[0m       \u001b[0;32mreturn\u001b[0m \u001b[0m_result\u001b[0m\u001b[0;34m\u001b[0m\u001b[0;34m\u001b[0m\u001b[0m\n\u001b[1;32m   6239\u001b[0m     \u001b[0;32mexcept\u001b[0m \u001b[0m_core\u001b[0m\u001b[0;34m.\u001b[0m\u001b[0m_NotOkStatusException\u001b[0m \u001b[0;32mas\u001b[0m \u001b[0me\u001b[0m\u001b[0;34m:\u001b[0m\u001b[0;34m\u001b[0m\u001b[0;34m\u001b[0m\u001b[0m\n\u001b[0;32m-> 6240\u001b[0;31m       \u001b[0m_ops\u001b[0m\u001b[0;34m.\u001b[0m\u001b[0mraise_from_not_ok_status\u001b[0m\u001b[0;34m(\u001b[0m\u001b[0me\u001b[0m\u001b[0;34m,\u001b[0m \u001b[0mname\u001b[0m\u001b[0;34m)\u001b[0m\u001b[0;34m\u001b[0m\u001b[0;34m\u001b[0m\u001b[0m\n\u001b[0m\u001b[1;32m   6241\u001b[0m     \u001b[0;32mexcept\u001b[0m \u001b[0m_core\u001b[0m\u001b[0;34m.\u001b[0m\u001b[0m_FallbackException\u001b[0m\u001b[0;34m:\u001b[0m\u001b[0;34m\u001b[0m\u001b[0;34m\u001b[0m\u001b[0m\n\u001b[1;32m   6242\u001b[0m       \u001b[0;32mpass\u001b[0m\u001b[0;34m\u001b[0m\u001b[0;34m\u001b[0m\u001b[0m\n",
            "\u001b[0;32m/usr/local/lib/python3.7/dist-packages/tensorflow/python/framework/ops.py\u001b[0m in \u001b[0;36mraise_from_not_ok_status\u001b[0;34m(e, name)\u001b[0m\n\u001b[1;32m   6895\u001b[0m   \u001b[0mmessage\u001b[0m \u001b[0;34m=\u001b[0m \u001b[0me\u001b[0m\u001b[0;34m.\u001b[0m\u001b[0mmessage\u001b[0m \u001b[0;34m+\u001b[0m \u001b[0;34m(\u001b[0m\u001b[0;34m\" name: \"\u001b[0m \u001b[0;34m+\u001b[0m \u001b[0mname\u001b[0m \u001b[0;32mif\u001b[0m \u001b[0mname\u001b[0m \u001b[0;32mis\u001b[0m \u001b[0;32mnot\u001b[0m \u001b[0;32mNone\u001b[0m \u001b[0;32melse\u001b[0m \u001b[0;34m\"\"\u001b[0m\u001b[0;34m)\u001b[0m\u001b[0;34m\u001b[0m\u001b[0;34m\u001b[0m\u001b[0m\n\u001b[1;32m   6896\u001b[0m   \u001b[0;31m# pylint: disable=protected-access\u001b[0m\u001b[0;34m\u001b[0m\u001b[0;34m\u001b[0m\u001b[0;34m\u001b[0m\u001b[0m\n\u001b[0;32m-> 6897\u001b[0;31m   \u001b[0msix\u001b[0m\u001b[0;34m.\u001b[0m\u001b[0mraise_from\u001b[0m\u001b[0;34m(\u001b[0m\u001b[0mcore\u001b[0m\u001b[0;34m.\u001b[0m\u001b[0m_status_to_exception\u001b[0m\u001b[0;34m(\u001b[0m\u001b[0me\u001b[0m\u001b[0;34m.\u001b[0m\u001b[0mcode\u001b[0m\u001b[0;34m,\u001b[0m \u001b[0mmessage\u001b[0m\u001b[0;34m)\u001b[0m\u001b[0;34m,\u001b[0m \u001b[0;32mNone\u001b[0m\u001b[0;34m)\u001b[0m\u001b[0;34m\u001b[0m\u001b[0;34m\u001b[0m\u001b[0m\n\u001b[0m\u001b[1;32m   6898\u001b[0m   \u001b[0;31m# pylint: enable=protected-access\u001b[0m\u001b[0;34m\u001b[0m\u001b[0;34m\u001b[0m\u001b[0;34m\u001b[0m\u001b[0m\n\u001b[1;32m   6899\u001b[0m \u001b[0;34m\u001b[0m\u001b[0m\n",
            "\u001b[0;32m/usr/local/lib/python3.7/dist-packages/six.py\u001b[0m in \u001b[0;36mraise_from\u001b[0;34m(value, from_value)\u001b[0m\n",
            "\u001b[0;31mInvalidArgumentError\u001b[0m: Incompatible shapes: [200] vs. [200,2] [Op:Mul]"
          ]
        }
      ]
    },
    {
      "cell_type": "code",
      "metadata": {
        "colab": {
          "base_uri": "https://localhost:8080/"
        },
        "id": "wLLPJF6pXniH",
        "outputId": "5c42a74a-c8c2-4040-8652-6d98020ec35f"
      },
      "source": [
        "nu = 2\n",
        "\n",
        "\n",
        "tf.sqrt(nu/chi2.sample(sample_shape=x_grid.shape[0]))\n",
        "\n"
      ],
      "execution_count": null,
      "outputs": [
        {
          "output_type": "execute_result",
          "data": {
            "text/plain": [
              "<tf.Tensor: shape=(200,), dtype=float32, numpy=\n",
              "array([ 1.3007921 ,  0.5945616 ,  4.140359  ,  0.5236784 ,  1.0546414 ,\n",
              "        2.3277607 ,  0.6428949 ,  0.87101114,  2.139834  ,  1.0765688 ,\n",
              "        0.48967543,  0.83307487,  1.4357847 ,  0.84297323,  1.4021976 ,\n",
              "        2.0693488 ,  0.7149594 ,  2.031121  ,  0.90849364,  1.0859494 ,\n",
              "        1.3602829 ,  1.5546957 ,  1.1186092 ,  2.6291556 ,  1.5865874 ,\n",
              "        1.2005293 ,  3.746406  ,  1.9046172 ,  0.9871173 ,  1.5947839 ,\n",
              "        1.053179  ,  2.8627064 ,  3.998484  ,  0.9493354 ,  2.3621824 ,\n",
              "        0.5116686 ,  1.1282829 ,  1.2950402 ,  2.1322181 ,  0.9792082 ,\n",
              "        2.082827  ,  0.55384165,  1.8508312 ,  3.751865  ,  8.078958  ,\n",
              "        0.9400194 ,  1.6236022 ,  8.167329  ,  0.4386076 ,  0.9109911 ,\n",
              "        1.3400762 ,  1.1491632 ,  0.63242054,  1.521914  ,  1.314498  ,\n",
              "        0.592963  ,  0.6141043 ,  2.804778  ,  0.6605994 ,  0.9502515 ,\n",
              "        0.7335708 ,  1.1584921 ,  0.72806495,  4.295151  ,  1.6300067 ,\n",
              "        3.6665761 ,  1.7560205 ,  2.5937493 ,  1.5734788 ,  0.8369146 ,\n",
              "        0.980202  ,  1.9978347 ,  0.89010787,  2.3407736 ,  0.9723676 ,\n",
              "        9.877506  ,  2.307985  ,  1.2967595 ,  1.3001509 ,  1.3927106 ,\n",
              "        1.276221  ,  0.77793497,  2.588358  ,  0.5359765 ,  0.75232404,\n",
              "        0.93714833,  2.3122647 ,  1.3657533 ,  0.6469442 ,  0.7484061 ,\n",
              "        0.84351534,  0.5026075 ,  7.332144  ,  0.8879893 ,  2.2875056 ,\n",
              "        3.1842477 ,  1.1730055 ,  1.621023  ,  0.7594066 ,  0.64241356,\n",
              "        0.60139036,  0.6853504 ,  0.7066254 ,  1.0791297 ,  0.93464124,\n",
              "        0.66137064,  0.6912628 ,  1.073029  ,  0.6429936 ,  4.8949304 ,\n",
              "        0.89423233,  4.126927  ,  0.7264649 ,  3.303227  ,  1.7035993 ,\n",
              "        1.8593687 ,  0.80081713,  1.1253146 ,  4.364598  , 22.73436   ,\n",
              "        0.81388575,  1.0567816 ,  3.8566203 ,  1.2524468 ,  2.4514902 ,\n",
              "        0.99138606,  1.3658181 ,  0.7632529 ,  1.1802202 ,  3.4939013 ,\n",
              "        0.7556624 ,  3.958447  ,  1.4458638 ,  8.4581175 ,  1.3908607 ,\n",
              "        0.8432955 ,  1.4119959 ,  1.5005233 ,  2.6716905 ,  1.0740402 ,\n",
              "        3.2119167 ,  1.9475752 ,  0.62925416,  0.7973007 ,  1.0148203 ,\n",
              "        0.5638148 ,  0.747502  ,  1.667618  ,  0.93951887,  7.6796446 ,\n",
              "        0.9201067 ,  1.2622176 ,  2.6005049 ,  1.031039  ,  0.78885806,\n",
              "        0.78000396,  1.1416258 ,  0.9285592 ,  1.0597633 ,  1.3302269 ,\n",
              "        0.82719773,  1.806144  ,  3.1445947 ,  1.8109851 ,  1.0390835 ,\n",
              "        0.5971422 ,  0.7700068 ,  1.574476  ,  2.2228284 ,  0.5136227 ,\n",
              "        0.9821821 ,  1.523039  ,  1.0577959 ,  0.82955116,  0.75313276,\n",
              "        4.4231243 ,  6.62804   ,  0.53390414,  0.6007642 ,  1.430076  ,\n",
              "        3.0234108 ,  0.85112226,  0.9186917 ,  1.0466136 ,  1.1086556 ,\n",
              "        0.97350544,  2.9097316 ,  0.68063074,  0.9788322 ,  1.15921   ,\n",
              "        2.6832004 ,  1.2607028 ,  1.0180506 ,  0.6538705 ,  0.83275044,\n",
              "        1.1910491 ,  0.67028016,  1.0963354 ,  0.8695652 ,  1.0251122 ],\n",
              "      dtype=float32)>"
            ]
          },
          "metadata": {
            "tags": []
          },
          "execution_count": 15
        }
      ]
    },
    {
      "cell_type": "markdown",
      "metadata": {
        "id": "Nxec9so2H0lH"
      },
      "source": [
        "### TPC t-Laplace Approximation"
      ]
    },
    {
      "cell_type": "code",
      "metadata": {
        "colab": {
          "base_uri": "https://localhost:8080/"
        },
        "id": "T6a9vtOW83Zb",
        "outputId": "2aa3500d-6e17-4d69-981d-3d346bd84ddb"
      },
      "source": [
        "! pip install gpflow"
      ],
      "execution_count": 1,
      "outputs": [
        {
          "output_type": "stream",
          "text": [
            "Collecting gpflow\n",
            "\u001b[?25l  Downloading https://files.pythonhosted.org/packages/55/25/f3d0b5a7bea6c371ddbce6f2fb17b668d2782379be9c70cc40d2f063b67c/gpflow-2.2.1-py3-none-any.whl (271kB)\n",
            "\u001b[K     |████████████████████████████████| 276kB 3.9MB/s \n",
            "\u001b[?25hRequirement already satisfied: typing-extensions in /usr/local/lib/python3.7/dist-packages (from gpflow) (3.7.4.3)\n",
            "Requirement already satisfied: setuptools>=41.0.0 in /usr/local/lib/python3.7/dist-packages (from gpflow) (57.0.0)\n",
            "Requirement already satisfied: numpy in /usr/local/lib/python3.7/dist-packages (from gpflow) (1.19.5)\n",
            "Requirement already satisfied: scipy in /usr/local/lib/python3.7/dist-packages (from gpflow) (1.4.1)\n",
            "Requirement already satisfied: tensorflow>=2.2.0 in /usr/local/lib/python3.7/dist-packages (from gpflow) (2.5.0)\n",
            "Requirement already satisfied: packaging in /usr/local/lib/python3.7/dist-packages (from gpflow) (20.9)\n",
            "Requirement already satisfied: tensorflow-probability>0.10.0 in /usr/local/lib/python3.7/dist-packages (from gpflow) (0.13.0)\n",
            "Collecting dataclasses\n",
            "  Downloading https://files.pythonhosted.org/packages/26/2f/1095cdc2868052dd1e64520f7c0d5c8c550ad297e944e641dbf1ffbb9a5d/dataclasses-0.6-py3-none-any.whl\n",
            "Collecting deprecated\n",
            "  Downloading https://files.pythonhosted.org/packages/fb/73/994edfcba74443146c84b91921fcc269374354118d4f452fb0c54c1cbb12/Deprecated-1.2.12-py2.py3-none-any.whl\n",
            "Collecting multipledispatch>=0.6\n",
            "  Downloading https://files.pythonhosted.org/packages/89/79/429ecef45fd5e4504f7474d4c3c3c4668c267be3370e4c2fd33e61506833/multipledispatch-0.6.0-py3-none-any.whl\n",
            "Requirement already satisfied: tabulate in /usr/local/lib/python3.7/dist-packages (from gpflow) (0.8.9)\n",
            "Requirement already satisfied: absl-py~=0.10 in /usr/local/lib/python3.7/dist-packages (from tensorflow>=2.2.0->gpflow) (0.12.0)\n",
            "Requirement already satisfied: keras-preprocessing~=1.1.2 in /usr/local/lib/python3.7/dist-packages (from tensorflow>=2.2.0->gpflow) (1.1.2)\n",
            "Requirement already satisfied: termcolor~=1.1.0 in /usr/local/lib/python3.7/dist-packages (from tensorflow>=2.2.0->gpflow) (1.1.0)\n",
            "Requirement already satisfied: wrapt~=1.12.1 in /usr/local/lib/python3.7/dist-packages (from tensorflow>=2.2.0->gpflow) (1.12.1)\n",
            "Requirement already satisfied: opt-einsum~=3.3.0 in /usr/local/lib/python3.7/dist-packages (from tensorflow>=2.2.0->gpflow) (3.3.0)\n",
            "Requirement already satisfied: six~=1.15.0 in /usr/local/lib/python3.7/dist-packages (from tensorflow>=2.2.0->gpflow) (1.15.0)\n",
            "Requirement already satisfied: keras-nightly~=2.5.0.dev in /usr/local/lib/python3.7/dist-packages (from tensorflow>=2.2.0->gpflow) (2.5.0.dev2021032900)\n",
            "Requirement already satisfied: tensorflow-estimator<2.6.0,>=2.5.0rc0 in /usr/local/lib/python3.7/dist-packages (from tensorflow>=2.2.0->gpflow) (2.5.0)\n",
            "Requirement already satisfied: flatbuffers~=1.12.0 in /usr/local/lib/python3.7/dist-packages (from tensorflow>=2.2.0->gpflow) (1.12)\n",
            "Requirement already satisfied: grpcio~=1.34.0 in /usr/local/lib/python3.7/dist-packages (from tensorflow>=2.2.0->gpflow) (1.34.1)\n",
            "Requirement already satisfied: tensorboard~=2.5 in /usr/local/lib/python3.7/dist-packages (from tensorflow>=2.2.0->gpflow) (2.5.0)\n",
            "Requirement already satisfied: astunparse~=1.6.3 in /usr/local/lib/python3.7/dist-packages (from tensorflow>=2.2.0->gpflow) (1.6.3)\n",
            "Requirement already satisfied: protobuf>=3.9.2 in /usr/local/lib/python3.7/dist-packages (from tensorflow>=2.2.0->gpflow) (3.17.3)\n",
            "Requirement already satisfied: google-pasta~=0.2 in /usr/local/lib/python3.7/dist-packages (from tensorflow>=2.2.0->gpflow) (0.2.0)\n",
            "Requirement already satisfied: h5py~=3.1.0 in /usr/local/lib/python3.7/dist-packages (from tensorflow>=2.2.0->gpflow) (3.1.0)\n",
            "Requirement already satisfied: wheel~=0.35 in /usr/local/lib/python3.7/dist-packages (from tensorflow>=2.2.0->gpflow) (0.36.2)\n",
            "Requirement already satisfied: gast==0.4.0 in /usr/local/lib/python3.7/dist-packages (from tensorflow>=2.2.0->gpflow) (0.4.0)\n",
            "Requirement already satisfied: pyparsing>=2.0.2 in /usr/local/lib/python3.7/dist-packages (from packaging->gpflow) (2.4.7)\n",
            "Requirement already satisfied: decorator in /usr/local/lib/python3.7/dist-packages (from tensorflow-probability>0.10.0->gpflow) (4.4.2)\n",
            "Requirement already satisfied: cloudpickle>=1.3 in /usr/local/lib/python3.7/dist-packages (from tensorflow-probability>0.10.0->gpflow) (1.3.0)\n",
            "Requirement already satisfied: dm-tree in /usr/local/lib/python3.7/dist-packages (from tensorflow-probability>0.10.0->gpflow) (0.1.6)\n",
            "Requirement already satisfied: werkzeug>=0.11.15 in /usr/local/lib/python3.7/dist-packages (from tensorboard~=2.5->tensorflow>=2.2.0->gpflow) (1.0.1)\n",
            "Requirement already satisfied: tensorboard-plugin-wit>=1.6.0 in /usr/local/lib/python3.7/dist-packages (from tensorboard~=2.5->tensorflow>=2.2.0->gpflow) (1.8.0)\n",
            "Requirement already satisfied: requests<3,>=2.21.0 in /usr/local/lib/python3.7/dist-packages (from tensorboard~=2.5->tensorflow>=2.2.0->gpflow) (2.23.0)\n",
            "Requirement already satisfied: tensorboard-data-server<0.7.0,>=0.6.0 in /usr/local/lib/python3.7/dist-packages (from tensorboard~=2.5->tensorflow>=2.2.0->gpflow) (0.6.1)\n",
            "Requirement already satisfied: google-auth<2,>=1.6.3 in /usr/local/lib/python3.7/dist-packages (from tensorboard~=2.5->tensorflow>=2.2.0->gpflow) (1.32.1)\n",
            "Requirement already satisfied: markdown>=2.6.8 in /usr/local/lib/python3.7/dist-packages (from tensorboard~=2.5->tensorflow>=2.2.0->gpflow) (3.3.4)\n",
            "Requirement already satisfied: google-auth-oauthlib<0.5,>=0.4.1 in /usr/local/lib/python3.7/dist-packages (from tensorboard~=2.5->tensorflow>=2.2.0->gpflow) (0.4.4)\n",
            "Requirement already satisfied: cached-property; python_version < \"3.8\" in /usr/local/lib/python3.7/dist-packages (from h5py~=3.1.0->tensorflow>=2.2.0->gpflow) (1.5.2)\n",
            "Requirement already satisfied: certifi>=2017.4.17 in /usr/local/lib/python3.7/dist-packages (from requests<3,>=2.21.0->tensorboard~=2.5->tensorflow>=2.2.0->gpflow) (2021.5.30)\n",
            "Requirement already satisfied: idna<3,>=2.5 in /usr/local/lib/python3.7/dist-packages (from requests<3,>=2.21.0->tensorboard~=2.5->tensorflow>=2.2.0->gpflow) (2.10)\n",
            "Requirement already satisfied: chardet<4,>=3.0.2 in /usr/local/lib/python3.7/dist-packages (from requests<3,>=2.21.0->tensorboard~=2.5->tensorflow>=2.2.0->gpflow) (3.0.4)\n",
            "Requirement already satisfied: urllib3!=1.25.0,!=1.25.1,<1.26,>=1.21.1 in /usr/local/lib/python3.7/dist-packages (from requests<3,>=2.21.0->tensorboard~=2.5->tensorflow>=2.2.0->gpflow) (1.24.3)\n",
            "Requirement already satisfied: cachetools<5.0,>=2.0.0 in /usr/local/lib/python3.7/dist-packages (from google-auth<2,>=1.6.3->tensorboard~=2.5->tensorflow>=2.2.0->gpflow) (4.2.2)\n",
            "Requirement already satisfied: pyasn1-modules>=0.2.1 in /usr/local/lib/python3.7/dist-packages (from google-auth<2,>=1.6.3->tensorboard~=2.5->tensorflow>=2.2.0->gpflow) (0.2.8)\n",
            "Requirement already satisfied: rsa<5,>=3.1.4; python_version >= \"3.6\" in /usr/local/lib/python3.7/dist-packages (from google-auth<2,>=1.6.3->tensorboard~=2.5->tensorflow>=2.2.0->gpflow) (4.7.2)\n",
            "Requirement already satisfied: importlib-metadata; python_version < \"3.8\" in /usr/local/lib/python3.7/dist-packages (from markdown>=2.6.8->tensorboard~=2.5->tensorflow>=2.2.0->gpflow) (4.6.0)\n",
            "Requirement already satisfied: requests-oauthlib>=0.7.0 in /usr/local/lib/python3.7/dist-packages (from google-auth-oauthlib<0.5,>=0.4.1->tensorboard~=2.5->tensorflow>=2.2.0->gpflow) (1.3.0)\n",
            "Requirement already satisfied: pyasn1<0.5.0,>=0.4.6 in /usr/local/lib/python3.7/dist-packages (from pyasn1-modules>=0.2.1->google-auth<2,>=1.6.3->tensorboard~=2.5->tensorflow>=2.2.0->gpflow) (0.4.8)\n",
            "Requirement already satisfied: zipp>=0.5 in /usr/local/lib/python3.7/dist-packages (from importlib-metadata; python_version < \"3.8\"->markdown>=2.6.8->tensorboard~=2.5->tensorflow>=2.2.0->gpflow) (3.4.1)\n",
            "Requirement already satisfied: oauthlib>=3.0.0 in /usr/local/lib/python3.7/dist-packages (from requests-oauthlib>=0.7.0->google-auth-oauthlib<0.5,>=0.4.1->tensorboard~=2.5->tensorflow>=2.2.0->gpflow) (3.1.1)\n",
            "Installing collected packages: dataclasses, deprecated, multipledispatch, gpflow\n",
            "Successfully installed dataclasses-0.6 deprecated-1.2.12 gpflow-2.2.1 multipledispatch-0.6.0\n"
          ],
          "name": "stdout"
        }
      ]
    },
    {
      "cell_type": "code",
      "metadata": {
        "id": "93mWSlQvHzgz"
      },
      "source": [
        "import gpflow\n",
        "import matplotlib.pyplot as plt\n",
        "import numpy as np\n",
        "import tensorflow as tf\n",
        "import tensorflow_probability as tfp\n",
        "tfd = tfp.distributions\n",
        "\n",
        "plt.rcParams[\"figure.figsize\"] = (12, 8)\n",
        "\n",
        "tf.__version__\n",
        "\n",
        "PI = tf.constant(np.pi, dtype=tf.float32)\n",
        "obs_dist = gpflow.likelihoods.Bernoulli(invlink=tf.math.sigmoid)\n",
        "\n",
        "def get_t(nu, nobs):\n",
        "  return 2/(nu + nobs) + 1\n",
        "\n",
        "def log_t(x, t):\n",
        "  if t == 1:\n",
        "    return tf.math.log(x)\n",
        "  else:\n",
        "    one_min_t = 1 - t\n",
        "    return (x**one_min_t - 1) / one_min_t\n",
        "\n",
        "def get_psi(t, nu, nobs, half_log_det_X):\n",
        "  psi = (1. - t)*(\n",
        "      tf.math.lgamma((nu + nobs)/2.) \n",
        "      - nobs/2 * (PI*nu)\n",
        "      - tf.math.lgamma(nu/2.)\n",
        "      - half_log_det_X\n",
        "  )\n",
        "  return tf.exp(psi)\n",
        "\n",
        "#log_t approximation to posterior\n",
        "def tpc_posterior(f, y, K, nu, t):\n",
        "  nobs = K.shape[0]\n",
        "  \n",
        "  pad_K = K + 10e-5*tf.eye(nobs)\n",
        "  chol_K = tf.linalg.cholesky(pad_K)\n",
        "  half_log_det_K = tf.math.log(tf.reduce_sum(tf.linalg.diag_part(chol_K)))\n",
        "  \n",
        "  fK = tf.linalg.cholesky_solve(chol_K, f)\n",
        "  \n",
        "  psi = get_psi(t, nu, nobs, half_log_det_K)\n",
        "  one_min_t_div = 1/(1-t)\n",
        "\n",
        "  psi_div = psi * one_min_t_div\n",
        "\n",
        "  ll = (\n",
        "    tf.reduce_sum(log_t(tf.exp(obs_dist.log_prob(f, y)), t))\n",
        "    + psi_div\n",
        "    + psi_div*(1/nu)*tf.matmul(fK, fK, transpose_a=True)\n",
        "    - one_min_t_div\n",
        "  )\n",
        "\n",
        "  return ll#, tf.reduce_sum(log_t(tf.exp(obs_dist.log_prob(f, y)), t)), psi_div, psi_div*(1/nu), tf.matmul(fK, fK, transpose_a=True), one_min_t_div\n",
        "\n",
        "def compute_posterior_covariance(K, w):\n",
        "  sqrt_w = tf.sqrt(w)\n",
        "  sqrt_w_t = tf.reshape(sqrt_w, shape=(-1, 1))\n",
        "\n",
        "  K_sqrt_w = tf.multiply(K, sqrt_w)\n",
        "  B = tf.eye(K.shape[0]) + tf.multiply(sqrt_w_t, K_sqrt_w)\n",
        "  \n",
        "  chol_B = tf.linalg.cholesky(B)\n",
        "  K_sqrt_w_t = tf.transpose(K_sqrt_w)\n",
        "  inv_sqrt_B_sqrt_w_K = tf.linalg.cholesky_solve(chol_B, K_sqrt_w_t)\n",
        "\n",
        "  cov_mat = K - tf.matmul(\n",
        "      inv_sqrt_B_sqrt_w_K, inv_sqrt_B_sqrt_w_K, transpose_a=True)\n",
        "  \n",
        "  return cov_mat\n",
        "\n",
        "def compute_hess_vec_obs_ll(f, y):\n",
        "  prod_vector = tf.repeat(1., repeats=f.shape[0])\n",
        "  prod_vector = tf.reshape(prod_vector, shape=(-1,1))\n",
        "\n",
        "  with tf.autodiff.ForwardAccumulator(\n",
        "      f, prod_vector) as acc:\n",
        "    with tf.GradientTape() as tape:\n",
        "      obs_ll = tf.reduce_sum(obs_dist.log_prob(f, y))\n",
        "    grad_obs_ll = tape.gradient(obs_ll, f)\n",
        "\n",
        "  hess_vec = acc.jvp(grad_obs_ll)\n",
        "  return tf.squeeze(hess_vec)\n",
        "\n",
        "def compute_marginal_ll(f, y, K, hess_diag):\n",
        "  sqrt_w = tf.sqrt(-hess_diag)\n",
        "  sqrt_w_t = tf.reshape(sqrt_w, shape=(-1, 1))\n",
        "\n",
        "  K_sqrt_w = tf.multiply(K, sqrt_w)\n",
        "  B = tf.eye(K.shape[0]) + tf.multiply(sqrt_w_t, K_sqrt_w)\n",
        "  chol_B = tf.linalg.cholesky(B)\n",
        "\n",
        "  chol_K = tf.linalg.cholesky(K  + 10e-5*tf.eye(K.shape[0]))\n",
        "  inv_chol_K_f = tf.linalg.cholesky_solve(chol_K, f)\n",
        "\n",
        "  mll = (\n",
        "      - 0.5*tf.tensordot(inv_chol_K_f, inv_chol_K_f, axes=(0, 0))\n",
        "      + tf.reduce_sum(obs_dist.log_prob(f, y))\n",
        "      - tf.reduce_sum(tf.math.log(tf.linalg.diag_part(chol_B)))\n",
        "  )\n",
        "  \n",
        "  return mll\n",
        "\n",
        "k = gpflow.kernels.SquaredExponential(lengthscales=1, variance=2.)\n",
        "x_grid = np.linspace(0, 6, 200).reshape(-1, 1)\n",
        "K = k(x_grid)\n",
        "\n",
        "# sample from a multivariate normal\n",
        "rng = np.random.RandomState(6)\n",
        "\n",
        "L = np.linalg.cholesky(K + 10e-6*np.eye(K.shape[0]))\n",
        "f = np.dot(L, rng.randn(200, 1))\n",
        "f = tf.cast(f, tf.float32)\n",
        "f = tf.Variable(f)\n",
        "\n",
        "pvals = obs_dist.invlink(f)\n",
        "y = tf.cast(rng.binomial(1, pvals), tf.int32)"
      ],
      "execution_count": 22,
      "outputs": []
    },
    {
      "cell_type": "code",
      "metadata": {
        "colab": {
          "base_uri": "https://localhost:8080/"
        },
        "id": "uuPH3yv99ysj",
        "outputId": "2236173d-f656-4078-8a6d-fa0b684b36f2"
      },
      "source": [
        "get_t(nu, nobs)"
      ],
      "execution_count": 23,
      "outputs": [
        {
          "output_type": "execute_result",
          "data": {
            "text/plain": [
              "<tf.Tensor: shape=(), dtype=float32, numpy=1.009901>"
            ]
          },
          "metadata": {
            "tags": []
          },
          "execution_count": 23
        }
      ]
    },
    {
      "cell_type": "code",
      "metadata": {
        "colab": {
          "base_uri": "https://localhost:8080/"
        },
        "id": "J-M2zvQo9iPA",
        "outputId": "51602104-97a0-4668-dcca-15b8d80a4b22"
      },
      "source": [
        "x_grid_tf = tf.constant(x_grid, dtype=tf.float64)\n",
        "K = tf.cast(k(x_grid_tf), dtype=tf.float32)\n",
        "\n",
        "nu = tf.constant(2.)\n",
        "nobs = K.shape[0]\n",
        "\n",
        "tpc_posterior(f, y, K, nu=2.0, t=get_t(nu, nobs))"
      ],
      "execution_count": 24,
      "outputs": [
        {
          "output_type": "execute_result",
          "data": {
            "text/plain": [
              "<tf.Tensor: shape=(1, 1), dtype=float32, numpy=array([[-1.27208744e+08]], dtype=float32)>"
            ]
          },
          "metadata": {
            "tags": []
          },
          "execution_count": 24
        }
      ]
    },
    {
      "cell_type": "code",
      "metadata": {
        "id": "XWPnDoSAHzny",
        "colab": {
          "base_uri": "https://localhost:8080/"
        },
        "outputId": "aa289402-c22f-4a9c-e17c-934dedbfeea3"
      },
      "source": [
        "### Optimize posterior\n",
        "from gpflow.optimizers import NaturalGradient\n",
        "from gpflow.optimizers import Scipy\n",
        "\n",
        "opt = Scipy()\n",
        "\n",
        "neg_post = []\n",
        "marg_ll = []\n",
        "\n",
        "x_grid_tf = tf.constant(x_grid, dtype=tf.float64)\n",
        "K = tf.cast(k(x_grid_tf), dtype=tf.float32)\n",
        "\n",
        "nu = tf.constant(2.)\n",
        "nobs = K.shape[0]\n",
        "t = get_t(nu, nobs)\n",
        "\n",
        "for i in range(10):\n",
        "  opt_res = opt.minimize(lambda: -tpc_posterior(f, y, K, nu, t), variables=[f])\n",
        "  neg_post.append(opt_res.fun[0, 0])\n",
        "  \n",
        "  hess_diag = compute_hess_vec_obs_ll(f, y)\n",
        "\n",
        "  opt_res = opt.minimize(\n",
        "      lambda: -compute_marginal_ll(f, y, tf.cast(k(x_grid), tf.float32), hess_diag), \n",
        "      variables=k.trainable_variables)\n",
        "  marg_ll.append(opt_res.fun[0, 0])\n",
        "  print(i, 'mll', opt_res.fun[0,0])"
      ],
      "execution_count": 25,
      "outputs": [
        {
          "output_type": "stream",
          "text": [
            "0 mll 135.56198120117188\n",
            "1 mll 135.56207275390625\n",
            "2 mll 135.56207275390625\n",
            "3 mll 135.56207275390625\n",
            "4 mll 135.56207275390625\n",
            "5 mll 135.56210327148438\n",
            "6 mll 135.56202697753906\n",
            "7 mll 135.56202697753906\n",
            "8 mll 135.56202697753906\n",
            "9 mll 135.56202697753906\n"
          ],
          "name": "stdout"
        }
      ]
    },
    {
      "cell_type": "code",
      "metadata": {
        "colab": {
          "base_uri": "https://localhost:8080/"
        },
        "id": "7nJ2zJLA_Lhu",
        "outputId": "27d5f877-696a-4292-9f93-865b4df23cb4"
      },
      "source": [
        "neg_post"
      ],
      "execution_count": 26,
      "outputs": [
        {
          "output_type": "execute_result",
          "data": {
            "text/plain": [
              "[1709.833251953125,\n",
              " 1709.81103515625,\n",
              " 1709.81103515625,\n",
              " 1709.81103515625,\n",
              " 1709.81103515625,\n",
              " 1709.81103515625,\n",
              " 1709.81103515625,\n",
              " 1709.81103515625,\n",
              " 1709.81103515625,\n",
              " 1709.81103515625]"
            ]
          },
          "metadata": {
            "tags": []
          },
          "execution_count": 26
        }
      ]
    }
  ]
}